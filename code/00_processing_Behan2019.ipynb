{
 "cells": [
  {
   "cell_type": "markdown",
   "metadata": {
    "pycharm": {
     "name": "#%% md\n"
    }
   },
   "source": [
    "# Processing Behan 2019\n",
    "Processing genomewide screen from [Behan et al. 2019](https://www.nature.com/articles/s41586-019-1103-9)\n",
    "\n",
    "Library Description (from [Tzelepis et al. 2016](https://www.sciencedirect.com/science/article/pii/S2211124716313353?via%3Dihub)):\n",
    "- sgRNAs that contain BbsI sites or RNA polIII terminator sequences\n",
    "(a stretch of 5 Ts) were removed\n",
    "\n",
    "Design scores were calculated using:\n",
    "- Off-target score up to 4 mismatches\n",
    "- Population frequency of SNVs\n",
    "- The number of thymidine in the last 5 nucleotides of gRNAs\n",
    "These scores were used to rank guides as well as a filter for:\n",
    "- Cut within first 50% of CDS\n",
    "- sgRNAs are 19mers"
   ]
  },
  {
   "cell_type": "markdown",
   "metadata": {},
   "source": [
    "### Data Filters\n",
    "1. sgRNAs targetting essential genes\n",
    "2. Match bin 1, tier 1 score of 0"
   ]
  },
  {
   "cell_type": "code",
   "execution_count": 1,
   "metadata": {
    "collapsed": false,
    "jupyter": {
     "outputs_hidden": false
    },
    "pycharm": {
     "name": "#%%\n"
    }
   },
   "outputs": [],
   "source": [
    "import pandas as pd\n",
    "import gpplot\n",
    "import seaborn as sns\n",
    "import matplotlib.pyplot as plt\n",
    "import poola.core as pool"
   ]
  },
  {
   "cell_type": "code",
   "execution_count": 2,
   "metadata": {
    "collapsed": false,
    "jupyter": {
     "outputs_hidden": false
    },
    "pycharm": {
     "name": "#%%\n"
    }
   },
   "outputs": [],
   "source": [
    "lfc_df = (pd.read_csv('/Volumes/GoogleDrive/Shared drives/GPP Cloud /R&D/People/Peter/depmap-data/Sanger_logfold_change.csv')\n",
    "          .rename({'Unnamed: 0': 'sgRNA Sequence'}, axis = 1))\n",
    "essential_genes = pd.read_table('https://raw.githubusercontent.com/gpp-rnd/genesets/master/human/essential-genes-Hart2015.txt',\n",
    "                                names=['gene'])\n",
    "nonessential_genes = pd.read_table('https://raw.githubusercontent.com/gpp-rnd/genesets/master/human/non-essential-genes-Hart2014.txt',\n",
    "                                    names=['gene'])"
   ]
  },
  {
   "cell_type": "code",
   "execution_count": 3,
   "metadata": {
    "collapsed": false,
    "jupyter": {
     "outputs_hidden": false
    },
    "pycharm": {
     "name": "#%%\n"
    }
   },
   "outputs": [
    {
     "data": {
      "text/html": [
       "<div>\n",
       "<style scoped>\n",
       "    .dataframe tbody tr th:only-of-type {\n",
       "        vertical-align: middle;\n",
       "    }\n",
       "\n",
       "    .dataframe tbody tr th {\n",
       "        vertical-align: top;\n",
       "    }\n",
       "\n",
       "    .dataframe thead th {\n",
       "        text-align: right;\n",
       "    }\n",
       "</style>\n",
       "<table border=\"1\" class=\"dataframe\">\n",
       "  <thead>\n",
       "    <tr style=\"text-align: right;\">\n",
       "      <th></th>\n",
       "      <th>sgRNA Sequence</th>\n",
       "      <th>A375_C902R1_P1D14</th>\n",
       "      <th>A375_C902R2_P1D14</th>\n",
       "      <th>A375_C902R3_P1D14</th>\n",
       "      <th>A375_c902R4</th>\n",
       "      <th>A375_c902R5</th>\n",
       "      <th>A375_c902R6</th>\n",
       "      <th>HCT15_C902R1_P1D14</th>\n",
       "      <th>HCT15_C902R2_P1D14</th>\n",
       "      <th>HCT15_C902R3_P1D14</th>\n",
       "      <th>...</th>\n",
       "      <th>U87MG_c907R1</th>\n",
       "      <th>U87MG_c907R2</th>\n",
       "      <th>YH13_c907R1</th>\n",
       "      <th>YH13_c907R2</th>\n",
       "      <th>42MGBA_c907R1</th>\n",
       "      <th>D423MG_c907R2</th>\n",
       "      <th>IM95_c908R3</th>\n",
       "      <th>MB468_c903R1</th>\n",
       "      <th>MDST8_c903R3</th>\n",
       "      <th>H1355_c906R1</th>\n",
       "    </tr>\n",
       "  </thead>\n",
       "  <tbody>\n",
       "    <tr>\n",
       "      <th>0</th>\n",
       "      <td>TGCTGACGGGTGACACCCA</td>\n",
       "      <td>-0.444600</td>\n",
       "      <td>-0.276138</td>\n",
       "      <td>-0.057663</td>\n",
       "      <td>-0.541072</td>\n",
       "      <td>-0.071765</td>\n",
       "      <td>-0.695229</td>\n",
       "      <td>-0.085053</td>\n",
       "      <td>0.264002</td>\n",
       "      <td>0.259816</td>\n",
       "      <td>...</td>\n",
       "      <td>-0.225926</td>\n",
       "      <td>0.026574</td>\n",
       "      <td>-1.313162</td>\n",
       "      <td>-1.069462</td>\n",
       "      <td>0.488873</td>\n",
       "      <td>0.783022</td>\n",
       "      <td>-0.201151</td>\n",
       "      <td>-0.148249</td>\n",
       "      <td>-0.248523</td>\n",
       "      <td>0.189000</td>\n",
       "    </tr>\n",
       "    <tr>\n",
       "      <th>1</th>\n",
       "      <td>CGGGGGTGATCCAGGACAC</td>\n",
       "      <td>-0.020740</td>\n",
       "      <td>-0.611378</td>\n",
       "      <td>-1.414895</td>\n",
       "      <td>-1.807052</td>\n",
       "      <td>-2.152175</td>\n",
       "      <td>-1.708735</td>\n",
       "      <td>-0.258522</td>\n",
       "      <td>-0.923063</td>\n",
       "      <td>-0.008718</td>\n",
       "      <td>...</td>\n",
       "      <td>-1.067254</td>\n",
       "      <td>-0.765637</td>\n",
       "      <td>-2.655998</td>\n",
       "      <td>-0.585938</td>\n",
       "      <td>-0.045499</td>\n",
       "      <td>-0.284598</td>\n",
       "      <td>-0.760816</td>\n",
       "      <td>-1.335831</td>\n",
       "      <td>-0.206019</td>\n",
       "      <td>-0.544817</td>\n",
       "    </tr>\n",
       "    <tr>\n",
       "      <th>2</th>\n",
       "      <td>TCAATGGTCACAGTAGCGC</td>\n",
       "      <td>-1.043736</td>\n",
       "      <td>-0.080388</td>\n",
       "      <td>-0.400068</td>\n",
       "      <td>-0.411110</td>\n",
       "      <td>-0.260814</td>\n",
       "      <td>-0.844181</td>\n",
       "      <td>-0.408449</td>\n",
       "      <td>0.186126</td>\n",
       "      <td>0.696627</td>\n",
       "      <td>...</td>\n",
       "      <td>-0.328129</td>\n",
       "      <td>-0.056960</td>\n",
       "      <td>-0.262694</td>\n",
       "      <td>0.821323</td>\n",
       "      <td>0.694319</td>\n",
       "      <td>-0.304142</td>\n",
       "      <td>0.297295</td>\n",
       "      <td>-0.024532</td>\n",
       "      <td>0.603552</td>\n",
       "      <td>0.172283</td>\n",
       "    </tr>\n",
       "    <tr>\n",
       "      <th>3</th>\n",
       "      <td>CTGCAGCTACCGGACCGAT</td>\n",
       "      <td>-0.683100</td>\n",
       "      <td>-1.875381</td>\n",
       "      <td>-0.031775</td>\n",
       "      <td>0.075724</td>\n",
       "      <td>-0.097130</td>\n",
       "      <td>-0.166647</td>\n",
       "      <td>0.654378</td>\n",
       "      <td>0.361177</td>\n",
       "      <td>0.549737</td>\n",
       "      <td>...</td>\n",
       "      <td>0.596519</td>\n",
       "      <td>-0.139874</td>\n",
       "      <td>-0.069618</td>\n",
       "      <td>-0.754001</td>\n",
       "      <td>1.152523</td>\n",
       "      <td>0.295116</td>\n",
       "      <td>0.707195</td>\n",
       "      <td>0.646991</td>\n",
       "      <td>0.077764</td>\n",
       "      <td>0.723708</td>\n",
       "    </tr>\n",
       "    <tr>\n",
       "      <th>4</th>\n",
       "      <td>GACTTCCAGCTACGGCGCG</td>\n",
       "      <td>-0.159297</td>\n",
       "      <td>0.215882</td>\n",
       "      <td>0.103813</td>\n",
       "      <td>0.854609</td>\n",
       "      <td>-0.055874</td>\n",
       "      <td>0.256792</td>\n",
       "      <td>-0.142789</td>\n",
       "      <td>0.119887</td>\n",
       "      <td>0.439665</td>\n",
       "      <td>...</td>\n",
       "      <td>-0.154073</td>\n",
       "      <td>-0.220981</td>\n",
       "      <td>-1.048998</td>\n",
       "      <td>-1.781727</td>\n",
       "      <td>0.396143</td>\n",
       "      <td>0.107738</td>\n",
       "      <td>-0.579812</td>\n",
       "      <td>0.112121</td>\n",
       "      <td>-0.282696</td>\n",
       "      <td>-0.469201</td>\n",
       "    </tr>\n",
       "  </tbody>\n",
       "</table>\n",
       "<p>5 rows × 911 columns</p>\n",
       "</div>"
      ],
      "text/plain": [
       "        sgRNA Sequence  A375_C902R1_P1D14  A375_C902R2_P1D14  \\\n",
       "0  TGCTGACGGGTGACACCCA          -0.444600          -0.276138   \n",
       "1  CGGGGGTGATCCAGGACAC          -0.020740          -0.611378   \n",
       "2  TCAATGGTCACAGTAGCGC          -1.043736          -0.080388   \n",
       "3  CTGCAGCTACCGGACCGAT          -0.683100          -1.875381   \n",
       "4  GACTTCCAGCTACGGCGCG          -0.159297           0.215882   \n",
       "\n",
       "   A375_C902R3_P1D14  A375_c902R4  A375_c902R5  A375_c902R6  \\\n",
       "0          -0.057663    -0.541072    -0.071765    -0.695229   \n",
       "1          -1.414895    -1.807052    -2.152175    -1.708735   \n",
       "2          -0.400068    -0.411110    -0.260814    -0.844181   \n",
       "3          -0.031775     0.075724    -0.097130    -0.166647   \n",
       "4           0.103813     0.854609    -0.055874     0.256792   \n",
       "\n",
       "   HCT15_C902R1_P1D14  HCT15_C902R2_P1D14  HCT15_C902R3_P1D14  ...  \\\n",
       "0           -0.085053            0.264002            0.259816  ...   \n",
       "1           -0.258522           -0.923063           -0.008718  ...   \n",
       "2           -0.408449            0.186126            0.696627  ...   \n",
       "3            0.654378            0.361177            0.549737  ...   \n",
       "4           -0.142789            0.119887            0.439665  ...   \n",
       "\n",
       "   U87MG_c907R1  U87MG_c907R2  YH13_c907R1  YH13_c907R2  42MGBA_c907R1  \\\n",
       "0     -0.225926      0.026574    -1.313162    -1.069462       0.488873   \n",
       "1     -1.067254     -0.765637    -2.655998    -0.585938      -0.045499   \n",
       "2     -0.328129     -0.056960    -0.262694     0.821323       0.694319   \n",
       "3      0.596519     -0.139874    -0.069618    -0.754001       1.152523   \n",
       "4     -0.154073     -0.220981    -1.048998    -1.781727       0.396143   \n",
       "\n",
       "   D423MG_c907R2  IM95_c908R3  MB468_c903R1  MDST8_c903R3  H1355_c906R1  \n",
       "0       0.783022    -0.201151     -0.148249     -0.248523      0.189000  \n",
       "1      -0.284598    -0.760816     -1.335831     -0.206019     -0.544817  \n",
       "2      -0.304142     0.297295     -0.024532      0.603552      0.172283  \n",
       "3       0.295116     0.707195      0.646991      0.077764      0.723708  \n",
       "4       0.107738    -0.579812      0.112121     -0.282696     -0.469201  \n",
       "\n",
       "[5 rows x 911 columns]"
      ]
     },
     "execution_count": 3,
     "metadata": {},
     "output_type": "execute_result"
    }
   ],
   "source": [
    "lfc_df.head()"
   ]
  },
  {
   "cell_type": "code",
   "execution_count": 4,
   "metadata": {
    "collapsed": false,
    "jupyter": {
     "outputs_hidden": false
    },
    "pycharm": {
     "name": "#%%\n"
    }
   },
   "outputs": [
    {
     "data": {
      "text/plain": [
       "910"
      ]
     },
     "execution_count": 4,
     "metadata": {},
     "output_type": "execute_result"
    }
   ],
   "source": [
    "lfc_df.columns.str.contains('_').sum()"
   ]
  },
  {
   "cell_type": "code",
   "execution_count": 5,
   "metadata": {
    "collapsed": false,
    "jupyter": {
     "outputs_hidden": false
    },
    "pycharm": {
     "name": "#%%\n"
    }
   },
   "outputs": [],
   "source": [
    "condition_sep = '_'"
   ]
  },
  {
   "cell_type": "code",
   "execution_count": 6,
   "metadata": {
    "collapsed": false,
    "jupyter": {
     "outputs_hidden": false
    },
    "pycharm": {
     "name": "#%%\n"
    }
   },
   "outputs": [
    {
     "data": {
      "text/plain": [
       "0.6155398017523642"
      ]
     },
     "execution_count": 6,
     "metadata": {},
     "output_type": "execute_result"
    }
   ],
   "source": [
    "lfc_cors = lfc_df.corr()\n",
    "long_cors = (lfc_cors.reset_index()\n",
    "             .rename({'index': 'condition A rep'}, axis=1)\n",
    "             .melt(var_name='condition B rep', value_name='pearson', id_vars='condition A rep'))\n",
    "long_cors['condition A'] = long_cors['condition A rep'].str.split(condition_sep, expand=True)[0]\n",
    "long_cors['condition B'] = long_cors['condition B rep'].str.split(condition_sep, expand=True)[0]\n",
    "filtered_cors = long_cors[(long_cors['condition A rep'] != long_cors['condition B rep']) &\n",
    "                          (long_cors['condition A'] == long_cors['condition B'])].copy()\n",
    "filtered_cors['pearson'].mean()"
   ]
  },
  {
   "cell_type": "code",
   "execution_count": 7,
   "metadata": {
    "collapsed": false,
    "jupyter": {
     "outputs_hidden": false
    },
    "pycharm": {
     "name": "#%%\n"
    }
   },
   "outputs": [],
   "source": [
    "all_designs = pd.read_parquet('/Volumes/GoogleDrive/Shared drives/GPP Cloud /R&D/People/Peter/gpp-annotation-files/sgRNA_design_9606_GRCh38_SpyoCas9_CRISPRko_Ensembl_20200401.parquet')"
   ]
  },
  {
   "cell_type": "code",
   "execution_count": 8,
   "metadata": {
    "collapsed": false,
    "jupyter": {
     "outputs_hidden": false
    },
    "pycharm": {
     "name": "#%%\n"
    }
   },
   "outputs": [],
   "source": [
    "sg_list = list(lfc_df['sgRNA Sequence'].unique())\n",
    "all_designs['19mer'] = all_designs['sgRNA Sequence'].str[1:]\n",
    "design_df = (all_designs[all_designs['19mer'].isin(sg_list)]\n",
    "             .reset_index(drop=True))"
   ]
  },
  {
   "cell_type": "code",
   "execution_count": 9,
   "metadata": {
    "collapsed": false,
    "jupyter": {
     "outputs_hidden": false
    },
    "pycharm": {
     "name": "#%%\n"
    }
   },
   "outputs": [],
   "source": [
    "long_lfcs = pool.average_replicate_lfcs(lfcs=lfc_df, guide_col='sgRNA Sequence',\n",
    "                                        condition_indices=[0], sep=condition_sep)"
   ]
  },
  {
   "cell_type": "code",
   "execution_count": 10,
   "metadata": {},
   "outputs": [],
   "source": [
    "design_cols = ['sgRNA Sequence', 'sgRNA Context Sequence', 'Target Gene Symbol', 'Target Cut %', 'On-Target Efficacy Score']"
   ]
  },
  {
   "cell_type": "code",
   "execution_count": 11,
   "metadata": {
    "collapsed": false,
    "jupyter": {
     "outputs_hidden": false
    },
    "pycharm": {
     "name": "#%%\n"
    }
   },
   "outputs": [
    {
     "data": {
      "text/html": [
       "<div>\n",
       "<style scoped>\n",
       "    .dataframe tbody tr th:only-of-type {\n",
       "        vertical-align: middle;\n",
       "    }\n",
       "\n",
       "    .dataframe tbody tr th {\n",
       "        vertical-align: top;\n",
       "    }\n",
       "\n",
       "    .dataframe thead th {\n",
       "        text-align: right;\n",
       "    }\n",
       "</style>\n",
       "<table border=\"1\" class=\"dataframe\">\n",
       "  <thead>\n",
       "    <tr style=\"text-align: right;\">\n",
       "      <th></th>\n",
       "      <th>condition</th>\n",
       "      <th>ROC-AUC</th>\n",
       "    </tr>\n",
       "  </thead>\n",
       "  <tbody>\n",
       "    <tr>\n",
       "      <th>39</th>\n",
       "      <td>CO678</td>\n",
       "      <td>0.682639</td>\n",
       "    </tr>\n",
       "    <tr>\n",
       "      <th>182</th>\n",
       "      <td>LS123</td>\n",
       "      <td>0.688277</td>\n",
       "    </tr>\n",
       "    <tr>\n",
       "      <th>107</th>\n",
       "      <td>HCC15</td>\n",
       "      <td>0.723650</td>\n",
       "    </tr>\n",
       "    <tr>\n",
       "      <th>194</th>\n",
       "      <td>MB453</td>\n",
       "      <td>0.734037</td>\n",
       "    </tr>\n",
       "    <tr>\n",
       "      <th>303</th>\n",
       "      <td>T84</td>\n",
       "      <td>0.743544</td>\n",
       "    </tr>\n",
       "    <tr>\n",
       "      <th>...</th>\n",
       "      <td>...</td>\n",
       "      <td>...</td>\n",
       "    </tr>\n",
       "    <tr>\n",
       "      <th>316</th>\n",
       "      <td>TYKnu</td>\n",
       "      <td>0.898963</td>\n",
       "    </tr>\n",
       "    <tr>\n",
       "      <th>150</th>\n",
       "      <td>KON</td>\n",
       "      <td>0.900609</td>\n",
       "    </tr>\n",
       "    <tr>\n",
       "      <th>236</th>\n",
       "      <td>OVR8</td>\n",
       "      <td>0.906134</td>\n",
       "    </tr>\n",
       "    <tr>\n",
       "      <th>29</th>\n",
       "      <td>CAL27</td>\n",
       "      <td>0.908942</td>\n",
       "    </tr>\n",
       "    <tr>\n",
       "      <th>259</th>\n",
       "      <td>RKO</td>\n",
       "      <td>0.909372</td>\n",
       "    </tr>\n",
       "  </tbody>\n",
       "</table>\n",
       "<p>324 rows × 2 columns</p>\n",
       "</div>"
      ],
      "text/plain": [
       "    condition   ROC-AUC\n",
       "39      CO678  0.682639\n",
       "182     LS123  0.688277\n",
       "107     HCC15  0.723650\n",
       "194     MB453  0.734037\n",
       "303       T84  0.743544\n",
       "..        ...       ...\n",
       "316     TYKnu  0.898963\n",
       "150       KON  0.900609\n",
       "236      OVR8  0.906134\n",
       "29      CAL27  0.908942\n",
       "259       RKO  0.909372\n",
       "\n",
       "[324 rows x 2 columns]"
      ]
     },
     "execution_count": 11,
     "metadata": {},
     "output_type": "execute_result"
    }
   ],
   "source": [
    "lfcs_designs = (long_lfcs.rename({'sgRNA Sequence': '19mer'}, axis=1)\n",
    "                .merge(design_df[design_cols + ['19mer', '# Off-Target Tier I Match Bin I Matches']], how='inner',\n",
    "                       on='19mer')\n",
    "                .drop('19mer', axis=1))\n",
    "roc_aucs, _ = pool.get_roc_aucs(lfcs=lfcs_designs, tp_genes=essential_genes.gene,\n",
    "                                fp_genes=nonessential_genes.gene, gene_col='Target Gene Symbol',\n",
    "                                score_col='avg_lfc', condition_col='condition')\n",
    "roc_aucs.sort_values('ROC-AUC')"
   ]
  },
  {
   "cell_type": "code",
   "execution_count": 12,
   "metadata": {
    "collapsed": false,
    "jupyter": {
     "outputs_hidden": false
    },
    "pycharm": {
     "name": "#%%\n"
    }
   },
   "outputs": [
    {
     "data": {
      "text/plain": [
       "0.8389772115032015"
      ]
     },
     "execution_count": 12,
     "metadata": {},
     "output_type": "execute_result"
    }
   ],
   "source": [
    "roc_aucs['ROC-AUC'].mean()"
   ]
  },
  {
   "cell_type": "code",
   "execution_count": 13,
   "metadata": {
    "collapsed": false,
    "jupyter": {
     "outputs_hidden": false
    },
    "pycharm": {
     "name": "#%%\n"
    }
   },
   "outputs": [
    {
     "data": {
      "text/plain": [
       "(324, 2)"
      ]
     },
     "execution_count": 13,
     "metadata": {},
     "output_type": "execute_result"
    }
   ],
   "source": [
    "roc_aucs.shape"
   ]
  },
  {
   "cell_type": "code",
   "execution_count": 14,
   "metadata": {
    "collapsed": false,
    "jupyter": {
     "outputs_hidden": false
    },
    "pycharm": {
     "name": "#%%\n"
    }
   },
   "outputs": [],
   "source": [
    "relevant_sgs_designs = lfcs_designs[lfcs_designs['Target Gene Symbol'].isin(essential_genes.gene)]\n",
    "filtered_sgs = relevant_sgs_designs[relevant_sgs_designs['# Off-Target Tier I Match Bin I Matches'] == '0'].copy()\n",
    "filtered_sgs['gene_rank'] = (filtered_sgs.groupby(['Target Gene Symbol', 'condition'])\n",
    "                             .avg_lfc\n",
    "                             .rank(pct=True, ascending=False))\n",
    "sg_avg_rank = (filtered_sgs.groupby(design_cols)\n",
    "               .agg(avg_rank = ('gene_rank', 'mean'))\n",
    "               .reset_index())"
   ]
  },
  {
   "cell_type": "code",
   "execution_count": 15,
   "metadata": {
    "collapsed": false,
    "jupyter": {
     "outputs_hidden": false
    },
    "pycharm": {
     "name": "#%%\n"
    }
   },
   "outputs": [
    {
     "data": {
      "image/png": "[encoded data removed]",
      "text/plain": [
       "<Figure size 288x288 with 1 Axes>"
      ]
     },
     "metadata": {
      "needs_background": "light"
     },
     "output_type": "display_data"
    }
   ],
   "source": [
    "plt.subplots(figsize=(4,4))\n",
    "gpplot.point_densityplot(data=sg_avg_rank, y='avg_rank', x='On-Target Efficacy Score')\n",
    "gpplot.add_correlation(data=sg_avg_rank, y='avg_rank', x='On-Target Efficacy Score', method='spearman')\n",
    "sns.despine()"
   ]
  },
  {
   "cell_type": "code",
   "execution_count": 16,
   "metadata": {
    "collapsed": false,
    "jupyter": {
     "outputs_hidden": false
    },
    "pycharm": {
     "name": "#%%\n"
    }
   },
   "outputs": [
    {
     "data": {
      "text/html": [
       "<div>\n",
       "<style scoped>\n",
       "    .dataframe tbody tr th:only-of-type {\n",
       "        vertical-align: middle;\n",
       "    }\n",
       "\n",
       "    .dataframe tbody tr th {\n",
       "        vertical-align: top;\n",
       "    }\n",
       "\n",
       "    .dataframe thead th {\n",
       "        text-align: right;\n",
       "    }\n",
       "</style>\n",
       "<table border=\"1\" class=\"dataframe\">\n",
       "  <thead>\n",
       "    <tr style=\"text-align: right;\">\n",
       "      <th></th>\n",
       "      <th>sgRNA Sequence</th>\n",
       "      <th>sgRNA Context Sequence</th>\n",
       "      <th>Target Gene Symbol</th>\n",
       "      <th>Target Cut %</th>\n",
       "      <th>avg_rank</th>\n",
       "    </tr>\n",
       "  </thead>\n",
       "  <tbody>\n",
       "    <tr>\n",
       "      <th>0</th>\n",
       "      <td>AAAAACCTGGTCATGAACAC</td>\n",
       "      <td>ACTGAAAAACCTGGTCATGAACACTGGACC</td>\n",
       "      <td>RPP40</td>\n",
       "      <td>16.9</td>\n",
       "      <td>0.752469</td>\n",
       "    </tr>\n",
       "    <tr>\n",
       "      <th>1</th>\n",
       "      <td>AAAAAGATCATGATTGAGCG</td>\n",
       "      <td>ATGTAAAAAGATCATGATTGAGCGGGGAGA</td>\n",
       "      <td>EIF2B1</td>\n",
       "      <td>30.9</td>\n",
       "      <td>0.704938</td>\n",
       "    </tr>\n",
       "    <tr>\n",
       "      <th>2</th>\n",
       "      <td>AAAAATAGTTGTAGAGACGC</td>\n",
       "      <td>TCATAAAAATAGTTGTAGAGACGCAGGATG</td>\n",
       "      <td>AURKB</td>\n",
       "      <td>40.2</td>\n",
       "      <td>0.488272</td>\n",
       "    </tr>\n",
       "    <tr>\n",
       "      <th>3</th>\n",
       "      <td>AAAAATTGTAGGGCGCACCA</td>\n",
       "      <td>TGCCAAAAATTGTAGGGCGCACCAAGGATG</td>\n",
       "      <td>NCAPG</td>\n",
       "      <td>21.3</td>\n",
       "      <td>0.862346</td>\n",
       "    </tr>\n",
       "    <tr>\n",
       "      <th>4</th>\n",
       "      <td>AAAACGGTAATATCGCCGTG</td>\n",
       "      <td>TTTGAAAACGGTAATATCGCCGTGTGGCAG</td>\n",
       "      <td>GTF3C4</td>\n",
       "      <td>34.8</td>\n",
       "      <td>0.454938</td>\n",
       "    </tr>\n",
       "    <tr>\n",
       "      <th>...</th>\n",
       "      <td>...</td>\n",
       "      <td>...</td>\n",
       "      <td>...</td>\n",
       "      <td>...</td>\n",
       "      <td>...</td>\n",
       "    </tr>\n",
       "    <tr>\n",
       "      <th>7437</th>\n",
       "      <td>TTTTTCAGTTGTTGTGGTGC</td>\n",
       "      <td>TGGATTTTTCAGTTGTTGTGGTGCTGGGAC</td>\n",
       "      <td>PSMB7</td>\n",
       "      <td>31.5</td>\n",
       "      <td>0.209877</td>\n",
       "    </tr>\n",
       "    <tr>\n",
       "      <th>7438</th>\n",
       "      <td>TTTTTCGAAGTACATGGCCC</td>\n",
       "      <td>CTTCTTTTTCGAAGTACATGGCCCAGGCAC</td>\n",
       "      <td>LSG1</td>\n",
       "      <td>34.2</td>\n",
       "      <td>0.843827</td>\n",
       "    </tr>\n",
       "    <tr>\n",
       "      <th>7439</th>\n",
       "      <td>TTTTTCTTCCAGAAAAATCC</td>\n",
       "      <td>TTCTTTTTTCTTCCAGAAAAATCCTGGGTA</td>\n",
       "      <td>TMEM41B</td>\n",
       "      <td>14.4</td>\n",
       "      <td>0.361111</td>\n",
       "    </tr>\n",
       "    <tr>\n",
       "      <th>7440</th>\n",
       "      <td>TTTTTGCACTAGCCTGAATA</td>\n",
       "      <td>TATTTTTTTGCACTAGCCTGAATAGGGCTA</td>\n",
       "      <td>BORA</td>\n",
       "      <td>50.6</td>\n",
       "      <td>0.299383</td>\n",
       "    </tr>\n",
       "    <tr>\n",
       "      <th>7441</th>\n",
       "      <td>TTTTTGCCACTCGTGAAATC</td>\n",
       "      <td>AACATTTTTGCCACTCGTGAAATCTGGTCT</td>\n",
       "      <td>ETF1</td>\n",
       "      <td>10.2</td>\n",
       "      <td>0.212963</td>\n",
       "    </tr>\n",
       "  </tbody>\n",
       "</table>\n",
       "<p>7442 rows × 5 columns</p>\n",
       "</div>"
      ],
      "text/plain": [
       "            sgRNA Sequence          sgRNA Context Sequence Target Gene Symbol  \\\n",
       "0     AAAAACCTGGTCATGAACAC  ACTGAAAAACCTGGTCATGAACACTGGACC              RPP40   \n",
       "1     AAAAAGATCATGATTGAGCG  ATGTAAAAAGATCATGATTGAGCGGGGAGA             EIF2B1   \n",
       "2     AAAAATAGTTGTAGAGACGC  TCATAAAAATAGTTGTAGAGACGCAGGATG              AURKB   \n",
       "3     AAAAATTGTAGGGCGCACCA  TGCCAAAAATTGTAGGGCGCACCAAGGATG              NCAPG   \n",
       "4     AAAACGGTAATATCGCCGTG  TTTGAAAACGGTAATATCGCCGTGTGGCAG             GTF3C4   \n",
       "...                    ...                             ...                ...   \n",
       "7437  TTTTTCAGTTGTTGTGGTGC  TGGATTTTTCAGTTGTTGTGGTGCTGGGAC              PSMB7   \n",
       "7438  TTTTTCGAAGTACATGGCCC  CTTCTTTTTCGAAGTACATGGCCCAGGCAC               LSG1   \n",
       "7439  TTTTTCTTCCAGAAAAATCC  TTCTTTTTTCTTCCAGAAAAATCCTGGGTA            TMEM41B   \n",
       "7440  TTTTTGCACTAGCCTGAATA  TATTTTTTTGCACTAGCCTGAATAGGGCTA               BORA   \n",
       "7441  TTTTTGCCACTCGTGAAATC  AACATTTTTGCCACTCGTGAAATCTGGTCT               ETF1   \n",
       "\n",
       "      Target Cut %  avg_rank  \n",
       "0             16.9  0.752469  \n",
       "1             30.9  0.704938  \n",
       "2             40.2  0.488272  \n",
       "3             21.3  0.862346  \n",
       "4             34.8  0.454938  \n",
       "...            ...       ...  \n",
       "7437          31.5  0.209877  \n",
       "7438          34.2  0.843827  \n",
       "7439          14.4  0.361111  \n",
       "7440          50.6  0.299383  \n",
       "7441          10.2  0.212963  \n",
       "\n",
       "[7442 rows x 5 columns]"
      ]
     },
     "execution_count": 16,
     "metadata": {},
     "output_type": "execute_result"
    }
   ],
   "source": [
    "training_data = sg_avg_rank.drop(['On-Target Efficacy Score'], axis=1)\n",
    "training_data"
   ]
  },
  {
   "cell_type": "code",
   "execution_count": 17,
   "metadata": {
    "collapsed": false,
    "jupyter": {
     "outputs_hidden": false
    },
    "pycharm": {
     "name": "#%%\n"
    }
   },
   "outputs": [],
   "source": [
    "training_data.to_csv('../data/processed/Behan2019_activity.csv', index=False)\n"
   ]
  }
 ],
 "metadata": {
  "kernelspec": {
   "display_name": "Python 3",
   "language": "python",
   "name": "python3"
  },
  "language_info": {
   "codemirror_mode": {
    "name": "ipython",
    "version": 3
   },
   "file_extension": ".py",
   "mimetype": "text/x-python",
   "name": "python",
   "nbconvert_exporter": "python",
   "pygments_lexer": "ipython3",
   "version": "3.8.8"
  }
 },
 "nbformat": 4,
 "nbformat_minor": 4
}
