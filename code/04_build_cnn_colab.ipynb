{
  "nbformat": 4,
  "nbformat_minor": 5,
  "metadata": {
    "kernelspec": {
      "name": "python3",
      "display_name": "Python 3"
    },
    "colab": {
      "name": "03_build_seq_model.ipynb",
      "provenance": [],
      "toc_visible": true,
      "machine_shape": "hm",
      "include_colab_link": true
    },
    "accelerator": "GPU",
    "language_info": {
      "name": "python"
    }
  },
  "cells": [
    {
      "cell_type": "markdown",
      "metadata": {
        "id": "view-in-github",
        "colab_type": "text"
      },
      "source": [
        "<a href=\"https://colab.research.google.com/github/PeterDeWeirdt/rs_dev/blob/main/code/04_build_cnn_colab.ipynb\" target=\"_parent\"><img src=\"https://colab.research.google.com/assets/colab-badge.svg\" alt=\"Open In Colab\"/></a>"
      ]
    },
    {
      "cell_type": "markdown",
      "metadata": {
        "collapsed": false,
        "id": "HWrOgnjwlShF"
      },
      "source": [
        "# Build Sequence Model\n",
        "\n",
        "Before running this model, be sure to copy activity data, train_data_names.csv, core.py, datasets_colab.py"
      ],
      "id": "HWrOgnjwlShF"
    },
    {
      "cell_type": "code",
      "metadata": {
        "pycharm": {
          "name": "#%%\n"
        },
        "id": "nYvjNnzalShU",
        "colab": {
          "base_uri": "https://localhost:8080/"
        },
        "outputId": "970bd07d-c7d1-4c68-b804-c2551d96f45f"
      },
      "source": [
        "gpu_info = !nvidia-smi\n",
        "gpu_info = '\\n'.join(gpu_info)\n",
        "if gpu_info.find('failed') >= 0:\n",
        "  print('Select the Runtime > \"Change runtime type\" menu to enable a GPU accelerator, ')\n",
        "  print('and then re-execute this cell.')\n",
        "else:\n",
        "  print(gpu_info)"
      ],
      "id": "nYvjNnzalShU",
      "execution_count": 1,
      "outputs": [
        {
          "output_type": "stream",
          "text": [
            "Wed May 19 20:48:34 2021       \n",
            "+-----------------------------------------------------------------------------+\n",
            "| NVIDIA-SMI 465.19.01    Driver Version: 460.32.03    CUDA Version: 11.2     |\n",
            "|-------------------------------+----------------------+----------------------+\n",
            "| GPU  Name        Persistence-M| Bus-Id        Disp.A | Volatile Uncorr. ECC |\n",
            "| Fan  Temp  Perf  Pwr:Usage/Cap|         Memory-Usage | GPU-Util  Compute M. |\n",
            "|                               |                      |               MIG M. |\n",
            "|===============================+======================+======================|\n",
            "|   0  Tesla P100-PCIE...  Off  | 00000000:00:04.0 Off |                    0 |\n",
            "| N/A   36C    P0    25W / 250W |      0MiB / 16280MiB |      0%      Default |\n",
            "|                               |                      |                  N/A |\n",
            "+-------------------------------+----------------------+----------------------+\n",
            "                                                                               \n",
            "+-----------------------------------------------------------------------------+\n",
            "| Processes:                                                                  |\n",
            "|  GPU   GI   CI        PID   Type   Process name                  GPU Memory |\n",
            "|        ID   ID                                                   Usage      |\n",
            "|=============================================================================|\n",
            "|  No running processes found                                                 |\n",
            "+-----------------------------------------------------------------------------+\n"
          ],
          "name": "stdout"
        }
      ]
    },
    {
      "cell_type": "code",
      "metadata": {
        "pycharm": {
          "name": "#%%\n"
        },
        "id": "NVy-m42elShV",
        "colab": {
          "base_uri": "https://localhost:8080/"
        },
        "outputId": "4bda7164-ebba-47a7-8afb-9142e0a0b16c"
      },
      "source": [
        "import multiprocessing\n",
        "n_cpus = multiprocessing.cpu_count()\n",
        "print(n_cpus)"
      ],
      "id": "NVy-m42elShV",
      "execution_count": 2,
      "outputs": [
        {
          "output_type": "stream",
          "text": [
            "4\n"
          ],
          "name": "stdout"
        }
      ]
    },
    {
      "cell_type": "code",
      "metadata": {
        "pycharm": {
          "name": "#%%\n"
        },
        "id": "6rxzwW1OlShV",
        "colab": {
          "base_uri": "https://localhost:8080/"
        },
        "outputId": "c0eff662-9454-4f18-ef60-f44fa23b55c9"
      },
      "source": [
        "!pip install -U --pre --extra-index https://pypi.anaconda.org/scipy-wheels-nightly/simple scikit-learn\n",
        "!pip install optuna"
      ],
      "id": "6rxzwW1OlShV",
      "execution_count": 3,
      "outputs": [
        {
          "output_type": "stream",
          "text": [
            "Looking in indexes: https://pypi.org/simple, https://pypi.anaconda.org/scipy-wheels-nightly/simple\n",
            "Collecting scikit-learn\n",
            "\u001b[?25l  Downloading https://pypi.anaconda.org/scipy-wheels-nightly/simple/scikit-learn/1.0.dev0/scikit_learn-1.0.dev0-cp37-cp37m-manylinux2010_x86_64.whl (22.8MB)\n",
            "\u001b[K     |████████████████████████████████| 22.9MB 1.2MB/s \n",
            "\u001b[?25hCollecting threadpoolctl>=2.0.0\n",
            "  Downloading https://files.pythonhosted.org/packages/f7/12/ec3f2e203afa394a149911729357aa48affc59c20e2c1c8297a60f33f133/threadpoolctl-2.1.0-py3-none-any.whl\n",
            "Requirement already satisfied, skipping upgrade: numpy>=1.13.3 in /usr/local/lib/python3.7/dist-packages (from scikit-learn) (1.19.5)\n",
            "Requirement already satisfied, skipping upgrade: scipy>=0.19.1 in /usr/local/lib/python3.7/dist-packages (from scikit-learn) (1.4.1)\n",
            "Requirement already satisfied, skipping upgrade: joblib>=0.11 in /usr/local/lib/python3.7/dist-packages (from scikit-learn) (1.0.1)\n",
            "Installing collected packages: threadpoolctl, scikit-learn\n",
            "  Found existing installation: scikit-learn 0.22.2.post1\n",
            "    Uninstalling scikit-learn-0.22.2.post1:\n",
            "      Successfully uninstalled scikit-learn-0.22.2.post1\n",
            "Successfully installed scikit-learn-1.0.dev0 threadpoolctl-2.1.0\n",
            "Collecting optuna\n",
            "\u001b[?25l  Downloading https://files.pythonhosted.org/packages/2b/21/d13081805e1e1afc71f5bb743ece324c8bd576237c51b899ecb38a717502/optuna-2.7.0-py3-none-any.whl (293kB)\n",
            "\u001b[K     |████████████████████████████████| 296kB 8.5MB/s \n",
            "\u001b[?25hCollecting alembic\n",
            "\u001b[?25l  Downloading https://files.pythonhosted.org/packages/ab/ff/375a0a81965a7ad4e23d1786de218e9bae050c4d3927cc9b2783aa045401/alembic-1.6.2.tar.gz (1.2MB)\n",
            "\u001b[K     |████████████████████████████████| 1.2MB 47.8MB/s \n",
            "\u001b[?25hCollecting cliff\n",
            "\u001b[?25l  Downloading https://files.pythonhosted.org/packages/a2/d6/7d9acb68a77acd140be7fececb7f2701b2a29d2da9c54184cb8f93509590/cliff-3.7.0-py3-none-any.whl (80kB)\n",
            "\u001b[K     |████████████████████████████████| 81kB 9.9MB/s \n",
            "\u001b[?25hRequirement already satisfied: tqdm in /usr/local/lib/python3.7/dist-packages (from optuna) (4.41.1)\n",
            "Collecting cmaes>=0.8.2\n",
            "  Downloading https://files.pythonhosted.org/packages/01/1f/43b01223a0366171f474320c6e966c39a11587287f098a5f09809b45e05f/cmaes-0.8.2-py3-none-any.whl\n",
            "Requirement already satisfied: scipy!=1.4.0 in /usr/local/lib/python3.7/dist-packages (from optuna) (1.4.1)\n",
            "Requirement already satisfied: sqlalchemy>=1.1.0 in /usr/local/lib/python3.7/dist-packages (from optuna) (1.4.15)\n",
            "Requirement already satisfied: packaging>=20.0 in /usr/local/lib/python3.7/dist-packages (from optuna) (20.9)\n",
            "Requirement already satisfied: numpy in /usr/local/lib/python3.7/dist-packages (from optuna) (1.19.5)\n",
            "Collecting colorlog\n",
            "  Downloading https://files.pythonhosted.org/packages/32/e6/e9ddc6fa1104fda718338b341e4b3dc31cd8039ab29e52fc73b508515361/colorlog-5.0.1-py2.py3-none-any.whl\n",
            "Collecting Mako\n",
            "\u001b[?25l  Downloading https://files.pythonhosted.org/packages/f3/54/dbc07fbb20865d3b78fdb7cf7fa713e2cba4f87f71100074ef2dc9f9d1f7/Mako-1.1.4-py2.py3-none-any.whl (75kB)\n",
            "\u001b[K     |████████████████████████████████| 81kB 11.4MB/s \n",
            "\u001b[?25hCollecting python-editor>=0.3\n",
            "  Downloading https://files.pythonhosted.org/packages/c6/d3/201fc3abe391bbae6606e6f1d598c15d367033332bd54352b12f35513717/python_editor-1.0.4-py3-none-any.whl\n",
            "Requirement already satisfied: python-dateutil in /usr/local/lib/python3.7/dist-packages (from alembic->optuna) (2.8.1)\n",
            "Collecting cmd2>=1.0.0\n",
            "\u001b[?25l  Downloading https://files.pythonhosted.org/packages/15/8b/15061b32332bb35ea2a2f6263d0f616779d576e82739ec8e7fcf3c94abf5/cmd2-1.5.0-py3-none-any.whl (133kB)\n",
            "\u001b[K     |████████████████████████████████| 143kB 66.9MB/s \n",
            "\u001b[?25hCollecting pbr!=2.1.0,>=2.0.0\n",
            "\u001b[?25l  Downloading https://files.pythonhosted.org/packages/18/e0/1d4702dd81121d04a477c272d47ee5b6bc970d1a0990b11befa275c55cf2/pbr-5.6.0-py2.py3-none-any.whl (111kB)\n",
            "\u001b[K     |████████████████████████████████| 112kB 56.5MB/s \n",
            "\u001b[?25hRequirement already satisfied: PyYAML>=3.12 in /usr/local/lib/python3.7/dist-packages (from cliff->optuna) (3.13)\n",
            "Requirement already satisfied: pyparsing>=2.1.0 in /usr/local/lib/python3.7/dist-packages (from cliff->optuna) (2.4.7)\n",
            "Collecting stevedore>=2.0.1\n",
            "\u001b[?25l  Downloading https://files.pythonhosted.org/packages/d4/49/b602307aeac3df3384ff1fcd05da9c0376c622a6c48bb5325f28ab165b57/stevedore-3.3.0-py3-none-any.whl (49kB)\n",
            "\u001b[K     |████████████████████████████████| 51kB 7.5MB/s \n",
            "\u001b[?25hRequirement already satisfied: PrettyTable>=0.7.2 in /usr/local/lib/python3.7/dist-packages (from cliff->optuna) (2.1.0)\n",
            "Requirement already satisfied: importlib-metadata; python_version < \"3.8\" in /usr/local/lib/python3.7/dist-packages (from sqlalchemy>=1.1.0->optuna) (4.0.1)\n",
            "Requirement already satisfied: greenlet!=0.4.17; python_version >= \"3\" in /usr/local/lib/python3.7/dist-packages (from sqlalchemy>=1.1.0->optuna) (1.1.0)\n",
            "Requirement already satisfied: MarkupSafe>=0.9.2 in /usr/local/lib/python3.7/dist-packages (from Mako->alembic->optuna) (2.0.0)\n",
            "Requirement already satisfied: six>=1.5 in /usr/local/lib/python3.7/dist-packages (from python-dateutil->alembic->optuna) (1.15.0)\n",
            "Collecting colorama>=0.3.7\n",
            "  Downloading https://files.pythonhosted.org/packages/44/98/5b86278fbbf250d239ae0ecb724f8572af1c91f4a11edf4d36a206189440/colorama-0.4.4-py2.py3-none-any.whl\n",
            "Collecting pyperclip>=1.6\n",
            "  Downloading https://files.pythonhosted.org/packages/a7/2c/4c64579f847bd5d539803c8b909e54ba087a79d01bb3aba433a95879a6c5/pyperclip-1.8.2.tar.gz\n",
            "Requirement already satisfied: attrs>=16.3.0 in /usr/local/lib/python3.7/dist-packages (from cmd2>=1.0.0->cliff->optuna) (21.2.0)\n",
            "Requirement already satisfied: wcwidth>=0.1.7 in /usr/local/lib/python3.7/dist-packages (from cmd2>=1.0.0->cliff->optuna) (0.2.5)\n",
            "Requirement already satisfied: zipp>=0.5 in /usr/local/lib/python3.7/dist-packages (from importlib-metadata; python_version < \"3.8\"->sqlalchemy>=1.1.0->optuna) (3.4.1)\n",
            "Requirement already satisfied: typing-extensions>=3.6.4; python_version < \"3.8\" in /usr/local/lib/python3.7/dist-packages (from importlib-metadata; python_version < \"3.8\"->sqlalchemy>=1.1.0->optuna) (3.7.4.3)\n",
            "Building wheels for collected packages: alembic, pyperclip\n",
            "  Building wheel for alembic (setup.py) ... \u001b[?25l\u001b[?25hdone\n",
            "  Created wheel for alembic: filename=alembic-1.6.2-py2.py3-none-any.whl size=164219 sha256=cef85097804c3da5a51c8ee599e686c406d28a5ac3d47ca80210387503582159\n",
            "  Stored in directory: /root/.cache/pip/wheels/a5/63/44/db29401e49ef5331c163b591f12a465c40af864bfa888dabd2\n",
            "  Building wheel for pyperclip (setup.py) ... \u001b[?25l\u001b[?25hdone\n",
            "  Created wheel for pyperclip: filename=pyperclip-1.8.2-cp37-none-any.whl size=11107 sha256=010a087777ce144f633308235ebaa9adea3f02d1008cd737aa159d68bab6c818\n",
            "  Stored in directory: /root/.cache/pip/wheels/25/af/b8/3407109267803f4015e1ee2ff23be0c8c19ce4008665931ee1\n",
            "Successfully built alembic pyperclip\n",
            "Installing collected packages: Mako, python-editor, alembic, colorama, pyperclip, cmd2, pbr, stevedore, cliff, cmaes, colorlog, optuna\n",
            "Successfully installed Mako-1.1.4 alembic-1.6.2 cliff-3.7.0 cmaes-0.8.2 cmd2-1.5.0 colorama-0.4.4 colorlog-5.0.1 optuna-2.7.0 pbr-5.6.0 pyperclip-1.8.2 python-editor-1.0.4 stevedore-3.3.0\n"
          ],
          "name": "stdout"
        }
      ]
    },
    {
      "cell_type": "code",
      "metadata": {
        "pycharm": {
          "name": "#%%\n"
        },
        "id": "K1zA_pMIlShW"
      },
      "source": [
        "import pandas as pd\n",
        "from sklearn.model_selection import StratifiedGroupKFold, train_test_split\n",
        "from sklearn.base import clone\n",
        "from sklearn.metrics import r2_score\n",
        "import optuna\n",
        "from joblib import Parallel, delayed\n",
        "import numpy as np\n",
        "from tensorflow import keras\n",
        "from datetime import datetime\n",
        "\n",
        "from datasets_colab import dataset_list\n",
        "from core import (get_predictive_performance,\n",
        "                  plot_spearman_heatmap,\n",
        "                  plot_model_performance,\n",
        "                  setup_plots)"
      ],
      "id": "K1zA_pMIlShW",
      "execution_count": 4,
      "outputs": []
    },
    {
      "cell_type": "code",
      "metadata": {
        "pycharm": {
          "name": "#%%\n"
        },
        "id": "iHgmMUzzlShW"
      },
      "source": [
        "setup_plots()"
      ],
      "id": "iHgmMUzzlShW",
      "execution_count": 5,
      "outputs": []
    },
    {
      "cell_type": "code",
      "metadata": {
        "pycharm": {
          "name": "#%%\n"
        },
        "id": "liiYafxhlShX"
      },
      "source": [
        "train_data_names = pd.read_csv('train_data_names.csv').name.to_list()"
      ],
      "id": "liiYafxhlShX",
      "execution_count": 6,
      "outputs": []
    },
    {
      "cell_type": "code",
      "metadata": {
        "pycharm": {
          "name": "#%%\n"
        },
        "id": "eAsIppfLlShX"
      },
      "source": [
        "train_data_list = list()\n",
        "for ds in dataset_list:\n",
        "    if ds.name in train_data_names:\n",
        "        train_data_list.append(ds)\n",
        "\n",
        "for ds in train_data_list:\n",
        "    ds.load_data()\n",
        "    ds.set_sgrnas()"
      ],
      "id": "eAsIppfLlShX",
      "execution_count": 7,
      "outputs": []
    },
    {
      "cell_type": "markdown",
      "metadata": {
        "collapsed": false,
        "id": "W7pIn5SqlShX"
      },
      "source": [
        "## Cross-Validation Iterator"
      ],
      "id": "W7pIn5SqlShX"
    },
    {
      "cell_type": "code",
      "metadata": {
        "pycharm": {
          "name": "#%%\n"
        },
        "id": "foJeiaw7lShX",
        "colab": {
          "base_uri": "https://localhost:8080/"
        },
        "outputId": "baf34129-8163-4d71-b091-2380d1cf919e"
      },
      "source": [
        "sg_df_list = []\n",
        "for ds in train_data_list:\n",
        "    sg_df = ds.get_sg_df(include_group=True, include_activity=True)\n",
        "    sg_df['dataset'] = ds.name\n",
        "    sg_df_list.append(sg_df)\n",
        "sg_df_groups = (pd.concat(sg_df_list)\n",
        "                .groupby(['sgRNA Context Sequence'])\n",
        "                .agg(n_conditions = ('sgRNA Context Sequence', 'count'),\n",
        "                     target = ('sgRNA Target', lambda x: ', '.join(set([s.upper() for s in x if not pd.isna(s)]))))\n",
        "                .reset_index())\n",
        "multi_target = sg_df_groups['target'].str.contains(',').sum()\n",
        "print('Context sequences with multiple targets: ' + str(multi_target))"
      ],
      "id": "foJeiaw7lShX",
      "execution_count": 8,
      "outputs": [
        {
          "output_type": "stream",
          "text": [
            "Context sequences with multiple targets: 0\n"
          ],
          "name": "stdout"
        }
      ]
    },
    {
      "cell_type": "code",
      "metadata": {
        "pycharm": {
          "name": "#%%\n"
        },
        "id": "l3kppMqslShY",
        "colab": {
          "base_uri": "https://localhost:8080/",
          "height": 1000
        },
        "outputId": "3450764d-3f5a-43b6-b081-b2c07351c9f4"
      },
      "source": [
        "# handle singleton case\n",
        "sg_df_groups['target'] = sg_df_groups.apply(lambda row:\n",
        "                                            row['target'] if (row['target'] != '') else row['sgRNA Context Sequence'],\n",
        "                                            axis=1)\n",
        "# Note that 'target' is not in the sg_df_list, and is coming from the sg_df_groups df\n",
        "sg_df_class_groups = (pd.concat(sg_df_list)\n",
        "                      .merge(sg_df_groups, how='inner', on='sgRNA Context Sequence')\n",
        "                      .sort_values(['dataset', 'target'])\n",
        "                      .reset_index(drop=True))\n",
        "sgkf = StratifiedGroupKFold(n_splits=5, shuffle=True, random_state=7)\n",
        "tidy_cv_list = []\n",
        "for i, (train_index, test_index) in enumerate(sgkf.split(sg_df_class_groups, sg_df_class_groups.dataset,\n",
        "                                                         sg_df_class_groups.target)):\n",
        "    train_df = sg_df_class_groups.iloc[train_index,:].copy()\n",
        "    train_df['cv'] = i\n",
        "    train_df['train'] = True\n",
        "    tidy_cv_list.append(train_df)\n",
        "    test_df = sg_df_class_groups.iloc[test_index,:].copy()\n",
        "    test_df['cv'] = i\n",
        "    test_df['train'] = False\n",
        "    tidy_cv_list.append(test_df)\n",
        "tidy_cv_df = pd.concat(tidy_cv_list)\n",
        "cv_train_data_counts = (tidy_cv_df[['cv', 'train', 'dataset']].value_counts()\n",
        "                        .reset_index(name='n'))\n",
        "cv_train_data_counts"
      ],
      "id": "l3kppMqslShY",
      "execution_count": 9,
      "outputs": [
        {
          "output_type": "execute_result",
          "data": {
            "text/html": [
              "<div>\n",
              "<style scoped>\n",
              "    .dataframe tbody tr th:only-of-type {\n",
              "        vertical-align: middle;\n",
              "    }\n",
              "\n",
              "    .dataframe tbody tr th {\n",
              "        vertical-align: top;\n",
              "    }\n",
              "\n",
              "    .dataframe thead th {\n",
              "        text-align: right;\n",
              "    }\n",
              "</style>\n",
              "<table border=\"1\" class=\"dataframe\">\n",
              "  <thead>\n",
              "    <tr style=\"text-align: right;\">\n",
              "      <th></th>\n",
              "      <th>cv</th>\n",
              "      <th>train</th>\n",
              "      <th>dataset</th>\n",
              "      <th>n</th>\n",
              "    </tr>\n",
              "  </thead>\n",
              "  <tbody>\n",
              "    <tr>\n",
              "      <th>0</th>\n",
              "      <td>3</td>\n",
              "      <td>True</td>\n",
              "      <td>Kim2019_train</td>\n",
              "      <td>10604</td>\n",
              "    </tr>\n",
              "    <tr>\n",
              "      <th>1</th>\n",
              "      <td>1</td>\n",
              "      <td>True</td>\n",
              "      <td>Kim2019_train</td>\n",
              "      <td>10574</td>\n",
              "    </tr>\n",
              "    <tr>\n",
              "      <th>2</th>\n",
              "      <td>4</td>\n",
              "      <td>True</td>\n",
              "      <td>Kim2019_train</td>\n",
              "      <td>10354</td>\n",
              "    </tr>\n",
              "    <tr>\n",
              "      <th>3</th>\n",
              "      <td>0</td>\n",
              "      <td>True</td>\n",
              "      <td>Kim2019_train</td>\n",
              "      <td>10267</td>\n",
              "    </tr>\n",
              "    <tr>\n",
              "      <th>4</th>\n",
              "      <td>2</td>\n",
              "      <td>True</td>\n",
              "      <td>Kim2019_train</td>\n",
              "      <td>9529</td>\n",
              "    </tr>\n",
              "    <tr>\n",
              "      <th>5</th>\n",
              "      <td>2</td>\n",
              "      <td>False</td>\n",
              "      <td>Kim2019_train</td>\n",
              "      <td>3303</td>\n",
              "    </tr>\n",
              "    <tr>\n",
              "      <th>6</th>\n",
              "      <td>0</td>\n",
              "      <td>False</td>\n",
              "      <td>Kim2019_train</td>\n",
              "      <td>2565</td>\n",
              "    </tr>\n",
              "    <tr>\n",
              "      <th>7</th>\n",
              "      <td>4</td>\n",
              "      <td>False</td>\n",
              "      <td>Kim2019_train</td>\n",
              "      <td>2478</td>\n",
              "    </tr>\n",
              "    <tr>\n",
              "      <th>8</th>\n",
              "      <td>1</td>\n",
              "      <td>True</td>\n",
              "      <td>Doench2016</td>\n",
              "      <td>2319</td>\n",
              "    </tr>\n",
              "    <tr>\n",
              "      <th>9</th>\n",
              "      <td>1</td>\n",
              "      <td>False</td>\n",
              "      <td>Kim2019_train</td>\n",
              "      <td>2258</td>\n",
              "    </tr>\n",
              "    <tr>\n",
              "      <th>10</th>\n",
              "      <td>3</td>\n",
              "      <td>False</td>\n",
              "      <td>Kim2019_train</td>\n",
              "      <td>2228</td>\n",
              "    </tr>\n",
              "    <tr>\n",
              "      <th>11</th>\n",
              "      <td>3</td>\n",
              "      <td>True</td>\n",
              "      <td>Doench2016</td>\n",
              "      <td>2209</td>\n",
              "    </tr>\n",
              "    <tr>\n",
              "      <th>12</th>\n",
              "      <td>4</td>\n",
              "      <td>True</td>\n",
              "      <td>Doench2016</td>\n",
              "      <td>2194</td>\n",
              "    </tr>\n",
              "    <tr>\n",
              "      <th>13</th>\n",
              "      <td>0</td>\n",
              "      <td>True</td>\n",
              "      <td>Doench2016</td>\n",
              "      <td>1804</td>\n",
              "    </tr>\n",
              "    <tr>\n",
              "      <th>14</th>\n",
              "      <td>2</td>\n",
              "      <td>True</td>\n",
              "      <td>Doench2016</td>\n",
              "      <td>1618</td>\n",
              "    </tr>\n",
              "    <tr>\n",
              "      <th>15</th>\n",
              "      <td>3</td>\n",
              "      <td>True</td>\n",
              "      <td>Doench2014_mouse</td>\n",
              "      <td>1169</td>\n",
              "    </tr>\n",
              "    <tr>\n",
              "      <th>16</th>\n",
              "      <td>2</td>\n",
              "      <td>True</td>\n",
              "      <td>Doench2014_mouse</td>\n",
              "      <td>1084</td>\n",
              "    </tr>\n",
              "    <tr>\n",
              "      <th>17</th>\n",
              "      <td>3</td>\n",
              "      <td>True</td>\n",
              "      <td>Doench2014_human</td>\n",
              "      <td>995</td>\n",
              "    </tr>\n",
              "    <tr>\n",
              "      <th>18</th>\n",
              "      <td>4</td>\n",
              "      <td>True</td>\n",
              "      <td>Doench2014_human</td>\n",
              "      <td>995</td>\n",
              "    </tr>\n",
              "    <tr>\n",
              "      <th>19</th>\n",
              "      <td>0</td>\n",
              "      <td>True</td>\n",
              "      <td>Doench2014_human</td>\n",
              "      <td>995</td>\n",
              "    </tr>\n",
              "    <tr>\n",
              "      <th>20</th>\n",
              "      <td>1</td>\n",
              "      <td>True</td>\n",
              "      <td>Doench2014_mouse</td>\n",
              "      <td>957</td>\n",
              "    </tr>\n",
              "    <tr>\n",
              "      <th>21</th>\n",
              "      <td>2</td>\n",
              "      <td>False</td>\n",
              "      <td>Doench2016</td>\n",
              "      <td>918</td>\n",
              "    </tr>\n",
              "    <tr>\n",
              "      <th>22</th>\n",
              "      <td>3</td>\n",
              "      <td>True</td>\n",
              "      <td>Wang2014</td>\n",
              "      <td>870</td>\n",
              "    </tr>\n",
              "    <tr>\n",
              "      <th>23</th>\n",
              "      <td>1</td>\n",
              "      <td>True</td>\n",
              "      <td>Wang2014</td>\n",
              "      <td>843</td>\n",
              "    </tr>\n",
              "    <tr>\n",
              "      <th>24</th>\n",
              "      <td>4</td>\n",
              "      <td>True</td>\n",
              "      <td>Wang2014</td>\n",
              "      <td>836</td>\n",
              "    </tr>\n",
              "    <tr>\n",
              "      <th>25</th>\n",
              "      <td>0</td>\n",
              "      <td>True</td>\n",
              "      <td>Wang2014</td>\n",
              "      <td>830</td>\n",
              "    </tr>\n",
              "    <tr>\n",
              "      <th>26</th>\n",
              "      <td>1</td>\n",
              "      <td>True</td>\n",
              "      <td>Doench2014_human</td>\n",
              "      <td>828</td>\n",
              "    </tr>\n",
              "    <tr>\n",
              "      <th>27</th>\n",
              "      <td>2</td>\n",
              "      <td>False</td>\n",
              "      <td>Doench2014_human</td>\n",
              "      <td>828</td>\n",
              "    </tr>\n",
              "    <tr>\n",
              "      <th>28</th>\n",
              "      <td>0</td>\n",
              "      <td>True</td>\n",
              "      <td>Doench2014_mouse</td>\n",
              "      <td>815</td>\n",
              "    </tr>\n",
              "    <tr>\n",
              "      <th>29</th>\n",
              "      <td>0</td>\n",
              "      <td>False</td>\n",
              "      <td>Doench2016</td>\n",
              "      <td>732</td>\n",
              "    </tr>\n",
              "    <tr>\n",
              "      <th>30</th>\n",
              "      <td>2</td>\n",
              "      <td>True</td>\n",
              "      <td>Wang2014</td>\n",
              "      <td>709</td>\n",
              "    </tr>\n",
              "    <tr>\n",
              "      <th>31</th>\n",
              "      <td>4</td>\n",
              "      <td>True</td>\n",
              "      <td>Doench2014_mouse</td>\n",
              "      <td>651</td>\n",
              "    </tr>\n",
              "    <tr>\n",
              "      <th>32</th>\n",
              "      <td>4</td>\n",
              "      <td>False</td>\n",
              "      <td>Doench2014_mouse</td>\n",
              "      <td>518</td>\n",
              "    </tr>\n",
              "    <tr>\n",
              "      <th>33</th>\n",
              "      <td>0</td>\n",
              "      <td>False</td>\n",
              "      <td>Doench2014_mouse</td>\n",
              "      <td>354</td>\n",
              "    </tr>\n",
              "    <tr>\n",
              "      <th>34</th>\n",
              "      <td>4</td>\n",
              "      <td>False</td>\n",
              "      <td>Doench2016</td>\n",
              "      <td>342</td>\n",
              "    </tr>\n",
              "    <tr>\n",
              "      <th>35</th>\n",
              "      <td>3</td>\n",
              "      <td>False</td>\n",
              "      <td>Doench2016</td>\n",
              "      <td>327</td>\n",
              "    </tr>\n",
              "    <tr>\n",
              "      <th>36</th>\n",
              "      <td>2</td>\n",
              "      <td>False</td>\n",
              "      <td>Wang2014</td>\n",
              "      <td>313</td>\n",
              "    </tr>\n",
              "    <tr>\n",
              "      <th>37</th>\n",
              "      <td>1</td>\n",
              "      <td>False</td>\n",
              "      <td>Doench2016</td>\n",
              "      <td>217</td>\n",
              "    </tr>\n",
              "    <tr>\n",
              "      <th>38</th>\n",
              "      <td>1</td>\n",
              "      <td>False</td>\n",
              "      <td>Doench2014_mouse</td>\n",
              "      <td>212</td>\n",
              "    </tr>\n",
              "    <tr>\n",
              "      <th>39</th>\n",
              "      <td>0</td>\n",
              "      <td>False</td>\n",
              "      <td>Wang2014</td>\n",
              "      <td>192</td>\n",
              "    </tr>\n",
              "    <tr>\n",
              "      <th>40</th>\n",
              "      <td>4</td>\n",
              "      <td>False</td>\n",
              "      <td>Wang2014</td>\n",
              "      <td>186</td>\n",
              "    </tr>\n",
              "    <tr>\n",
              "      <th>41</th>\n",
              "      <td>1</td>\n",
              "      <td>False</td>\n",
              "      <td>Wang2014</td>\n",
              "      <td>179</td>\n",
              "    </tr>\n",
              "    <tr>\n",
              "      <th>42</th>\n",
              "      <td>1</td>\n",
              "      <td>False</td>\n",
              "      <td>Doench2014_human</td>\n",
              "      <td>167</td>\n",
              "    </tr>\n",
              "    <tr>\n",
              "      <th>43</th>\n",
              "      <td>2</td>\n",
              "      <td>True</td>\n",
              "      <td>Doench2014_human</td>\n",
              "      <td>167</td>\n",
              "    </tr>\n",
              "    <tr>\n",
              "      <th>44</th>\n",
              "      <td>3</td>\n",
              "      <td>False</td>\n",
              "      <td>Wang2014</td>\n",
              "      <td>152</td>\n",
              "    </tr>\n",
              "    <tr>\n",
              "      <th>45</th>\n",
              "      <td>2</td>\n",
              "      <td>False</td>\n",
              "      <td>Doench2014_mouse</td>\n",
              "      <td>85</td>\n",
              "    </tr>\n",
              "  </tbody>\n",
              "</table>\n",
              "</div>"
            ],
            "text/plain": [
              "    cv  train           dataset      n\n",
              "0    3   True     Kim2019_train  10604\n",
              "1    1   True     Kim2019_train  10574\n",
              "2    4   True     Kim2019_train  10354\n",
              "3    0   True     Kim2019_train  10267\n",
              "4    2   True     Kim2019_train   9529\n",
              "5    2  False     Kim2019_train   3303\n",
              "6    0  False     Kim2019_train   2565\n",
              "7    4  False     Kim2019_train   2478\n",
              "8    1   True        Doench2016   2319\n",
              "9    1  False     Kim2019_train   2258\n",
              "10   3  False     Kim2019_train   2228\n",
              "11   3   True        Doench2016   2209\n",
              "12   4   True        Doench2016   2194\n",
              "13   0   True        Doench2016   1804\n",
              "14   2   True        Doench2016   1618\n",
              "15   3   True  Doench2014_mouse   1169\n",
              "16   2   True  Doench2014_mouse   1084\n",
              "17   3   True  Doench2014_human    995\n",
              "18   4   True  Doench2014_human    995\n",
              "19   0   True  Doench2014_human    995\n",
              "20   1   True  Doench2014_mouse    957\n",
              "21   2  False        Doench2016    918\n",
              "22   3   True          Wang2014    870\n",
              "23   1   True          Wang2014    843\n",
              "24   4   True          Wang2014    836\n",
              "25   0   True          Wang2014    830\n",
              "26   1   True  Doench2014_human    828\n",
              "27   2  False  Doench2014_human    828\n",
              "28   0   True  Doench2014_mouse    815\n",
              "29   0  False        Doench2016    732\n",
              "30   2   True          Wang2014    709\n",
              "31   4   True  Doench2014_mouse    651\n",
              "32   4  False  Doench2014_mouse    518\n",
              "33   0  False  Doench2014_mouse    354\n",
              "34   4  False        Doench2016    342\n",
              "35   3  False        Doench2016    327\n",
              "36   2  False          Wang2014    313\n",
              "37   1  False        Doench2016    217\n",
              "38   1  False  Doench2014_mouse    212\n",
              "39   0  False          Wang2014    192\n",
              "40   4  False          Wang2014    186\n",
              "41   1  False          Wang2014    179\n",
              "42   1  False  Doench2014_human    167\n",
              "43   2   True  Doench2014_human    167\n",
              "44   3  False          Wang2014    152\n",
              "45   2  False  Doench2014_mouse     85"
            ]
          },
          "metadata": {
            "tags": []
          },
          "execution_count": 9
        }
      ]
    },
    {
      "cell_type": "markdown",
      "metadata": {
        "collapsed": false,
        "id": "9PpHNXd_lShY"
      },
      "source": [
        "## Keras Convolutional Neural Network"
      ],
      "id": "9PpHNXd_lShY"
    },
    {
      "cell_type": "code",
      "metadata": {
        "pycharm": {
          "name": "#%%\n"
        },
        "id": "opEURQC6lShZ"
      },
      "source": [
        "def get_cnn(n_conv_layers, filters_per_conv, filter_len,\n",
        "            nodes_per_dense, dense_dropout_rate, n_dense_layers=1,\n",
        "            input_shape=(30, 4), activation='relu', initializer='he_uniform',\n",
        "            pool_size=2, loss='mse', optimizer='Adam'):\n",
        "    model = keras.models.Sequential()\n",
        "    model.add(keras.layers.InputLayer(input_shape=input_shape))\n",
        "    for _ in range(n_conv_layers):\n",
        "        model.add(keras.layers.Conv1D(filters=filters_per_conv, kernel_size=filter_len,\n",
        "                                      activation=activation, kernel_initializer=initializer))\n",
        "        model.add(keras.layers.AveragePooling1D(pool_size=pool_size))\n",
        "    model.add(keras.layers.Flatten())\n",
        "    model.add(keras.layers.Dropout(dense_dropout_rate))\n",
        "    for _ in range(n_dense_layers):\n",
        "        model.add(keras.layers.Dense(nodes_per_dense, activation=activation, kernel_initializer=initializer))\n",
        "        model.add(keras.layers.Dropout(dense_dropout_rate))\n",
        "    model.add(keras.layers.Dense(1, activation='linear'))\n",
        "    model.compile(loss=loss, optimizer=optimizer)\n",
        "    return model\n",
        "\n",
        "nt_codes = {'A':[1,0,0,0],\n",
        "            'C':[0,1,0,0],\n",
        "            'G':[0,0,1,0],\n",
        "            'T':[0,0,0,1]}\n",
        "\n",
        "def encode_seqs(seqs):\n",
        "    # 3d array with samples x position x nt\n",
        "    encoded_seqs = np.array([[nt_codes.get(x) for x in seq] for seq in seqs])\n",
        "    return encoded_seqs\n",
        "\n",
        "\n",
        "def cnn_training_iteration(fold_df, train_index, test_index, base_model):\n",
        "    \"\"\"Train cnn model for optuna iterations\n",
        "\n",
        "    :param fold_df: DataFrame\n",
        "    :param train_index: list-like\n",
        "    :param test_index: list-like\n",
        "    :param base_model: KerasRegressor\n",
        "    :return: r^2\n",
        "    \"\"\"\n",
        "    train_df = fold_df.iloc[train_index,:].reset_index(drop=True)\n",
        "    train_df['sgRNA Activity'] = (train_df.groupby('dataset')\n",
        "                                  ['sgRNA Activity']\n",
        "                                  .rank(pct=True))\n",
        "    train_val_seqs = train_df['sgRNA Context Sequence'] # train and validation data\n",
        "    y_train_val = train_df['sgRNA Activity']\n",
        "    train_seqs, val_seqs, y_train, y_val = train_test_split(train_val_seqs, y_train_val,\n",
        "                                                            test_size=0.1, random_state=7)\n",
        "    X_train = encode_seqs(train_seqs)\n",
        "    X_val = encode_seqs(val_seqs)\n",
        "    model = clone(base_model)\n",
        "    model.fit(X_train, y_train, verbose=0, validation_data=(X_val, y_val),\n",
        "              callbacks=[keras.callbacks.EarlyStopping(patience=20)])\n",
        "    test_df = fold_df.iloc[test_index,:].reset_index(drop=True)\n",
        "    X_test = encode_seqs(test_df['sgRNA Context Sequence'])\n",
        "    test_predictions = test_df.copy()\n",
        "    test_predictions['prediction'] = model.predict(X_test)\n",
        "    test_predictions['sgRNA Activity'] = (test_predictions.groupby('dataset')\n",
        "                                          ['sgRNA Activity']\n",
        "                                          .rank(pct=True))\n",
        "    r2 = r2_score(test_predictions['sgRNA Activity'], test_predictions['prediction'])\n",
        "    return r2\n",
        "\n",
        "\n",
        "def get_cnn_objective(fold_df):\n",
        "    \"\"\"Get objective function for training a cnn model\n",
        "\n",
        "    :param fold_df: DataFrame\n",
        "    :return: objective function\n",
        "    \"\"\"\n",
        "    def objective(trial):\n",
        "        \"\"\"For training set, get optimal hyperparameters for cnn\n",
        "\n",
        "        :param trial: optuna.trial\n",
        "        :return: int, pearson correlation with held out test data\n",
        "        \"\"\"\n",
        "        sgkf = StratifiedGroupKFold(n_splits=5, shuffle=True, random_state=7)\n",
        "        n_conv_layers = trial.suggest_int('n_conv_layers', 1, 2)\n",
        "        filters_per_conv = trial.suggest_int('filters_per_conv', 32, 256)\n",
        "        filter_len = trial.suggest_int('filter_len', 2, 8)\n",
        "        nodes_per_dense = trial.suggest_int('nodes_per_dense', 8, 256)\n",
        "        dense_dropout_rate = trial.suggest_float('dense_dropout_rate', 0.1, 0.5)\n",
        "        model = keras.wrappers.scikit_learn.KerasRegressor(build_fn=get_cnn, epochs=5000,\n",
        "                                                           n_conv_layers=n_conv_layers,\n",
        "                                                           filters_per_conv=filters_per_conv,\n",
        "                                                           filter_len=filter_len,\n",
        "                                                           nodes_per_dense=nodes_per_dense,\n",
        "                                                           dense_dropout_rate=dense_dropout_rate)\n",
        "        performance = Parallel(n_jobs=5)(delayed(cnn_training_iteration)\n",
        "                                         (fold_df, train_index, test_index, model) for\n",
        "                                         train_index, test_index in\n",
        "                                         sgkf.split(fold_df, fold_df.dataset, fold_df.target))\n",
        "        avg_performance = np.mean(performance)\n",
        "        return avg_performance\n",
        "    return objective"
      ],
      "id": "opEURQC6lShZ",
      "execution_count": 10,
      "outputs": []
    },
    {
      "cell_type": "code",
      "metadata": {
        "pycharm": {
          "name": "#%%\n"
        },
        "id": "4uk1mZS2lSha",
        "colab": {
          "base_uri": "https://localhost:8080/"
        },
        "outputId": "bd544bc9-d6b1-4468-ee2c-ce651839f640"
      },
      "source": [
        "n_trials = 50\n",
        "cnn_prediction_list = []\n",
        "\n",
        "for fold, fold_df in tidy_cv_df.groupby('cv'):\n",
        "    print('Fold: ' + str(fold))\n",
        "    fold_train_data = fold_df.query('train == True').reset_index(drop=True)\n",
        "    study = optuna.create_study(direction='maximize',\n",
        "                                sampler=optuna.samplers.TPESampler(seed=7)) # maximize r^2\n",
        "    objective = get_cnn_objective(fold_train_data)\n",
        "    start_time = datetime.now()\n",
        "    study.optimize(objective, n_trials=n_trials)\n",
        "    end_time = datetime.now()\n",
        "    difference = end_time - start_time\n",
        "    print(\"Number of finished trials: {}\".format(len(study.trials)))\n",
        "    print(\"Training Time: \" + str(difference))\n",
        "    print(\"Best trial:\")\n",
        "    trial = study.best_trial\n",
        "    print(\"  Value: {}\".format(trial.value))\n",
        "    print(\"  Params: \")\n",
        "    for key, value in trial.params.items():\n",
        "        print(\"    {}: {}\".format(key, value))\n",
        "    # Using optimal parameters, retrain model with full dataset\n",
        "    train_df = fold_train_data.copy()\n",
        "    train_df['sgRNA Activity'] = (train_df.groupby('dataset')\n",
        "                                  ['sgRNA Activity']\n",
        "                                  .rank(pct=True))\n",
        "    train_val_seqs = train_df['sgRNA Context Sequence'] # train and validation data\n",
        "    y_train_val = train_df['sgRNA Activity']\n",
        "    train_seqs, val_seqs, y_train, y_val = train_test_split(train_val_seqs, y_train_val,\n",
        "                                                            test_size=0.1, random_state=7)\n",
        "    X_train = encode_seqs(train_seqs)\n",
        "    X_val = encode_seqs(val_seqs)\n",
        "    model = keras.wrappers.scikit_learn.KerasRegressor(build_fn=get_cnn, epochs=5000,\n",
        "                                                       **trial.params)\n",
        "    model.fit(X_train, y_train, verbose=0, validation_data=(X_val, y_val),\n",
        "              callbacks=[keras.callbacks.EarlyStopping(patience=20)])\n",
        "    # Test optimal model on test data\n",
        "    fold_test_data = fold_df.query('train == False').reset_index(drop=True)\n",
        "    X_test = encode_seqs(fold_test_data['sgRNA Context Sequence'])\n",
        "    test_predictions = fold_test_data.copy()\n",
        "    test_predictions['prediction'] = model.predict(X_test)\n",
        "    test_predictions['model_name'] = 'All + CNN + TPE' + str(n_trials)\n",
        "    test_predictions['fold'] = fold\n",
        "    cnn_prediction_list.append(test_predictions)"
      ],
      "id": "4uk1mZS2lSha",
      "execution_count": 11,
      "outputs": [
        {
          "output_type": "stream",
          "text": [
            "\u001b[32m[I 2021-05-19 20:49:00,664]\u001b[0m A new study created in memory with name: no-name-1a227504-9cb1-495e-98ac-4f07263870f8\u001b[0m\n"
          ],
          "name": "stderr"
        },
        {
          "output_type": "stream",
          "text": [
            "Fold: 0\n"
          ],
          "name": "stdout"
        },
        {
          "output_type": "stream",
          "text": [
            "\u001b[32m[I 2021-05-19 20:51:44,405]\u001b[0m Trial 0 finished with value: 0.4511748453401797 and parameters: {'n_conv_layers': 1, 'filters_per_conv': 207, 'filter_len': 5, 'nodes_per_dense': 188, 'dense_dropout_rate': 0.4911958047986411}. Best is trial 0 with value: 0.4511748453401797.\u001b[0m\n",
            "\u001b[32m[I 2021-05-19 20:53:40,410]\u001b[0m Trial 1 finished with value: 0.4097456189295646 and parameters: {'n_conv_layers': 2, 'filters_per_conv': 144, 'filter_len': 2, 'nodes_per_dense': 74, 'dense_dropout_rate': 0.299953000330224}. Best is trial 0 with value: 0.4511748453401797.\u001b[0m\n",
            "\u001b[32m[I 2021-05-19 20:55:21,592]\u001b[0m Trial 2 finished with value: 0.4071059060659382 and parameters: {'n_conv_layers': 2, 'filters_per_conv': 212, 'filter_len': 4, 'nodes_per_dense': 24, 'dense_dropout_rate': 0.21525823972319744}. Best is trial 0 with value: 0.4511748453401797.\u001b[0m\n",
            "\u001b[32m[I 2021-05-19 20:56:30,365]\u001b[0m Trial 3 finished with value: 0.36420603925016815 and parameters: {'n_conv_layers': 2, 'filters_per_conv': 80, 'filter_len': 5, 'nodes_per_dense': 239, 'dense_dropout_rate': 0.10995969102013921}. Best is trial 0 with value: 0.4511748453401797.\u001b[0m\n",
            "\u001b[32m[I 2021-05-19 20:59:14,112]\u001b[0m Trial 4 finished with value: 0.4404860465553896 and parameters: {'n_conv_layers': 2, 'filters_per_conv': 245, 'filter_len': 3, 'nodes_per_dense': 144, 'dense_dropout_rate': 0.4636513499546925}. Best is trial 0 with value: 0.4511748453401797.\u001b[0m\n",
            "\u001b[32m[I 2021-05-19 21:00:28,212]\u001b[0m Trial 5 finished with value: 0.4334407772760393 and parameters: {'n_conv_layers': 1, 'filters_per_conv': 149, 'filter_len': 7, 'nodes_per_dense': 174, 'dense_dropout_rate': 0.2871011438979923}. Best is trial 0 with value: 0.4511748453401797.\u001b[0m\n",
            "\u001b[32m[I 2021-05-19 21:01:55,112]\u001b[0m Trial 6 finished with value: 0.4342413663146549 and parameters: {'n_conv_layers': 1, 'filters_per_conv': 142, 'filter_len': 4, 'nodes_per_dense': 126, 'dense_dropout_rate': 0.2463561543122372}. Best is trial 0 with value: 0.4511748453401797.\u001b[0m\n",
            "\u001b[32m[I 2021-05-19 21:03:43,393]\u001b[0m Trial 7 finished with value: 0.4122992382494758 and parameters: {'n_conv_layers': 2, 'filters_per_conv': 204, 'filter_len': 4, 'nodes_per_dense': 150, 'dense_dropout_rate': 0.21041961933227804}. Best is trial 0 with value: 0.4511748453401797.\u001b[0m\n",
            "\u001b[32m[I 2021-05-19 21:04:56,792]\u001b[0m Trial 8 finished with value: 0.44326854944928107 and parameters: {'n_conv_layers': 1, 'filters_per_conv': 111, 'filter_len': 6, 'nodes_per_dense': 100, 'dense_dropout_rate': 0.2836371911565726}. Best is trial 0 with value: 0.4511748453401797.\u001b[0m\n",
            "\u001b[32m[I 2021-05-19 21:06:40,731]\u001b[0m Trial 9 finished with value: 0.3831411543257697 and parameters: {'n_conv_layers': 2, 'filters_per_conv': 124, 'filter_len': 8, 'nodes_per_dense': 52, 'dense_dropout_rate': 0.3964475491653058}. Best is trial 0 with value: 0.4511748453401797.\u001b[0m\n",
            "\u001b[32m[I 2021-05-19 21:08:35,966]\u001b[0m Trial 10 finished with value: 0.4459380397524052 and parameters: {'n_conv_layers': 1, 'filters_per_conv': 204, 'filter_len': 6, 'nodes_per_dense': 235, 'dense_dropout_rate': 0.4565491145264152}. Best is trial 0 with value: 0.4511748453401797.\u001b[0m\n",
            "\u001b[32m[I 2021-05-19 21:10:23,649]\u001b[0m Trial 11 finished with value: 0.44229828903063995 and parameters: {'n_conv_layers': 1, 'filters_per_conv': 196, 'filter_len': 6, 'nodes_per_dense': 246, 'dense_dropout_rate': 0.48781997587377574}. Best is trial 0 with value: 0.4511748453401797.\u001b[0m\n",
            "\u001b[32m[I 2021-05-19 21:12:20,641]\u001b[0m Trial 12 finished with value: 0.45615856248228787 and parameters: {'n_conv_layers': 1, 'filters_per_conv': 244, 'filter_len': 6, 'nodes_per_dense': 203, 'dense_dropout_rate': 0.39698283393990524}. Best is trial 12 with value: 0.45615856248228787.\u001b[0m\n",
            "\u001b[32m[I 2021-05-19 21:14:17,971]\u001b[0m Trial 13 finished with value: 0.4517853640601673 and parameters: {'n_conv_layers': 1, 'filters_per_conv': 256, 'filter_len': 8, 'nodes_per_dense': 195, 'dense_dropout_rate': 0.38422288181891334}. Best is trial 12 with value: 0.45615856248228787.\u001b[0m\n",
            "\u001b[32m[I 2021-05-19 21:15:55,827]\u001b[0m Trial 14 finished with value: 0.44005901203455255 and parameters: {'n_conv_layers': 1, 'filters_per_conv': 256, 'filter_len': 8, 'nodes_per_dense': 203, 'dense_dropout_rate': 0.38594801546950286}. Best is trial 12 with value: 0.45615856248228787.\u001b[0m\n",
            "\u001b[32m[I 2021-05-19 21:17:45,818]\u001b[0m Trial 15 finished with value: 0.44378571595598987 and parameters: {'n_conv_layers': 1, 'filters_per_conv': 254, 'filter_len': 7, 'nodes_per_dense': 212, 'dense_dropout_rate': 0.37503981890700033}. Best is trial 12 with value: 0.45615856248228787.\u001b[0m\n",
            "\u001b[32m[I 2021-05-19 21:19:09,214]\u001b[0m Trial 16 finished with value: 0.4175894491754758 and parameters: {'n_conv_layers': 1, 'filters_per_conv': 44, 'filter_len': 7, 'nodes_per_dense': 178, 'dense_dropout_rate': 0.41827691382686105}. Best is trial 12 with value: 0.45615856248228787.\u001b[0m\n",
            "\u001b[32m[I 2021-05-19 21:20:44,515]\u001b[0m Trial 17 finished with value: 0.4472138762227943 and parameters: {'n_conv_layers': 1, 'filters_per_conv': 235, 'filter_len': 8, 'nodes_per_dense': 216, 'dense_dropout_rate': 0.34129175103574844}. Best is trial 12 with value: 0.45615856248228787.\u001b[0m\n",
            "\u001b[32m[I 2021-05-19 21:22:18,215]\u001b[0m Trial 18 finished with value: 0.4466059827354698 and parameters: {'n_conv_layers': 1, 'filters_per_conv': 170, 'filter_len': 7, 'nodes_per_dense': 160, 'dense_dropout_rate': 0.33795831954522115}. Best is trial 12 with value: 0.45615856248228787.\u001b[0m\n",
            "\u001b[32m[I 2021-05-19 21:24:32,863]\u001b[0m Trial 19 finished with value: 0.45375626566950444 and parameters: {'n_conv_layers': 1, 'filters_per_conv': 238, 'filter_len': 6, 'nodes_per_dense': 110, 'dense_dropout_rate': 0.42703072336269643}. Best is trial 12 with value: 0.45615856248228787.\u001b[0m\n",
            "\u001b[32m[I 2021-05-19 21:26:40,440]\u001b[0m Trial 20 finished with value: 0.4504533414801776 and parameters: {'n_conv_layers': 1, 'filters_per_conv': 231, 'filter_len': 6, 'nodes_per_dense': 115, 'dense_dropout_rate': 0.42550676365412177}. Best is trial 12 with value: 0.45615856248228787.\u001b[0m\n",
            "\u001b[32m[I 2021-05-19 21:29:08,882]\u001b[0m Trial 21 finished with value: 0.45231178089633095 and parameters: {'n_conv_layers': 1, 'filters_per_conv': 232, 'filter_len': 5, 'nodes_per_dense': 95, 'dense_dropout_rate': 0.35615756704125384}. Best is trial 12 with value: 0.45615856248228787.\u001b[0m\n",
            "\u001b[32m[I 2021-05-19 21:31:39,350]\u001b[0m Trial 22 finished with value: 0.454521322299108 and parameters: {'n_conv_layers': 1, 'filters_per_conv': 225, 'filter_len': 5, 'nodes_per_dense': 93, 'dense_dropout_rate': 0.34223908869203856}. Best is trial 12 with value: 0.45615856248228787.\u001b[0m\n",
            "\u001b[32m[I 2021-05-19 21:34:05,096]\u001b[0m Trial 23 finished with value: 0.4553260538612154 and parameters: {'n_conv_layers': 1, 'filters_per_conv': 174, 'filter_len': 6, 'nodes_per_dense': 54, 'dense_dropout_rate': 0.43593077911877554}. Best is trial 12 with value: 0.45615856248228787.\u001b[0m\n",
            "\u001b[32m[I 2021-05-19 21:36:35,232]\u001b[0m Trial 24 finished with value: 0.4516684481941284 and parameters: {'n_conv_layers': 1, 'filters_per_conv': 182, 'filter_len': 5, 'nodes_per_dense': 28, 'dense_dropout_rate': 0.327806735238661}. Best is trial 12 with value: 0.45615856248228787.\u001b[0m\n",
            "\u001b[32m[I 2021-05-19 21:38:54,610]\u001b[0m Trial 25 finished with value: 0.44638758494586295 and parameters: {'n_conv_layers': 1, 'filters_per_conv': 173, 'filter_len': 4, 'nodes_per_dense': 68, 'dense_dropout_rate': 0.44957823069115627}. Best is trial 12 with value: 0.45615856248228787.\u001b[0m\n",
            "\u001b[32m[I 2021-05-19 21:41:17,996]\u001b[0m Trial 26 finished with value: 0.4561106745194875 and parameters: {'n_conv_layers': 1, 'filters_per_conv': 224, 'filter_len': 6, 'nodes_per_dense': 48, 'dense_dropout_rate': 0.4138410157731437}. Best is trial 12 with value: 0.45615856248228787.\u001b[0m\n",
            "\u001b[32m[I 2021-05-19 21:43:32,744]\u001b[0m Trial 27 finished with value: 0.362478496713791 and parameters: {'n_conv_layers': 1, 'filters_per_conv': 186, 'filter_len': 7, 'nodes_per_dense': 11, 'dense_dropout_rate': 0.491216356851225}. Best is trial 12 with value: 0.45615856248228787.\u001b[0m\n",
            "\u001b[32m[I 2021-05-19 21:45:40,478]\u001b[0m Trial 28 finished with value: 0.4585648704419903 and parameters: {'n_conv_layers': 1, 'filters_per_conv': 164, 'filter_len': 6, 'nodes_per_dense': 51, 'dense_dropout_rate': 0.44225075542873216}. Best is trial 28 with value: 0.4585648704419903.\u001b[0m\n",
            "\u001b[32m[I 2021-05-19 21:47:54,886]\u001b[0m Trial 29 finished with value: 0.44979875593810226 and parameters: {'n_conv_layers': 1, 'filters_per_conv': 93, 'filter_len': 6, 'nodes_per_dense': 44, 'dense_dropout_rate': 0.4835704018572225}. Best is trial 28 with value: 0.4585648704419903.\u001b[0m\n",
            "\u001b[32m[I 2021-05-19 21:50:21,442]\u001b[0m Trial 30 finished with value: 0.4548588984369143 and parameters: {'n_conv_layers': 1, 'filters_per_conv': 158, 'filter_len': 5, 'nodes_per_dense': 77, 'dense_dropout_rate': 0.46894950596953044}. Best is trial 28 with value: 0.4585648704419903.\u001b[0m\n",
            "\u001b[32m[I 2021-05-19 21:52:37,107]\u001b[0m Trial 31 finished with value: 0.4511790547056419 and parameters: {'n_conv_layers': 1, 'filters_per_conv': 221, 'filter_len': 6, 'nodes_per_dense': 58, 'dense_dropout_rate': 0.417358322162984}. Best is trial 28 with value: 0.4585648704419903.\u001b[0m\n",
            "\u001b[32m[I 2021-05-19 21:54:55,317]\u001b[0m Trial 32 finished with value: 0.46200341621708124 and parameters: {'n_conv_layers': 1, 'filters_per_conv': 129, 'filter_len': 7, 'nodes_per_dense': 37, 'dense_dropout_rate': 0.444392813721114}. Best is trial 32 with value: 0.46200341621708124.\u001b[0m\n",
            "\u001b[32m[I 2021-05-19 21:57:40,973]\u001b[0m Trial 33 finished with value: 0.4537346600269375 and parameters: {'n_conv_layers': 1, 'filters_per_conv': 132, 'filter_len': 7, 'nodes_per_dense': 33, 'dense_dropout_rate': 0.498718871204515}. Best is trial 32 with value: 0.46200341621708124.\u001b[0m\n",
            "\u001b[32m[I 2021-05-19 22:00:41,343]\u001b[0m Trial 34 finished with value: 0.44798107087807415 and parameters: {'n_conv_layers': 1, 'filters_per_conv': 102, 'filter_len': 7, 'nodes_per_dense': 15, 'dense_dropout_rate': 0.40790272611057554}. Best is trial 32 with value: 0.46200341621708124.\u001b[0m\n",
            "\u001b[32m[I 2021-05-19 22:02:38,680]\u001b[0m Trial 35 finished with value: 0.45296710978258836 and parameters: {'n_conv_layers': 1, 'filters_per_conv': 80, 'filter_len': 6, 'nodes_per_dense': 81, 'dense_dropout_rate': 0.4411245783308297}. Best is trial 32 with value: 0.46200341621708124.\u001b[0m\n",
            "\u001b[32m[I 2021-05-19 22:04:20,389]\u001b[0m Trial 36 finished with value: 0.4073719917362876 and parameters: {'n_conv_layers': 2, 'filters_per_conv': 47, 'filter_len': 7, 'nodes_per_dense': 8, 'dense_dropout_rate': 0.37271833603193183}. Best is trial 32 with value: 0.46200341621708124.\u001b[0m\n",
            "\u001b[32m[I 2021-05-19 22:06:07,936]\u001b[0m Trial 37 finished with value: 0.41838057314641874 and parameters: {'n_conv_layers': 1, 'filters_per_conv': 121, 'filter_len': 2, 'nodes_per_dense': 38, 'dense_dropout_rate': 0.1160607111805636}. Best is trial 32 with value: 0.46200341621708124.\u001b[0m\n",
            "\u001b[32m[I 2021-05-19 22:08:02,096]\u001b[0m Trial 38 finished with value: 0.4586879617412848 and parameters: {'n_conv_layers': 1, 'filters_per_conv': 159, 'filter_len': 5, 'nodes_per_dense': 67, 'dense_dropout_rate': 0.3120042033593976}. Best is trial 32 with value: 0.46200341621708124.\u001b[0m\n",
            "\u001b[32m[I 2021-05-19 22:09:56,406]\u001b[0m Trial 39 finished with value: 0.4441309829924025 and parameters: {'n_conv_layers': 2, 'filters_per_conv': 153, 'filter_len': 3, 'nodes_per_dense': 63, 'dense_dropout_rate': 0.31184241177923205}. Best is trial 32 with value: 0.46200341621708124.\u001b[0m\n",
            "\u001b[32m[I 2021-05-19 22:11:11,344]\u001b[0m Trial 40 finished with value: 0.43317840351391174 and parameters: {'n_conv_layers': 1, 'filters_per_conv': 137, 'filter_len': 5, 'nodes_per_dense': 126, 'dense_dropout_rate': 0.2088704918672184}. Best is trial 32 with value: 0.46200341621708124.\u001b[0m\n",
            "\u001b[32m[I 2021-05-19 22:13:12,745]\u001b[0m Trial 41 finished with value: 0.4540825054383658 and parameters: {'n_conv_layers': 1, 'filters_per_conv': 159, 'filter_len': 6, 'nodes_per_dense': 21, 'dense_dropout_rate': 0.25598727302450797}. Best is trial 32 with value: 0.46200341621708124.\u001b[0m\n",
            "\u001b[32m[I 2021-05-19 22:16:10,392]\u001b[0m Trial 42 finished with value: 0.4568508686412124 and parameters: {'n_conv_layers': 1, 'filters_per_conv': 213, 'filter_len': 5, 'nodes_per_dense': 49, 'dense_dropout_rate': 0.4682580539530568}. Best is trial 32 with value: 0.46200341621708124.\u001b[0m\n",
            "\u001b[32m[I 2021-05-19 22:18:49,618]\u001b[0m Trial 43 finished with value: 0.4472660964934493 and parameters: {'n_conv_layers': 1, 'filters_per_conv': 194, 'filter_len': 4, 'nodes_per_dense': 84, 'dense_dropout_rate': 0.4724825129873747}. Best is trial 32 with value: 0.46200341621708124.\u001b[0m\n",
            "\u001b[32m[I 2021-05-19 22:20:26,838]\u001b[0m Trial 44 finished with value: 0.4471321404874867 and parameters: {'n_conv_layers': 1, 'filters_per_conv': 143, 'filter_len': 4, 'nodes_per_dense': 38, 'dense_dropout_rate': 0.18576224514453607}. Best is trial 32 with value: 0.46200341621708124.\u001b[0m\n",
            "\u001b[32m[I 2021-05-19 22:23:36,791]\u001b[0m Trial 45 finished with value: 0.4547659487370761 and parameters: {'n_conv_layers': 1, 'filters_per_conv': 212, 'filter_len': 5, 'nodes_per_dense': 69, 'dense_dropout_rate': 0.45123460818098954}. Best is trial 32 with value: 0.46200341621708124.\u001b[0m\n",
            "\u001b[32m[I 2021-05-19 22:25:18,429]\u001b[0m Trial 46 finished with value: 0.4462252797518552 and parameters: {'n_conv_layers': 1, 'filters_per_conv': 120, 'filter_len': 5, 'nodes_per_dense': 140, 'dense_dropout_rate': 0.39772607171023616}. Best is trial 32 with value: 0.46200341621708124.\u001b[0m\n",
            "\u001b[32m[I 2021-05-19 22:27:46,814]\u001b[0m Trial 47 finished with value: 0.3256596447054477 and parameters: {'n_conv_layers': 1, 'filters_per_conv': 246, 'filter_len': 3, 'nodes_per_dense': 22, 'dense_dropout_rate': 0.36358775116115705}. Best is trial 32 with value: 0.46200341621708124.\u001b[0m\n",
            "\u001b[32m[I 2021-05-19 22:29:43,126]\u001b[0m Trial 48 finished with value: 0.4484553287672501 and parameters: {'n_conv_layers': 1, 'filters_per_conv': 164, 'filter_len': 4, 'nodes_per_dense': 46, 'dense_dropout_rate': 0.2743445294285824}. Best is trial 32 with value: 0.46200341621708124.\u001b[0m\n",
            "\u001b[32m[I 2021-05-19 22:31:49,647]\u001b[0m Trial 49 finished with value: 0.46094214237225517 and parameters: {'n_conv_layers': 1, 'filters_per_conv': 132, 'filter_len': 5, 'nodes_per_dense': 60, 'dense_dropout_rate': 0.47010234233573556}. Best is trial 32 with value: 0.46200341621708124.\u001b[0m\n"
          ],
          "name": "stderr"
        },
        {
          "output_type": "stream",
          "text": [
            "Number of finished trials: 50\n",
            "Training Time: 1:42:48.982380\n",
            "Best trial:\n",
            "  Value: 0.46200341621708124\n",
            "  Params: \n",
            "    n_conv_layers: 1\n",
            "    filters_per_conv: 129\n",
            "    filter_len: 7\n",
            "    nodes_per_dense: 37\n",
            "    dense_dropout_rate: 0.444392813721114\n"
          ],
          "name": "stdout"
        },
        {
          "output_type": "stream",
          "text": [
            "\u001b[32m[I 2021-05-19 22:32:31,333]\u001b[0m A new study created in memory with name: no-name-515de7b6-3937-4bed-99df-582d8d39532a\u001b[0m\n"
          ],
          "name": "stderr"
        },
        {
          "output_type": "stream",
          "text": [
            "Fold: 1\n"
          ],
          "name": "stdout"
        },
        {
          "output_type": "stream",
          "text": [
            "\u001b[32m[I 2021-05-19 22:34:32,961]\u001b[0m Trial 0 finished with value: 0.44307186872868753 and parameters: {'n_conv_layers': 1, 'filters_per_conv': 207, 'filter_len': 5, 'nodes_per_dense': 188, 'dense_dropout_rate': 0.4911958047986411}. Best is trial 0 with value: 0.44307186872868753.\u001b[0m\n",
            "\u001b[32m[I 2021-05-19 22:36:44,645]\u001b[0m Trial 1 finished with value: 0.40055727442729105 and parameters: {'n_conv_layers': 2, 'filters_per_conv': 144, 'filter_len': 2, 'nodes_per_dense': 74, 'dense_dropout_rate': 0.299953000330224}. Best is trial 0 with value: 0.44307186872868753.\u001b[0m\n",
            "\u001b[32m[I 2021-05-19 22:38:23,437]\u001b[0m Trial 2 finished with value: 0.4089645989930948 and parameters: {'n_conv_layers': 2, 'filters_per_conv': 212, 'filter_len': 4, 'nodes_per_dense': 24, 'dense_dropout_rate': 0.21525823972319744}. Best is trial 0 with value: 0.44307186872868753.\u001b[0m\n",
            "\u001b[32m[I 2021-05-19 22:39:37,168]\u001b[0m Trial 3 finished with value: 0.35650789719485865 and parameters: {'n_conv_layers': 2, 'filters_per_conv': 80, 'filter_len': 5, 'nodes_per_dense': 239, 'dense_dropout_rate': 0.10995969102013921}. Best is trial 0 with value: 0.44307186872868753.\u001b[0m\n",
            "\u001b[32m[I 2021-05-19 22:42:03,073]\u001b[0m Trial 4 finished with value: 0.42853170143279484 and parameters: {'n_conv_layers': 2, 'filters_per_conv': 245, 'filter_len': 3, 'nodes_per_dense': 144, 'dense_dropout_rate': 0.4636513499546925}. Best is trial 0 with value: 0.44307186872868753.\u001b[0m\n",
            "\u001b[32m[I 2021-05-19 22:43:18,444]\u001b[0m Trial 5 finished with value: 0.43208287042108307 and parameters: {'n_conv_layers': 1, 'filters_per_conv': 149, 'filter_len': 7, 'nodes_per_dense': 174, 'dense_dropout_rate': 0.2871011438979923}. Best is trial 0 with value: 0.44307186872868753.\u001b[0m\n",
            "\u001b[32m[I 2021-05-19 22:44:36,956]\u001b[0m Trial 6 finished with value: 0.41980952739428873 and parameters: {'n_conv_layers': 1, 'filters_per_conv': 142, 'filter_len': 4, 'nodes_per_dense': 126, 'dense_dropout_rate': 0.2463561543122372}. Best is trial 0 with value: 0.44307186872868753.\u001b[0m\n",
            "\u001b[32m[I 2021-05-19 22:46:15,419]\u001b[0m Trial 7 finished with value: 0.4170695160732626 and parameters: {'n_conv_layers': 2, 'filters_per_conv': 204, 'filter_len': 4, 'nodes_per_dense': 150, 'dense_dropout_rate': 0.21041961933227804}. Best is trial 0 with value: 0.44307186872868753.\u001b[0m\n",
            "\u001b[32m[I 2021-05-19 22:47:31,544]\u001b[0m Trial 8 finished with value: 0.4271620056753709 and parameters: {'n_conv_layers': 1, 'filters_per_conv': 111, 'filter_len': 6, 'nodes_per_dense': 100, 'dense_dropout_rate': 0.2836371911565726}. Best is trial 0 with value: 0.44307186872868753.\u001b[0m\n",
            "\u001b[32m[I 2021-05-19 22:49:10,324]\u001b[0m Trial 9 finished with value: 0.3917916263626343 and parameters: {'n_conv_layers': 2, 'filters_per_conv': 124, 'filter_len': 8, 'nodes_per_dense': 52, 'dense_dropout_rate': 0.3964475491653058}. Best is trial 0 with value: 0.44307186872868753.\u001b[0m\n",
            "\u001b[32m[I 2021-05-19 22:51:00,224]\u001b[0m Trial 10 finished with value: 0.4305495165440549 and parameters: {'n_conv_layers': 1, 'filters_per_conv': 204, 'filter_len': 6, 'nodes_per_dense': 235, 'dense_dropout_rate': 0.4565491145264152}. Best is trial 0 with value: 0.44307186872868753.\u001b[0m\n",
            "\u001b[32m[I 2021-05-19 22:52:25,434]\u001b[0m Trial 11 finished with value: 0.43248863802894777 and parameters: {'n_conv_layers': 1, 'filters_per_conv': 177, 'filter_len': 8, 'nodes_per_dense': 192, 'dense_dropout_rate': 0.39185325502666085}. Best is trial 0 with value: 0.44307186872868753.\u001b[0m\n",
            "\u001b[32m[I 2021-05-19 22:53:50,998]\u001b[0m Trial 12 finished with value: 0.43329858731912446 and parameters: {'n_conv_layers': 1, 'filters_per_conv': 181, 'filter_len': 8, 'nodes_per_dense': 197, 'dense_dropout_rate': 0.3859673527518641}. Best is trial 0 with value: 0.44307186872868753.\u001b[0m\n",
            "\u001b[32m[I 2021-05-19 22:55:54,631]\u001b[0m Trial 13 finished with value: 0.4381952962629659 and parameters: {'n_conv_layers': 1, 'filters_per_conv': 256, 'filter_len': 7, 'nodes_per_dense': 207, 'dense_dropout_rate': 0.49894206292790017}. Best is trial 0 with value: 0.44307186872868753.\u001b[0m\n",
            "\u001b[32m[I 2021-05-19 22:57:59,286]\u001b[0m Trial 14 finished with value: 0.42797310273095396 and parameters: {'n_conv_layers': 1, 'filters_per_conv': 256, 'filter_len': 6, 'nodes_per_dense': 251, 'dense_dropout_rate': 0.4870346131319032}. Best is trial 0 with value: 0.44307186872868753.\u001b[0m\n",
            "\u001b[32m[I 2021-05-19 23:00:04,595]\u001b[0m Trial 15 finished with value: 0.4407012680629788 and parameters: {'n_conv_layers': 1, 'filters_per_conv': 238, 'filter_len': 7, 'nodes_per_dense': 214, 'dense_dropout_rate': 0.4935697490873134}. Best is trial 0 with value: 0.44307186872868753.\u001b[0m\n",
            "\u001b[32m[I 2021-05-19 23:02:20,307]\u001b[0m Trial 16 finished with value: 0.4419344234245687 and parameters: {'n_conv_layers': 1, 'filters_per_conv': 236, 'filter_len': 5, 'nodes_per_dense': 216, 'dense_dropout_rate': 0.4259292152569832}. Best is trial 0 with value: 0.44307186872868753.\u001b[0m\n",
            "\u001b[32m[I 2021-05-19 23:04:40,930]\u001b[0m Trial 17 finished with value: 0.4451511646281462 and parameters: {'n_conv_layers': 1, 'filters_per_conv': 229, 'filter_len': 5, 'nodes_per_dense': 166, 'dense_dropout_rate': 0.4342896948686795}. Best is trial 17 with value: 0.4451511646281462.\u001b[0m\n",
            "\u001b[32m[I 2021-05-19 23:06:54,663]\u001b[0m Trial 18 finished with value: 0.422781514695281 and parameters: {'n_conv_layers': 1, 'filters_per_conv': 183, 'filter_len': 3, 'nodes_per_dense': 167, 'dense_dropout_rate': 0.34599300532700006}. Best is trial 17 with value: 0.4451511646281462.\u001b[0m\n",
            "\u001b[32m[I 2021-05-19 23:09:08,463]\u001b[0m Trial 19 finished with value: 0.4420283773326408 and parameters: {'n_conv_layers': 1, 'filters_per_conv': 230, 'filter_len': 5, 'nodes_per_dense': 113, 'dense_dropout_rate': 0.34347755438532873}. Best is trial 17 with value: 0.4451511646281462.\u001b[0m\n",
            "\u001b[32m[I 2021-05-19 23:11:00,186]\u001b[0m Trial 20 finished with value: 0.40626830142910964 and parameters: {'n_conv_layers': 1, 'filters_per_conv': 44, 'filter_len': 3, 'nodes_per_dense': 169, 'dense_dropout_rate': 0.44060197727684547}. Best is trial 17 with value: 0.4451511646281462.\u001b[0m\n",
            "\u001b[32m[I 2021-05-19 23:13:02,319]\u001b[0m Trial 21 finished with value: 0.4398798139658971 and parameters: {'n_conv_layers': 1, 'filters_per_conv': 222, 'filter_len': 5, 'nodes_per_dense': 123, 'dense_dropout_rate': 0.32501281660311876}. Best is trial 17 with value: 0.4451511646281462.\u001b[0m\n",
            "\u001b[32m[I 2021-05-19 23:15:11,343]\u001b[0m Trial 22 finished with value: 0.43857611745307123 and parameters: {'n_conv_layers': 1, 'filters_per_conv': 225, 'filter_len': 4, 'nodes_per_dense': 106, 'dense_dropout_rate': 0.35129075782169417}. Best is trial 17 with value: 0.4451511646281462.\u001b[0m\n",
            "\u001b[32m[I 2021-05-19 23:16:58,770]\u001b[0m Trial 23 finished with value: 0.43888033333803467 and parameters: {'n_conv_layers': 1, 'filters_per_conv': 189, 'filter_len': 6, 'nodes_per_dense': 88, 'dense_dropout_rate': 0.4162707845226856}. Best is trial 17 with value: 0.4451511646281462.\u001b[0m\n",
            "\u001b[32m[I 2021-05-19 23:18:48,915]\u001b[0m Trial 24 finished with value: 0.44011334184224804 and parameters: {'n_conv_layers': 1, 'filters_per_conv': 167, 'filter_len': 5, 'nodes_per_dense': 149, 'dense_dropout_rate': 0.3648628169231123}. Best is trial 17 with value: 0.4451511646281462.\u001b[0m\n",
            "\u001b[32m[I 2021-05-19 23:20:54,564]\u001b[0m Trial 25 finished with value: 0.44453346447527897 and parameters: {'n_conv_layers': 1, 'filters_per_conv': 228, 'filter_len': 5, 'nodes_per_dense': 183, 'dense_dropout_rate': 0.46918429184653615}. Best is trial 17 with value: 0.4451511646281462.\u001b[0m\n",
            "\u001b[32m[I 2021-05-19 23:23:27,275]\u001b[0m Trial 26 finished with value: 0.43390302328863706 and parameters: {'n_conv_layers': 1, 'filters_per_conv': 255, 'filter_len': 4, 'nodes_per_dense': 183, 'dense_dropout_rate': 0.4774094596027713}. Best is trial 17 with value: 0.4451511646281462.\u001b[0m\n",
            "\u001b[32m[I 2021-05-19 23:25:16,881]\u001b[0m Trial 27 finished with value: 0.43851080277086646 and parameters: {'n_conv_layers': 1, 'filters_per_conv': 202, 'filter_len': 6, 'nodes_per_dense': 229, 'dense_dropout_rate': 0.43786729652888023}. Best is trial 17 with value: 0.4451511646281462.\u001b[0m\n",
            "\u001b[32m[I 2021-05-19 23:27:45,629]\u001b[0m Trial 28 finished with value: 0.44290303324589564 and parameters: {'n_conv_layers': 1, 'filters_per_conv': 218, 'filter_len': 5, 'nodes_per_dense': 163, 'dense_dropout_rate': 0.499274703405391}. Best is trial 17 with value: 0.4451511646281462.\u001b[0m\n",
            "\u001b[32m[I 2021-05-19 23:30:11,382]\u001b[0m Trial 29 finished with value: 0.42085442785255633 and parameters: {'n_conv_layers': 1, 'filters_per_conv': 158, 'filter_len': 3, 'nodes_per_dense': 190, 'dense_dropout_rate': 0.4580088271652466}. Best is trial 17 with value: 0.4451511646281462.\u001b[0m\n",
            "\u001b[32m[I 2021-05-19 23:31:38,125]\u001b[0m Trial 30 finished with value: 0.40566553457925514 and parameters: {'n_conv_layers': 1, 'filters_per_conv': 196, 'filter_len': 4, 'nodes_per_dense': 143, 'dense_dropout_rate': 0.11839115257914243}. Best is trial 17 with value: 0.4451511646281462.\u001b[0m\n",
            "\u001b[32m[I 2021-05-19 23:33:55,910]\u001b[0m Trial 31 finished with value: 0.4446241158254491 and parameters: {'n_conv_layers': 1, 'filters_per_conv': 217, 'filter_len': 5, 'nodes_per_dense': 162, 'dense_dropout_rate': 0.49810338420248024}. Best is trial 17 with value: 0.4451511646281462.\u001b[0m\n",
            "\u001b[32m[I 2021-05-19 23:35:45,595]\u001b[0m Trial 32 finished with value: 0.43713024052856364 and parameters: {'n_conv_layers': 1, 'filters_per_conv': 214, 'filter_len': 6, 'nodes_per_dense': 160, 'dense_dropout_rate': 0.4713715591860225}. Best is trial 17 with value: 0.4451511646281462.\u001b[0m\n",
            "\u001b[32m[I 2021-05-19 23:37:50,652]\u001b[0m Trial 33 finished with value: 0.44580571336932556 and parameters: {'n_conv_layers': 1, 'filters_per_conv': 243, 'filter_len': 5, 'nodes_per_dense': 182, 'dense_dropout_rate': 0.498718871204515}. Best is trial 33 with value: 0.44580571336932556.\u001b[0m\n",
            "\u001b[32m[I 2021-05-19 23:40:05,353]\u001b[0m Trial 34 finished with value: 0.439705929887829 and parameters: {'n_conv_layers': 1, 'filters_per_conv': 248, 'filter_len': 5, 'nodes_per_dense': 180, 'dense_dropout_rate': 0.4204749595415992}. Best is trial 33 with value: 0.44580571336932556.\u001b[0m\n",
            "\u001b[32m[I 2021-05-19 23:42:20,752]\u001b[0m Trial 35 finished with value: 0.44188983175167784 and parameters: {'n_conv_layers': 1, 'filters_per_conv': 240, 'filter_len': 5, 'nodes_per_dense': 205, 'dense_dropout_rate': 0.4995464554259619}. Best is trial 33 with value: 0.44580571336932556.\u001b[0m\n",
            "\u001b[32m[I 2021-05-19 23:44:34,935]\u001b[0m Trial 36 finished with value: 0.42082770018715204 and parameters: {'n_conv_layers': 2, 'filters_per_conv': 228, 'filter_len': 4, 'nodes_per_dense': 144, 'dense_dropout_rate': 0.4534480378672039}. Best is trial 33 with value: 0.44580571336932556.\u001b[0m\n",
            "\u001b[32m[I 2021-05-19 23:46:30,458]\u001b[0m Trial 37 finished with value: 0.43317757949130387 and parameters: {'n_conv_layers': 1, 'filters_per_conv': 245, 'filter_len': 6, 'nodes_per_dense': 223, 'dense_dropout_rate': 0.4752271823741799}. Best is trial 33 with value: 0.44580571336932556.\u001b[0m\n",
            "\u001b[32m[I 2021-05-19 23:48:25,134]\u001b[0m Trial 38 finished with value: 0.407989445981843 and parameters: {'n_conv_layers': 1, 'filters_per_conv': 216, 'filter_len': 4, 'nodes_per_dense': 178, 'dense_dropout_rate': 0.17233234205480516}. Best is trial 33 with value: 0.44580571336932556.\u001b[0m\n",
            "\u001b[32m[I 2021-05-19 23:50:24,670]\u001b[0m Trial 39 finished with value: 0.3978724028227288 and parameters: {'n_conv_layers': 2, 'filters_per_conv': 195, 'filter_len': 5, 'nodes_per_dense': 130, 'dense_dropout_rate': 0.4395469522698706}. Best is trial 33 with value: 0.44580571336932556.\u001b[0m\n",
            "\u001b[32m[I 2021-05-19 23:52:02,874]\u001b[0m Trial 40 finished with value: 0.44053164838359465 and parameters: {'n_conv_layers': 1, 'filters_per_conv': 209, 'filter_len': 7, 'nodes_per_dense': 157, 'dense_dropout_rate': 0.4134049433136513}. Best is trial 33 with value: 0.44580571336932556.\u001b[0m\n",
            "\u001b[32m[I 2021-05-19 23:54:07,157]\u001b[0m Trial 41 finished with value: 0.43476723584697863 and parameters: {'n_conv_layers': 1, 'filters_per_conv': 232, 'filter_len': 5, 'nodes_per_dense': 199, 'dense_dropout_rate': 0.49977529693920253}. Best is trial 33 with value: 0.44580571336932556.\u001b[0m\n",
            "\u001b[32m[I 2021-05-19 23:56:40,677]\u001b[0m Trial 42 finished with value: 0.4388117631438102 and parameters: {'n_conv_layers': 1, 'filters_per_conv': 250, 'filter_len': 4, 'nodes_per_dense': 183, 'dense_dropout_rate': 0.47027851504968377}. Best is trial 33 with value: 0.44580571336932556.\u001b[0m\n",
            "\u001b[32m[I 2021-05-19 23:58:19,979]\u001b[0m Trial 43 finished with value: 0.4348990002038822 and parameters: {'n_conv_layers': 1, 'filters_per_conv': 132, 'filter_len': 6, 'nodes_per_dense': 139, 'dense_dropout_rate': 0.4505888183901496}. Best is trial 33 with value: 0.44580571336932556.\u001b[0m\n",
            "\u001b[32m[I 2021-05-20 00:00:34,001]\u001b[0m Trial 44 finished with value: 0.44313237544318723 and parameters: {'n_conv_layers': 1, 'filters_per_conv': 211, 'filter_len': 5, 'nodes_per_dense': 169, 'dense_dropout_rate': 0.4818727390000915}. Best is trial 33 with value: 0.44580571336932556.\u001b[0m\n",
            "\u001b[32m[I 2021-05-20 00:02:14,156]\u001b[0m Trial 45 finished with value: 0.41902900479087946 and parameters: {'n_conv_layers': 1, 'filters_per_conv': 92, 'filter_len': 5, 'nodes_per_dense': 171, 'dense_dropout_rate': 0.48315210954979165}. Best is trial 33 with value: 0.44580571336932556.\u001b[0m\n",
            "\u001b[32m[I 2021-05-20 00:03:56,245]\u001b[0m Trial 46 finished with value: 0.4314064080348814 and parameters: {'n_conv_layers': 1, 'filters_per_conv': 209, 'filter_len': 6, 'nodes_per_dense': 160, 'dense_dropout_rate': 0.4009681062665988}. Best is trial 33 with value: 0.44580571336932556.\u001b[0m\n",
            "\u001b[32m[I 2021-05-20 00:06:05,641]\u001b[0m Trial 47 finished with value: 0.43876644317644437 and parameters: {'n_conv_layers': 1, 'filters_per_conv': 224, 'filter_len': 5, 'nodes_per_dense': 189, 'dense_dropout_rate': 0.3719563211788709}. Best is trial 33 with value: 0.44580571336932556.\u001b[0m\n",
            "\u001b[32m[I 2021-05-20 00:08:13,937]\u001b[0m Trial 48 finished with value: 0.35379678386753 and parameters: {'n_conv_layers': 1, 'filters_per_conv': 242, 'filter_len': 4, 'nodes_per_dense': 14, 'dense_dropout_rate': 0.4994854724699708}. Best is trial 33 with value: 0.44580571336932556.\u001b[0m\n",
            "\u001b[32m[I 2021-05-20 00:11:01,378]\u001b[0m Trial 49 finished with value: 0.4025546944888654 and parameters: {'n_conv_layers': 1, 'filters_per_conv': 172, 'filter_len': 2, 'nodes_per_dense': 154, 'dense_dropout_rate': 0.43278565729540674}. Best is trial 33 with value: 0.44580571336932556.\u001b[0m\n"
          ],
          "name": "stderr"
        },
        {
          "output_type": "stream",
          "text": [
            "Number of finished trials: 50\n",
            "Training Time: 1:38:30.043907\n",
            "Best trial:\n",
            "  Value: 0.44580571336932556\n",
            "  Params: \n",
            "    n_conv_layers: 1\n",
            "    filters_per_conv: 243\n",
            "    filter_len: 5\n",
            "    nodes_per_dense: 182\n",
            "    dense_dropout_rate: 0.498718871204515\n"
          ],
          "name": "stdout"
        },
        {
          "output_type": "stream",
          "text": [
            "\u001b[32m[I 2021-05-20 00:11:51,339]\u001b[0m A new study created in memory with name: no-name-d550e325-bd5f-474c-9ab4-af8b83b7b373\u001b[0m\n"
          ],
          "name": "stderr"
        },
        {
          "output_type": "stream",
          "text": [
            "Fold: 2\n"
          ],
          "name": "stdout"
        },
        {
          "output_type": "stream",
          "text": [
            "\u001b[32m[I 2021-05-20 00:13:52,870]\u001b[0m Trial 0 finished with value: 0.4519784248788839 and parameters: {'n_conv_layers': 1, 'filters_per_conv': 207, 'filter_len': 5, 'nodes_per_dense': 188, 'dense_dropout_rate': 0.4911958047986411}. Best is trial 0 with value: 0.4519784248788839.\u001b[0m\n",
            "\u001b[32m[I 2021-05-20 00:15:36,233]\u001b[0m Trial 1 finished with value: 0.4107145432566126 and parameters: {'n_conv_layers': 2, 'filters_per_conv': 144, 'filter_len': 2, 'nodes_per_dense': 74, 'dense_dropout_rate': 0.299953000330224}. Best is trial 0 with value: 0.4519784248788839.\u001b[0m\n",
            "\u001b[32m[I 2021-05-20 00:17:07,441]\u001b[0m Trial 2 finished with value: 0.4097976554067543 and parameters: {'n_conv_layers': 2, 'filters_per_conv': 212, 'filter_len': 4, 'nodes_per_dense': 24, 'dense_dropout_rate': 0.21525823972319744}. Best is trial 0 with value: 0.4519784248788839.\u001b[0m\n",
            "\u001b[32m[I 2021-05-20 00:18:09,533]\u001b[0m Trial 3 finished with value: 0.36646195901254874 and parameters: {'n_conv_layers': 2, 'filters_per_conv': 80, 'filter_len': 5, 'nodes_per_dense': 239, 'dense_dropout_rate': 0.10995969102013921}. Best is trial 0 with value: 0.4519784248788839.\u001b[0m\n",
            "\u001b[32m[I 2021-05-20 00:20:24,860]\u001b[0m Trial 4 finished with value: 0.43283000079752726 and parameters: {'n_conv_layers': 2, 'filters_per_conv': 245, 'filter_len': 3, 'nodes_per_dense': 144, 'dense_dropout_rate': 0.4636513499546925}. Best is trial 0 with value: 0.4519784248788839.\u001b[0m\n",
            "\u001b[32m[I 2021-05-20 00:21:37,338]\u001b[0m Trial 5 finished with value: 0.436028031781694 and parameters: {'n_conv_layers': 1, 'filters_per_conv': 149, 'filter_len': 7, 'nodes_per_dense': 174, 'dense_dropout_rate': 0.2871011438979923}. Best is trial 0 with value: 0.4519784248788839.\u001b[0m\n",
            "\u001b[32m[I 2021-05-20 00:22:47,946]\u001b[0m Trial 6 finished with value: 0.4381030146768725 and parameters: {'n_conv_layers': 1, 'filters_per_conv': 142, 'filter_len': 4, 'nodes_per_dense': 126, 'dense_dropout_rate': 0.2463561543122372}. Best is trial 0 with value: 0.4519784248788839.\u001b[0m\n",
            "\u001b[32m[I 2021-05-20 00:24:15,277]\u001b[0m Trial 7 finished with value: 0.40896207177698785 and parameters: {'n_conv_layers': 2, 'filters_per_conv': 204, 'filter_len': 4, 'nodes_per_dense': 150, 'dense_dropout_rate': 0.21041961933227804}. Best is trial 0 with value: 0.4519784248788839.\u001b[0m\n",
            "\u001b[32m[I 2021-05-20 00:25:22,296]\u001b[0m Trial 8 finished with value: 0.43693540985769275 and parameters: {'n_conv_layers': 1, 'filters_per_conv': 111, 'filter_len': 6, 'nodes_per_dense': 100, 'dense_dropout_rate': 0.2836371911565726}. Best is trial 0 with value: 0.4519784248788839.\u001b[0m\n",
            "\u001b[32m[I 2021-05-20 00:26:51,351]\u001b[0m Trial 9 finished with value: 0.3881315387746135 and parameters: {'n_conv_layers': 2, 'filters_per_conv': 124, 'filter_len': 8, 'nodes_per_dense': 52, 'dense_dropout_rate': 0.3964475491653058}. Best is trial 0 with value: 0.4519784248788839.\u001b[0m\n",
            "\u001b[32m[I 2021-05-20 00:28:20,440]\u001b[0m Trial 10 finished with value: 0.4416948199110952 and parameters: {'n_conv_layers': 1, 'filters_per_conv': 204, 'filter_len': 6, 'nodes_per_dense': 235, 'dense_dropout_rate': 0.4565491145264152}. Best is trial 0 with value: 0.4519784248788839.\u001b[0m\n",
            "\u001b[32m[I 2021-05-20 00:29:54,755]\u001b[0m Trial 11 finished with value: 0.4412878432182027 and parameters: {'n_conv_layers': 1, 'filters_per_conv': 196, 'filter_len': 6, 'nodes_per_dense': 246, 'dense_dropout_rate': 0.48781997587377574}. Best is trial 0 with value: 0.4519784248788839.\u001b[0m\n",
            "\u001b[32m[I 2021-05-20 00:31:30,471]\u001b[0m Trial 12 finished with value: 0.4414264786825325 and parameters: {'n_conv_layers': 1, 'filters_per_conv': 244, 'filter_len': 6, 'nodes_per_dense': 203, 'dense_dropout_rate': 0.39698283393990524}. Best is trial 0 with value: 0.4519784248788839.\u001b[0m\n",
            "\u001b[32m[I 2021-05-20 00:32:47,265]\u001b[0m Trial 13 finished with value: 0.4422778943058878 and parameters: {'n_conv_layers': 1, 'filters_per_conv': 179, 'filter_len': 8, 'nodes_per_dense': 207, 'dense_dropout_rate': 0.4162922708264427}. Best is trial 0 with value: 0.4519784248788839.\u001b[0m\n",
            "\u001b[32m[I 2021-05-20 00:35:25,152]\u001b[0m Trial 14 finished with value: 0.4026206427479943 and parameters: {'n_conv_layers': 1, 'filters_per_conv': 171, 'filter_len': 2, 'nodes_per_dense': 196, 'dense_dropout_rate': 0.3846606393016892}. Best is trial 0 with value: 0.4519784248788839.\u001b[0m\n",
            "\u001b[32m[I 2021-05-20 00:36:44,205]\u001b[0m Trial 15 finished with value: 0.4337019282869553 and parameters: {'n_conv_layers': 1, 'filters_per_conv': 182, 'filter_len': 8, 'nodes_per_dense': 204, 'dense_dropout_rate': 0.43021740724415947}. Best is trial 0 with value: 0.4519784248788839.\u001b[0m\n",
            "\u001b[32m[I 2021-05-20 00:38:16,045]\u001b[0m Trial 16 finished with value: 0.4463492011384925 and parameters: {'n_conv_layers': 1, 'filters_per_conv': 228, 'filter_len': 7, 'nodes_per_dense': 178, 'dense_dropout_rate': 0.3524119931484054}. Best is trial 0 with value: 0.4519784248788839.\u001b[0m\n",
            "\u001b[32m[I 2021-05-20 00:40:04,050]\u001b[0m Trial 17 finished with value: 0.44577667628592454 and parameters: {'n_conv_layers': 1, 'filters_per_conv': 255, 'filter_len': 7, 'nodes_per_dense': 174, 'dense_dropout_rate': 0.34763471574872484}. Best is trial 0 with value: 0.4519784248788839.\u001b[0m\n",
            "\u001b[32m[I 2021-05-20 00:41:59,912]\u001b[0m Trial 18 finished with value: 0.4503773185863535 and parameters: {'n_conv_layers': 1, 'filters_per_conv': 229, 'filter_len': 5, 'nodes_per_dense': 110, 'dense_dropout_rate': 0.3513462746092904}. Best is trial 0 with value: 0.4519784248788839.\u001b[0m\n",
            "\u001b[32m[I 2021-05-20 00:43:27,405]\u001b[0m Trial 19 finished with value: 0.4356484857443765 and parameters: {'n_conv_layers': 1, 'filters_per_conv': 230, 'filter_len': 5, 'nodes_per_dense': 107, 'dense_dropout_rate': 0.12499900756573668}. Best is trial 0 with value: 0.4519784248788839.\u001b[0m\n",
            "\u001b[32m[I 2021-05-20 00:45:21,814]\u001b[0m Trial 20 finished with value: 0.4235329061282787 and parameters: {'n_conv_layers': 1, 'filters_per_conv': 44, 'filter_len': 3, 'nodes_per_dense': 92, 'dense_dropout_rate': 0.4991829795665906}. Best is trial 0 with value: 0.4519784248788839.\u001b[0m\n",
            "\u001b[32m[I 2021-05-20 00:46:48,382]\u001b[0m Trial 21 finished with value: 0.4484633291859145 and parameters: {'n_conv_layers': 1, 'filters_per_conv': 221, 'filter_len': 7, 'nodes_per_dense': 162, 'dense_dropout_rate': 0.3382941321024047}. Best is trial 0 with value: 0.4519784248788839.\u001b[0m\n",
            "\u001b[32m[I 2021-05-20 00:48:43,255]\u001b[0m Trial 22 finished with value: 0.45074637967236947 and parameters: {'n_conv_layers': 1, 'filters_per_conv': 225, 'filter_len': 5, 'nodes_per_dense': 134, 'dense_dropout_rate': 0.34801732585220146}. Best is trial 0 with value: 0.4519784248788839.\u001b[0m\n",
            "\u001b[32m[I 2021-05-20 00:51:06,286]\u001b[0m Trial 23 finished with value: 0.4512650904797164 and parameters: {'n_conv_layers': 1, 'filters_per_conv': 253, 'filter_len': 5, 'nodes_per_dense': 121, 'dense_dropout_rate': 0.33638937679547776}. Best is trial 0 with value: 0.4519784248788839.\u001b[0m\n",
            "\u001b[32m[I 2021-05-20 00:52:48,995]\u001b[0m Trial 24 finished with value: 0.4368283998895201 and parameters: {'n_conv_layers': 1, 'filters_per_conv': 253, 'filter_len': 4, 'nodes_per_dense': 123, 'dense_dropout_rate': 0.16842406049816136}. Best is trial 0 with value: 0.4519784248788839.\u001b[0m\n",
            "\u001b[32m[I 2021-05-20 00:54:28,552]\u001b[0m Trial 25 finished with value: 0.44269446834893167 and parameters: {'n_conv_layers': 1, 'filters_per_conv': 241, 'filter_len': 5, 'nodes_per_dense': 78, 'dense_dropout_rate': 0.2552545915138178}. Best is trial 0 with value: 0.4519784248788839.\u001b[0m\n",
            "\u001b[32m[I 2021-05-20 00:56:30,826]\u001b[0m Trial 26 finished with value: 0.4239407000098443 and parameters: {'n_conv_layers': 1, 'filters_per_conv': 193, 'filter_len': 3, 'nodes_per_dense': 138, 'dense_dropout_rate': 0.3219133166202336}. Best is trial 0 with value: 0.4519784248788839.\u001b[0m\n",
            "\u001b[32m[I 2021-05-20 00:58:25,870]\u001b[0m Trial 27 finished with value: 0.45244028904925865 and parameters: {'n_conv_layers': 1, 'filters_per_conv': 160, 'filter_len': 5, 'nodes_per_dense': 45, 'dense_dropout_rate': 0.3723902015017013}. Best is trial 27 with value: 0.45244028904925865.\u001b[0m\n",
            "\u001b[32m[I 2021-05-20 01:01:22,877]\u001b[0m Trial 28 finished with value: 0.39654724713147116 and parameters: {'n_conv_layers': 1, 'filters_per_conv': 152, 'filter_len': 4, 'nodes_per_dense': 20, 'dense_dropout_rate': 0.4399541598658477}. Best is trial 27 with value: 0.45244028904925865.\u001b[0m\n",
            "\u001b[32m[I 2021-05-20 01:02:33,466]\u001b[0m Trial 29 finished with value: 0.4445826816035332 and parameters: {'n_conv_layers': 1, 'filters_per_conv': 97, 'filter_len': 6, 'nodes_per_dense': 76, 'dense_dropout_rate': 0.3128825440808648}. Best is trial 27 with value: 0.45244028904925865.\u001b[0m\n",
            "\u001b[32m[I 2021-05-20 01:04:17,373]\u001b[0m Trial 30 finished with value: 0.4547683429468804 and parameters: {'n_conv_layers': 1, 'filters_per_conv': 165, 'filter_len': 5, 'nodes_per_dense': 42, 'dense_dropout_rate': 0.37915651515726073}. Best is trial 30 with value: 0.4547683429468804.\u001b[0m\n",
            "\u001b[32m[I 2021-05-20 01:06:28,096]\u001b[0m Trial 31 finished with value: 0.4561893382165351 and parameters: {'n_conv_layers': 1, 'filters_per_conv': 167, 'filter_len': 5, 'nodes_per_dense': 41, 'dense_dropout_rate': 0.37129807382902014}. Best is trial 31 with value: 0.4561893382165351.\u001b[0m\n",
            "\u001b[32m[I 2021-05-20 01:08:51,612]\u001b[0m Trial 32 finished with value: 0.43998388996178317 and parameters: {'n_conv_layers': 1, 'filters_per_conv': 164, 'filter_len': 4, 'nodes_per_dense': 47, 'dense_dropout_rate': 0.3880941604062114}. Best is trial 31 with value: 0.4561893382165351.\u001b[0m\n",
            "\u001b[32m[I 2021-05-20 01:10:45,850]\u001b[0m Trial 33 finished with value: 0.4549459974136306 and parameters: {'n_conv_layers': 1, 'filters_per_conv': 134, 'filter_len': 5, 'nodes_per_dense': 42, 'dense_dropout_rate': 0.3755979639806605}. Best is trial 31 with value: 0.4561893382165351.\u001b[0m\n",
            "\u001b[32m[I 2021-05-20 01:12:36,517]\u001b[0m Trial 34 finished with value: 0.4555157314223484 and parameters: {'n_conv_layers': 1, 'filters_per_conv': 122, 'filter_len': 6, 'nodes_per_dense': 39, 'dense_dropout_rate': 0.3774887736614692}. Best is trial 31 with value: 0.4561893382165351.\u001b[0m\n",
            "\u001b[32m[I 2021-05-20 01:14:43,939]\u001b[0m Trial 35 finished with value: 0.38403591520683455 and parameters: {'n_conv_layers': 1, 'filters_per_conv': 119, 'filter_len': 6, 'nodes_per_dense': 8, 'dense_dropout_rate': 0.4155515920108221}. Best is trial 31 with value: 0.4561893382165351.\u001b[0m\n",
            "\u001b[32m[I 2021-05-20 01:16:01,986]\u001b[0m Trial 36 finished with value: 0.36318640870311236 and parameters: {'n_conv_layers': 2, 'filters_per_conv': 138, 'filter_len': 6, 'nodes_per_dense': 62, 'dense_dropout_rate': 0.3739809242486889}. Best is trial 31 with value: 0.4561893382165351.\u001b[0m\n",
            "\u001b[32m[I 2021-05-20 01:18:00,337]\u001b[0m Trial 37 finished with value: 0.44917830098551403 and parameters: {'n_conv_layers': 1, 'filters_per_conv': 74, 'filter_len': 5, 'nodes_per_dense': 32, 'dense_dropout_rate': 0.46600993074284325}. Best is trial 31 with value: 0.4561893382165351.\u001b[0m\n",
            "\u001b[32m[I 2021-05-20 01:20:08,625]\u001b[0m Trial 38 finished with value: 0.4249642910619181 and parameters: {'n_conv_layers': 1, 'filters_per_conv': 133, 'filter_len': 4, 'nodes_per_dense': 9, 'dense_dropout_rate': 0.29391592947316014}. Best is trial 31 with value: 0.4561893382165351.\u001b[0m\n",
            "\u001b[32m[I 2021-05-20 01:21:37,617]\u001b[0m Trial 39 finished with value: 0.40424497445209884 and parameters: {'n_conv_layers': 2, 'filters_per_conv': 102, 'filter_len': 7, 'nodes_per_dense': 31, 'dense_dropout_rate': 0.4128104894257697}. Best is trial 31 with value: 0.4561893382165351.\u001b[0m\n",
            "\u001b[32m[I 2021-05-20 01:22:49,700]\u001b[0m Trial 40 finished with value: 0.43557057659463405 and parameters: {'n_conv_layers': 1, 'filters_per_conv': 76, 'filter_len': 6, 'nodes_per_dense': 66, 'dense_dropout_rate': 0.27183578971898764}. Best is trial 31 with value: 0.4561893382165351.\u001b[0m\n",
            "\u001b[32m[I 2021-05-20 01:24:24,962]\u001b[0m Trial 41 finished with value: 0.4546035059604893 and parameters: {'n_conv_layers': 1, 'filters_per_conv': 153, 'filter_len': 5, 'nodes_per_dense': 47, 'dense_dropout_rate': 0.3693928243874649}. Best is trial 31 with value: 0.4561893382165351.\u001b[0m\n",
            "\u001b[32m[I 2021-05-20 01:26:25,739]\u001b[0m Trial 42 finished with value: 0.44346980754449483 and parameters: {'n_conv_layers': 1, 'filters_per_conv': 153, 'filter_len': 4, 'nodes_per_dense': 38, 'dense_dropout_rate': 0.3678483717959658}. Best is trial 31 with value: 0.4561893382165351.\u001b[0m\n",
            "\u001b[32m[I 2021-05-20 01:28:37,415]\u001b[0m Trial 43 finished with value: 0.44276817560757376 and parameters: {'n_conv_layers': 1, 'filters_per_conv': 125, 'filter_len': 5, 'nodes_per_dense': 19, 'dense_dropout_rate': 0.3104265748371795}. Best is trial 31 with value: 0.4561893382165351.\u001b[0m\n",
            "\u001b[32m[I 2021-05-20 01:30:35,473]\u001b[0m Trial 44 finished with value: 0.4494393828274193 and parameters: {'n_conv_layers': 1, 'filters_per_conv': 145, 'filter_len': 5, 'nodes_per_dense': 57, 'dense_dropout_rate': 0.40493234073734397}. Best is trial 31 with value: 0.4561893382165351.\u001b[0m\n",
            "\u001b[32m[I 2021-05-20 01:32:19,661]\u001b[0m Trial 45 finished with value: 0.445213950734323 and parameters: {'n_conv_layers': 1, 'filters_per_conv': 172, 'filter_len': 6, 'nodes_per_dense': 90, 'dense_dropout_rate': 0.440008450472975}. Best is trial 31 with value: 0.4561893382165351.\u001b[0m\n",
            "\u001b[32m[I 2021-05-20 01:34:25,146]\u001b[0m Trial 46 finished with value: 0.4435911902546518 and parameters: {'n_conv_layers': 1, 'filters_per_conv': 132, 'filter_len': 5, 'nodes_per_dense': 21, 'dense_dropout_rate': 0.3644789697388537}. Best is trial 31 with value: 0.4561893382165351.\u001b[0m\n",
            "\u001b[32m[I 2021-05-20 01:36:41,009]\u001b[0m Trial 47 finished with value: 0.4445185716517111 and parameters: {'n_conv_layers': 1, 'filters_per_conv': 109, 'filter_len': 4, 'nodes_per_dense': 36, 'dense_dropout_rate': 0.324366207474385}. Best is trial 31 with value: 0.4561893382165351.\u001b[0m\n",
            "\u001b[32m[I 2021-05-20 01:38:19,828]\u001b[0m Trial 48 finished with value: 0.45025286842317264 and parameters: {'n_conv_layers': 1, 'filters_per_conv': 188, 'filter_len': 6, 'nodes_per_dense': 70, 'dense_dropout_rate': 0.38604415278045784}. Best is trial 31 with value: 0.4561893382165351.\u001b[0m\n",
            "\u001b[32m[I 2021-05-20 01:40:08,898]\u001b[0m Trial 49 finished with value: 0.43798858473794156 and parameters: {'n_conv_layers': 1, 'filters_per_conv': 163, 'filter_len': 3, 'nodes_per_dense': 55, 'dense_dropout_rate': 0.4278179537846676}. Best is trial 31 with value: 0.4561893382165351.\u001b[0m\n"
          ],
          "name": "stderr"
        },
        {
          "output_type": "stream",
          "text": [
            "Number of finished trials: 50\n",
            "Training Time: 1:28:17.558365\n",
            "Best trial:\n",
            "  Value: 0.4561893382165351\n",
            "  Params: \n",
            "    n_conv_layers: 1\n",
            "    filters_per_conv: 167\n",
            "    filter_len: 5\n",
            "    nodes_per_dense: 41\n",
            "    dense_dropout_rate: 0.37129807382902014\n"
          ],
          "name": "stdout"
        },
        {
          "output_type": "stream",
          "text": [
            "\u001b[32m[I 2021-05-20 01:40:57,550]\u001b[0m A new study created in memory with name: no-name-c0ac47e9-1765-4ff8-8df0-1cb6d0a9f66e\u001b[0m\n"
          ],
          "name": "stderr"
        },
        {
          "output_type": "stream",
          "text": [
            "Fold: 3\n"
          ],
          "name": "stdout"
        },
        {
          "output_type": "stream",
          "text": [
            "\u001b[32m[I 2021-05-20 01:43:06,531]\u001b[0m Trial 0 finished with value: 0.4405883329958827 and parameters: {'n_conv_layers': 1, 'filters_per_conv': 207, 'filter_len': 5, 'nodes_per_dense': 188, 'dense_dropout_rate': 0.4911958047986411}. Best is trial 0 with value: 0.4405883329958827.\u001b[0m\n",
            "\u001b[32m[I 2021-05-20 01:45:07,080]\u001b[0m Trial 1 finished with value: 0.39666601205452234 and parameters: {'n_conv_layers': 2, 'filters_per_conv': 144, 'filter_len': 2, 'nodes_per_dense': 74, 'dense_dropout_rate': 0.299953000330224}. Best is trial 0 with value: 0.4405883329958827.\u001b[0m\n",
            "\u001b[32m[I 2021-05-20 01:46:54,455]\u001b[0m Trial 2 finished with value: 0.40176957465328017 and parameters: {'n_conv_layers': 2, 'filters_per_conv': 212, 'filter_len': 4, 'nodes_per_dense': 24, 'dense_dropout_rate': 0.21525823972319744}. Best is trial 0 with value: 0.4405883329958827.\u001b[0m\n",
            "\u001b[32m[I 2021-05-20 01:48:04,926]\u001b[0m Trial 3 finished with value: 0.3505169712606507 and parameters: {'n_conv_layers': 2, 'filters_per_conv': 80, 'filter_len': 5, 'nodes_per_dense': 239, 'dense_dropout_rate': 0.10995969102013921}. Best is trial 0 with value: 0.4405883329958827.\u001b[0m\n",
            "\u001b[32m[I 2021-05-20 01:50:37,069]\u001b[0m Trial 4 finished with value: 0.4222458369164516 and parameters: {'n_conv_layers': 2, 'filters_per_conv': 245, 'filter_len': 3, 'nodes_per_dense': 144, 'dense_dropout_rate': 0.4636513499546925}. Best is trial 0 with value: 0.4405883329958827.\u001b[0m\n",
            "\u001b[32m[I 2021-05-20 01:52:01,783]\u001b[0m Trial 5 finished with value: 0.4224214792069187 and parameters: {'n_conv_layers': 1, 'filters_per_conv': 149, 'filter_len': 7, 'nodes_per_dense': 174, 'dense_dropout_rate': 0.2871011438979923}. Best is trial 0 with value: 0.4405883329958827.\u001b[0m\n",
            "\u001b[32m[I 2021-05-20 01:53:31,104]\u001b[0m Trial 6 finished with value: 0.41977697380623924 and parameters: {'n_conv_layers': 1, 'filters_per_conv': 142, 'filter_len': 4, 'nodes_per_dense': 126, 'dense_dropout_rate': 0.2463561543122372}. Best is trial 0 with value: 0.4405883329958827.\u001b[0m\n",
            "\u001b[32m[I 2021-05-20 01:55:21,633]\u001b[0m Trial 7 finished with value: 0.4106643611996622 and parameters: {'n_conv_layers': 2, 'filters_per_conv': 204, 'filter_len': 4, 'nodes_per_dense': 150, 'dense_dropout_rate': 0.21041961933227804}. Best is trial 0 with value: 0.4405883329958827.\u001b[0m\n",
            "\u001b[32m[I 2021-05-20 01:56:38,259]\u001b[0m Trial 8 finished with value: 0.4280279214470192 and parameters: {'n_conv_layers': 1, 'filters_per_conv': 111, 'filter_len': 6, 'nodes_per_dense': 100, 'dense_dropout_rate': 0.2836371911565726}. Best is trial 0 with value: 0.4405883329958827.\u001b[0m\n",
            "\u001b[32m[I 2021-05-20 01:58:29,414]\u001b[0m Trial 9 finished with value: 0.3870221317876027 and parameters: {'n_conv_layers': 2, 'filters_per_conv': 124, 'filter_len': 8, 'nodes_per_dense': 52, 'dense_dropout_rate': 0.3964475491653058}. Best is trial 0 with value: 0.4405883329958827.\u001b[0m\n",
            "\u001b[32m[I 2021-05-20 02:00:14,210]\u001b[0m Trial 10 finished with value: 0.4376132086136783 and parameters: {'n_conv_layers': 1, 'filters_per_conv': 204, 'filter_len': 6, 'nodes_per_dense': 235, 'dense_dropout_rate': 0.4565491145264152}. Best is trial 0 with value: 0.4405883329958827.\u001b[0m\n",
            "\u001b[32m[I 2021-05-20 02:02:02,121]\u001b[0m Trial 11 finished with value: 0.43452471939047965 and parameters: {'n_conv_layers': 1, 'filters_per_conv': 196, 'filter_len': 6, 'nodes_per_dense': 246, 'dense_dropout_rate': 0.48781997587377574}. Best is trial 0 with value: 0.4405883329958827.\u001b[0m\n",
            "\u001b[32m[I 2021-05-20 02:04:01,073]\u001b[0m Trial 12 finished with value: 0.4403718697503642 and parameters: {'n_conv_layers': 1, 'filters_per_conv': 244, 'filter_len': 6, 'nodes_per_dense': 203, 'dense_dropout_rate': 0.39698283393990524}. Best is trial 0 with value: 0.4405883329958827.\u001b[0m\n",
            "\u001b[32m[I 2021-05-20 02:05:38,808]\u001b[0m Trial 13 finished with value: 0.4403702455405322 and parameters: {'n_conv_layers': 1, 'filters_per_conv': 256, 'filter_len': 8, 'nodes_per_dense': 195, 'dense_dropout_rate': 0.38422288181891334}. Best is trial 0 with value: 0.4405883329958827.\u001b[0m\n",
            "\u001b[32m[I 2021-05-20 02:07:54,223]\u001b[0m Trial 14 finished with value: 0.4430507724310506 and parameters: {'n_conv_layers': 1, 'filters_per_conv': 234, 'filter_len': 5, 'nodes_per_dense': 199, 'dense_dropout_rate': 0.38065007696142206}. Best is trial 14 with value: 0.4430507724310506.\u001b[0m\n",
            "\u001b[32m[I 2021-05-20 02:09:31,291]\u001b[0m Trial 15 finished with value: 0.4424783793265473 and parameters: {'n_conv_layers': 1, 'filters_per_conv': 174, 'filter_len': 5, 'nodes_per_dense': 202, 'dense_dropout_rate': 0.35733800301944874}. Best is trial 14 with value: 0.4430507724310506.\u001b[0m\n",
            "\u001b[32m[I 2021-05-20 02:11:41,376]\u001b[0m Trial 16 finished with value: 0.4297346453443714 and parameters: {'n_conv_layers': 1, 'filters_per_conv': 178, 'filter_len': 3, 'nodes_per_dense': 219, 'dense_dropout_rate': 0.3605988849779118}. Best is trial 14 with value: 0.4430507724310506.\u001b[0m\n",
            "\u001b[32m[I 2021-05-20 02:13:33,123]\u001b[0m Trial 17 finished with value: 0.4396943779308439 and parameters: {'n_conv_layers': 1, 'filters_per_conv': 172, 'filter_len': 5, 'nodes_per_dense': 166, 'dense_dropout_rate': 0.36085278197404297}. Best is trial 14 with value: 0.4430507724310506.\u001b[0m\n",
            "\u001b[32m[I 2021-05-20 02:15:16,046]\u001b[0m Trial 18 finished with value: 0.4308942779639211 and parameters: {'n_conv_layers': 1, 'filters_per_conv': 232, 'filter_len': 7, 'nodes_per_dense': 212, 'dense_dropout_rate': 0.344725682838702}. Best is trial 14 with value: 0.4430507724310506.\u001b[0m\n",
            "\u001b[32m[I 2021-05-20 02:17:15,175]\u001b[0m Trial 19 finished with value: 0.43271451489107227 and parameters: {'n_conv_layers': 1, 'filters_per_conv': 63, 'filter_len': 3, 'nodes_per_dense': 110, 'dense_dropout_rate': 0.43402728641098853}. Best is trial 14 with value: 0.4430507724310506.\u001b[0m\n",
            "\u001b[32m[I 2021-05-20 02:18:35,493]\u001b[0m Trial 20 finished with value: 0.43649854975079105 and parameters: {'n_conv_layers': 1, 'filters_per_conv': 172, 'filter_len': 7, 'nodes_per_dense': 251, 'dense_dropout_rate': 0.3284271394229761}. Best is trial 14 with value: 0.4430507724310506.\u001b[0m\n",
            "\u001b[32m[I 2021-05-20 02:20:47,901]\u001b[0m Trial 21 finished with value: 0.44054634177677954 and parameters: {'n_conv_layers': 1, 'filters_per_conv': 224, 'filter_len': 5, 'nodes_per_dense': 183, 'dense_dropout_rate': 0.4961200004305255}. Best is trial 14 with value: 0.4430507724310506.\u001b[0m\n",
            "\u001b[32m[I 2021-05-20 02:22:33,316]\u001b[0m Trial 22 finished with value: 0.4423680139580114 and parameters: {'n_conv_layers': 1, 'filters_per_conv': 188, 'filter_len': 4, 'nodes_per_dense': 166, 'dense_dropout_rate': 0.4258343686708819}. Best is trial 14 with value: 0.4430507724310506.\u001b[0m\n",
            "\u001b[32m[I 2021-05-20 02:24:29,722]\u001b[0m Trial 23 finished with value: 0.42367089648738193 and parameters: {'n_conv_layers': 1, 'filters_per_conv': 189, 'filter_len': 4, 'nodes_per_dense': 166, 'dense_dropout_rate': 0.4283328738501773}. Best is trial 14 with value: 0.4430507724310506.\u001b[0m\n",
            "\u001b[32m[I 2021-05-20 02:26:18,655]\u001b[0m Trial 24 finished with value: 0.43871645985738716 and parameters: {'n_conv_layers': 1, 'filters_per_conv': 161, 'filter_len': 4, 'nodes_per_dense': 223, 'dense_dropout_rate': 0.418146987502862}. Best is trial 14 with value: 0.4430507724310506.\u001b[0m\n",
            "\u001b[32m[I 2021-05-20 02:29:38,584]\u001b[0m Trial 25 finished with value: 0.4165702071968796 and parameters: {'n_conv_layers': 1, 'filters_per_conv': 219, 'filter_len': 2, 'nodes_per_dense': 147, 'dense_dropout_rate': 0.33363469993569267}. Best is trial 14 with value: 0.4430507724310506.\u001b[0m\n",
            "\u001b[32m[I 2021-05-20 02:31:12,592]\u001b[0m Trial 26 finished with value: 0.4391424370681629 and parameters: {'n_conv_layers': 1, 'filters_per_conv': 123, 'filter_len': 5, 'nodes_per_dense': 199, 'dense_dropout_rate': 0.37989189074018964}. Best is trial 14 with value: 0.4430507724310506.\u001b[0m\n",
            "\u001b[32m[I 2021-05-20 02:33:31,155]\u001b[0m Trial 27 finished with value: 0.4383720799872538 and parameters: {'n_conv_layers': 1, 'filters_per_conv': 186, 'filter_len': 3, 'nodes_per_dense': 128, 'dense_dropout_rate': 0.318898374446792}. Best is trial 14 with value: 0.4430507724310506.\u001b[0m\n",
            "\u001b[32m[I 2021-05-20 02:35:47,306]\u001b[0m Trial 28 finished with value: 0.432220750269744 and parameters: {'n_conv_layers': 1, 'filters_per_conv': 256, 'filter_len': 4, 'nodes_per_dense': 174, 'dense_dropout_rate': 0.45014691802415097}. Best is trial 14 with value: 0.4430507724310506.\u001b[0m\n",
            "\u001b[32m[I 2021-05-20 02:38:13,521]\u001b[0m Trial 29 finished with value: 0.43740501748641947 and parameters: {'n_conv_layers': 1, 'filters_per_conv': 236, 'filter_len': 5, 'nodes_per_dense': 190, 'dense_dropout_rate': 0.4105351081991387}. Best is trial 14 with value: 0.4430507724310506.\u001b[0m\n",
            "\u001b[32m[I 2021-05-20 02:39:36,973]\u001b[0m Trial 30 finished with value: 0.41925022970914705 and parameters: {'n_conv_layers': 1, 'filters_per_conv': 166, 'filter_len': 6, 'nodes_per_dense': 157, 'dense_dropout_rate': 0.2565914724935015}. Best is trial 14 with value: 0.4430507724310506.\u001b[0m\n",
            "\u001b[32m[I 2021-05-20 02:41:54,142]\u001b[0m Trial 31 finished with value: 0.4437220488936746 and parameters: {'n_conv_layers': 1, 'filters_per_conv': 217, 'filter_len': 5, 'nodes_per_dense': 185, 'dense_dropout_rate': 0.4756532977470094}. Best is trial 31 with value: 0.4437220488936746.\u001b[0m\n",
            "\u001b[32m[I 2021-05-20 02:43:59,793]\u001b[0m Trial 32 finished with value: 0.43753191943470054 and parameters: {'n_conv_layers': 1, 'filters_per_conv': 217, 'filter_len': 5, 'nodes_per_dense': 223, 'dense_dropout_rate': 0.478468561321787}. Best is trial 31 with value: 0.4437220488936746.\u001b[0m\n",
            "\u001b[32m[I 2021-05-20 02:45:46,832]\u001b[0m Trial 33 finished with value: 0.4451845224564502 and parameters: {'n_conv_layers': 1, 'filters_per_conv': 188, 'filter_len': 5, 'nodes_per_dense': 182, 'dense_dropout_rate': 0.36311889492401184}. Best is trial 33 with value: 0.4451845224564502.\u001b[0m\n",
            "\u001b[32m[I 2021-05-20 02:47:43,149]\u001b[0m Trial 34 finished with value: 0.437932657243825 and parameters: {'n_conv_layers': 1, 'filters_per_conv': 205, 'filter_len': 5, 'nodes_per_dense': 209, 'dense_dropout_rate': 0.36893011600360803}. Best is trial 33 with value: 0.4451845224564502.\u001b[0m\n",
            "\u001b[32m[I 2021-05-20 02:49:09,672]\u001b[0m Trial 35 finished with value: 0.4339980663453358 and parameters: {'n_conv_layers': 1, 'filters_per_conv': 154, 'filter_len': 6, 'nodes_per_dense': 187, 'dense_dropout_rate': 0.3222587642386663}. Best is trial 33 with value: 0.4451845224564502.\u001b[0m\n",
            "\u001b[32m[I 2021-05-20 02:50:58,607]\u001b[0m Trial 36 finished with value: 0.3959768503773967 and parameters: {'n_conv_layers': 2, 'filters_per_conv': 226, 'filter_len': 5, 'nodes_per_dense': 232, 'dense_dropout_rate': 0.3058294192849878}. Best is trial 33 with value: 0.4451845224564502.\u001b[0m\n",
            "\u001b[32m[I 2021-05-20 02:52:32,739]\u001b[0m Trial 37 finished with value: 0.41669587498984456 and parameters: {'n_conv_layers': 1, 'filters_per_conv': 245, 'filter_len': 6, 'nodes_per_dense': 184, 'dense_dropout_rate': 0.12955367104675794}. Best is trial 33 with value: 0.4451845224564502.\u001b[0m\n",
            "\u001b[32m[I 2021-05-20 02:54:21,081]\u001b[0m Trial 38 finished with value: 0.44732211276137923 and parameters: {'n_conv_layers': 1, 'filters_per_conv': 213, 'filter_len': 5, 'nodes_per_dense': 136, 'dense_dropout_rate': 0.3444150199020295}. Best is trial 38 with value: 0.44732211276137923.\u001b[0m\n",
            "\u001b[32m[I 2021-05-20 02:56:18,434]\u001b[0m Trial 39 finished with value: 0.4179561895978495 and parameters: {'n_conv_layers': 2, 'filters_per_conv': 209, 'filter_len': 4, 'nodes_per_dense': 91, 'dense_dropout_rate': 0.30290499630073714}. Best is trial 38 with value: 0.44732211276137923.\u001b[0m\n",
            "\u001b[32m[I 2021-05-20 02:58:41,098]\u001b[0m Trial 40 finished with value: 0.43041663224736054 and parameters: {'n_conv_layers': 1, 'filters_per_conv': 236, 'filter_len': 4, 'nodes_per_dense': 135, 'dense_dropout_rate': 0.25238530600245496}. Best is trial 38 with value: 0.44732211276137923.\u001b[0m\n",
            "\u001b[32m[I 2021-05-20 03:00:20,279]\u001b[0m Trial 41 finished with value: 0.4328000929995145 and parameters: {'n_conv_layers': 1, 'filters_per_conv': 193, 'filter_len': 5, 'nodes_per_dense': 205, 'dense_dropout_rate': 0.35272913038164594}. Best is trial 38 with value: 0.44732211276137923.\u001b[0m\n",
            "\u001b[32m[I 2021-05-20 03:02:13,172]\u001b[0m Trial 42 finished with value: 0.43419689019889435 and parameters: {'n_conv_layers': 1, 'filters_per_conv': 213, 'filter_len': 5, 'nodes_per_dense': 177, 'dense_dropout_rate': 0.27649161199874955}. Best is trial 38 with value: 0.44732211276137923.\u001b[0m\n",
            "\u001b[32m[I 2021-05-20 03:03:48,309]\u001b[0m Trial 43 finished with value: 0.439564897904224 and parameters: {'n_conv_layers': 1, 'filters_per_conv': 140, 'filter_len': 6, 'nodes_per_dense': 117, 'dense_dropout_rate': 0.3819691695990394}. Best is trial 38 with value: 0.44732211276137923.\u001b[0m\n",
            "\u001b[32m[I 2021-05-20 03:06:14,642]\u001b[0m Trial 44 finished with value: 0.44362296959745146 and parameters: {'n_conv_layers': 1, 'filters_per_conv': 197, 'filter_len': 5, 'nodes_per_dense': 53, 'dense_dropout_rate': 0.40258514275315693}. Best is trial 38 with value: 0.44732211276137923.\u001b[0m\n",
            "\u001b[32m[I 2021-05-20 03:08:19,201]\u001b[0m Trial 45 finished with value: 0.44171568604871714 and parameters: {'n_conv_layers': 1, 'filters_per_conv': 205, 'filter_len': 6, 'nodes_per_dense': 38, 'dense_dropout_rate': 0.39971347999840895}. Best is trial 38 with value: 0.44732211276137923.\u001b[0m\n",
            "\u001b[32m[I 2021-05-20 03:10:35,463]\u001b[0m Trial 46 finished with value: 0.3177729066604824 and parameters: {'n_conv_layers': 1, 'filters_per_conv': 247, 'filter_len': 4, 'nodes_per_dense': 14, 'dense_dropout_rate': 0.46419617044518896}. Best is trial 38 with value: 0.44732211276137923.\u001b[0m\n",
            "\u001b[32m[I 2021-05-20 03:12:29,869]\u001b[0m Trial 47 finished with value: 0.4450845168216414 and parameters: {'n_conv_layers': 1, 'filters_per_conv': 197, 'filter_len': 6, 'nodes_per_dense': 80, 'dense_dropout_rate': 0.44221464328974475}. Best is trial 38 with value: 0.44732211276137923.\u001b[0m\n",
            "\u001b[32m[I 2021-05-20 03:14:22,390]\u001b[0m Trial 48 finished with value: 0.4421171377838261 and parameters: {'n_conv_layers': 1, 'filters_per_conv': 199, 'filter_len': 7, 'nodes_per_dense': 68, 'dense_dropout_rate': 0.4422177901914066}. Best is trial 38 with value: 0.44732211276137923.\u001b[0m\n",
            "\u001b[32m[I 2021-05-20 03:16:31,924]\u001b[0m Trial 49 finished with value: 0.4418525792270903 and parameters: {'n_conv_layers': 1, 'filters_per_conv': 182, 'filter_len': 6, 'nodes_per_dense': 78, 'dense_dropout_rate': 0.47276743338515026}. Best is trial 38 with value: 0.44732211276137923.\u001b[0m\n"
          ],
          "name": "stderr"
        },
        {
          "output_type": "stream",
          "text": [
            "Number of finished trials: 50\n",
            "Training Time: 1:35:34.373888\n",
            "Best trial:\n",
            "  Value: 0.44732211276137923\n",
            "  Params: \n",
            "    n_conv_layers: 1\n",
            "    filters_per_conv: 213\n",
            "    filter_len: 5\n",
            "    nodes_per_dense: 136\n",
            "    dense_dropout_rate: 0.3444150199020295\n"
          ],
          "name": "stdout"
        },
        {
          "output_type": "stream",
          "text": [
            "\u001b[32m[I 2021-05-20 03:17:17,878]\u001b[0m A new study created in memory with name: no-name-3cf8662f-542f-4103-90da-d4da0b797c5c\u001b[0m\n"
          ],
          "name": "stderr"
        },
        {
          "output_type": "stream",
          "text": [
            "Fold: 4\n"
          ],
          "name": "stdout"
        },
        {
          "output_type": "stream",
          "text": [
            "\u001b[32m[I 2021-05-20 03:19:51,574]\u001b[0m Trial 0 finished with value: 0.43343900927258766 and parameters: {'n_conv_layers': 1, 'filters_per_conv': 207, 'filter_len': 5, 'nodes_per_dense': 188, 'dense_dropout_rate': 0.4911958047986411}. Best is trial 0 with value: 0.43343900927258766.\u001b[0m\n",
            "\u001b[32m[I 2021-05-20 03:22:01,874]\u001b[0m Trial 1 finished with value: 0.40440051366741486 and parameters: {'n_conv_layers': 2, 'filters_per_conv': 144, 'filter_len': 2, 'nodes_per_dense': 74, 'dense_dropout_rate': 0.299953000330224}. Best is trial 0 with value: 0.43343900927258766.\u001b[0m\n",
            "\u001b[32m[I 2021-05-20 03:23:40,368]\u001b[0m Trial 2 finished with value: 0.40272869001400907 and parameters: {'n_conv_layers': 2, 'filters_per_conv': 212, 'filter_len': 4, 'nodes_per_dense': 24, 'dense_dropout_rate': 0.21525823972319744}. Best is trial 0 with value: 0.43343900927258766.\u001b[0m\n",
            "\u001b[32m[I 2021-05-20 03:24:55,007]\u001b[0m Trial 3 finished with value: 0.3667933313269261 and parameters: {'n_conv_layers': 2, 'filters_per_conv': 80, 'filter_len': 5, 'nodes_per_dense': 239, 'dense_dropout_rate': 0.10995969102013921}. Best is trial 0 with value: 0.43343900927258766.\u001b[0m\n",
            "\u001b[32m[I 2021-05-20 03:27:25,474]\u001b[0m Trial 4 finished with value: 0.4189857480951134 and parameters: {'n_conv_layers': 2, 'filters_per_conv': 245, 'filter_len': 3, 'nodes_per_dense': 144, 'dense_dropout_rate': 0.4636513499546925}. Best is trial 0 with value: 0.43343900927258766.\u001b[0m\n",
            "\u001b[32m[I 2021-05-20 03:28:51,573]\u001b[0m Trial 5 finished with value: 0.42401183524443836 and parameters: {'n_conv_layers': 1, 'filters_per_conv': 149, 'filter_len': 7, 'nodes_per_dense': 174, 'dense_dropout_rate': 0.2871011438979923}. Best is trial 0 with value: 0.43343900927258766.\u001b[0m\n",
            "\u001b[32m[I 2021-05-20 03:30:12,713]\u001b[0m Trial 6 finished with value: 0.4246666594406904 and parameters: {'n_conv_layers': 1, 'filters_per_conv': 142, 'filter_len': 4, 'nodes_per_dense': 126, 'dense_dropout_rate': 0.2463561543122372}. Best is trial 0 with value: 0.43343900927258766.\u001b[0m\n",
            "\u001b[32m[I 2021-05-20 03:31:56,822]\u001b[0m Trial 7 finished with value: 0.4086991434730248 and parameters: {'n_conv_layers': 2, 'filters_per_conv': 204, 'filter_len': 4, 'nodes_per_dense': 150, 'dense_dropout_rate': 0.21041961933227804}. Best is trial 0 with value: 0.43343900927258766.\u001b[0m\n",
            "\u001b[32m[I 2021-05-20 03:33:18,077]\u001b[0m Trial 8 finished with value: 0.42269075825487246 and parameters: {'n_conv_layers': 1, 'filters_per_conv': 111, 'filter_len': 6, 'nodes_per_dense': 100, 'dense_dropout_rate': 0.2836371911565726}. Best is trial 0 with value: 0.43343900927258766.\u001b[0m\n",
            "\u001b[32m[I 2021-05-20 03:34:58,810]\u001b[0m Trial 9 finished with value: 0.3660724227559088 and parameters: {'n_conv_layers': 2, 'filters_per_conv': 124, 'filter_len': 8, 'nodes_per_dense': 52, 'dense_dropout_rate': 0.3964475491653058}. Best is trial 0 with value: 0.43343900927258766.\u001b[0m\n",
            "\u001b[32m[I 2021-05-20 03:36:51,516]\u001b[0m Trial 10 finished with value: 0.43995619835602284 and parameters: {'n_conv_layers': 1, 'filters_per_conv': 204, 'filter_len': 6, 'nodes_per_dense': 235, 'dense_dropout_rate': 0.4565491145264152}. Best is trial 10 with value: 0.43995619835602284.\u001b[0m\n",
            "\u001b[32m[I 2021-05-20 03:38:37,522]\u001b[0m Trial 11 finished with value: 0.4326665540760052 and parameters: {'n_conv_layers': 1, 'filters_per_conv': 196, 'filter_len': 6, 'nodes_per_dense': 246, 'dense_dropout_rate': 0.48781997587377574}. Best is trial 10 with value: 0.43995619835602284.\u001b[0m\n",
            "\u001b[32m[I 2021-05-20 03:40:40,181]\u001b[0m Trial 12 finished with value: 0.4295747087264469 and parameters: {'n_conv_layers': 1, 'filters_per_conv': 244, 'filter_len': 6, 'nodes_per_dense': 203, 'dense_dropout_rate': 0.39698283393990524}. Best is trial 10 with value: 0.43995619835602284.\u001b[0m\n",
            "\u001b[32m[I 2021-05-20 03:42:19,324]\u001b[0m Trial 13 finished with value: 0.42548606326399324 and parameters: {'n_conv_layers': 1, 'filters_per_conv': 179, 'filter_len': 8, 'nodes_per_dense': 207, 'dense_dropout_rate': 0.4162922708264427}. Best is trial 10 with value: 0.43995619835602284.\u001b[0m\n",
            "\u001b[32m[I 2021-05-20 03:44:41,235]\u001b[0m Trial 14 finished with value: 0.43618171952668633 and parameters: {'n_conv_layers': 1, 'filters_per_conv': 256, 'filter_len': 5, 'nodes_per_dense': 199, 'dense_dropout_rate': 0.4868940539545979}. Best is trial 10 with value: 0.43995619835602284.\u001b[0m\n",
            "\u001b[32m[I 2021-05-20 03:46:38,479]\u001b[0m Trial 15 finished with value: 0.44183686726538235 and parameters: {'n_conv_layers': 1, 'filters_per_conv': 254, 'filter_len': 7, 'nodes_per_dense': 226, 'dense_dropout_rate': 0.44068369774892036}. Best is trial 15 with value: 0.44183686726538235.\u001b[0m\n",
            "\u001b[32m[I 2021-05-20 03:48:32,955]\u001b[0m Trial 16 finished with value: 0.437821195368916 and parameters: {'n_conv_layers': 1, 'filters_per_conv': 236, 'filter_len': 7, 'nodes_per_dense': 256, 'dense_dropout_rate': 0.43313838548986083}. Best is trial 15 with value: 0.44183686726538235.\u001b[0m\n",
            "\u001b[32m[I 2021-05-20 03:50:01,522]\u001b[0m Trial 17 finished with value: 0.4225580742842638 and parameters: {'n_conv_layers': 1, 'filters_per_conv': 173, 'filter_len': 7, 'nodes_per_dense': 229, 'dense_dropout_rate': 0.3591533023227791}. Best is trial 15 with value: 0.44183686726538235.\u001b[0m\n",
            "\u001b[32m[I 2021-05-20 03:51:33,749]\u001b[0m Trial 18 finished with value: 0.4283142925571074 and parameters: {'n_conv_layers': 1, 'filters_per_conv': 228, 'filter_len': 8, 'nodes_per_dense': 224, 'dense_dropout_rate': 0.34771067871888384}. Best is trial 15 with value: 0.44183686726538235.\u001b[0m\n",
            "\u001b[32m[I 2021-05-20 03:53:13,614]\u001b[0m Trial 19 finished with value: 0.4325383213618291 and parameters: {'n_conv_layers': 1, 'filters_per_conv': 177, 'filter_len': 7, 'nodes_per_dense': 168, 'dense_dropout_rate': 0.34822250909441643}. Best is trial 15 with value: 0.44183686726538235.\u001b[0m\n",
            "\u001b[32m[I 2021-05-20 03:54:52,833]\u001b[0m Trial 20 finished with value: 0.3847013932684954 and parameters: {'n_conv_layers': 1, 'filters_per_conv': 46, 'filter_len': 6, 'nodes_per_dense': 251, 'dense_dropout_rate': 0.43496376506449397}. Best is trial 15 with value: 0.44183686726538235.\u001b[0m\n",
            "\u001b[32m[I 2021-05-20 03:56:42,845]\u001b[0m Trial 21 finished with value: 0.4371041611125669 and parameters: {'n_conv_layers': 1, 'filters_per_conv': 231, 'filter_len': 7, 'nodes_per_dense': 255, 'dense_dropout_rate': 0.44194359730724486}. Best is trial 15 with value: 0.44183686726538235.\u001b[0m\n",
            "\u001b[32m[I 2021-05-20 03:58:39,298]\u001b[0m Trial 22 finished with value: 0.4279120951670873 and parameters: {'n_conv_layers': 1, 'filters_per_conv': 225, 'filter_len': 7, 'nodes_per_dense': 256, 'dense_dropout_rate': 0.45963223385578666}. Best is trial 15 with value: 0.44183686726538235.\u001b[0m\n",
            "\u001b[32m[I 2021-05-20 04:00:46,364]\u001b[0m Trial 23 finished with value: 0.4315584215660969 and parameters: {'n_conv_layers': 1, 'filters_per_conv': 254, 'filter_len': 6, 'nodes_per_dense': 216, 'dense_dropout_rate': 0.37853125417669164}. Best is trial 15 with value: 0.44183686726538235.\u001b[0m\n",
            "\u001b[32m[I 2021-05-20 04:02:39,026]\u001b[0m Trial 24 finished with value: 0.42666893956240715 and parameters: {'n_conv_layers': 1, 'filters_per_conv': 253, 'filter_len': 8, 'nodes_per_dense': 228, 'dense_dropout_rate': 0.49781342011260304}. Best is trial 15 with value: 0.44183686726538235.\u001b[0m\n",
            "\u001b[32m[I 2021-05-20 04:04:24,011]\u001b[0m Trial 25 finished with value: 0.4363785652747444 and parameters: {'n_conv_layers': 1, 'filters_per_conv': 227, 'filter_len': 7, 'nodes_per_dense': 256, 'dense_dropout_rate': 0.4230723730346628}. Best is trial 15 with value: 0.44183686726538235.\u001b[0m\n",
            "\u001b[32m[I 2021-05-20 04:06:25,658]\u001b[0m Trial 26 finished with value: 0.42732533782916027 and parameters: {'n_conv_layers': 1, 'filters_per_conv': 193, 'filter_len': 6, 'nodes_per_dense': 184, 'dense_dropout_rate': 0.45094171832962016}. Best is trial 15 with value: 0.44183686726538235.\u001b[0m\n",
            "\u001b[32m[I 2021-05-20 04:08:03,354]\u001b[0m Trial 27 finished with value: 0.4147876580185789 and parameters: {'n_conv_layers': 1, 'filters_per_conv': 239, 'filter_len': 8, 'nodes_per_dense': 240, 'dense_dropout_rate': 0.3350537885255013}. Best is trial 15 with value: 0.44183686726538235.\u001b[0m\n",
            "\u001b[32m[I 2021-05-20 04:09:34,370]\u001b[0m Trial 28 finished with value: 0.43480781110375055 and parameters: {'n_conv_layers': 1, 'filters_per_conv': 216, 'filter_len': 7, 'nodes_per_dense': 209, 'dense_dropout_rate': 0.3994439667038384}. Best is trial 15 with value: 0.44183686726538235.\u001b[0m\n",
            "\u001b[32m[I 2021-05-20 04:11:38,266]\u001b[0m Trial 29 finished with value: 0.42404477676272984 and parameters: {'n_conv_layers': 1, 'filters_per_conv': 159, 'filter_len': 5, 'nodes_per_dense': 189, 'dense_dropout_rate': 0.4729388514128118}. Best is trial 15 with value: 0.44183686726538235.\u001b[0m\n",
            "\u001b[32m[I 2021-05-20 04:12:51,923]\u001b[0m Trial 30 finished with value: 0.4050898432391431 and parameters: {'n_conv_layers': 1, 'filters_per_conv': 196, 'filter_len': 6, 'nodes_per_dense': 117, 'dense_dropout_rate': 0.11839115257914243}. Best is trial 15 with value: 0.44183686726538235.\u001b[0m\n",
            "\u001b[32m[I 2021-05-20 04:14:43,309]\u001b[0m Trial 31 finished with value: 0.43408070198676774 and parameters: {'n_conv_layers': 1, 'filters_per_conv': 233, 'filter_len': 7, 'nodes_per_dense': 255, 'dense_dropout_rate': 0.4405250430404377}. Best is trial 15 with value: 0.44183686726538235.\u001b[0m\n",
            "\u001b[32m[I 2021-05-20 04:16:27,836]\u001b[0m Trial 32 finished with value: 0.43026747274638055 and parameters: {'n_conv_layers': 1, 'filters_per_conv': 217, 'filter_len': 7, 'nodes_per_dense': 233, 'dense_dropout_rate': 0.49556232828676877}. Best is trial 15 with value: 0.44183686726538235.\u001b[0m\n",
            "\u001b[32m[I 2021-05-20 04:18:29,174]\u001b[0m Trial 33 finished with value: 0.4297215798512152 and parameters: {'n_conv_layers': 1, 'filters_per_conv': 253, 'filter_len': 7, 'nodes_per_dense': 255, 'dense_dropout_rate': 0.42972660283036007}. Best is trial 15 with value: 0.44183686726538235.\u001b[0m\n",
            "\u001b[32m[I 2021-05-20 04:20:02,323]\u001b[0m Trial 34 finished with value: 0.4296205119290485 and parameters: {'n_conv_layers': 1, 'filters_per_conv': 207, 'filter_len': 8, 'nodes_per_dense': 222, 'dense_dropout_rate': 0.3724645568515782}. Best is trial 15 with value: 0.44183686726538235.\u001b[0m\n",
            "\u001b[32m[I 2021-05-20 04:21:30,676]\u001b[0m Trial 35 finished with value: 0.0922561337877426 and parameters: {'n_conv_layers': 1, 'filters_per_conv': 239, 'filter_len': 5, 'nodes_per_dense': 8, 'dense_dropout_rate': 0.46855905272517173}. Best is trial 15 with value: 0.44183686726538235.\u001b[0m\n",
            "\u001b[32m[I 2021-05-20 04:23:33,820]\u001b[0m Trial 36 finished with value: 0.35958742847353015 and parameters: {'n_conv_layers': 2, 'filters_per_conv': 217, 'filter_len': 6, 'nodes_per_dense': 241, 'dense_dropout_rate': 0.3245445334407843}. Best is trial 15 with value: 0.44183686726538235.\u001b[0m\n",
            "\u001b[32m[I 2021-05-20 04:25:46,987]\u001b[0m Trial 37 finished with value: 0.3571912347557161 and parameters: {'n_conv_layers': 1, 'filters_per_conv': 243, 'filter_len': 2, 'nodes_per_dense': 163, 'dense_dropout_rate': 0.41622370275156817}. Best is trial 15 with value: 0.44183686726538235.\u001b[0m\n",
            "\u001b[32m[I 2021-05-20 04:27:25,322]\u001b[0m Trial 38 finished with value: 0.4405428227536605 and parameters: {'n_conv_layers': 1, 'filters_per_conv': 185, 'filter_len': 7, 'nodes_per_dense': 236, 'dense_dropout_rate': 0.4547107112833335}. Best is trial 15 with value: 0.44183686726538235.\u001b[0m\n",
            "\u001b[32m[I 2021-05-20 04:29:50,885]\u001b[0m Trial 39 finished with value: 0.3574330058315015 and parameters: {'n_conv_layers': 2, 'filters_per_conv': 186, 'filter_len': 6, 'nodes_per_dense': 189, 'dense_dropout_rate': 0.47338107882614006}. Best is trial 15 with value: 0.44183686726538235.\u001b[0m\n",
            "\u001b[32m[I 2021-05-20 04:31:28,679]\u001b[0m Trial 40 finished with value: 0.4318568640651209 and parameters: {'n_conv_layers': 1, 'filters_per_conv': 153, 'filter_len': 5, 'nodes_per_dense': 237, 'dense_dropout_rate': 0.3865247994519521}. Best is trial 15 with value: 0.44183686726538235.\u001b[0m\n",
            "\u001b[32m[I 2021-05-20 04:33:05,442]\u001b[0m Trial 41 finished with value: 0.43520100226057307 and parameters: {'n_conv_layers': 1, 'filters_per_conv': 166, 'filter_len': 7, 'nodes_per_dense': 245, 'dense_dropout_rate': 0.4536166291223776}. Best is trial 15 with value: 0.44183686726538235.\u001b[0m\n",
            "\u001b[32m[I 2021-05-20 04:34:50,937]\u001b[0m Trial 42 finished with value: 0.4402891826914705 and parameters: {'n_conv_layers': 1, 'filters_per_conv': 206, 'filter_len': 7, 'nodes_per_dense': 216, 'dense_dropout_rate': 0.4093280827014602}. Best is trial 15 with value: 0.44183686726538235.\u001b[0m\n",
            "\u001b[32m[I 2021-05-20 04:36:28,242]\u001b[0m Trial 43 finished with value: 0.43085989863836877 and parameters: {'n_conv_layers': 1, 'filters_per_conv': 201, 'filter_len': 8, 'nodes_per_dense': 215, 'dense_dropout_rate': 0.40192439287603077}. Best is trial 15 with value: 0.44183686726538235.\u001b[0m\n",
            "\u001b[32m[I 2021-05-20 04:38:26,682]\u001b[0m Trial 44 finished with value: 0.42944236860696067 and parameters: {'n_conv_layers': 1, 'filters_per_conv': 209, 'filter_len': 6, 'nodes_per_dense': 199, 'dense_dropout_rate': 0.41354326723903045}. Best is trial 15 with value: 0.44183686726538235.\u001b[0m\n",
            "\u001b[32m[I 2021-05-20 04:39:57,561]\u001b[0m Trial 45 finished with value: 0.42693046921393896 and parameters: {'n_conv_layers': 1, 'filters_per_conv': 134, 'filter_len': 7, 'nodes_per_dense': 219, 'dense_dropout_rate': 0.47941257300856127}. Best is trial 15 with value: 0.44183686726538235.\u001b[0m\n",
            "\u001b[32m[I 2021-05-20 04:41:24,975]\u001b[0m Trial 46 finished with value: 0.42249474973893947 and parameters: {'n_conv_layers': 1, 'filters_per_conv': 186, 'filter_len': 7, 'nodes_per_dense': 150, 'dense_dropout_rate': 0.2620480951288311}. Best is trial 15 with value: 0.44183686726538235.\u001b[0m\n",
            "\u001b[32m[I 2021-05-20 04:42:40,203]\u001b[0m Trial 47 finished with value: 0.39414049200127105 and parameters: {'n_conv_layers': 1, 'filters_per_conv': 188, 'filter_len': 8, 'nodes_per_dense': 178, 'dense_dropout_rate': 0.145078908677372}. Best is trial 15 with value: 0.44183686726538235.\u001b[0m\n",
            "\u001b[32m[I 2021-05-20 04:45:16,470]\u001b[0m Trial 48 finished with value: 0.4298885485743383 and parameters: {'n_conv_layers': 1, 'filters_per_conv': 96, 'filter_len': 6, 'nodes_per_dense': 52, 'dense_dropout_rate': 0.4989866073335365}. Best is trial 15 with value: 0.44183686726538235.\u001b[0m\n",
            "\u001b[32m[I 2021-05-20 04:47:18,554]\u001b[0m Trial 49 finished with value: 0.4306717971295497 and parameters: {'n_conv_layers': 1, 'filters_per_conv': 171, 'filter_len': 4, 'nodes_per_dense': 197, 'dense_dropout_rate': 0.45363577272305855}. Best is trial 15 with value: 0.44183686726538235.\u001b[0m\n"
          ],
          "name": "stderr"
        },
        {
          "output_type": "stream",
          "text": [
            "Number of finished trials: 50\n",
            "Training Time: 1:30:00.675664\n",
            "Best trial:\n",
            "  Value: 0.44183686726538235\n",
            "  Params: \n",
            "    n_conv_layers: 1\n",
            "    filters_per_conv: 254\n",
            "    filter_len: 7\n",
            "    nodes_per_dense: 226\n",
            "    dense_dropout_rate: 0.44068369774892036\n"
          ],
          "name": "stdout"
        }
      ]
    },
    {
      "cell_type": "code",
      "metadata": {
        "pycharm": {
          "name": "#%%\n"
        },
        "id": "54hJZV37lShb"
      },
      "source": [
        "cnn_predictive_performance, cnn_agg_performance = get_predictive_performance(cnn_prediction_list,\n",
        "                                                                             'sgRNA Activity')"
      ],
      "id": "54hJZV37lShb",
      "execution_count": 12,
      "outputs": []
    },
    {
      "cell_type": "code",
      "metadata": {
        "pycharm": {
          "name": "#%%\n"
        },
        "id": "xyEMR0splShb",
        "outputId": "ff49245d-cb1a-4f8b-b5fe-6de125cb5792",
        "colab": {
          "base_uri": "https://localhost:8080/",
          "height": 77
        }
      },
      "source": [
        "cnn_agg_performance"
      ],
      "id": "xyEMR0splShb",
      "execution_count": 13,
      "outputs": [
        {
          "output_type": "execute_result",
          "data": {
            "text/html": [
              "<div>\n",
              "<style scoped>\n",
              "    .dataframe tbody tr th:only-of-type {\n",
              "        vertical-align: middle;\n",
              "    }\n",
              "\n",
              "    .dataframe tbody tr th {\n",
              "        vertical-align: top;\n",
              "    }\n",
              "\n",
              "    .dataframe thead th {\n",
              "        text-align: right;\n",
              "    }\n",
              "</style>\n",
              "<table border=\"1\" class=\"dataframe\">\n",
              "  <thead>\n",
              "    <tr style=\"text-align: right;\">\n",
              "      <th></th>\n",
              "      <th>model_name</th>\n",
              "      <th>mean_spearman</th>\n",
              "      <th>std_spearman</th>\n",
              "      <th>median_spearman</th>\n",
              "    </tr>\n",
              "  </thead>\n",
              "  <tbody>\n",
              "    <tr>\n",
              "      <th>0</th>\n",
              "      <td>All + CNN + TPE50</td>\n",
              "      <td>0.56999</td>\n",
              "      <td>0.118902</td>\n",
              "      <td>0.557307</td>\n",
              "    </tr>\n",
              "  </tbody>\n",
              "</table>\n",
              "</div>"
            ],
            "text/plain": [
              "          model_name  mean_spearman  std_spearman  median_spearman\n",
              "0  All + CNN + TPE50        0.56999      0.118902         0.557307"
            ]
          },
          "metadata": {
            "tags": []
          },
          "execution_count": 13
        }
      ]
    },
    {
      "cell_type": "code",
      "metadata": {
        "pycharm": {
          "name": "#%%\n"
        },
        "id": "g_SuytkDlShb",
        "outputId": "b2a17fdc-dedf-4a59-ce9a-032f4d5f111b",
        "colab": {
          "base_uri": "https://localhost:8080/",
          "height": 669
        }
      },
      "source": [
        "plot_spearman_heatmap(cnn_predictive_performance)"
      ],
      "id": "g_SuytkDlShb",
      "execution_count": 14,
      "outputs": [
        {
          "output_type": "stream",
          "text": [
            "/usr/local/lib/python3.7/dist-packages/plotnine/utils.py:1246: FutureWarning:\n",
            "\n",
            "is_categorical is deprecated and will be removed in a future version.  Use is_categorical_dtype instead\n",
            "\n",
            "findfont: Font family ['Arial'] not found. Falling back to DejaVu Sans.\n"
          ],
          "name": "stderr"
        },
        {
          "output_type": "display_data",
          "data": {
            "image/png": "[encoded data removed]",
            "text/plain": [
              "<Figure size 640x480 with 5 Axes>"
            ]
          },
          "metadata": {
            "tags": []
          }
        },
        {
          "output_type": "execute_result",
          "data": {
            "text/plain": [
              "<ggplot: (8777177026393)>"
            ]
          },
          "metadata": {
            "tags": []
          },
          "execution_count": 14
        }
      ]
    },
    {
      "cell_type": "code",
      "metadata": {
        "pycharm": {
          "name": "#%%\n"
        },
        "id": "WF4PEudblShb",
        "outputId": "c76a71b7-c14e-4598-f10d-d4f107022f25",
        "colab": {
          "base_uri": "https://localhost:8080/",
          "height": 643
        }
      },
      "source": [
        "plot_model_performance(cnn_predictive_performance, wspace=0.5)"
      ],
      "id": "WF4PEudblShb",
      "execution_count": 15,
      "outputs": [
        {
          "output_type": "stream",
          "text": [
            "/usr/local/lib/python3.7/dist-packages/plotnine/utils.py:1246: FutureWarning:\n",
            "\n",
            "is_categorical is deprecated and will be removed in a future version.  Use is_categorical_dtype instead\n",
            "\n"
          ],
          "name": "stderr"
        },
        {
          "output_type": "display_data",
          "data": {
            "image/png": "[encoded data removed]",
            "text/plain": [
              "<Figure size 640x480 with 5 Axes>"
            ]
          },
          "metadata": {
            "tags": []
          }
        },
        {
          "output_type": "execute_result",
          "data": {
            "text/plain": [
              "<ggplot: (8777176938065)>"
            ]
          },
          "metadata": {
            "tags": []
          },
          "execution_count": 15
        }
      ]
    },
    {
      "cell_type": "markdown",
      "metadata": {
        "collapsed": false,
        "id": "NGk3mK6ylShc"
      },
      "source": [
        "## **Remember to download the predictive performance dataframe, as the local store is not permanent**\n"
      ],
      "id": "NGk3mK6ylShc"
    },
    {
      "cell_type": "code",
      "metadata": {
        "pycharm": {
          "name": "#%%\n"
        },
        "id": "Ru07Q9cQlShc",
        "outputId": "3f618c6f-cbb0-461e-b784-03508293c364",
        "colab": {
          "base_uri": "https://localhost:8080/",
          "height": 669
        }
      },
      "source": [
        "cnn_predictive_performance"
      ],
      "id": "Ru07Q9cQlShc",
      "execution_count": 16,
      "outputs": [
        {
          "output_type": "execute_result",
          "data": {
            "text/html": [
              "<div>\n",
              "<style scoped>\n",
              "    .dataframe tbody tr th:only-of-type {\n",
              "        vertical-align: middle;\n",
              "    }\n",
              "\n",
              "    .dataframe tbody tr th {\n",
              "        vertical-align: top;\n",
              "    }\n",
              "\n",
              "    .dataframe thead th {\n",
              "        text-align: right;\n",
              "    }\n",
              "</style>\n",
              "<table border=\"1\" class=\"dataframe\">\n",
              "  <thead>\n",
              "    <tr style=\"text-align: right;\">\n",
              "      <th></th>\n",
              "      <th>model_name</th>\n",
              "      <th>testing_set</th>\n",
              "      <th>fold</th>\n",
              "      <th>spearman_r</th>\n",
              "      <th>n_guides</th>\n",
              "      <th>fold_name</th>\n",
              "    </tr>\n",
              "  </thead>\n",
              "  <tbody>\n",
              "    <tr>\n",
              "      <th>0</th>\n",
              "      <td>All + CNN + TPE50</td>\n",
              "      <td>Doench2014_human</td>\n",
              "      <td>1</td>\n",
              "      <td>0.514254</td>\n",
              "      <td>167</td>\n",
              "      <td>Fold 2</td>\n",
              "    </tr>\n",
              "    <tr>\n",
              "      <th>1</th>\n",
              "      <td>All + CNN + TPE50</td>\n",
              "      <td>Doench2014_human</td>\n",
              "      <td>2</td>\n",
              "      <td>0.557307</td>\n",
              "      <td>828</td>\n",
              "      <td>Fold 3</td>\n",
              "    </tr>\n",
              "    <tr>\n",
              "      <th>2</th>\n",
              "      <td>All + CNN + TPE50</td>\n",
              "      <td>Doench2014_mouse</td>\n",
              "      <td>0</td>\n",
              "      <td>0.614397</td>\n",
              "      <td>354</td>\n",
              "      <td>Fold 1</td>\n",
              "    </tr>\n",
              "    <tr>\n",
              "      <th>3</th>\n",
              "      <td>All + CNN + TPE50</td>\n",
              "      <td>Doench2014_mouse</td>\n",
              "      <td>1</td>\n",
              "      <td>0.361987</td>\n",
              "      <td>212</td>\n",
              "      <td>Fold 2</td>\n",
              "    </tr>\n",
              "    <tr>\n",
              "      <th>4</th>\n",
              "      <td>All + CNN + TPE50</td>\n",
              "      <td>Doench2014_mouse</td>\n",
              "      <td>2</td>\n",
              "      <td>0.520774</td>\n",
              "      <td>85</td>\n",
              "      <td>Fold 3</td>\n",
              "    </tr>\n",
              "    <tr>\n",
              "      <th>5</th>\n",
              "      <td>All + CNN + TPE50</td>\n",
              "      <td>Doench2014_mouse</td>\n",
              "      <td>4</td>\n",
              "      <td>0.575284</td>\n",
              "      <td>518</td>\n",
              "      <td>Fold 5</td>\n",
              "    </tr>\n",
              "    <tr>\n",
              "      <th>6</th>\n",
              "      <td>All + CNN + TPE50</td>\n",
              "      <td>Doench2016</td>\n",
              "      <td>0</td>\n",
              "      <td>0.422538</td>\n",
              "      <td>732</td>\n",
              "      <td>Fold 1</td>\n",
              "    </tr>\n",
              "    <tr>\n",
              "      <th>7</th>\n",
              "      <td>All + CNN + TPE50</td>\n",
              "      <td>Doench2016</td>\n",
              "      <td>1</td>\n",
              "      <td>0.546333</td>\n",
              "      <td>217</td>\n",
              "      <td>Fold 2</td>\n",
              "    </tr>\n",
              "    <tr>\n",
              "      <th>8</th>\n",
              "      <td>All + CNN + TPE50</td>\n",
              "      <td>Doench2016</td>\n",
              "      <td>2</td>\n",
              "      <td>0.432160</td>\n",
              "      <td>918</td>\n",
              "      <td>Fold 3</td>\n",
              "    </tr>\n",
              "    <tr>\n",
              "      <th>9</th>\n",
              "      <td>All + CNN + TPE50</td>\n",
              "      <td>Doench2016</td>\n",
              "      <td>3</td>\n",
              "      <td>0.396546</td>\n",
              "      <td>327</td>\n",
              "      <td>Fold 4</td>\n",
              "    </tr>\n",
              "    <tr>\n",
              "      <th>10</th>\n",
              "      <td>All + CNN + TPE50</td>\n",
              "      <td>Doench2016</td>\n",
              "      <td>4</td>\n",
              "      <td>0.524492</td>\n",
              "      <td>342</td>\n",
              "      <td>Fold 5</td>\n",
              "    </tr>\n",
              "    <tr>\n",
              "      <th>11</th>\n",
              "      <td>All + CNN + TPE50</td>\n",
              "      <td>Kim2019_train</td>\n",
              "      <td>0</td>\n",
              "      <td>0.743383</td>\n",
              "      <td>2565</td>\n",
              "      <td>Fold 1</td>\n",
              "    </tr>\n",
              "    <tr>\n",
              "      <th>12</th>\n",
              "      <td>All + CNN + TPE50</td>\n",
              "      <td>Kim2019_train</td>\n",
              "      <td>1</td>\n",
              "      <td>0.762301</td>\n",
              "      <td>2258</td>\n",
              "      <td>Fold 2</td>\n",
              "    </tr>\n",
              "    <tr>\n",
              "      <th>13</th>\n",
              "      <td>All + CNN + TPE50</td>\n",
              "      <td>Kim2019_train</td>\n",
              "      <td>2</td>\n",
              "      <td>0.728591</td>\n",
              "      <td>3303</td>\n",
              "      <td>Fold 3</td>\n",
              "    </tr>\n",
              "    <tr>\n",
              "      <th>14</th>\n",
              "      <td>All + CNN + TPE50</td>\n",
              "      <td>Kim2019_train</td>\n",
              "      <td>3</td>\n",
              "      <td>0.735155</td>\n",
              "      <td>2228</td>\n",
              "      <td>Fold 4</td>\n",
              "    </tr>\n",
              "    <tr>\n",
              "      <th>15</th>\n",
              "      <td>All + CNN + TPE50</td>\n",
              "      <td>Kim2019_train</td>\n",
              "      <td>4</td>\n",
              "      <td>0.757715</td>\n",
              "      <td>2478</td>\n",
              "      <td>Fold 5</td>\n",
              "    </tr>\n",
              "    <tr>\n",
              "      <th>16</th>\n",
              "      <td>All + CNN + TPE50</td>\n",
              "      <td>Wang2014</td>\n",
              "      <td>0</td>\n",
              "      <td>0.513302</td>\n",
              "      <td>192</td>\n",
              "      <td>Fold 1</td>\n",
              "    </tr>\n",
              "    <tr>\n",
              "      <th>17</th>\n",
              "      <td>All + CNN + TPE50</td>\n",
              "      <td>Wang2014</td>\n",
              "      <td>1</td>\n",
              "      <td>0.573318</td>\n",
              "      <td>179</td>\n",
              "      <td>Fold 2</td>\n",
              "    </tr>\n",
              "    <tr>\n",
              "      <th>18</th>\n",
              "      <td>All + CNN + TPE50</td>\n",
              "      <td>Wang2014</td>\n",
              "      <td>2</td>\n",
              "      <td>0.554292</td>\n",
              "      <td>313</td>\n",
              "      <td>Fold 3</td>\n",
              "    </tr>\n",
              "    <tr>\n",
              "      <th>19</th>\n",
              "      <td>All + CNN + TPE50</td>\n",
              "      <td>Wang2014</td>\n",
              "      <td>3</td>\n",
              "      <td>0.576319</td>\n",
              "      <td>152</td>\n",
              "      <td>Fold 4</td>\n",
              "    </tr>\n",
              "    <tr>\n",
              "      <th>20</th>\n",
              "      <td>All + CNN + TPE50</td>\n",
              "      <td>Wang2014</td>\n",
              "      <td>4</td>\n",
              "      <td>0.559340</td>\n",
              "      <td>186</td>\n",
              "      <td>Fold 5</td>\n",
              "    </tr>\n",
              "  </tbody>\n",
              "</table>\n",
              "</div>"
            ],
            "text/plain": [
              "           model_name       testing_set fold  spearman_r  n_guides fold_name\n",
              "0   All + CNN + TPE50  Doench2014_human    1    0.514254       167    Fold 2\n",
              "1   All + CNN + TPE50  Doench2014_human    2    0.557307       828    Fold 3\n",
              "2   All + CNN + TPE50  Doench2014_mouse    0    0.614397       354    Fold 1\n",
              "3   All + CNN + TPE50  Doench2014_mouse    1    0.361987       212    Fold 2\n",
              "4   All + CNN + TPE50  Doench2014_mouse    2    0.520774        85    Fold 3\n",
              "5   All + CNN + TPE50  Doench2014_mouse    4    0.575284       518    Fold 5\n",
              "6   All + CNN + TPE50        Doench2016    0    0.422538       732    Fold 1\n",
              "7   All + CNN + TPE50        Doench2016    1    0.546333       217    Fold 2\n",
              "8   All + CNN + TPE50        Doench2016    2    0.432160       918    Fold 3\n",
              "9   All + CNN + TPE50        Doench2016    3    0.396546       327    Fold 4\n",
              "10  All + CNN + TPE50        Doench2016    4    0.524492       342    Fold 5\n",
              "11  All + CNN + TPE50     Kim2019_train    0    0.743383      2565    Fold 1\n",
              "12  All + CNN + TPE50     Kim2019_train    1    0.762301      2258    Fold 2\n",
              "13  All + CNN + TPE50     Kim2019_train    2    0.728591      3303    Fold 3\n",
              "14  All + CNN + TPE50     Kim2019_train    3    0.735155      2228    Fold 4\n",
              "15  All + CNN + TPE50     Kim2019_train    4    0.757715      2478    Fold 5\n",
              "16  All + CNN + TPE50          Wang2014    0    0.513302       192    Fold 1\n",
              "17  All + CNN + TPE50          Wang2014    1    0.573318       179    Fold 2\n",
              "18  All + CNN + TPE50          Wang2014    2    0.554292       313    Fold 3\n",
              "19  All + CNN + TPE50          Wang2014    3    0.576319       152    Fold 4\n",
              "20  All + CNN + TPE50          Wang2014    4    0.559340       186    Fold 5"
            ]
          },
          "metadata": {
            "tags": []
          },
          "execution_count": 16
        }
      ]
    },
    {
      "cell_type": "code",
      "metadata": {
        "pycharm": {
          "name": "#%%\n"
        },
        "id": "uUJJa92FlShc"
      },
      "source": [
        "cnn_predictions = pd.concat(cnn_prediction_list)"
      ],
      "id": "uUJJa92FlShc",
      "execution_count": 17,
      "outputs": []
    },
    {
      "cell_type": "code",
      "metadata": {
        "pycharm": {
          "name": "#%%\n"
        },
        "id": "NyskP4Y3lShc"
      },
      "source": [
        "cnn_predictions.to_csv('seq_cnn_predictions.csv', index=False)"
      ],
      "id": "NyskP4Y3lShc",
      "execution_count": 18,
      "outputs": []
    },
    {
      "cell_type": "code",
      "metadata": {
        "pycharm": {
          "name": "#%%\n"
        },
        "id": "j1gky4ValShc"
      },
      "source": [
        ""
      ],
      "id": "j1gky4ValShc",
      "execution_count": 18,
      "outputs": []
    }
  ]
}