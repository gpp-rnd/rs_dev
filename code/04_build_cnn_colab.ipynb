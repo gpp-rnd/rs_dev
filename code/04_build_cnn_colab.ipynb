{
  "nbformat": 4,
  "nbformat_minor": 5,
  "metadata": {
    "kernelspec": {
      "name": "python3",
      "display_name": "Python 3"
    },
    "colab": {
      "name": "03_build_seq_model.ipynb",
      "provenance": [],
      "toc_visible": true,
      "machine_shape": "hm",
      "include_colab_link": true
    },
    "accelerator": "GPU",
    "language_info": {
      "name": "python"
    }
  },
  "cells": [
    {
      "cell_type": "markdown",
      "metadata": {
        "id": "view-in-github",
        "colab_type": "text"
      },
      "source": [
        "<a href=\"https://colab.research.google.com/github/PeterDeWeirdt/rs_dev/blob/main/code/04_build_cnn_colab.ipynb\" target=\"_parent\"><img src=\"https://colab.research.google.com/assets/colab-badge.svg\" alt=\"Open In Colab\"/></a>"
      ]
    },
    {
      "cell_type": "markdown",
      "metadata": {
        "collapsed": false,
        "id": "HWrOgnjwlShF"
      },
      "source": [
        "# Build Sequence Model\n",
        "\n",
        "Before running this model, be sure to copy activity data, train_data_names.csv, core.py, datasets_colab.py"
      ],
      "id": "HWrOgnjwlShF"
    },
    {
      "cell_type": "code",
      "metadata": {
        "pycharm": {
          "name": "#%%\n"
        },
        "id": "nYvjNnzalShU",
        "outputId": "a9137a51-96c6-4d59-b1b8-f123e9dc2db2",
        "colab": {
          "base_uri": "https://localhost:8080/"
        }
      },
      "source": [
        "gpu_info = !nvidia-smi\n",
        "gpu_info = '\\n'.join(gpu_info)\n",
        "if gpu_info.find('failed') >= 0:\n",
        "  print('Select the Runtime > \"Change runtime type\" menu to enable a GPU accelerator, ')\n",
        "  print('and then re-execute this cell.')\n",
        "else:\n",
        "  print(gpu_info)"
      ],
      "id": "nYvjNnzalShU",
      "execution_count": 1,
      "outputs": [
        {
          "output_type": "stream",
          "text": [
            "Wed May 19 03:59:59 2021       \n",
            "+-----------------------------------------------------------------------------+\n",
            "| NVIDIA-SMI 465.19.01    Driver Version: 460.32.03    CUDA Version: 11.2     |\n",
            "|-------------------------------+----------------------+----------------------+\n",
            "| GPU  Name        Persistence-M| Bus-Id        Disp.A | Volatile Uncorr. ECC |\n",
            "| Fan  Temp  Perf  Pwr:Usage/Cap|         Memory-Usage | GPU-Util  Compute M. |\n",
            "|                               |                      |               MIG M. |\n",
            "|===============================+======================+======================|\n",
            "|   0  Tesla P100-PCIE...  Off  | 00000000:00:04.0 Off |                    0 |\n",
            "| N/A   46C    P0    30W / 250W |      0MiB / 16280MiB |      0%      Default |\n",
            "|                               |                      |                  N/A |\n",
            "+-------------------------------+----------------------+----------------------+\n",
            "                                                                               \n",
            "+-----------------------------------------------------------------------------+\n",
            "| Processes:                                                                  |\n",
            "|  GPU   GI   CI        PID   Type   Process name                  GPU Memory |\n",
            "|        ID   ID                                                   Usage      |\n",
            "|=============================================================================|\n",
            "|  No running processes found                                                 |\n",
            "+-----------------------------------------------------------------------------+\n"
          ],
          "name": "stdout"
        }
      ]
    },
    {
      "cell_type": "code",
      "metadata": {
        "pycharm": {
          "name": "#%%\n"
        },
        "id": "NVy-m42elShV",
        "outputId": "ae355999-5eea-4f63-c62b-927d35fee1a7",
        "colab": {
          "base_uri": "https://localhost:8080/"
        }
      },
      "source": [
        "import multiprocessing\n",
        "n_cpus = multiprocessing.cpu_count()\n",
        "print(n_cpus)"
      ],
      "id": "NVy-m42elShV",
      "execution_count": 2,
      "outputs": [
        {
          "output_type": "stream",
          "text": [
            "4\n"
          ],
          "name": "stdout"
        }
      ]
    },
    {
      "cell_type": "code",
      "metadata": {
        "pycharm": {
          "name": "#%%\n"
        },
        "id": "6rxzwW1OlShV",
        "outputId": "85b160f4-88d3-457b-92f2-2b825497038c",
        "colab": {
          "base_uri": "https://localhost:8080/"
        }
      },
      "source": [
        "!pip install -U --pre --extra-index https://pypi.anaconda.org/scipy-wheels-nightly/simple scikit-learn\n",
        "!pip install optuna"
      ],
      "id": "6rxzwW1OlShV",
      "execution_count": 3,
      "outputs": [
        {
          "output_type": "stream",
          "text": [
            "Looking in indexes: https://pypi.org/simple, https://pypi.anaconda.org/scipy-wheels-nightly/simple\n",
            "Requirement already up-to-date: scikit-learn in /usr/local/lib/python3.7/dist-packages (1.0.dev0)\n",
            "Requirement already satisfied, skipping upgrade: numpy>=1.13.3 in /usr/local/lib/python3.7/dist-packages (from scikit-learn) (1.19.5)\n",
            "Requirement already satisfied, skipping upgrade: joblib>=0.11 in /usr/local/lib/python3.7/dist-packages (from scikit-learn) (1.0.1)\n",
            "Requirement already satisfied, skipping upgrade: threadpoolctl>=2.0.0 in /usr/local/lib/python3.7/dist-packages (from scikit-learn) (2.1.0)\n",
            "Requirement already satisfied, skipping upgrade: scipy>=0.19.1 in /usr/local/lib/python3.7/dist-packages (from scikit-learn) (1.4.1)\n",
            "Requirement already satisfied: optuna in /usr/local/lib/python3.7/dist-packages (2.7.0)\n",
            "Requirement already satisfied: sqlalchemy>=1.1.0 in /usr/local/lib/python3.7/dist-packages (from optuna) (1.4.15)\n",
            "Requirement already satisfied: colorlog in /usr/local/lib/python3.7/dist-packages (from optuna) (5.0.1)\n",
            "Requirement already satisfied: alembic in /usr/local/lib/python3.7/dist-packages (from optuna) (1.6.2)\n",
            "Requirement already satisfied: packaging>=20.0 in /usr/local/lib/python3.7/dist-packages (from optuna) (20.9)\n",
            "Requirement already satisfied: tqdm in /usr/local/lib/python3.7/dist-packages (from optuna) (4.41.1)\n",
            "Requirement already satisfied: cmaes>=0.8.2 in /usr/local/lib/python3.7/dist-packages (from optuna) (0.8.2)\n",
            "Requirement already satisfied: scipy!=1.4.0 in /usr/local/lib/python3.7/dist-packages (from optuna) (1.4.1)\n",
            "Requirement already satisfied: numpy in /usr/local/lib/python3.7/dist-packages (from optuna) (1.19.5)\n",
            "Requirement already satisfied: cliff in /usr/local/lib/python3.7/dist-packages (from optuna) (3.7.0)\n",
            "Requirement already satisfied: importlib-metadata; python_version < \"3.8\" in /usr/local/lib/python3.7/dist-packages (from sqlalchemy>=1.1.0->optuna) (4.0.1)\n",
            "Requirement already satisfied: greenlet!=0.4.17; python_version >= \"3\" in /usr/local/lib/python3.7/dist-packages (from sqlalchemy>=1.1.0->optuna) (1.1.0)\n",
            "Requirement already satisfied: Mako in /usr/local/lib/python3.7/dist-packages (from alembic->optuna) (1.1.4)\n",
            "Requirement already satisfied: python-dateutil in /usr/local/lib/python3.7/dist-packages (from alembic->optuna) (2.8.1)\n",
            "Requirement already satisfied: python-editor>=0.3 in /usr/local/lib/python3.7/dist-packages (from alembic->optuna) (1.0.4)\n",
            "Requirement already satisfied: pyparsing>=2.0.2 in /usr/local/lib/python3.7/dist-packages (from packaging>=20.0->optuna) (2.4.7)\n",
            "Requirement already satisfied: PrettyTable>=0.7.2 in /usr/local/lib/python3.7/dist-packages (from cliff->optuna) (2.1.0)\n",
            "Requirement already satisfied: pbr!=2.1.0,>=2.0.0 in /usr/local/lib/python3.7/dist-packages (from cliff->optuna) (5.6.0)\n",
            "Requirement already satisfied: cmd2>=1.0.0 in /usr/local/lib/python3.7/dist-packages (from cliff->optuna) (1.5.0)\n",
            "Requirement already satisfied: stevedore>=2.0.1 in /usr/local/lib/python3.7/dist-packages (from cliff->optuna) (3.3.0)\n",
            "Requirement already satisfied: PyYAML>=3.12 in /usr/local/lib/python3.7/dist-packages (from cliff->optuna) (3.13)\n",
            "Requirement already satisfied: typing-extensions>=3.6.4; python_version < \"3.8\" in /usr/local/lib/python3.7/dist-packages (from importlib-metadata; python_version < \"3.8\"->sqlalchemy>=1.1.0->optuna) (3.7.4.3)\n",
            "Requirement already satisfied: zipp>=0.5 in /usr/local/lib/python3.7/dist-packages (from importlib-metadata; python_version < \"3.8\"->sqlalchemy>=1.1.0->optuna) (3.4.1)\n",
            "Requirement already satisfied: MarkupSafe>=0.9.2 in /usr/local/lib/python3.7/dist-packages (from Mako->alembic->optuna) (2.0.0)\n",
            "Requirement already satisfied: six>=1.5 in /usr/local/lib/python3.7/dist-packages (from python-dateutil->alembic->optuna) (1.15.0)\n",
            "Requirement already satisfied: wcwidth in /usr/local/lib/python3.7/dist-packages (from PrettyTable>=0.7.2->cliff->optuna) (0.2.5)\n",
            "Requirement already satisfied: pyperclip>=1.6 in /usr/local/lib/python3.7/dist-packages (from cmd2>=1.0.0->cliff->optuna) (1.8.2)\n",
            "Requirement already satisfied: attrs>=16.3.0 in /usr/local/lib/python3.7/dist-packages (from cmd2>=1.0.0->cliff->optuna) (21.2.0)\n",
            "Requirement already satisfied: colorama>=0.3.7 in /usr/local/lib/python3.7/dist-packages (from cmd2>=1.0.0->cliff->optuna) (0.4.4)\n"
          ],
          "name": "stdout"
        }
      ]
    },
    {
      "cell_type": "code",
      "metadata": {
        "pycharm": {
          "name": "#%%\n"
        },
        "id": "K1zA_pMIlShW"
      },
      "source": [
        "import pandas as pd\n",
        "from sklearn.model_selection import StratifiedGroupKFold, train_test_split\n",
        "from sklearn.base import clone\n",
        "from sklearn.metrics import r2_score\n",
        "import optuna\n",
        "from joblib import Parallel, delayed\n",
        "import numpy as np\n",
        "from tensorflow import keras\n",
        "from datetime import datetime\n",
        "\n",
        "from datasets_colab import dataset_list\n",
        "from core import (get_predictive_performance,\n",
        "                  plot_spearman_heatmap,\n",
        "                  plot_model_performance,\n",
        "                  setup_plots)"
      ],
      "id": "K1zA_pMIlShW",
      "execution_count": 4,
      "outputs": []
    },
    {
      "cell_type": "code",
      "metadata": {
        "pycharm": {
          "name": "#%%\n"
        },
        "id": "iHgmMUzzlShW"
      },
      "source": [
        "setup_plots()"
      ],
      "id": "iHgmMUzzlShW",
      "execution_count": 5,
      "outputs": []
    },
    {
      "cell_type": "code",
      "metadata": {
        "pycharm": {
          "name": "#%%\n"
        },
        "id": "liiYafxhlShX"
      },
      "source": [
        "train_data_names = pd.read_csv('train_data_names.csv').name.to_list()"
      ],
      "id": "liiYafxhlShX",
      "execution_count": 6,
      "outputs": []
    },
    {
      "cell_type": "code",
      "metadata": {
        "pycharm": {
          "name": "#%%\n"
        },
        "id": "eAsIppfLlShX"
      },
      "source": [
        "train_data_list = list()\n",
        "for ds in dataset_list:\n",
        "    if ds.name in train_data_names:\n",
        "        train_data_list.append(ds)\n",
        "\n",
        "for ds in train_data_list:\n",
        "    ds.load_data()\n",
        "    ds.set_sgrnas()"
      ],
      "id": "eAsIppfLlShX",
      "execution_count": 7,
      "outputs": []
    },
    {
      "cell_type": "markdown",
      "metadata": {
        "collapsed": false,
        "id": "W7pIn5SqlShX"
      },
      "source": [
        "## Cross-Validation Iterator"
      ],
      "id": "W7pIn5SqlShX"
    },
    {
      "cell_type": "code",
      "metadata": {
        "pycharm": {
          "name": "#%%\n"
        },
        "id": "foJeiaw7lShX",
        "outputId": "470fe2fb-8c77-4fca-e571-09baab5dcdee",
        "colab": {
          "base_uri": "https://localhost:8080/"
        }
      },
      "source": [
        "sg_df_list = []\n",
        "for ds in train_data_list:\n",
        "    sg_df = ds.get_sg_df(include_group=True, include_activity=True)\n",
        "    sg_df['dataset'] = ds.name\n",
        "    sg_df_list.append(sg_df)\n",
        "sg_df_groups = (pd.concat(sg_df_list)\n",
        "                .groupby(['sgRNA Context Sequence'])\n",
        "                .agg(n_conditions = ('sgRNA Context Sequence', 'count'),\n",
        "                     target = ('sgRNA Target', lambda x: ', '.join(set([s.upper() for s in x if not pd.isna(s)]))))\n",
        "                .reset_index())\n",
        "multi_target = sg_df_groups['target'].str.contains(',').sum()\n",
        "print('Context sequences with multiple targets: ' + str(multi_target))"
      ],
      "id": "foJeiaw7lShX",
      "execution_count": 8,
      "outputs": [
        {
          "output_type": "stream",
          "text": [
            "Context sequences with multiple targets: 0\n"
          ],
          "name": "stdout"
        }
      ]
    },
    {
      "cell_type": "code",
      "metadata": {
        "pycharm": {
          "name": "#%%\n"
        },
        "id": "l3kppMqslShY",
        "outputId": "a5fd8b89-1515-43b1-cf65-f66065b1c24f",
        "colab": {
          "base_uri": "https://localhost:8080/",
          "height": 1000
        }
      },
      "source": [
        "# handle singleton case\n",
        "sg_df_groups['target'] = sg_df_groups.apply(lambda row:\n",
        "                                            row['target'] if (row['target'] != '') else row['sgRNA Context Sequence'],\n",
        "                                            axis=1)\n",
        "# Note that 'target' is not in the sg_df_list, and is coming from the sg_df_groups df\n",
        "sg_df_class_groups = (pd.concat(sg_df_list)\n",
        "                      .merge(sg_df_groups, how='inner', on='sgRNA Context Sequence')\n",
        "                      .sort_values(['dataset', 'target'])\n",
        "                      .reset_index(drop=True))\n",
        "sgkf = StratifiedGroupKFold(n_splits=5, shuffle=True, random_state=7)\n",
        "tidy_cv_list = []\n",
        "for i, (train_index, test_index) in enumerate(sgkf.split(sg_df_class_groups, sg_df_class_groups.dataset,\n",
        "                                                         sg_df_class_groups.target)):\n",
        "    train_df = sg_df_class_groups.iloc[train_index,:].copy()\n",
        "    train_df['cv'] = i\n",
        "    train_df['train'] = True\n",
        "    tidy_cv_list.append(train_df)\n",
        "    test_df = sg_df_class_groups.iloc[test_index,:].copy()\n",
        "    test_df['cv'] = i\n",
        "    test_df['train'] = False\n",
        "    tidy_cv_list.append(test_df)\n",
        "tidy_cv_df = pd.concat(tidy_cv_list)\n",
        "cv_train_data_counts = (tidy_cv_df[['cv', 'train', 'dataset']].value_counts()\n",
        "                        .reset_index(name='n'))\n",
        "cv_train_data_counts"
      ],
      "id": "l3kppMqslShY",
      "execution_count": 9,
      "outputs": [
        {
          "output_type": "execute_result",
          "data": {
            "text/html": [
              "<div>\n",
              "<style scoped>\n",
              "    .dataframe tbody tr th:only-of-type {\n",
              "        vertical-align: middle;\n",
              "    }\n",
              "\n",
              "    .dataframe tbody tr th {\n",
              "        vertical-align: top;\n",
              "    }\n",
              "\n",
              "    .dataframe thead th {\n",
              "        text-align: right;\n",
              "    }\n",
              "</style>\n",
              "<table border=\"1\" class=\"dataframe\">\n",
              "  <thead>\n",
              "    <tr style=\"text-align: right;\">\n",
              "      <th></th>\n",
              "      <th>cv</th>\n",
              "      <th>train</th>\n",
              "      <th>dataset</th>\n",
              "      <th>n</th>\n",
              "    </tr>\n",
              "  </thead>\n",
              "  <tbody>\n",
              "    <tr>\n",
              "      <th>0</th>\n",
              "      <td>3</td>\n",
              "      <td>True</td>\n",
              "      <td>Kim2019_train</td>\n",
              "      <td>10604</td>\n",
              "    </tr>\n",
              "    <tr>\n",
              "      <th>1</th>\n",
              "      <td>1</td>\n",
              "      <td>True</td>\n",
              "      <td>Kim2019_train</td>\n",
              "      <td>10574</td>\n",
              "    </tr>\n",
              "    <tr>\n",
              "      <th>2</th>\n",
              "      <td>4</td>\n",
              "      <td>True</td>\n",
              "      <td>Kim2019_train</td>\n",
              "      <td>10354</td>\n",
              "    </tr>\n",
              "    <tr>\n",
              "      <th>3</th>\n",
              "      <td>0</td>\n",
              "      <td>True</td>\n",
              "      <td>Kim2019_train</td>\n",
              "      <td>10267</td>\n",
              "    </tr>\n",
              "    <tr>\n",
              "      <th>4</th>\n",
              "      <td>2</td>\n",
              "      <td>True</td>\n",
              "      <td>Kim2019_train</td>\n",
              "      <td>9529</td>\n",
              "    </tr>\n",
              "    <tr>\n",
              "      <th>5</th>\n",
              "      <td>2</td>\n",
              "      <td>False</td>\n",
              "      <td>Kim2019_train</td>\n",
              "      <td>3303</td>\n",
              "    </tr>\n",
              "    <tr>\n",
              "      <th>6</th>\n",
              "      <td>0</td>\n",
              "      <td>False</td>\n",
              "      <td>Kim2019_train</td>\n",
              "      <td>2565</td>\n",
              "    </tr>\n",
              "    <tr>\n",
              "      <th>7</th>\n",
              "      <td>4</td>\n",
              "      <td>False</td>\n",
              "      <td>Kim2019_train</td>\n",
              "      <td>2478</td>\n",
              "    </tr>\n",
              "    <tr>\n",
              "      <th>8</th>\n",
              "      <td>1</td>\n",
              "      <td>True</td>\n",
              "      <td>Doench2016</td>\n",
              "      <td>2319</td>\n",
              "    </tr>\n",
              "    <tr>\n",
              "      <th>9</th>\n",
              "      <td>1</td>\n",
              "      <td>False</td>\n",
              "      <td>Kim2019_train</td>\n",
              "      <td>2258</td>\n",
              "    </tr>\n",
              "    <tr>\n",
              "      <th>10</th>\n",
              "      <td>3</td>\n",
              "      <td>False</td>\n",
              "      <td>Kim2019_train</td>\n",
              "      <td>2228</td>\n",
              "    </tr>\n",
              "    <tr>\n",
              "      <th>11</th>\n",
              "      <td>3</td>\n",
              "      <td>True</td>\n",
              "      <td>Doench2016</td>\n",
              "      <td>2209</td>\n",
              "    </tr>\n",
              "    <tr>\n",
              "      <th>12</th>\n",
              "      <td>4</td>\n",
              "      <td>True</td>\n",
              "      <td>Doench2016</td>\n",
              "      <td>2194</td>\n",
              "    </tr>\n",
              "    <tr>\n",
              "      <th>13</th>\n",
              "      <td>0</td>\n",
              "      <td>True</td>\n",
              "      <td>Doench2016</td>\n",
              "      <td>1804</td>\n",
              "    </tr>\n",
              "    <tr>\n",
              "      <th>14</th>\n",
              "      <td>2</td>\n",
              "      <td>True</td>\n",
              "      <td>Doench2016</td>\n",
              "      <td>1618</td>\n",
              "    </tr>\n",
              "    <tr>\n",
              "      <th>15</th>\n",
              "      <td>3</td>\n",
              "      <td>True</td>\n",
              "      <td>Doench2014_mouse</td>\n",
              "      <td>1169</td>\n",
              "    </tr>\n",
              "    <tr>\n",
              "      <th>16</th>\n",
              "      <td>2</td>\n",
              "      <td>True</td>\n",
              "      <td>Doench2014_mouse</td>\n",
              "      <td>1084</td>\n",
              "    </tr>\n",
              "    <tr>\n",
              "      <th>17</th>\n",
              "      <td>3</td>\n",
              "      <td>True</td>\n",
              "      <td>Doench2014_human</td>\n",
              "      <td>995</td>\n",
              "    </tr>\n",
              "    <tr>\n",
              "      <th>18</th>\n",
              "      <td>4</td>\n",
              "      <td>True</td>\n",
              "      <td>Doench2014_human</td>\n",
              "      <td>995</td>\n",
              "    </tr>\n",
              "    <tr>\n",
              "      <th>19</th>\n",
              "      <td>0</td>\n",
              "      <td>True</td>\n",
              "      <td>Doench2014_human</td>\n",
              "      <td>995</td>\n",
              "    </tr>\n",
              "    <tr>\n",
              "      <th>20</th>\n",
              "      <td>1</td>\n",
              "      <td>True</td>\n",
              "      <td>Doench2014_mouse</td>\n",
              "      <td>957</td>\n",
              "    </tr>\n",
              "    <tr>\n",
              "      <th>21</th>\n",
              "      <td>2</td>\n",
              "      <td>False</td>\n",
              "      <td>Doench2016</td>\n",
              "      <td>918</td>\n",
              "    </tr>\n",
              "    <tr>\n",
              "      <th>22</th>\n",
              "      <td>3</td>\n",
              "      <td>True</td>\n",
              "      <td>Wang2014</td>\n",
              "      <td>870</td>\n",
              "    </tr>\n",
              "    <tr>\n",
              "      <th>23</th>\n",
              "      <td>1</td>\n",
              "      <td>True</td>\n",
              "      <td>Wang2014</td>\n",
              "      <td>843</td>\n",
              "    </tr>\n",
              "    <tr>\n",
              "      <th>24</th>\n",
              "      <td>4</td>\n",
              "      <td>True</td>\n",
              "      <td>Wang2014</td>\n",
              "      <td>836</td>\n",
              "    </tr>\n",
              "    <tr>\n",
              "      <th>25</th>\n",
              "      <td>0</td>\n",
              "      <td>True</td>\n",
              "      <td>Wang2014</td>\n",
              "      <td>830</td>\n",
              "    </tr>\n",
              "    <tr>\n",
              "      <th>26</th>\n",
              "      <td>1</td>\n",
              "      <td>True</td>\n",
              "      <td>Doench2014_human</td>\n",
              "      <td>828</td>\n",
              "    </tr>\n",
              "    <tr>\n",
              "      <th>27</th>\n",
              "      <td>2</td>\n",
              "      <td>False</td>\n",
              "      <td>Doench2014_human</td>\n",
              "      <td>828</td>\n",
              "    </tr>\n",
              "    <tr>\n",
              "      <th>28</th>\n",
              "      <td>0</td>\n",
              "      <td>True</td>\n",
              "      <td>Doench2014_mouse</td>\n",
              "      <td>815</td>\n",
              "    </tr>\n",
              "    <tr>\n",
              "      <th>29</th>\n",
              "      <td>0</td>\n",
              "      <td>False</td>\n",
              "      <td>Doench2016</td>\n",
              "      <td>732</td>\n",
              "    </tr>\n",
              "    <tr>\n",
              "      <th>30</th>\n",
              "      <td>2</td>\n",
              "      <td>True</td>\n",
              "      <td>Wang2014</td>\n",
              "      <td>709</td>\n",
              "    </tr>\n",
              "    <tr>\n",
              "      <th>31</th>\n",
              "      <td>4</td>\n",
              "      <td>True</td>\n",
              "      <td>Doench2014_mouse</td>\n",
              "      <td>651</td>\n",
              "    </tr>\n",
              "    <tr>\n",
              "      <th>32</th>\n",
              "      <td>4</td>\n",
              "      <td>False</td>\n",
              "      <td>Doench2014_mouse</td>\n",
              "      <td>518</td>\n",
              "    </tr>\n",
              "    <tr>\n",
              "      <th>33</th>\n",
              "      <td>0</td>\n",
              "      <td>False</td>\n",
              "      <td>Doench2014_mouse</td>\n",
              "      <td>354</td>\n",
              "    </tr>\n",
              "    <tr>\n",
              "      <th>34</th>\n",
              "      <td>4</td>\n",
              "      <td>False</td>\n",
              "      <td>Doench2016</td>\n",
              "      <td>342</td>\n",
              "    </tr>\n",
              "    <tr>\n",
              "      <th>35</th>\n",
              "      <td>3</td>\n",
              "      <td>False</td>\n",
              "      <td>Doench2016</td>\n",
              "      <td>327</td>\n",
              "    </tr>\n",
              "    <tr>\n",
              "      <th>36</th>\n",
              "      <td>2</td>\n",
              "      <td>False</td>\n",
              "      <td>Wang2014</td>\n",
              "      <td>313</td>\n",
              "    </tr>\n",
              "    <tr>\n",
              "      <th>37</th>\n",
              "      <td>1</td>\n",
              "      <td>False</td>\n",
              "      <td>Doench2016</td>\n",
              "      <td>217</td>\n",
              "    </tr>\n",
              "    <tr>\n",
              "      <th>38</th>\n",
              "      <td>1</td>\n",
              "      <td>False</td>\n",
              "      <td>Doench2014_mouse</td>\n",
              "      <td>212</td>\n",
              "    </tr>\n",
              "    <tr>\n",
              "      <th>39</th>\n",
              "      <td>0</td>\n",
              "      <td>False</td>\n",
              "      <td>Wang2014</td>\n",
              "      <td>192</td>\n",
              "    </tr>\n",
              "    <tr>\n",
              "      <th>40</th>\n",
              "      <td>4</td>\n",
              "      <td>False</td>\n",
              "      <td>Wang2014</td>\n",
              "      <td>186</td>\n",
              "    </tr>\n",
              "    <tr>\n",
              "      <th>41</th>\n",
              "      <td>1</td>\n",
              "      <td>False</td>\n",
              "      <td>Wang2014</td>\n",
              "      <td>179</td>\n",
              "    </tr>\n",
              "    <tr>\n",
              "      <th>42</th>\n",
              "      <td>1</td>\n",
              "      <td>False</td>\n",
              "      <td>Doench2014_human</td>\n",
              "      <td>167</td>\n",
              "    </tr>\n",
              "    <tr>\n",
              "      <th>43</th>\n",
              "      <td>2</td>\n",
              "      <td>True</td>\n",
              "      <td>Doench2014_human</td>\n",
              "      <td>167</td>\n",
              "    </tr>\n",
              "    <tr>\n",
              "      <th>44</th>\n",
              "      <td>3</td>\n",
              "      <td>False</td>\n",
              "      <td>Wang2014</td>\n",
              "      <td>152</td>\n",
              "    </tr>\n",
              "    <tr>\n",
              "      <th>45</th>\n",
              "      <td>2</td>\n",
              "      <td>False</td>\n",
              "      <td>Doench2014_mouse</td>\n",
              "      <td>85</td>\n",
              "    </tr>\n",
              "  </tbody>\n",
              "</table>\n",
              "</div>"
            ],
            "text/plain": [
              "    cv  train           dataset      n\n",
              "0    3   True     Kim2019_train  10604\n",
              "1    1   True     Kim2019_train  10574\n",
              "2    4   True     Kim2019_train  10354\n",
              "3    0   True     Kim2019_train  10267\n",
              "4    2   True     Kim2019_train   9529\n",
              "5    2  False     Kim2019_train   3303\n",
              "6    0  False     Kim2019_train   2565\n",
              "7    4  False     Kim2019_train   2478\n",
              "8    1   True        Doench2016   2319\n",
              "9    1  False     Kim2019_train   2258\n",
              "10   3  False     Kim2019_train   2228\n",
              "11   3   True        Doench2016   2209\n",
              "12   4   True        Doench2016   2194\n",
              "13   0   True        Doench2016   1804\n",
              "14   2   True        Doench2016   1618\n",
              "15   3   True  Doench2014_mouse   1169\n",
              "16   2   True  Doench2014_mouse   1084\n",
              "17   3   True  Doench2014_human    995\n",
              "18   4   True  Doench2014_human    995\n",
              "19   0   True  Doench2014_human    995\n",
              "20   1   True  Doench2014_mouse    957\n",
              "21   2  False        Doench2016    918\n",
              "22   3   True          Wang2014    870\n",
              "23   1   True          Wang2014    843\n",
              "24   4   True          Wang2014    836\n",
              "25   0   True          Wang2014    830\n",
              "26   1   True  Doench2014_human    828\n",
              "27   2  False  Doench2014_human    828\n",
              "28   0   True  Doench2014_mouse    815\n",
              "29   0  False        Doench2016    732\n",
              "30   2   True          Wang2014    709\n",
              "31   4   True  Doench2014_mouse    651\n",
              "32   4  False  Doench2014_mouse    518\n",
              "33   0  False  Doench2014_mouse    354\n",
              "34   4  False        Doench2016    342\n",
              "35   3  False        Doench2016    327\n",
              "36   2  False          Wang2014    313\n",
              "37   1  False        Doench2016    217\n",
              "38   1  False  Doench2014_mouse    212\n",
              "39   0  False          Wang2014    192\n",
              "40   4  False          Wang2014    186\n",
              "41   1  False          Wang2014    179\n",
              "42   1  False  Doench2014_human    167\n",
              "43   2   True  Doench2014_human    167\n",
              "44   3  False          Wang2014    152\n",
              "45   2  False  Doench2014_mouse     85"
            ]
          },
          "metadata": {
            "tags": []
          },
          "execution_count": 9
        }
      ]
    },
    {
      "cell_type": "markdown",
      "metadata": {
        "collapsed": false,
        "id": "9PpHNXd_lShY"
      },
      "source": [
        "## Keras Convolutional Neural Network"
      ],
      "id": "9PpHNXd_lShY"
    },
    {
      "cell_type": "code",
      "metadata": {
        "pycharm": {
          "name": "#%%\n"
        },
        "id": "opEURQC6lShZ"
      },
      "source": [
        "def get_cnn(n_conv_layers, filters_per_conv, filter_len,\n",
        "            nodes_per_dense, dense_dropout_rate, n_dense_layers=1,\n",
        "            input_shape=(30, 4), activation='relu', initializer='he_uniform',\n",
        "            pool_size=2, loss='mse', optimizer='Adam'):\n",
        "    model = keras.models.Sequential()\n",
        "    model.add(keras.layers.InputLayer(input_shape=input_shape))\n",
        "    for _ in range(n_conv_layers):\n",
        "        model.add(keras.layers.Conv1D(filters=filters_per_conv, kernel_size=filter_len,\n",
        "                                      activation=activation, kernel_initializer=initializer))\n",
        "        model.add(keras.layers.AveragePooling1D(pool_size=pool_size))\n",
        "    model.add(keras.layers.Flatten())\n",
        "    model.add(keras.layers.Dropout(dense_dropout_rate))\n",
        "    for _ in range(n_dense_layers):\n",
        "        model.add(keras.layers.Dense(nodes_per_dense, activation=activation, kernel_initializer=initializer))\n",
        "        model.add(keras.layers.Dropout(dense_dropout_rate))\n",
        "    model.add(keras.layers.Dense(1, activation='linear'))\n",
        "    model.compile(loss=loss, optimizer=optimizer)\n",
        "    return model\n",
        "\n",
        "nt_codes = {'A':[1,0,0,0],\n",
        "            'C':[0,1,0,0],\n",
        "            'G':[0,0,1,0],\n",
        "            'T':[0,0,0,1]}\n",
        "\n",
        "def encode_seqs(seqs):\n",
        "    # 3d array with samples x position x nt\n",
        "    encoded_seqs = np.array([[nt_codes.get(x) for x in seq] for seq in seqs])\n",
        "    return encoded_seqs\n",
        "\n",
        "\n",
        "def cnn_training_iteration(fold_df, train_index, test_index, base_model):\n",
        "    \"\"\"Train cnn model for optuna iterations\n",
        "\n",
        "    :param fold_df: DataFrame\n",
        "    :param train_index: list-like\n",
        "    :param test_index: list-like\n",
        "    :param base_model: KerasRegressor\n",
        "    :return: r^2\n",
        "    \"\"\"\n",
        "    train_df = fold_df.iloc[train_index,:].reset_index(drop=True)\n",
        "    train_df['sgRNA Activity'] = (train_df.groupby('dataset')\n",
        "                                  ['sgRNA Activity']\n",
        "                                  .rank(pct=True))\n",
        "    train_val_seqs = train_df['sgRNA Context Sequence'] # train and validation data\n",
        "    y_train_val = train_df['sgRNA Activity']\n",
        "    train_seqs, val_seqs, y_train, y_val = train_test_split(train_val_seqs, y_train_val,\n",
        "                                                            test_size=0.1, random_state=7)\n",
        "    X_train = encode_seqs(train_seqs)\n",
        "    X_val = encode_seqs(val_seqs)\n",
        "    model = clone(base_model)\n",
        "    model.fit(X_train, y_train, verbose=0, validation_data=(X_val, y_val),\n",
        "              callbacks=[keras.callbacks.EarlyStopping(patience=20)])\n",
        "    test_df = fold_df.iloc[test_index,:].reset_index(drop=True)\n",
        "    X_test = encode_seqs(test_df['sgRNA Context Sequence'])\n",
        "    test_predictions = test_df.copy()\n",
        "    test_predictions['prediction'] = model.predict(X_test)\n",
        "    test_predictions['sgRNA Activity'] = (test_predictions.groupby('dataset')\n",
        "                                          ['sgRNA Activity']\n",
        "                                          .rank(pct=True))\n",
        "    r2 = r2_score(test_predictions['sgRNA Activity'], test_predictions['prediction'])\n",
        "    return r2\n",
        "\n",
        "\n",
        "def get_cnn_objective(fold_df):\n",
        "    \"\"\"Get objective function for training a cnn model\n",
        "\n",
        "    :param fold_df: DataFrame\n",
        "    :return: objective function\n",
        "    \"\"\"\n",
        "    def objective(trial):\n",
        "        \"\"\"For training set, get optimal hyperparameters for cnn\n",
        "\n",
        "        :param trial: optuna.trial\n",
        "        :return: int, pearson correlation with held out test data\n",
        "        \"\"\"\n",
        "        sgkf = StratifiedGroupKFold(n_splits=5, shuffle=True, random_state=7)\n",
        "        n_conv_layers = trial.suggest_int('n_conv_layers', 1, 2)\n",
        "        filters_per_conv = trial.suggest_int('filters_per_conv', 32, 256)\n",
        "        filter_len = trial.suggest_int('filter_len', 2, 8)\n",
        "        nodes_per_dense = trial.suggest_int('nodes_per_dense', 8, 256)\n",
        "        dense_dropout_rate = trial.suggest_float('dense_dropout_rate', 0.1, 0.5)\n",
        "        model = keras.wrappers.scikit_learn.KerasRegressor(build_fn=get_cnn, epochs=5000,\n",
        "                                                           n_conv_layers=n_conv_layers,\n",
        "                                                           filters_per_conv=filters_per_conv,\n",
        "                                                           filter_len=filter_len,\n",
        "                                                           nodes_per_dense=nodes_per_dense,\n",
        "                                                           dense_dropout_rate=dense_dropout_rate)\n",
        "        performance = Parallel(n_jobs=5)(delayed(cnn_training_iteration)\n",
        "                                         (fold_df, train_index, test_index, model) for\n",
        "                                         train_index, test_index in\n",
        "                                         sgkf.split(fold_df, fold_df.dataset, fold_df.target))\n",
        "        avg_performance = np.mean(performance)\n",
        "        return avg_performance\n",
        "    return objective"
      ],
      "id": "opEURQC6lShZ",
      "execution_count": 10,
      "outputs": []
    },
    {
      "cell_type": "code",
      "metadata": {
        "pycharm": {
          "name": "#%%\n"
        },
        "id": "4uk1mZS2lSha",
        "outputId": "f8b37288-d04e-4d14-fb38-7bc202518ddc",
        "colab": {
          "base_uri": "https://localhost:8080/"
        }
      },
      "source": [
        "n_trials = 50\n",
        "cnn_prediction_list = []\n",
        "\n",
        "for fold, fold_df in tidy_cv_df.groupby('cv'):\n",
        "    print('Fold: ' + str(fold))\n",
        "    fold_train_data = fold_df.query('train == True').reset_index(drop=True)\n",
        "    study = optuna.create_study(direction='maximize',\n",
        "                                sampler=optuna.samplers.TPESampler(seed=7)) # maximize r^2\n",
        "    objective = get_cnn_objective(fold_train_data)\n",
        "    start_time = datetime.now()\n",
        "    study.optimize(objective, n_trials=n_trials)\n",
        "    end_time = datetime.now()\n",
        "    difference = end_time - start_time\n",
        "    print(\"Number of finished trials: {}\".format(len(study.trials)))\n",
        "    print(\"Training Time: \" + str(difference))\n",
        "    print(\"Best trial:\")\n",
        "    trial = study.best_trial\n",
        "    print(\"  Value: {}\".format(trial.value))\n",
        "    print(\"  Params: \")\n",
        "    for key, value in trial.params.items():\n",
        "        print(\"    {}: {}\".format(key, value))\n",
        "    # Using optimal parameters, retrain model with full dataset\n",
        "    train_df = fold_train_data.copy()\n",
        "    train_df['sgRNA Activity'] = (train_df.groupby('dataset')\n",
        "                                  ['sgRNA Activity']\n",
        "                                  .rank(pct=True))\n",
        "    train_val_seqs = train_df['sgRNA Context Sequence'] # train and validation data\n",
        "    y_train_val = train_df['sgRNA Activity']\n",
        "    train_seqs, val_seqs, y_train, y_val = train_test_split(train_val_seqs, y_train_val,\n",
        "                                                            test_size=0.1, random_state=7)\n",
        "    X_train = encode_seqs(train_seqs)\n",
        "    X_val = encode_seqs(val_seqs)\n",
        "    model = keras.wrappers.scikit_learn.KerasRegressor(build_fn=get_cnn, epochs=5000,\n",
        "                                                       **trial.params)\n",
        "    model.fit(X_train, y_train, verbose=0, validation_data=(X_val, y_val),\n",
        "              callbacks=[keras.callbacks.EarlyStopping(patience=20)])\n",
        "    # Test optimal model on test data\n",
        "    fold_test_data = fold_df.query('train == False').reset_index(drop=True)\n",
        "    X_test = encode_seqs(fold_test_data['sgRNA Context Sequence'])\n",
        "    test_predictions = fold_test_data.copy()\n",
        "    test_predictions['prediction'] = model.predict(X_test)\n",
        "    test_predictions['model_name'] = 'All + CNN + TPE' + str(n_trials)\n",
        "    test_predictions['fold'] = fold\n",
        "    cnn_prediction_list.append(test_predictions)"
      ],
      "id": "4uk1mZS2lSha",
      "execution_count": null,
      "outputs": [
        {
          "output_type": "stream",
          "text": [
            "\u001b[32m[I 2021-05-19 04:00:15,246]\u001b[0m A new study created in memory with name: no-name-b550d2e6-c280-40d0-8a31-b741b9acb4a1\u001b[0m\n"
          ],
          "name": "stderr"
        },
        {
          "output_type": "stream",
          "text": [
            "Fold: 0\n"
          ],
          "name": "stdout"
        },
        {
          "output_type": "stream",
          "text": [
            "\u001b[32m[I 2021-05-19 04:03:08,596]\u001b[0m Trial 0 finished with value: 0.4544324938913781 and parameters: {'n_conv_layers': 1, 'filters_per_conv': 207, 'filter_len': 5, 'nodes_per_dense': 188, 'dense_dropout_rate': 0.4911958047986411}. Best is trial 0 with value: 0.4544324938913781.\u001b[0m\n",
            "\u001b[32m[I 2021-05-19 04:05:33,309]\u001b[0m Trial 1 finished with value: 0.4193023111047444 and parameters: {'n_conv_layers': 2, 'filters_per_conv': 144, 'filter_len': 2, 'nodes_per_dense': 74, 'dense_dropout_rate': 0.299953000330224}. Best is trial 0 with value: 0.4544324938913781.\u001b[0m\n",
            "\u001b[32m[I 2021-05-19 04:07:30,500]\u001b[0m Trial 2 finished with value: 0.41409536854522006 and parameters: {'n_conv_layers': 2, 'filters_per_conv': 212, 'filter_len': 4, 'nodes_per_dense': 24, 'dense_dropout_rate': 0.21525823972319744}. Best is trial 0 with value: 0.4544324938913781.\u001b[0m\n",
            "\u001b[32m[I 2021-05-19 04:09:01,963]\u001b[0m Trial 3 finished with value: 0.3778166417669673 and parameters: {'n_conv_layers': 2, 'filters_per_conv': 80, 'filter_len': 5, 'nodes_per_dense': 239, 'dense_dropout_rate': 0.10995969102013921}. Best is trial 0 with value: 0.4544324938913781.\u001b[0m\n",
            "\u001b[32m[I 2021-05-19 04:12:09,730]\u001b[0m Trial 4 finished with value: 0.43068747521687856 and parameters: {'n_conv_layers': 2, 'filters_per_conv': 245, 'filter_len': 3, 'nodes_per_dense': 144, 'dense_dropout_rate': 0.4636513499546925}. Best is trial 0 with value: 0.4544324938913781.\u001b[0m\n",
            "\u001b[32m[I 2021-05-19 04:13:52,511]\u001b[0m Trial 5 finished with value: 0.43643870533384865 and parameters: {'n_conv_layers': 1, 'filters_per_conv': 149, 'filter_len': 7, 'nodes_per_dense': 174, 'dense_dropout_rate': 0.2871011438979923}. Best is trial 0 with value: 0.4544324938913781.\u001b[0m\n",
            "\u001b[32m[I 2021-05-19 04:15:42,388]\u001b[0m Trial 6 finished with value: 0.43354487446630385 and parameters: {'n_conv_layers': 1, 'filters_per_conv': 142, 'filter_len': 4, 'nodes_per_dense': 126, 'dense_dropout_rate': 0.2463561543122372}. Best is trial 0 with value: 0.4544324938913781.\u001b[0m\n",
            "\u001b[32m[I 2021-05-19 04:17:27,677]\u001b[0m Trial 7 finished with value: 0.42251855233593955 and parameters: {'n_conv_layers': 2, 'filters_per_conv': 204, 'filter_len': 4, 'nodes_per_dense': 150, 'dense_dropout_rate': 0.21041961933227804}. Best is trial 0 with value: 0.4544324938913781.\u001b[0m\n",
            "\u001b[32m[I 2021-05-19 04:19:20,409]\u001b[0m Trial 8 finished with value: 0.4375466561959588 and parameters: {'n_conv_layers': 1, 'filters_per_conv': 111, 'filter_len': 6, 'nodes_per_dense': 100, 'dense_dropout_rate': 0.2836371911565726}. Best is trial 0 with value: 0.4544324938913781.\u001b[0m\n",
            "\u001b[32m[I 2021-05-19 04:21:18,941]\u001b[0m Trial 9 finished with value: 0.39423351169723275 and parameters: {'n_conv_layers': 2, 'filters_per_conv': 124, 'filter_len': 8, 'nodes_per_dense': 52, 'dense_dropout_rate': 0.3964475491653058}. Best is trial 0 with value: 0.4544324938913781.\u001b[0m\n",
            "\u001b[32m[I 2021-05-19 04:23:35,231]\u001b[0m Trial 10 finished with value: 0.4472586537199266 and parameters: {'n_conv_layers': 1, 'filters_per_conv': 204, 'filter_len': 6, 'nodes_per_dense': 235, 'dense_dropout_rate': 0.4565491145264152}. Best is trial 0 with value: 0.4544324938913781.\u001b[0m\n",
            "\u001b[32m[I 2021-05-19 04:25:40,478]\u001b[0m Trial 11 finished with value: 0.4473469531593889 and parameters: {'n_conv_layers': 1, 'filters_per_conv': 196, 'filter_len': 6, 'nodes_per_dense': 246, 'dense_dropout_rate': 0.48781997587377574}. Best is trial 0 with value: 0.4544324938913781.\u001b[0m\n",
            "\u001b[32m[I 2021-05-19 04:27:52,121]\u001b[0m Trial 12 finished with value: 0.45309717695647544 and parameters: {'n_conv_layers': 1, 'filters_per_conv': 244, 'filter_len': 6, 'nodes_per_dense': 203, 'dense_dropout_rate': 0.38613618789170856}. Best is trial 0 with value: 0.4544324938913781.\u001b[0m\n",
            "\u001b[32m[I 2021-05-19 04:29:52,440]\u001b[0m Trial 13 finished with value: 0.4526227075615014 and parameters: {'n_conv_layers': 1, 'filters_per_conv': 256, 'filter_len': 8, 'nodes_per_dense': 195, 'dense_dropout_rate': 0.3786190240795454}. Best is trial 0 with value: 0.4544324938913781.\u001b[0m\n",
            "\u001b[32m[I 2021-05-19 04:32:16,813]\u001b[0m Trial 14 finished with value: 0.4520529526509575 and parameters: {'n_conv_layers': 1, 'filters_per_conv': 234, 'filter_len': 5, 'nodes_per_dense': 199, 'dense_dropout_rate': 0.3921994016619403}. Best is trial 0 with value: 0.4544324938913781.\u001b[0m\n",
            "\u001b[32m[I 2021-05-19 04:33:59,682]\u001b[0m Trial 15 finished with value: 0.43214138092785426 and parameters: {'n_conv_layers': 1, 'filters_per_conv': 174, 'filter_len': 7, 'nodes_per_dense': 212, 'dense_dropout_rate': 0.36377467536869174}. Best is trial 0 with value: 0.4544324938913781.\u001b[0m\n",
            "\u001b[32m[I 2021-05-19 04:36:27,823]\u001b[0m Trial 16 finished with value: 0.4493247621051295 and parameters: {'n_conv_layers': 1, 'filters_per_conv': 236, 'filter_len': 7, 'nodes_per_dense': 178, 'dense_dropout_rate': 0.43853620668359}. Best is trial 0 with value: 0.4544324938913781.\u001b[0m\n",
            "\u001b[32m[I 2021-05-19 04:38:46,975]\u001b[0m Trial 17 finished with value: 0.44227448492664145 and parameters: {'n_conv_layers': 1, 'filters_per_conv': 173, 'filter_len': 5, 'nodes_per_dense': 219, 'dense_dropout_rate': 0.3429972217523445}. Best is trial 0 with value: 0.4544324938913781.\u001b[0m\n",
            "\u001b[32m[I 2021-05-19 04:42:40,596]\u001b[0m Trial 18 finished with value: 0.44326735181432564 and parameters: {'n_conv_layers': 1, 'filters_per_conv': 256, 'filter_len': 3, 'nodes_per_dense': 171, 'dense_dropout_rate': 0.49945633911361015}. Best is trial 0 with value: 0.4544324938913781.\u001b[0m\n",
            "\u001b[32m[I 2021-05-19 04:44:57,263]\u001b[0m Trial 19 finished with value: 0.45201598920452807 and parameters: {'n_conv_layers': 1, 'filters_per_conv': 177, 'filter_len': 6, 'nodes_per_dense': 110, 'dense_dropout_rate': 0.42775223782110045}. Best is trial 0 with value: 0.4544324938913781.\u001b[0m\n",
            "\u001b[32m[I 2021-05-19 04:46:28,958]\u001b[0m Trial 20 finished with value: 0.41253027471533105 and parameters: {'n_conv_layers': 1, 'filters_per_conv': 44, 'filter_len': 7, 'nodes_per_dense': 158, 'dense_dropout_rate': 0.33881431631820214}. Best is trial 0 with value: 0.4544324938913781.\u001b[0m\n",
            "\u001b[32m[I 2021-05-19 04:48:19,335]\u001b[0m Trial 21 finished with value: 0.4487508648534145 and parameters: {'n_conv_layers': 1, 'filters_per_conv': 255, 'filter_len': 8, 'nodes_per_dense': 194, 'dense_dropout_rate': 0.39386505319860166}. Best is trial 0 with value: 0.4544324938913781.\u001b[0m\n",
            "\u001b[32m[I 2021-05-19 04:50:10,434]\u001b[0m Trial 22 finished with value: 0.44427086538366467 and parameters: {'n_conv_layers': 1, 'filters_per_conv': 225, 'filter_len': 8, 'nodes_per_dense': 256, 'dense_dropout_rate': 0.4162017663164147}. Best is trial 0 with value: 0.4544324938913781.\u001b[0m\n",
            "\u001b[32m[I 2021-05-19 04:52:54,447]\u001b[0m Trial 23 finished with value: 0.44956307196648904 and parameters: {'n_conv_layers': 1, 'filters_per_conv': 254, 'filter_len': 5, 'nodes_per_dense': 217, 'dense_dropout_rate': 0.3461586082261871}. Best is trial 0 with value: 0.4544324938913781.\u001b[0m\n",
            "\u001b[32m[I 2021-05-19 04:55:21,451]\u001b[0m Trial 24 finished with value: 0.4523240506055103 and parameters: {'n_conv_layers': 1, 'filters_per_conv': 222, 'filter_len': 6, 'nodes_per_dense': 191, 'dense_dropout_rate': 0.49520976669758054}. Best is trial 0 with value: 0.4544324938913781.\u001b[0m\n",
            "\u001b[32m[I 2021-05-19 04:57:49,716]\u001b[0m Trial 25 finished with value: 0.44321830521249594 and parameters: {'n_conv_layers': 1, 'filters_per_conv': 192, 'filter_len': 4, 'nodes_per_dense': 215, 'dense_dropout_rate': 0.37626588298299735}. Best is trial 0 with value: 0.4544324938913781.\u001b[0m\n",
            "\u001b[32m[I 2021-05-19 05:00:16,962]\u001b[0m Trial 26 finished with value: 0.45284360097062837 and parameters: {'n_conv_layers': 1, 'filters_per_conv': 256, 'filter_len': 7, 'nodes_per_dense': 131, 'dense_dropout_rate': 0.4617488158861552}. Best is trial 0 with value: 0.4544324938913781.\u001b[0m\n",
            "\u001b[32m[I 2021-05-19 05:02:43,407]\u001b[0m Trial 27 finished with value: 0.45240940110549205 and parameters: {'n_conv_layers': 1, 'filters_per_conv': 226, 'filter_len': 7, 'nodes_per_dense': 121, 'dense_dropout_rate': 0.45487401090856844}. Best is trial 0 with value: 0.4544324938913781.\u001b[0m\n",
            "\u001b[32m[I 2021-05-19 05:06:10,059]\u001b[0m Trial 28 finished with value: 0.4508990660118396 and parameters: {'n_conv_layers': 1, 'filters_per_conv': 245, 'filter_len': 6, 'nodes_per_dense': 92, 'dense_dropout_rate': 0.47546494105463694}. Best is trial 0 with value: 0.4544324938913781.\u001b[0m\n",
            "\u001b[32m[I 2021-05-19 05:09:09,792]\u001b[0m Trial 29 finished with value: 0.45623717851248724 and parameters: {'n_conv_layers': 1, 'filters_per_conv': 218, 'filter_len': 5, 'nodes_per_dense': 70, 'dense_dropout_rate': 0.41912793980547863}. Best is trial 29 with value: 0.45623717851248724.\u001b[0m\n",
            "\u001b[32m[I 2021-05-19 05:12:21,051]\u001b[0m Trial 30 finished with value: 0.44556236430044616 and parameters: {'n_conv_layers': 1, 'filters_per_conv': 183, 'filter_len': 3, 'nodes_per_dense': 55, 'dense_dropout_rate': 0.3205230496173394}. Best is trial 29 with value: 0.45623717851248724.\u001b[0m\n",
            "\u001b[32m[I 2021-05-19 05:15:08,751]\u001b[0m Trial 31 finished with value: 0.45694272208996933 and parameters: {'n_conv_layers': 1, 'filters_per_conv': 213, 'filter_len': 5, 'nodes_per_dense': 81, 'dense_dropout_rate': 0.42146129321086045}. Best is trial 31 with value: 0.45694272208996933.\u001b[0m\n",
            "\u001b[32m[I 2021-05-19 05:18:30,781]\u001b[0m Trial 32 finished with value: 0.3191549321573765 and parameters: {'n_conv_layers': 1, 'filters_per_conv': 217, 'filter_len': 5, 'nodes_per_dense': 14, 'dense_dropout_rate': 0.4260590806728847}. Best is trial 31 with value: 0.45694272208996933.\u001b[0m\n",
            "\u001b[32m[I 2021-05-19 05:21:34,329]\u001b[0m Trial 33 finished with value: 0.44996404199665696 and parameters: {'n_conv_layers': 1, 'filters_per_conv': 154, 'filter_len': 4, 'nodes_per_dense': 70, 'dense_dropout_rate': 0.41687570409589514}. Best is trial 31 with value: 0.45694272208996933.\u001b[0m\n",
            "\u001b[32m[I 2021-05-19 05:23:40,804]\u001b[0m Trial 34 finished with value: 0.41552677476814137 and parameters: {'n_conv_layers': 2, 'filters_per_conv': 211, 'filter_len': 5, 'nodes_per_dense': 33, 'dense_dropout_rate': 0.4435623664573635}. Best is trial 31 with value: 0.45694272208996933.\u001b[0m\n",
            "\u001b[32m[I 2021-05-19 05:26:44,112]\u001b[0m Trial 35 finished with value: 0.463518720109795 and parameters: {'n_conv_layers': 1, 'filters_per_conv': 237, 'filter_len': 5, 'nodes_per_dense': 80, 'dense_dropout_rate': 0.40602028340804525}. Best is trial 35 with value: 0.463518720109795.\u001b[0m\n",
            "\u001b[32m[I 2021-05-19 05:28:45,148]\u001b[0m Trial 36 finished with value: 0.4272251448215963 and parameters: {'n_conv_layers': 1, 'filters_per_conv': 193, 'filter_len': 4, 'nodes_per_dense': 73, 'dense_dropout_rate': 0.15943403184433816}. Best is trial 35 with value: 0.463518720109795.\u001b[0m\n",
            "\u001b[32m[I 2021-05-19 05:31:49,760]\u001b[0m Trial 37 finished with value: 0.45969319448894164 and parameters: {'n_conv_layers': 1, 'filters_per_conv': 238, 'filter_len': 5, 'nodes_per_dense': 88, 'dense_dropout_rate': 0.4753333516498144}. Best is trial 35 with value: 0.463518720109795.\u001b[0m\n",
            "\u001b[32m[I 2021-05-19 05:35:01,253]\u001b[0m Trial 38 finished with value: 0.4607794944814662 and parameters: {'n_conv_layers': 1, 'filters_per_conv': 235, 'filter_len': 5, 'nodes_per_dense': 92, 'dense_dropout_rate': 0.48555300818077374}. Best is trial 35 with value: 0.463518720109795.\u001b[0m\n"
          ],
          "name": "stderr"
        }
      ]
    },
    {
      "cell_type": "code",
      "metadata": {
        "pycharm": {
          "name": "#%%\n"
        },
        "id": "54hJZV37lShb"
      },
      "source": [
        "cnn_predictive_performance, cnn_agg_performance = get_predictive_performance(cnn_prediction_list,\n",
        "                                                                             'sgRNA Activity')"
      ],
      "id": "54hJZV37lShb",
      "execution_count": null,
      "outputs": []
    },
    {
      "cell_type": "code",
      "metadata": {
        "pycharm": {
          "name": "#%%\n"
        },
        "id": "xyEMR0splShb"
      },
      "source": [
        "cnn_agg_performance"
      ],
      "id": "xyEMR0splShb",
      "execution_count": null,
      "outputs": []
    },
    {
      "cell_type": "code",
      "metadata": {
        "pycharm": {
          "name": "#%%\n"
        },
        "id": "g_SuytkDlShb"
      },
      "source": [
        "plot_spearman_heatmap(cnn_predictive_performance)"
      ],
      "id": "g_SuytkDlShb",
      "execution_count": null,
      "outputs": []
    },
    {
      "cell_type": "code",
      "metadata": {
        "pycharm": {
          "name": "#%%\n"
        },
        "id": "WF4PEudblShb"
      },
      "source": [
        "plot_model_performance(cnn_predictive_performance, wspace=0.5)"
      ],
      "id": "WF4PEudblShb",
      "execution_count": null,
      "outputs": []
    },
    {
      "cell_type": "markdown",
      "metadata": {
        "collapsed": false,
        "id": "NGk3mK6ylShc"
      },
      "source": [
        "## **Remember to download the predictive performance dataframe, as the local store is not permanent**\n"
      ],
      "id": "NGk3mK6ylShc"
    },
    {
      "cell_type": "code",
      "metadata": {
        "pycharm": {
          "name": "#%%\n"
        },
        "id": "Ru07Q9cQlShc"
      },
      "source": [
        "cnn_predictive_performance"
      ],
      "id": "Ru07Q9cQlShc",
      "execution_count": null,
      "outputs": []
    },
    {
      "cell_type": "code",
      "metadata": {
        "pycharm": {
          "name": "#%%\n"
        },
        "id": "uUJJa92FlShc"
      },
      "source": [
        "cnn_predictions = pd.concat(cnn_prediction_list)"
      ],
      "id": "uUJJa92FlShc",
      "execution_count": null,
      "outputs": []
    },
    {
      "cell_type": "code",
      "metadata": {
        "pycharm": {
          "name": "#%%\n"
        },
        "id": "NyskP4Y3lShc"
      },
      "source": [
        "cnn_predictions.to_csv('seq_cnn_predictions.csv', index=False)"
      ],
      "id": "NyskP4Y3lShc",
      "execution_count": null,
      "outputs": []
    },
    {
      "cell_type": "code",
      "metadata": {
        "pycharm": {
          "name": "#%%\n"
        },
        "id": "j1gky4ValShc"
      },
      "source": [
        ""
      ],
      "id": "j1gky4ValShc",
      "execution_count": null,
      "outputs": []
    }
  ]
}