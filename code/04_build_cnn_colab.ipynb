{
 "nbformat": 4,
 "nbformat_minor": 5,
 "metadata": {
  "kernelspec": {
   "name": "rs_dev_conda",
   "language": "python",
   "display_name": "rs_dev_conda"
  },
  "colab": {
   "name": "03_build_seq_model.ipynb",
   "provenance": [],
   "toc_visible": true,
   "machine_shape": "hm",
   "include_colab_link": true
  },
  "accelerator": "GPU",
  "language_info": {
   "name": "python"
  }
 },
 "cells": [
  {
   "cell_type": "markdown",
   "source": [
    "# Build Sequence Model"
   ],
   "metadata": {
    "collapsed": false
   }
  },
  {
   "cell_type": "code",
   "execution_count": null,
   "outputs": [],
   "source": [
    "gpu_info = !nvidia-smi\n",
    "gpu_info = '\\n'.join(gpu_info)\n",
    "if gpu_info.find('failed') >= 0:\n",
    "  print('Select the Runtime > \"Change runtime type\" menu to enable a GPU accelerator, ')\n",
    "  print('and then re-execute this cell.')\n",
    "else:\n",
    "  print(gpu_info)"
   ],
   "metadata": {
    "collapsed": false,
    "pycharm": {
     "name": "#%%\n"
    }
   }
  },
  {
   "cell_type": "code",
   "execution_count": null,
   "outputs": [],
   "source": [
    "import multiprocessing\n",
    "n_cpus = multiprocessing.cpu_count()\n",
    "print(n_cpus)"
   ],
   "metadata": {
    "collapsed": false,
    "pycharm": {
     "name": "#%%\n"
    }
   }
  },
  {
   "cell_type": "code",
   "execution_count": null,
   "outputs": [],
   "source": [
    "!pip install -U --pre --extra-index https://pypi.anaconda.org/scipy-wheels-nightly/simple scikit-learn\n",
    "!pip install -U lightgbm --install-option=--gpu\n",
    "!pip install sglearn\n",
    "!pip install optuna"
   ],
   "metadata": {
    "collapsed": false,
    "pycharm": {
     "name": "#%%\n"
    }
   }
  },
  {
   "cell_type": "code",
   "execution_count": null,
   "outputs": [],
   "source": [
    "import pandas as pd\n",
    "from sklearn.model_selection import StratifiedGroupKFold, train_test_split\n",
    "from sklearn.base import clone\n",
    "from sklearn.metrics import r2_score\n",
    "import optuna\n",
    "from joblib import Parallel, delayed\n",
    "import numpy as np\n",
    "from tensorflow import keras\n",
    "from datetime import datetime\n",
    "\n",
    "from datasets_colab import dataset_list\n",
    "from core import (get_predictive_performance,\n",
    "                  plot_spearman_heatmap,\n",
    "                  plot_model_performance,\n",
    "                  setup_plots)"
   ],
   "metadata": {
    "collapsed": false,
    "pycharm": {
     "name": "#%%\n"
    }
   }
  },
  {
   "cell_type": "code",
   "execution_count": null,
   "outputs": [],
   "source": [
    "setup_plots()"
   ],
   "metadata": {
    "collapsed": false,
    "pycharm": {
     "name": "#%%\n"
    }
   }
  },
  {
   "cell_type": "code",
   "execution_count": null,
   "outputs": [],
   "source": [
    "train_data_names = pd.read_csv('train_data_names.csv').name.to_list()"
   ],
   "metadata": {
    "collapsed": false,
    "pycharm": {
     "name": "#%%\n"
    }
   }
  },
  {
   "cell_type": "code",
   "execution_count": null,
   "outputs": [],
   "source": [
    "train_data_list = list()\n",
    "for ds in dataset_list:\n",
    "    if ds.name in train_data_names:\n",
    "        train_data_list.append(ds)\n",
    "\n",
    "for ds in train_data_list:\n",
    "    ds.load_data()\n",
    "    ds.set_sgrnas()"
   ],
   "metadata": {
    "collapsed": false,
    "pycharm": {
     "name": "#%%\n"
    }
   }
  },
  {
   "cell_type": "markdown",
   "source": [
    "## Cross-Validation Iterator"
   ],
   "metadata": {
    "collapsed": false
   }
  },
  {
   "cell_type": "code",
   "execution_count": null,
   "outputs": [],
   "source": [
    "sg_df_list = []\n",
    "for ds in train_data_list:\n",
    "    sg_df = ds.get_sg_df(include_group=True, include_activity=True)\n",
    "    sg_df['dataset'] = ds.name\n",
    "    sg_df_list.append(sg_df)\n",
    "sg_df_groups = (pd.concat(sg_df_list)\n",
    "                .groupby(['sgRNA Context Sequence'])\n",
    "                .agg(n_conditions = ('sgRNA Context Sequence', 'count'),\n",
    "                     target = ('sgRNA Target', lambda x: ', '.join(set([s.upper() for s in x if not pd.isna(s)]))))\n",
    "                .reset_index())\n",
    "multi_target = sg_df_groups['target'].str.contains(',').sum()\n",
    "print('Context sequences with multiple targets: ' + str(multi_target))"
   ],
   "metadata": {
    "collapsed": false,
    "pycharm": {
     "name": "#%%\n"
    }
   }
  },
  {
   "cell_type": "code",
   "execution_count": null,
   "outputs": [],
   "source": [
    "# handle singleton case\n",
    "sg_df_groups['target'] = sg_df_groups.apply(lambda row:\n",
    "                                            row['target'] if (row['target'] != '') else row['sgRNA Context Sequence'],\n",
    "                                            axis=1)\n",
    "# Note that 'target' is not in the sg_df_list, and is coming from the sg_df_groups df\n",
    "sg_df_class_groups = (pd.concat(sg_df_list)\n",
    "                      .merge(sg_df_groups, how='inner', on='sgRNA Context Sequence')\n",
    "                      .sort_values(['dataset', 'target'])\n",
    "                      .reset_index(drop=True))\n",
    "sgkf = StratifiedGroupKFold(n_splits=5, shuffle=True, random_state=7)\n",
    "tidy_cv_list = []\n",
    "for i, (train_index, test_index) in enumerate(sgkf.split(sg_df_class_groups, sg_df_class_groups.dataset,\n",
    "                                                         sg_df_class_groups.target)):\n",
    "    train_df = sg_df_class_groups.iloc[train_index,:].copy()\n",
    "    train_df['cv'] = i\n",
    "    train_df['train'] = True\n",
    "    tidy_cv_list.append(train_df)\n",
    "    test_df = sg_df_class_groups.iloc[test_index,:].copy()\n",
    "    test_df['cv'] = i\n",
    "    test_df['train'] = False\n",
    "    tidy_cv_list.append(test_df)\n",
    "tidy_cv_df = pd.concat(tidy_cv_list)\n",
    "cv_train_data_counts = (tidy_cv_df[['cv', 'train', 'dataset']].value_counts()\n",
    "                        .reset_index(name='n'))\n",
    "cv_train_data_counts"
   ],
   "metadata": {
    "collapsed": false,
    "pycharm": {
     "name": "#%%\n"
    }
   }
  },
  {
   "cell_type": "markdown",
   "source": [
    "## Keras Convolutional Neural Network"
   ],
   "metadata": {
    "collapsed": false
   }
  },
  {
   "cell_type": "code",
   "execution_count": null,
   "outputs": [],
   "source": [
    "def get_cnn(n_conv_layers, filters_per_conv, filter_len,\n",
    "            nodes_per_dense, dense_dropout_rate, n_dense_layers=1,\n",
    "            input_shape=(30, 4), activation='relu', initializer='he_uniform',\n",
    "            pool_size=2, loss='mse', optimizer='Adam'):\n",
    "    model = keras.models.Sequential()\n",
    "    model.add(keras.layers.InputLayer(input_shape=input_shape))\n",
    "    for _ in range(n_conv_layers):\n",
    "        model.add(keras.layers.Conv1D(filters=filters_per_conv, kernel_size=filter_len,\n",
    "                                      activation=activation, kernel_initializer=initializer))\n",
    "        model.add(keras.layers.AveragePooling1D(pool_size=pool_size))\n",
    "    model.add(keras.layers.Flatten())\n",
    "    model.add(keras.layers.Dropout(dense_dropout_rate))\n",
    "    for _ in range(n_dense_layers):\n",
    "        model.add(keras.layers.Dense(nodes_per_dense, activation=activation, kernel_initializer=initializer))\n",
    "        model.add(keras.layers.Dropout(dense_dropout_rate))\n",
    "    model.add(keras.layers.Dense(1, activation='linear'))\n",
    "    model.compile(loss=loss, optimizer=optimizer)\n",
    "    return model\n",
    "\n",
    "nt_codes = {'A':[1,0,0,0],\n",
    "            'C':[0,1,0,0],\n",
    "            'G':[0,0,1,0],\n",
    "            'T':[0,0,0,1]}\n",
    "\n",
    "def encode_seqs(seqs):\n",
    "    # 3d array with samples x position x nt\n",
    "    encoded_seqs = np.array([[nt_codes.get(x) for x in seq] for seq in seqs])\n",
    "    return encoded_seqs\n",
    "\n",
    "\n",
    "def cnn_training_iteration(fold_df, train_index, test_index, base_model):\n",
    "    \"\"\"Train cnn model for optuna iterations\n",
    "\n",
    "    :param fold_df: DataFrame\n",
    "    :param train_index: list-like\n",
    "    :param test_index: list-like\n",
    "    :param base_model: KerasRegressor\n",
    "    :return: r^2\n",
    "    \"\"\"\n",
    "    train_df = fold_df.iloc[train_index,:].reset_index(drop=True)\n",
    "    train_df['sgRNA Activity'] = (train_df.groupby('dataset')\n",
    "                                  ['sgRNA Activity']\n",
    "                                  .rank(pct=True))\n",
    "    train_val_seqs = train_df['sgRNA Context Sequence'] # train and validation data\n",
    "    y_train_val = train_df['sgRNA Activity']\n",
    "    train_seqs, val_seqs, y_train, y_val = train_test_split(train_val_seqs, y_train_val,\n",
    "                                                            test_size=0.1, random_state=7)\n",
    "    X_train = encode_seqs(train_seqs)\n",
    "    X_val = encode_seqs(val_seqs)\n",
    "    model = clone(base_model)\n",
    "    model.fit(X_train, y_train, verbose=0, validation_data=(X_val, y_val),\n",
    "              callbacks=[keras.callbacks.EarlyStopping(patience=20)])\n",
    "    test_df = fold_df.iloc[test_index,:].reset_index(drop=True)\n",
    "    X_test = encode_seqs(test_df['sgRNA Context Sequence'])\n",
    "    test_predictions = test_df.copy()\n",
    "    test_predictions['prediction'] = model.predict(X_test)\n",
    "    test_predictions['sgRNA Activity'] = (test_predictions.groupby('dataset')\n",
    "                                          ['sgRNA Activity']\n",
    "                                          .rank(pct=True))\n",
    "    r2 = r2_score(test_predictions['sgRNA Activity'], test_predictions['prediction'])\n",
    "    return r2\n",
    "\n",
    "\n",
    "def get_cnn_objective(fold_df):\n",
    "    \"\"\"Get objective function for training a cnn model\n",
    "\n",
    "    :param fold_df: DataFrame\n",
    "    :return: objective function\n",
    "    \"\"\"\n",
    "    def objective(trial):\n",
    "        \"\"\"For training set, get optimal hyperparameters for cnn\n",
    "\n",
    "        :param trial: optuna.trial\n",
    "        :return: int, pearson correlation with held out test data\n",
    "        \"\"\"\n",
    "        sgkf = StratifiedGroupKFold(n_splits=5, shuffle=True, random_state=7)\n",
    "        n_conv_layers = trial.suggest_int('n_conv_layers', 1, 2)\n",
    "        filters_per_conv = trial.suggest_int('filters_per_conv', 32, 256)\n",
    "        filter_len = trial.suggest_int('filter_len', 2, 8)\n",
    "        nodes_per_dense = trial.suggest_int('nodes_per_dense', 8, 256)\n",
    "        dense_dropout_rate = trial.suggest_float('dense_dropout_rate', 0.1, 0.5)\n",
    "        model = keras.wrappers.scikit_learn.KerasRegressor(build_fn=get_cnn, epochs=5000,\n",
    "                                                           n_conv_layers=n_conv_layers,\n",
    "                                                           filters_per_conv=filters_per_conv,\n",
    "                                                           filter_len=filter_len,\n",
    "                                                           nodes_per_dense=nodes_per_dense,\n",
    "                                                           dense_dropout_rate=dense_dropout_rate)\n",
    "        performance = Parallel(n_jobs=5)(delayed(cnn_training_iteration)\n",
    "                                         (fold_df, train_index, test_index, model) for\n",
    "                                         train_index, test_index in\n",
    "                                         sgkf.split(fold_df, fold_df.dataset, fold_df.target))\n",
    "        avg_performance = np.mean(performance)\n",
    "        return avg_performance\n",
    "    return objective"
   ],
   "metadata": {
    "collapsed": false,
    "pycharm": {
     "name": "#%%\n"
    }
   }
  },
  {
   "cell_type": "code",
   "execution_count": null,
   "outputs": [],
   "source": [
    "n_trials = 2\n",
    "cnn_prediction_list = []\n",
    "\n",
    "for fold, fold_df in tidy_cv_df.groupby('cv'):\n",
    "    print('Fold: ' + str(fold))\n",
    "    fold_train_data = fold_df.query('train == True').reset_index(drop=True)\n",
    "    study = optuna.create_study(direction='maximize',\n",
    "                                sampler=optuna.samplers.TPESampler(seed=7)) # maximize r^2\n",
    "    objective = get_cnn_objective(fold_train_data)\n",
    "    start_time = datetime.now()\n",
    "    study.optimize(objective, n_trials=n_trials)\n",
    "    end_time = datetime.now()\n",
    "    difference = end_time - start_time\n",
    "    print(\"Number of finished trials: {}\".format(len(study.trials)))\n",
    "    print(\"Training Time: \" + str(difference))\n",
    "    print(\"Best trial:\")\n",
    "    trial = study.best_trial\n",
    "    print(\"  Value: {}\".format(trial.value))\n",
    "    print(\"  Params: \")\n",
    "    for key, value in trial.params.items():\n",
    "        print(\"    {}: {}\".format(key, value))\n",
    "    # Using optimal parameters, retrain model with full dataset\n",
    "    train_df = fold_train_data.copy()\n",
    "    train_df['sgRNA Activity'] = (train_df.groupby('dataset')\n",
    "                                  ['sgRNA Activity']\n",
    "                                  .rank(pct=True))\n",
    "    train_val_seqs = train_df['sgRNA Context Sequence'] # train and validation data\n",
    "    y_train_val = train_df['sgRNA Activity']\n",
    "    train_seqs, val_seqs, y_train, y_val = train_test_split(train_val_seqs, y_train_val,\n",
    "                                                            test_size=0.1, random_state=7)\n",
    "    X_train = encode_seqs(train_seqs)\n",
    "    X_val = encode_seqs(val_seqs)\n",
    "    model = keras.wrappers.scikit_learn.KerasRegressor(build_fn=get_cnn, epochs=5000,\n",
    "                                                       **trial.params)\n",
    "    model.fit(X_train, y_train, verbose=0, validation_data=(X_val, y_val),\n",
    "              callbacks=[keras.callbacks.EarlyStopping(patience=20)])\n",
    "    # Test optimal model on test data\n",
    "    fold_test_data = fold_df.query('train == False').reset_index(drop=True)\n",
    "    X_test = encode_seqs(fold_test_data['sgRNA Context Sequence'])\n",
    "    test_predictions = fold_test_data.copy()\n",
    "    test_predictions['prediction'] = model.predict(X_test)\n",
    "    test_predictions['model_name'] = 'All + CNN + TPE' + str(n_trials)\n",
    "    test_predictions['fold'] = fold\n",
    "    cnn_prediction_list.append(test_predictions)"
   ],
   "metadata": {
    "collapsed": false,
    "pycharm": {
     "name": "#%%\n"
    }
   }
  },
  {
   "cell_type": "code",
   "execution_count": null,
   "outputs": [],
   "source": [
    "cnn_predictive_performance, cnn_agg_performance = get_predictive_performance(cnn_prediction_list,\n",
    "                                                                             'sgRNA Activity')"
   ],
   "metadata": {
    "collapsed": false,
    "pycharm": {
     "name": "#%%\n"
    }
   }
  },
  {
   "cell_type": "code",
   "execution_count": null,
   "outputs": [],
   "source": [
    "cnn_agg_performance"
   ],
   "metadata": {
    "collapsed": false,
    "pycharm": {
     "name": "#%%\n"
    }
   }
  },
  {
   "cell_type": "code",
   "execution_count": null,
   "outputs": [],
   "source": [
    "plot_spearman_heatmap(cnn_predictive_performance)"
   ],
   "metadata": {
    "collapsed": false,
    "pycharm": {
     "name": "#%%\n"
    }
   }
  },
  {
   "cell_type": "code",
   "execution_count": null,
   "outputs": [],
   "source": [
    "g = plot_model_performance(cnn_predictive_performance, wspace=0.5)\n",
    "g.save('nt_cnn_performance.pdf', width=3.5, height=2.2)\n",
    "g"
   ],
   "metadata": {
    "collapsed": false,
    "pycharm": {
     "name": "#%%\n"
    }
   }
  },
  {
   "cell_type": "markdown",
   "source": [
    "## **Remember to download the predictive performance dataframe, as the local store is not permanent**\n"
   ],
   "metadata": {
    "collapsed": false
   }
  },
  {
   "cell_type": "code",
   "execution_count": null,
   "outputs": [],
   "source": [
    "cnn_predictions = pd.concat(cnn_prediction_list)"
   ],
   "metadata": {
    "collapsed": false,
    "pycharm": {
     "name": "#%%\n"
    }
   }
  },
  {
   "cell_type": "code",
   "execution_count": null,
   "outputs": [],
   "source": [
    "pd.options.display.max_rows = 999\n",
    "cnn_predictions"
   ],
   "metadata": {
    "collapsed": false,
    "pycharm": {
     "name": "#%%\n"
    }
   }
  },
  {
   "cell_type": "code",
   "execution_count": null,
   "outputs": [],
   "source": [
    "cnn_predictions.to_csv('cnn_predictions.csv', index=False)"
   ],
   "metadata": {
    "collapsed": false,
    "pycharm": {
     "name": "#%%\n"
    }
   }
  },
  {
   "cell_type": "code",
   "execution_count": null,
   "outputs": [],
   "source": [],
   "metadata": {
    "collapsed": false,
    "pycharm": {
     "name": "#%%\n"
    }
   }
  }
 ]
}