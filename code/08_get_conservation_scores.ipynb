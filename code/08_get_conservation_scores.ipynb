{
 "cells": [
  {
   "cell_type": "markdown",
   "source": [
    "# Get Conservation Scores\n",
    "\n",
    "Get PhyloP conservation scores for ensembl transcripts"
   ],
   "metadata": {
    "collapsed": false,
    "pycharm": {
     "name": "#%% md\n"
    }
   }
  },
  {
   "cell_type": "code",
   "execution_count": 1,
   "metadata": {
    "collapsed": true
   },
   "outputs": [],
   "source": [
    "import pandas as pd\n",
    "import requests\n",
    "import sys\n",
    "from datasets import dataset_list\n",
    "from tqdm import tqdm"
   ]
  },
  {
   "cell_type": "code",
   "execution_count": 2,
   "outputs": [],
   "source": [
    "\n",
    "def get_conservation(chr, start, end, genome):\n",
    "    api_url = 'http://api.genome.ucsc.edu/getData/track'\n",
    "    if genome == 'hg38':\n",
    "        track = 'phyloP100way'\n",
    "    elif genome == 'mm39':\n",
    "        track = 'phyloP35way'\n",
    "    else:\n",
    "        raise ValueError('Genome not recognized')\n",
    "    chrom = 'chr' + chr\n",
    "    params = {\n",
    "        'genome': genome,\n",
    "        'track': track,\n",
    "        'start': start,\n",
    "        'end': end,\n",
    "        'chrom': chrom\n",
    "    }\n",
    "    results = requests.get(api_url, data=params)\n",
    "    if results.ok:\n",
    "        value_df = (pd.DataFrame([pd.Series(x) for x in pd.read_json(results.content.decode('utf8'))[chrom].values])\n",
    "                    .rename(columns={'value': 'conservation'}))\n",
    "    else:\n",
    "        raise ValueError(results.reason)\n",
    "    return value_df\n",
    "\n",
    "\n",
    "def build_request_url(ext, server=\"https://rest.ensembl.org\"):\n",
    "    request_url = \"/\".join([server, ext])\n",
    "    return request_url\n",
    "\n",
    "\n",
    "def handle_results(results):\n",
    "    if not results.ok:\n",
    "        results.raise_for_status()\n",
    "        sys.exit()\n",
    "    decoded = results.json()\n",
    "    return decoded\n",
    "\n",
    "\n",
    "def get_transcript_info(transcript):\n",
    "    base_transcript = transcript.split('.')[0]\n",
    "    request_url = build_request_url(\"/lookup/id/\" + base_transcript + \"?expand=1\")\n",
    "    r = requests.get(request_url, headers={\"Content-Type\": \"application/json\"})\n",
    "    decoded = handle_results(r)\n",
    "    exon_df = pd.DataFrame(decoded['Exon'])\n",
    "    trans_sr = pd.Series(decoded['Translation'])\n",
    "    chr = decoded['seq_region_name']\n",
    "    return exon_df, trans_sr, chr\n",
    "\n",
    "\n",
    "def get_exon_conservation(exon_df, chr, genome):\n",
    "    conservation_dict = {}\n",
    "    for i, row in exon_df.set_index('id').iterrows():\n",
    "        # subtract one since the nucleotide conservation corresponds to the \"end\" index\n",
    "        conservation_dict[i] = get_conservation(chr, row['start'] - 1, row['end'], genome)\n",
    "        # get the conservation of i\n",
    "    conservation_df = (pd.concat(conservation_dict)\n",
    "                       .reset_index(level=0)\n",
    "                       .reset_index(drop=True)\n",
    "                       .rename({'level_0': 'exon_id',\n",
    "                                'end': 'genomic position'}, axis=1)\n",
    "                       .drop('start', axis=1))\n",
    "    return conservation_df\n",
    "\n",
    "\n",
    "def get_transcript_conservation(transcript_id, target_strand, genome):\n",
    "    exon_df, trans_sr, chr = get_transcript_info(transcript_id)\n",
    "    # only include translated positions\n",
    "    exon_df['start'] = exon_df['start'].apply(lambda x: max(x, trans_sr['start']))\n",
    "    exon_df['end'] = exon_df['end'].apply(lambda x: min(x, trans_sr['end']))\n",
    "    exon_df = exon_df[exon_df['end'] > exon_df['start']].reset_index(drop=True)\n",
    "    conservation_df = get_exon_conservation(exon_df, chr, genome)\n",
    "    conservation_df['Transcript Base'] = transcript_id\n",
    "    if target_strand == '-':\n",
    "        ascending = False\n",
    "    else:\n",
    "        ascending = True\n",
    "    conservation_df = (conservation_df\n",
    "                       .sort_values('genomic position', ascending=ascending)\n",
    "                       .reset_index(drop=True))\n",
    "    conservation_df['target position'] = conservation_df.index + 1\n",
    "    conservation_df['chromosome'] = chr\n",
    "    conservation_df['genome'] = genome\n",
    "    return conservation_df\n"
   ],
   "metadata": {
    "collapsed": false,
    "pycharm": {
     "name": "#%%\n"
    }
   }
  },
  {
   "cell_type": "code",
   "execution_count": 3,
   "outputs": [
    {
     "name": "stderr",
     "output_type": "stream",
     "text": [
      "100%|██████████| 8/8 [00:23<00:00,  2.99s/it]\n"
     ]
    }
   ],
   "source": [
    "data_list = list()\n",
    "for ds in dataset_list:\n",
    "    if ds.endogenous:\n",
    "        data_list.append(ds)\n",
    "\n",
    "design_list = list()\n",
    "for ds in tqdm(data_list):\n",
    "    ds.load_data()\n",
    "    ds.set_sgrnas()\n",
    "    design_list.append(ds.get_designs())"
   ],
   "metadata": {
    "collapsed": false,
    "pycharm": {
     "name": "#%%\n"
    }
   }
  },
  {
   "cell_type": "code",
   "execution_count": 4,
   "outputs": [
    {
     "data": {
      "text/plain": "2998"
     },
     "execution_count": 4,
     "metadata": {},
     "output_type": "execute_result"
    }
   ],
   "source": [
    "design_df = (pd.concat(design_list)\n",
    "             .drop_duplicates())\n",
    "transcript_refseq_df = (design_df[['Target Transcript', 'Strand of Target', 'Target Total Length']]\n",
    "                        .drop_duplicates())\n",
    "transcript_refseq_df['Transcript Base'] = (transcript_refseq_df['Target Transcript']\n",
    "    .str.split('.', expand=True)[0])\n",
    "transcript_refseq_df['genome'] = transcript_refseq_df['Transcript Base'].apply(lambda trans:\n",
    "                                                                               'mm39' if 'MUS' in trans else 'hg38')\n",
    "len(transcript_refseq_df)\n"
   ],
   "metadata": {
    "collapsed": false,
    "pycharm": {
     "name": "#%%\n"
    }
   }
  },
  {
   "cell_type": "code",
   "execution_count": 5,
   "outputs": [
    {
     "name": "stderr",
     "output_type": "stream",
     "text": [
      "100%|██████████| 2998/2998 [3:51:43<00:00,  4.64s/it]  \n"
     ]
    },
    {
     "name": "stdout",
     "output_type": "stream",
     "text": [
      "Target Transcript      ENST00000611665.4\n",
      "Strand of Target                       +\n",
      "Target Total Length                  714\n",
      "Transcript Base          ENST00000611665\n",
      "genome                              hg38\n",
      "Name: 712, dtype: object\n",
      "Target Transcript      ENST00000622530.4\n",
      "Strand of Target                       +\n",
      "Target Total Length                 2391\n",
      "Transcript Base          ENST00000622530\n",
      "genome                              hg38\n",
      "Name: 3429, dtype: object\n",
      "Target Transcript      ENST00000368563.6\n",
      "Strand of Target                       -\n",
      "Target Total Length                 2709\n",
      "Transcript Base          ENST00000368563\n",
      "genome                              hg38\n",
      "Name: 3857, dtype: object\n",
      "Target Transcript      ENST00000377815.5\n",
      "Strand of Target                       +\n",
      "Target Total Length                 1860\n",
      "Transcript Base          ENST00000377815\n",
      "genome                              hg38\n",
      "Name: 4381, dtype: object\n",
      "Target Transcript      ENST00000618014.1\n",
      "Strand of Target                       -\n",
      "Target Total Length                 1299\n",
      "Transcript Base          ENST00000618014\n",
      "genome                              hg38\n",
      "Name: 5230, dtype: object\n",
      "Target Transcript      ENST00000424325.6\n",
      "Strand of Target                       +\n",
      "Target Total Length                  645\n",
      "Transcript Base          ENST00000424325\n",
      "genome                              hg38\n",
      "Name: 5330, dtype: object\n",
      "Target Transcript      ENST00000650726.1\n",
      "Strand of Target                       -\n",
      "Target Total Length                  786\n",
      "Transcript Base          ENST00000650726\n",
      "genome                              hg38\n",
      "Name: 5751, dtype: object\n",
      "Target Transcript      ENST00000572844.1\n",
      "Strand of Target                       +\n",
      "Target Total Length                 1701\n",
      "Transcript Base          ENST00000572844\n",
      "genome                              hg38\n",
      "Name: 7582, dtype: object\n",
      "Target Transcript      ENST00000344894.10\n",
      "Strand of Target                        +\n",
      "Target Total Length                  1794\n",
      "Transcript Base           ENST00000344894\n",
      "genome                               hg38\n",
      "Name: 7934, dtype: object\n",
      "Target Transcript      ENST00000355883.4\n",
      "Strand of Target                       +\n",
      "Target Total Length                  369\n",
      "Transcript Base          ENST00000355883\n",
      "genome                              hg38\n",
      "Name: 8087, dtype: object\n",
      "Target Transcript      ENST00000648169.1\n",
      "Strand of Target                       -\n",
      "Target Total Length                 1839\n",
      "Transcript Base          ENST00000648169\n",
      "genome                              hg38\n",
      "Name: 8378, dtype: object\n",
      "Target Transcript      ENST00000449977.7\n",
      "Strand of Target                       -\n",
      "Target Total Length                  411\n",
      "Transcript Base          ENST00000449977\n",
      "genome                              hg38\n",
      "Name: 8451, dtype: object\n"
     ]
    }
   ],
   "source": [
    "transcript_conservation_list = []\n",
    "failed_list = []\n",
    "for i, row in tqdm(transcript_refseq_df.iterrows(), total=transcript_refseq_df.shape[0]):\n",
    "    try:\n",
    "        transcript_conservation_list.append(get_transcript_conservation(row['Transcript Base'],\n",
    "                                                                        row['Strand of Target'],\n",
    "                                                                        row['genome']))\n",
    "    except:\n",
    "        print(row)\n",
    "        failed_list.append(row)"
   ],
   "metadata": {
    "collapsed": false,
    "pycharm": {
     "name": "#%%\n"
    }
   }
  },
  {
   "cell_type": "code",
   "execution_count": 8,
   "outputs": [
    {
     "name": "stdout",
     "output_type": "stream",
     "text": [
      "Failed transcripts: 12\n"
     ]
    }
   ],
   "source": [
    "print('Failed transcripts: ' + str(len(failed_list)))"
   ],
   "metadata": {
    "collapsed": false,
    "pycharm": {
     "name": "#%%\n"
    }
   }
  },
  {
   "cell_type": "code",
   "execution_count": 10,
   "outputs": [
    {
     "name": "stdout",
     "output_type": "stream",
     "text": [
      "Number of transcripts missing conservation scores: 22\n"
     ]
    }
   ],
   "source": [
    "transcript_conservation_df = (pd.concat(transcript_conservation_list))\n",
    "conservation_size = (transcript_conservation_df.groupby('Transcript Base')\n",
    "                     .agg(nrows = ('genome', 'count'))\n",
    "                     .reset_index()\n",
    "                     .merge(transcript_refseq_df))\n",
    "print('Number of transcripts missing conservation scores: ' + str((conservation_size['nrows'] != conservation_size['Target Total Length']).sum()))"
   ],
   "metadata": {
    "collapsed": false,
    "pycharm": {
     "name": "#%%\n"
    }
   }
  },
  {
   "cell_type": "code",
   "execution_count": 12,
   "outputs": [
    {
     "data": {
      "text/plain": "         Transcript Base  nrows      Target Transcript Strand of Target  \\\n14    ENSMUST00000001479   2630   ENSMUST00000001479.4                -   \n497   ENSMUST00000030769   1302   ENSMUST00000030769.5                +   \n743   ENSMUST00000043914   1977   ENSMUST00000043914.6                +   \n985   ENSMUST00000076313   2900  ENSMUST00000076313.12                -   \n1043  ENSMUST00000087114    804   ENSMUST00000087114.3                -   \n1160  ENSMUST00000106054   1587   ENSMUST00000106054.2                +   \n1169  ENSMUST00000107498   6705   ENSMUST00000107498.8                +   \n1513     ENST00000222800    921      ENST00000222800.7                -   \n1725     ENST00000263083   1317     ENST00000263083.10                +   \n1828     ENST00000276072   4914      ENST00000276072.7                +   \n1877     ENST00000290158   2630      ENST00000290158.9                +   \n2001     ENST00000308317    810     ENST00000308317.10                +   \n2060     ENST00000314759   1238      ENST00000314759.6                -   \n2086     ENST00000319908   1836      ENST00000319908.7                -   \n2284     ENST00000356674   1062      ENST00000356674.7                -   \n2408     ENST00000369983   5583      ENST00000369983.3                +   \n2414     ENST00000370211   1077      ENST00000370211.8                -   \n2480     ENST00000373586    972      ENST00000373586.1                +   \n2492     ENST00000374198   1566      ENST00000374198.4                +   \n2675     ENST00000410080   2985      ENST00000410080.7                -   \n2867     ENST00000555028    339      ENST00000555028.5                +   \n2920     ENST00000610020   1838      ENST00000610020.2                +   \n\n      Target Total Length genome  \n14                   2631   mm39  \n497                  1428   mm39  \n743                  2064   mm39  \n985                  2862   mm39  \n1043                  810   mm39  \n1160                 1695   mm39  \n1169                 6729   mm39  \n1513                  948   hg38  \n1725                 1332   hg38  \n1828                 5682   hg38  \n1877                 2631   hg38  \n2001                  843   hg38  \n2060                 1239   hg38  \n2086                 1830   hg38  \n2284                 1026   hg38  \n2408                 5580   hg38  \n2414                 1107   hg38  \n2480                  978   hg38  \n2492                 1569   hg38  \n2675                 2793   hg38  \n2867                  351   hg38  \n2920                 1839   hg38  ",
      "text/html": "<div>\n<style scoped>\n    .dataframe tbody tr th:only-of-type {\n        vertical-align: middle;\n    }\n\n    .dataframe tbody tr th {\n        vertical-align: top;\n    }\n\n    .dataframe thead th {\n        text-align: right;\n    }\n</style>\n<table border=\"1\" class=\"dataframe\">\n  <thead>\n    <tr style=\"text-align: right;\">\n      <th></th>\n      <th>Transcript Base</th>\n      <th>nrows</th>\n      <th>Target Transcript</th>\n      <th>Strand of Target</th>\n      <th>Target Total Length</th>\n      <th>genome</th>\n    </tr>\n  </thead>\n  <tbody>\n    <tr>\n      <th>14</th>\n      <td>ENSMUST00000001479</td>\n      <td>2630</td>\n      <td>ENSMUST00000001479.4</td>\n      <td>-</td>\n      <td>2631</td>\n      <td>mm39</td>\n    </tr>\n    <tr>\n      <th>497</th>\n      <td>ENSMUST00000030769</td>\n      <td>1302</td>\n      <td>ENSMUST00000030769.5</td>\n      <td>+</td>\n      <td>1428</td>\n      <td>mm39</td>\n    </tr>\n    <tr>\n      <th>743</th>\n      <td>ENSMUST00000043914</td>\n      <td>1977</td>\n      <td>ENSMUST00000043914.6</td>\n      <td>+</td>\n      <td>2064</td>\n      <td>mm39</td>\n    </tr>\n    <tr>\n      <th>985</th>\n      <td>ENSMUST00000076313</td>\n      <td>2900</td>\n      <td>ENSMUST00000076313.12</td>\n      <td>-</td>\n      <td>2862</td>\n      <td>mm39</td>\n    </tr>\n    <tr>\n      <th>1043</th>\n      <td>ENSMUST00000087114</td>\n      <td>804</td>\n      <td>ENSMUST00000087114.3</td>\n      <td>-</td>\n      <td>810</td>\n      <td>mm39</td>\n    </tr>\n    <tr>\n      <th>1160</th>\n      <td>ENSMUST00000106054</td>\n      <td>1587</td>\n      <td>ENSMUST00000106054.2</td>\n      <td>+</td>\n      <td>1695</td>\n      <td>mm39</td>\n    </tr>\n    <tr>\n      <th>1169</th>\n      <td>ENSMUST00000107498</td>\n      <td>6705</td>\n      <td>ENSMUST00000107498.8</td>\n      <td>+</td>\n      <td>6729</td>\n      <td>mm39</td>\n    </tr>\n    <tr>\n      <th>1513</th>\n      <td>ENST00000222800</td>\n      <td>921</td>\n      <td>ENST00000222800.7</td>\n      <td>-</td>\n      <td>948</td>\n      <td>hg38</td>\n    </tr>\n    <tr>\n      <th>1725</th>\n      <td>ENST00000263083</td>\n      <td>1317</td>\n      <td>ENST00000263083.10</td>\n      <td>+</td>\n      <td>1332</td>\n      <td>hg38</td>\n    </tr>\n    <tr>\n      <th>1828</th>\n      <td>ENST00000276072</td>\n      <td>4914</td>\n      <td>ENST00000276072.7</td>\n      <td>+</td>\n      <td>5682</td>\n      <td>hg38</td>\n    </tr>\n    <tr>\n      <th>1877</th>\n      <td>ENST00000290158</td>\n      <td>2630</td>\n      <td>ENST00000290158.9</td>\n      <td>+</td>\n      <td>2631</td>\n      <td>hg38</td>\n    </tr>\n    <tr>\n      <th>2001</th>\n      <td>ENST00000308317</td>\n      <td>810</td>\n      <td>ENST00000308317.10</td>\n      <td>+</td>\n      <td>843</td>\n      <td>hg38</td>\n    </tr>\n    <tr>\n      <th>2060</th>\n      <td>ENST00000314759</td>\n      <td>1238</td>\n      <td>ENST00000314759.6</td>\n      <td>-</td>\n      <td>1239</td>\n      <td>hg38</td>\n    </tr>\n    <tr>\n      <th>2086</th>\n      <td>ENST00000319908</td>\n      <td>1836</td>\n      <td>ENST00000319908.7</td>\n      <td>-</td>\n      <td>1830</td>\n      <td>hg38</td>\n    </tr>\n    <tr>\n      <th>2284</th>\n      <td>ENST00000356674</td>\n      <td>1062</td>\n      <td>ENST00000356674.7</td>\n      <td>-</td>\n      <td>1026</td>\n      <td>hg38</td>\n    </tr>\n    <tr>\n      <th>2408</th>\n      <td>ENST00000369983</td>\n      <td>5583</td>\n      <td>ENST00000369983.3</td>\n      <td>+</td>\n      <td>5580</td>\n      <td>hg38</td>\n    </tr>\n    <tr>\n      <th>2414</th>\n      <td>ENST00000370211</td>\n      <td>1077</td>\n      <td>ENST00000370211.8</td>\n      <td>-</td>\n      <td>1107</td>\n      <td>hg38</td>\n    </tr>\n    <tr>\n      <th>2480</th>\n      <td>ENST00000373586</td>\n      <td>972</td>\n      <td>ENST00000373586.1</td>\n      <td>+</td>\n      <td>978</td>\n      <td>hg38</td>\n    </tr>\n    <tr>\n      <th>2492</th>\n      <td>ENST00000374198</td>\n      <td>1566</td>\n      <td>ENST00000374198.4</td>\n      <td>+</td>\n      <td>1569</td>\n      <td>hg38</td>\n    </tr>\n    <tr>\n      <th>2675</th>\n      <td>ENST00000410080</td>\n      <td>2985</td>\n      <td>ENST00000410080.7</td>\n      <td>-</td>\n      <td>2793</td>\n      <td>hg38</td>\n    </tr>\n    <tr>\n      <th>2867</th>\n      <td>ENST00000555028</td>\n      <td>339</td>\n      <td>ENST00000555028.5</td>\n      <td>+</td>\n      <td>351</td>\n      <td>hg38</td>\n    </tr>\n    <tr>\n      <th>2920</th>\n      <td>ENST00000610020</td>\n      <td>1838</td>\n      <td>ENST00000610020.2</td>\n      <td>+</td>\n      <td>1839</td>\n      <td>hg38</td>\n    </tr>\n  </tbody>\n</table>\n</div>"
     },
     "execution_count": 12,
     "metadata": {},
     "output_type": "execute_result"
    }
   ],
   "source": [
    "missing_conservation = conservation_size[conservation_size['nrows'] != conservation_size['Target Total Length']]\n",
    "missing_conservation"
   ],
   "metadata": {
    "collapsed": false,
    "pycharm": {
     "name": "#%%\n"
    }
   }
  },
  {
   "cell_type": "code",
   "execution_count": 16,
   "outputs": [
    {
     "data": {
      "text/plain": "2964"
     },
     "execution_count": 16,
     "metadata": {},
     "output_type": "execute_result"
    }
   ],
   "source": [
    "out_conservation = transcript_conservation_df[~(transcript_conservation_df['Transcript Base']\n",
    "                                                .isin(missing_conservation['Transcript Base']))].reset_index(drop=True)\n",
    "out_conservation['Transcript Base'].nunique()"
   ],
   "metadata": {
    "collapsed": false,
    "pycharm": {
     "name": "#%%\n"
    }
   }
  },
  {
   "cell_type": "code",
   "execution_count": 18,
   "outputs": [],
   "source": [
    "out_conservation.to_parquet('../data/interim/conservation.parquet.gzip',\n",
    "                            compression='gzip')"
   ],
   "metadata": {
    "collapsed": false,
    "pycharm": {
     "name": "#%%\n"
    }
   }
  },
  {
   "cell_type": "code",
   "execution_count": null,
   "outputs": [],
   "source": [],
   "metadata": {
    "collapsed": false,
    "pycharm": {
     "name": "#%%\n"
    }
   }
  }
 ],
 "metadata": {
  "kernelspec": {
   "display_name": "Python 3",
   "language": "python",
   "name": "python3"
  },
  "language_info": {
   "codemirror_mode": {
    "name": "ipython",
    "version": 2
   },
   "file_extension": ".py",
   "mimetype": "text/x-python",
   "name": "python",
   "nbconvert_exporter": "python",
   "pygments_lexer": "ipython2",
   "version": "2.7.6"
  }
 },
 "nbformat": 4,
 "nbformat_minor": 0
}