{
 "cells": [
  {
   "cell_type": "code",
   "execution_count": 1,
   "outputs": [],
   "source": [
    "import pandas as pd\n",
    "import gpplot\n",
    "from scipy import stats\n",
    "from rs3.predict import predict\n",
    "\n",
    "from datasets import (GuideDataset, human_designs,\n",
    "                      dataset_list)"
   ],
   "metadata": {
    "collapsed": false,
    "pycharm": {
     "name": "#%%\n"
    }
   }
  },
  {
   "cell_type": "code",
   "execution_count": 2,
   "outputs": [],
   "source": [
    "train_data_names = pd.read_csv('../data/processed/train_data_names.csv').name.to_list()\n",
    "hanna_aacc03_annotations = pd.read_csv('../data/raw/Hanna2020_aacc03_annotations.csv')"
   ],
   "metadata": {
    "collapsed": false,
    "pycharm": {
     "name": "#%%\n"
    }
   }
  },
  {
   "cell_type": "code",
   "execution_count": 3,
   "metadata": {
    "collapsed": true
   },
   "outputs": [
    {
     "data": {
      "text/plain": "                Input Quota  Target Taxon   Target Gene ID Target Gene Symbol  \\\n0     ENSG00000008988   MAX          9606  ENSG00000008988              RPS20   \n1     ENSG00000008988   MAX          9606  ENSG00000008988              RPS20   \n2     ENSG00000008988   MAX          9606  ENSG00000008988              RPS20   \n3     ENSG00000008988   MAX          9606  ENSG00000008988              RPS20   \n4     ENSG00000008988   MAX          9606  ENSG00000008988              RPS20   \n...               ...   ...           ...              ...                ...   \n2398  ENSG00000171453   MAX          9606  ENSG00000171453             POLR1C   \n2399  ENSG00000171453   MAX          9606  ENSG00000171453             POLR1C   \n2400  ENSG00000171453   MAX          9606  ENSG00000171453             POLR1C   \n2401  ENSG00000171453   MAX          9606  ENSG00000171453             POLR1C   \n2402  ENSG00000171453   MAX          9606  ENSG00000171453             POLR1C   \n\n      Target Transcript  Target Alias CRISPR Mechanism Target Domain  \\\n0     ENST00000009589.7           NaN         CRISPRko           CDS   \n1     ENST00000009589.7           NaN         CRISPRko           CDS   \n2     ENST00000009589.7           NaN         CRISPRko           CDS   \n3     ENST00000009589.7           NaN         CRISPRko           CDS   \n4     ENST00000009589.7           NaN         CRISPRko           CDS   \n...                 ...           ...              ...           ...   \n2398  ENST00000642195.1           NaN         CRISPRko           CDS   \n2399  ENST00000642195.1           NaN         CRISPRko           CDS   \n2400  ENST00000642195.1           NaN         CRISPRko           CDS   \n2401  ENST00000642195.1           NaN         CRISPRko           CDS   \n2402  ENST00000642195.1           NaN         CRISPRko           CDS   \n\n     Reference Sequence  ... On-Target Ruleset On-Target Efficacy Score  \\\n0          NC_000008.11  ...       Azimuth_2.0                   0.6142   \n1          NC_000008.11  ...       Azimuth_2.0                   0.5501   \n2          NC_000008.11  ...       Azimuth_2.0                   0.6165   \n3          NC_000008.11  ...       Azimuth_2.0                   0.5112   \n4          NC_000008.11  ...       Azimuth_2.0                   0.5017   \n...                 ...  ...               ...                      ...   \n2398       NC_000006.12  ...       Azimuth_2.0                   0.3337   \n2399       NC_000006.12  ...       Azimuth_2.0                   0.4010   \n2400       NC_000006.12  ...       Azimuth_2.0                   0.4183   \n2401       NC_000006.12  ...       Azimuth_2.0                   0.4390   \n2402       NC_000006.12  ...       Azimuth_2.0                   0.1915   \n\n      On-Target Rank  Off-Target Rank  On-Target Rank Weight  \\\n0                  9                5                    1.0   \n1                 16                1                    1.0   \n2                  8                9                    1.0   \n3                 20                6                    1.0   \n4                 24                4                    1.0   \n...              ...              ...                    ...   \n2398             154              120                    1.0   \n2399             144              132                    1.0   \n2400             141              143                    1.0   \n2401             133              158                    1.0   \n2402             161              140                    1.0   \n\n     Off-Target Rank Weight Combined Rank Pick Order  Picking Round  \\\n0                       1.0             2        1.0            1.0   \n1                       1.0             4        2.0            1.0   \n2                       1.0             5       11.0            3.0   \n3                       1.0             8        4.0            1.0   \n4                       1.0            10        6.0            2.0   \n...                     ...           ...        ...            ...   \n2398                    1.0           158      120.0            3.0   \n2399                    1.0           159       81.0            2.0   \n2400                    1.0           160       82.0            2.0   \n2401                    1.0           161      153.0            4.0   \n2402                    1.0           162      155.0            5.0   \n\n                                          Picking Notes  \n0                                                  None  \n1                                                  None  \n2     Previously skipped due to: Outside Target Wind...  \n3                                                  None  \n4     Previously skipped due to: Spacing Violation: ...  \n...                                                 ...  \n2398  Previously skipped due to: Outside Target Wind...  \n2399  Previously skipped due to: Spacing Violation: ...  \n2400  Previously skipped due to: Spacing Violation: ...  \n2401  Previously skipped due to: Outside Target Wind...  \n2402  Previously skipped due to: On-Target Efficacy ...  \n\n[2403 rows x 53 columns]",
      "text/html": "<div>\n<style scoped>\n    .dataframe tbody tr th:only-of-type {\n        vertical-align: middle;\n    }\n\n    .dataframe tbody tr th {\n        vertical-align: top;\n    }\n\n    .dataframe thead th {\n        text-align: right;\n    }\n</style>\n<table border=\"1\" class=\"dataframe\">\n  <thead>\n    <tr style=\"text-align: right;\">\n      <th></th>\n      <th>Input</th>\n      <th>Quota</th>\n      <th>Target Taxon</th>\n      <th>Target Gene ID</th>\n      <th>Target Gene Symbol</th>\n      <th>Target Transcript</th>\n      <th>Target Alias</th>\n      <th>CRISPR Mechanism</th>\n      <th>Target Domain</th>\n      <th>Reference Sequence</th>\n      <th>...</th>\n      <th>On-Target Ruleset</th>\n      <th>On-Target Efficacy Score</th>\n      <th>On-Target Rank</th>\n      <th>Off-Target Rank</th>\n      <th>On-Target Rank Weight</th>\n      <th>Off-Target Rank Weight</th>\n      <th>Combined Rank</th>\n      <th>Pick Order</th>\n      <th>Picking Round</th>\n      <th>Picking Notes</th>\n    </tr>\n  </thead>\n  <tbody>\n    <tr>\n      <th>0</th>\n      <td>ENSG00000008988</td>\n      <td>MAX</td>\n      <td>9606</td>\n      <td>ENSG00000008988</td>\n      <td>RPS20</td>\n      <td>ENST00000009589.7</td>\n      <td>NaN</td>\n      <td>CRISPRko</td>\n      <td>CDS</td>\n      <td>NC_000008.11</td>\n      <td>...</td>\n      <td>Azimuth_2.0</td>\n      <td>0.6142</td>\n      <td>9</td>\n      <td>5</td>\n      <td>1.0</td>\n      <td>1.0</td>\n      <td>2</td>\n      <td>1.0</td>\n      <td>1.0</td>\n      <td>None</td>\n    </tr>\n    <tr>\n      <th>1</th>\n      <td>ENSG00000008988</td>\n      <td>MAX</td>\n      <td>9606</td>\n      <td>ENSG00000008988</td>\n      <td>RPS20</td>\n      <td>ENST00000009589.7</td>\n      <td>NaN</td>\n      <td>CRISPRko</td>\n      <td>CDS</td>\n      <td>NC_000008.11</td>\n      <td>...</td>\n      <td>Azimuth_2.0</td>\n      <td>0.5501</td>\n      <td>16</td>\n      <td>1</td>\n      <td>1.0</td>\n      <td>1.0</td>\n      <td>4</td>\n      <td>2.0</td>\n      <td>1.0</td>\n      <td>None</td>\n    </tr>\n    <tr>\n      <th>2</th>\n      <td>ENSG00000008988</td>\n      <td>MAX</td>\n      <td>9606</td>\n      <td>ENSG00000008988</td>\n      <td>RPS20</td>\n      <td>ENST00000009589.7</td>\n      <td>NaN</td>\n      <td>CRISPRko</td>\n      <td>CDS</td>\n      <td>NC_000008.11</td>\n      <td>...</td>\n      <td>Azimuth_2.0</td>\n      <td>0.6165</td>\n      <td>8</td>\n      <td>9</td>\n      <td>1.0</td>\n      <td>1.0</td>\n      <td>5</td>\n      <td>11.0</td>\n      <td>3.0</td>\n      <td>Previously skipped due to: Outside Target Wind...</td>\n    </tr>\n    <tr>\n      <th>3</th>\n      <td>ENSG00000008988</td>\n      <td>MAX</td>\n      <td>9606</td>\n      <td>ENSG00000008988</td>\n      <td>RPS20</td>\n      <td>ENST00000009589.7</td>\n      <td>NaN</td>\n      <td>CRISPRko</td>\n      <td>CDS</td>\n      <td>NC_000008.11</td>\n      <td>...</td>\n      <td>Azimuth_2.0</td>\n      <td>0.5112</td>\n      <td>20</td>\n      <td>6</td>\n      <td>1.0</td>\n      <td>1.0</td>\n      <td>8</td>\n      <td>4.0</td>\n      <td>1.0</td>\n      <td>None</td>\n    </tr>\n    <tr>\n      <th>4</th>\n      <td>ENSG00000008988</td>\n      <td>MAX</td>\n      <td>9606</td>\n      <td>ENSG00000008988</td>\n      <td>RPS20</td>\n      <td>ENST00000009589.7</td>\n      <td>NaN</td>\n      <td>CRISPRko</td>\n      <td>CDS</td>\n      <td>NC_000008.11</td>\n      <td>...</td>\n      <td>Azimuth_2.0</td>\n      <td>0.5017</td>\n      <td>24</td>\n      <td>4</td>\n      <td>1.0</td>\n      <td>1.0</td>\n      <td>10</td>\n      <td>6.0</td>\n      <td>2.0</td>\n      <td>Previously skipped due to: Spacing Violation: ...</td>\n    </tr>\n    <tr>\n      <th>...</th>\n      <td>...</td>\n      <td>...</td>\n      <td>...</td>\n      <td>...</td>\n      <td>...</td>\n      <td>...</td>\n      <td>...</td>\n      <td>...</td>\n      <td>...</td>\n      <td>...</td>\n      <td>...</td>\n      <td>...</td>\n      <td>...</td>\n      <td>...</td>\n      <td>...</td>\n      <td>...</td>\n      <td>...</td>\n      <td>...</td>\n      <td>...</td>\n      <td>...</td>\n      <td>...</td>\n    </tr>\n    <tr>\n      <th>2398</th>\n      <td>ENSG00000171453</td>\n      <td>MAX</td>\n      <td>9606</td>\n      <td>ENSG00000171453</td>\n      <td>POLR1C</td>\n      <td>ENST00000642195.1</td>\n      <td>NaN</td>\n      <td>CRISPRko</td>\n      <td>CDS</td>\n      <td>NC_000006.12</td>\n      <td>...</td>\n      <td>Azimuth_2.0</td>\n      <td>0.3337</td>\n      <td>154</td>\n      <td>120</td>\n      <td>1.0</td>\n      <td>1.0</td>\n      <td>158</td>\n      <td>120.0</td>\n      <td>3.0</td>\n      <td>Previously skipped due to: Outside Target Wind...</td>\n    </tr>\n    <tr>\n      <th>2399</th>\n      <td>ENSG00000171453</td>\n      <td>MAX</td>\n      <td>9606</td>\n      <td>ENSG00000171453</td>\n      <td>POLR1C</td>\n      <td>ENST00000642195.1</td>\n      <td>NaN</td>\n      <td>CRISPRko</td>\n      <td>CDS</td>\n      <td>NC_000006.12</td>\n      <td>...</td>\n      <td>Azimuth_2.0</td>\n      <td>0.4010</td>\n      <td>144</td>\n      <td>132</td>\n      <td>1.0</td>\n      <td>1.0</td>\n      <td>159</td>\n      <td>81.0</td>\n      <td>2.0</td>\n      <td>Previously skipped due to: Spacing Violation: ...</td>\n    </tr>\n    <tr>\n      <th>2400</th>\n      <td>ENSG00000171453</td>\n      <td>MAX</td>\n      <td>9606</td>\n      <td>ENSG00000171453</td>\n      <td>POLR1C</td>\n      <td>ENST00000642195.1</td>\n      <td>NaN</td>\n      <td>CRISPRko</td>\n      <td>CDS</td>\n      <td>NC_000006.12</td>\n      <td>...</td>\n      <td>Azimuth_2.0</td>\n      <td>0.4183</td>\n      <td>141</td>\n      <td>143</td>\n      <td>1.0</td>\n      <td>1.0</td>\n      <td>160</td>\n      <td>82.0</td>\n      <td>2.0</td>\n      <td>Previously skipped due to: Spacing Violation: ...</td>\n    </tr>\n    <tr>\n      <th>2401</th>\n      <td>ENSG00000171453</td>\n      <td>MAX</td>\n      <td>9606</td>\n      <td>ENSG00000171453</td>\n      <td>POLR1C</td>\n      <td>ENST00000642195.1</td>\n      <td>NaN</td>\n      <td>CRISPRko</td>\n      <td>CDS</td>\n      <td>NC_000006.12</td>\n      <td>...</td>\n      <td>Azimuth_2.0</td>\n      <td>0.4390</td>\n      <td>133</td>\n      <td>158</td>\n      <td>1.0</td>\n      <td>1.0</td>\n      <td>161</td>\n      <td>153.0</td>\n      <td>4.0</td>\n      <td>Previously skipped due to: Outside Target Wind...</td>\n    </tr>\n    <tr>\n      <th>2402</th>\n      <td>ENSG00000171453</td>\n      <td>MAX</td>\n      <td>9606</td>\n      <td>ENSG00000171453</td>\n      <td>POLR1C</td>\n      <td>ENST00000642195.1</td>\n      <td>NaN</td>\n      <td>CRISPRko</td>\n      <td>CDS</td>\n      <td>NC_000006.12</td>\n      <td>...</td>\n      <td>Azimuth_2.0</td>\n      <td>0.1915</td>\n      <td>161</td>\n      <td>140</td>\n      <td>1.0</td>\n      <td>1.0</td>\n      <td>162</td>\n      <td>155.0</td>\n      <td>5.0</td>\n      <td>Previously skipped due to: On-Target Efficacy ...</td>\n    </tr>\n  </tbody>\n</table>\n<p>2403 rows × 53 columns</p>\n</div>"
     },
     "execution_count": 3,
     "metadata": {},
     "output_type": "execute_result"
    }
   ],
   "source": [
    "hanna_aacc03_data = GuideDataset(filepath='../data/processed/Hanna2020_aacc03_activity.csv',\n",
    "                                 name='Hanna2020_Essential',\n",
    "                                 sgrna_seq_col='sgRNA Sequence',\n",
    "                                 context_seq_col='sgRNA Context Sequence',\n",
    "                                 rank_col='scaled_neg_lfc', endogenous=True,\n",
    "                                 sgrna_group_col='Target Gene Symbol',\n",
    "                                 cut_perc_col='Target Cut %',\n",
    "                                 design_file=human_designs, genomewide=False,\n",
    "                                 tracr='Chen2013')\n",
    "hanna_aacc03_data.load_data()\n",
    "hanna_aacc03_data.set_sgrnas()\n",
    "hanna_aacc03_designs = hanna_aacc03_data.get_designs()\n",
    "hanna_aacc03_designs"
   ]
  },
  {
   "cell_type": "code",
   "execution_count": 4,
   "outputs": [
    {
     "name": "stdout",
     "output_type": "stream",
     "text": [
      "Calculating sequence-based features\n"
     ]
    },
    {
     "name": "stderr",
     "output_type": "stream",
     "text": [
      "100%|██████████| 2403/2403 [00:05<00:00, 433.14it/s] \n"
     ]
    },
    {
     "name": "stdout",
     "output_type": "stream",
     "text": [
      "Getting amino acid sequences\n"
     ]
    },
    {
     "name": "stderr",
     "output_type": "stream",
     "text": [
      "100%|██████████| 1/1 [00:00<00:00,  4.52it/s]\n"
     ]
    },
    {
     "name": "stdout",
     "output_type": "stream",
     "text": [
      "Getting protein domains\n"
     ]
    },
    {
     "name": "stderr",
     "output_type": "stream",
     "text": [
      "100%|██████████| 10/10 [00:02<00:00,  4.27it/s]\n"
     ]
    },
    {
     "name": "stdout",
     "output_type": "stream",
     "text": [
      "Getting conservation\n"
     ]
    },
    {
     "name": "stderr",
     "output_type": "stream",
     "text": [
      "100%|██████████| 10/10 [00:00<00:00, 92.42it/s]\n"
     ]
    },
    {
     "data": {
      "text/plain": "                Input Quota  Target Taxon   Target Gene ID Target Gene Symbol  \\\n0     ENSG00000008988   MAX          9606  ENSG00000008988              RPS20   \n1     ENSG00000008988   MAX          9606  ENSG00000008988              RPS20   \n2     ENSG00000008988   MAX          9606  ENSG00000008988              RPS20   \n3     ENSG00000008988   MAX          9606  ENSG00000008988              RPS20   \n4     ENSG00000008988   MAX          9606  ENSG00000008988              RPS20   \n...               ...   ...           ...              ...                ...   \n2398  ENSG00000171453   MAX          9606  ENSG00000171453             POLR1C   \n2399  ENSG00000171453   MAX          9606  ENSG00000171453             POLR1C   \n2400  ENSG00000171453   MAX          9606  ENSG00000171453             POLR1C   \n2401  ENSG00000171453   MAX          9606  ENSG00000171453             POLR1C   \n2402  ENSG00000171453   MAX          9606  ENSG00000171453             POLR1C   \n\n      Target Transcript  Target Alias CRISPR Mechanism Target Domain  \\\n0     ENST00000009589.7           NaN         CRISPRko           CDS   \n1     ENST00000009589.7           NaN         CRISPRko           CDS   \n2     ENST00000009589.7           NaN         CRISPRko           CDS   \n3     ENST00000009589.7           NaN         CRISPRko           CDS   \n4     ENST00000009589.7           NaN         CRISPRko           CDS   \n...                 ...           ...              ...           ...   \n2398  ENST00000642195.1           NaN         CRISPRko           CDS   \n2399  ENST00000642195.1           NaN         CRISPRko           CDS   \n2400  ENST00000642195.1           NaN         CRISPRko           CDS   \n2401  ENST00000642195.1           NaN         CRISPRko           CDS   \n2402  ENST00000642195.1           NaN         CRISPRko           CDS   \n\n     Reference Sequence  ... Off-Target Rank Weight Combined Rank  Pick Order  \\\n0          NC_000008.11  ...                    1.0             2         1.0   \n1          NC_000008.11  ...                    1.0             4         2.0   \n2          NC_000008.11  ...                    1.0             5        11.0   \n3          NC_000008.11  ...                    1.0             8         4.0   \n4          NC_000008.11  ...                    1.0            10         6.0   \n...                 ...  ...                    ...           ...         ...   \n2398       NC_000006.12  ...                    1.0           158       120.0   \n2399       NC_000006.12  ...                    1.0           159        81.0   \n2400       NC_000006.12  ...                    1.0           160        82.0   \n2401       NC_000006.12  ...                    1.0           161       153.0   \n2402       NC_000006.12  ...                    1.0           162       155.0   \n\n      Picking Round                                      Picking Notes  \\\n0               1.0                                               None   \n1               1.0                                               None   \n2               3.0  Previously skipped due to: Outside Target Wind...   \n3               1.0                                               None   \n4               2.0  Previously skipped due to: Spacing Violation: ...   \n...             ...                                                ...   \n2398            3.0  Previously skipped due to: Outside Target Wind...   \n2399            2.0  Previously skipped due to: Spacing Violation: ...   \n2400            2.0  Previously skipped due to: Spacing Violation: ...   \n2401            4.0  Previously skipped due to: Outside Target Wind...   \n2402            5.0  Previously skipped due to: On-Target Efficacy ...   \n\n     RS3 Sequence Score (Chen2013 tracr)  Transcript Base  \\\n0                               0.462968  ENST00000009589   \n1                               0.681802  ENST00000009589   \n2                               0.183004  ENST00000009589   \n3                              -0.537057  ENST00000009589   \n4                               0.115983  ENST00000009589   \n...                                  ...              ...   \n2398                           -0.448485  ENST00000642195   \n2399                           -1.069427  ENST00000642195   \n2400                            0.048147  ENST00000642195   \n2401                            0.341778  ENST00000642195   \n2402                           -1.407327  ENST00000642195   \n\n     Missing conservation information  Target Score  \\\n0                               False     -0.082090   \n1                               False     -0.049504   \n2                               False     -0.167990   \n3                               False      0.051581   \n4                               False      0.095028   \n...                               ...           ...   \n2398                            False     -0.174673   \n2399                            False      0.095516   \n2400                            False      0.554555   \n2401                            False      0.157797   \n2402                            False     -0.078484   \n\n     RS3 Sequence (Chen2013 tracr) + Target Score  \n0                                        0.380878  \n1                                        0.632298  \n2                                        0.015015  \n3                                       -0.485476  \n4                                        0.211011  \n...                                           ...  \n2398                                    -0.623158  \n2399                                    -0.973910  \n2400                                     0.602702  \n2401                                     0.499575  \n2402                                    -1.485811  \n\n[2403 rows x 58 columns]",
      "text/html": "<div>\n<style scoped>\n    .dataframe tbody tr th:only-of-type {\n        vertical-align: middle;\n    }\n\n    .dataframe tbody tr th {\n        vertical-align: top;\n    }\n\n    .dataframe thead th {\n        text-align: right;\n    }\n</style>\n<table border=\"1\" class=\"dataframe\">\n  <thead>\n    <tr style=\"text-align: right;\">\n      <th></th>\n      <th>Input</th>\n      <th>Quota</th>\n      <th>Target Taxon</th>\n      <th>Target Gene ID</th>\n      <th>Target Gene Symbol</th>\n      <th>Target Transcript</th>\n      <th>Target Alias</th>\n      <th>CRISPR Mechanism</th>\n      <th>Target Domain</th>\n      <th>Reference Sequence</th>\n      <th>...</th>\n      <th>Off-Target Rank Weight</th>\n      <th>Combined Rank</th>\n      <th>Pick Order</th>\n      <th>Picking Round</th>\n      <th>Picking Notes</th>\n      <th>RS3 Sequence Score (Chen2013 tracr)</th>\n      <th>Transcript Base</th>\n      <th>Missing conservation information</th>\n      <th>Target Score</th>\n      <th>RS3 Sequence (Chen2013 tracr) + Target Score</th>\n    </tr>\n  </thead>\n  <tbody>\n    <tr>\n      <th>0</th>\n      <td>ENSG00000008988</td>\n      <td>MAX</td>\n      <td>9606</td>\n      <td>ENSG00000008988</td>\n      <td>RPS20</td>\n      <td>ENST00000009589.7</td>\n      <td>NaN</td>\n      <td>CRISPRko</td>\n      <td>CDS</td>\n      <td>NC_000008.11</td>\n      <td>...</td>\n      <td>1.0</td>\n      <td>2</td>\n      <td>1.0</td>\n      <td>1.0</td>\n      <td>None</td>\n      <td>0.462968</td>\n      <td>ENST00000009589</td>\n      <td>False</td>\n      <td>-0.082090</td>\n      <td>0.380878</td>\n    </tr>\n    <tr>\n      <th>1</th>\n      <td>ENSG00000008988</td>\n      <td>MAX</td>\n      <td>9606</td>\n      <td>ENSG00000008988</td>\n      <td>RPS20</td>\n      <td>ENST00000009589.7</td>\n      <td>NaN</td>\n      <td>CRISPRko</td>\n      <td>CDS</td>\n      <td>NC_000008.11</td>\n      <td>...</td>\n      <td>1.0</td>\n      <td>4</td>\n      <td>2.0</td>\n      <td>1.0</td>\n      <td>None</td>\n      <td>0.681802</td>\n      <td>ENST00000009589</td>\n      <td>False</td>\n      <td>-0.049504</td>\n      <td>0.632298</td>\n    </tr>\n    <tr>\n      <th>2</th>\n      <td>ENSG00000008988</td>\n      <td>MAX</td>\n      <td>9606</td>\n      <td>ENSG00000008988</td>\n      <td>RPS20</td>\n      <td>ENST00000009589.7</td>\n      <td>NaN</td>\n      <td>CRISPRko</td>\n      <td>CDS</td>\n      <td>NC_000008.11</td>\n      <td>...</td>\n      <td>1.0</td>\n      <td>5</td>\n      <td>11.0</td>\n      <td>3.0</td>\n      <td>Previously skipped due to: Outside Target Wind...</td>\n      <td>0.183004</td>\n      <td>ENST00000009589</td>\n      <td>False</td>\n      <td>-0.167990</td>\n      <td>0.015015</td>\n    </tr>\n    <tr>\n      <th>3</th>\n      <td>ENSG00000008988</td>\n      <td>MAX</td>\n      <td>9606</td>\n      <td>ENSG00000008988</td>\n      <td>RPS20</td>\n      <td>ENST00000009589.7</td>\n      <td>NaN</td>\n      <td>CRISPRko</td>\n      <td>CDS</td>\n      <td>NC_000008.11</td>\n      <td>...</td>\n      <td>1.0</td>\n      <td>8</td>\n      <td>4.0</td>\n      <td>1.0</td>\n      <td>None</td>\n      <td>-0.537057</td>\n      <td>ENST00000009589</td>\n      <td>False</td>\n      <td>0.051581</td>\n      <td>-0.485476</td>\n    </tr>\n    <tr>\n      <th>4</th>\n      <td>ENSG00000008988</td>\n      <td>MAX</td>\n      <td>9606</td>\n      <td>ENSG00000008988</td>\n      <td>RPS20</td>\n      <td>ENST00000009589.7</td>\n      <td>NaN</td>\n      <td>CRISPRko</td>\n      <td>CDS</td>\n      <td>NC_000008.11</td>\n      <td>...</td>\n      <td>1.0</td>\n      <td>10</td>\n      <td>6.0</td>\n      <td>2.0</td>\n      <td>Previously skipped due to: Spacing Violation: ...</td>\n      <td>0.115983</td>\n      <td>ENST00000009589</td>\n      <td>False</td>\n      <td>0.095028</td>\n      <td>0.211011</td>\n    </tr>\n    <tr>\n      <th>...</th>\n      <td>...</td>\n      <td>...</td>\n      <td>...</td>\n      <td>...</td>\n      <td>...</td>\n      <td>...</td>\n      <td>...</td>\n      <td>...</td>\n      <td>...</td>\n      <td>...</td>\n      <td>...</td>\n      <td>...</td>\n      <td>...</td>\n      <td>...</td>\n      <td>...</td>\n      <td>...</td>\n      <td>...</td>\n      <td>...</td>\n      <td>...</td>\n      <td>...</td>\n      <td>...</td>\n    </tr>\n    <tr>\n      <th>2398</th>\n      <td>ENSG00000171453</td>\n      <td>MAX</td>\n      <td>9606</td>\n      <td>ENSG00000171453</td>\n      <td>POLR1C</td>\n      <td>ENST00000642195.1</td>\n      <td>NaN</td>\n      <td>CRISPRko</td>\n      <td>CDS</td>\n      <td>NC_000006.12</td>\n      <td>...</td>\n      <td>1.0</td>\n      <td>158</td>\n      <td>120.0</td>\n      <td>3.0</td>\n      <td>Previously skipped due to: Outside Target Wind...</td>\n      <td>-0.448485</td>\n      <td>ENST00000642195</td>\n      <td>False</td>\n      <td>-0.174673</td>\n      <td>-0.623158</td>\n    </tr>\n    <tr>\n      <th>2399</th>\n      <td>ENSG00000171453</td>\n      <td>MAX</td>\n      <td>9606</td>\n      <td>ENSG00000171453</td>\n      <td>POLR1C</td>\n      <td>ENST00000642195.1</td>\n      <td>NaN</td>\n      <td>CRISPRko</td>\n      <td>CDS</td>\n      <td>NC_000006.12</td>\n      <td>...</td>\n      <td>1.0</td>\n      <td>159</td>\n      <td>81.0</td>\n      <td>2.0</td>\n      <td>Previously skipped due to: Spacing Violation: ...</td>\n      <td>-1.069427</td>\n      <td>ENST00000642195</td>\n      <td>False</td>\n      <td>0.095516</td>\n      <td>-0.973910</td>\n    </tr>\n    <tr>\n      <th>2400</th>\n      <td>ENSG00000171453</td>\n      <td>MAX</td>\n      <td>9606</td>\n      <td>ENSG00000171453</td>\n      <td>POLR1C</td>\n      <td>ENST00000642195.1</td>\n      <td>NaN</td>\n      <td>CRISPRko</td>\n      <td>CDS</td>\n      <td>NC_000006.12</td>\n      <td>...</td>\n      <td>1.0</td>\n      <td>160</td>\n      <td>82.0</td>\n      <td>2.0</td>\n      <td>Previously skipped due to: Spacing Violation: ...</td>\n      <td>0.048147</td>\n      <td>ENST00000642195</td>\n      <td>False</td>\n      <td>0.554555</td>\n      <td>0.602702</td>\n    </tr>\n    <tr>\n      <th>2401</th>\n      <td>ENSG00000171453</td>\n      <td>MAX</td>\n      <td>9606</td>\n      <td>ENSG00000171453</td>\n      <td>POLR1C</td>\n      <td>ENST00000642195.1</td>\n      <td>NaN</td>\n      <td>CRISPRko</td>\n      <td>CDS</td>\n      <td>NC_000006.12</td>\n      <td>...</td>\n      <td>1.0</td>\n      <td>161</td>\n      <td>153.0</td>\n      <td>4.0</td>\n      <td>Previously skipped due to: Outside Target Wind...</td>\n      <td>0.341778</td>\n      <td>ENST00000642195</td>\n      <td>False</td>\n      <td>0.157797</td>\n      <td>0.499575</td>\n    </tr>\n    <tr>\n      <th>2402</th>\n      <td>ENSG00000171453</td>\n      <td>MAX</td>\n      <td>9606</td>\n      <td>ENSG00000171453</td>\n      <td>POLR1C</td>\n      <td>ENST00000642195.1</td>\n      <td>NaN</td>\n      <td>CRISPRko</td>\n      <td>CDS</td>\n      <td>NC_000006.12</td>\n      <td>...</td>\n      <td>1.0</td>\n      <td>162</td>\n      <td>155.0</td>\n      <td>5.0</td>\n      <td>Previously skipped due to: On-Target Efficacy ...</td>\n      <td>-1.407327</td>\n      <td>ENST00000642195</td>\n      <td>False</td>\n      <td>-0.078484</td>\n      <td>-1.485811</td>\n    </tr>\n  </tbody>\n</table>\n<p>2403 rows × 58 columns</p>\n</div>"
     },
     "execution_count": 4,
     "metadata": {},
     "output_type": "execute_result"
    }
   ],
   "source": [
    "hanna_aacc03_scores = predict(hanna_aacc03_designs,\n",
    "                              tracr='Chen2013', target=True,\n",
    "                              n_jobs_min=2, n_jobs_max=12,\n",
    "                              lite=False)\n",
    "hanna_aacc03_scores"
   ],
   "metadata": {
    "collapsed": false,
    "pycharm": {
     "name": "#%%\n"
    }
   }
  },
  {
   "cell_type": "code",
   "execution_count": 5,
   "outputs": [
    {
     "data": {
      "text/plain": "            sgRNA Sequence          sgRNA Context Sequence PAM Sequence  \\\n0     AAAAAATTATGCTGAATACC  GATTAAAAAATTATGCTGAATACCAGGTAG          AGG   \n1     AAAACAGGGGCACGAGGGTA  AGGAAAAACAGGGGCACGAGGGTATGGATA          TGG   \n2     AAAACCGGCGCTGGAACCAC  GGTCAAAACCGGCGCTGGAACCACGGGACA          GGG   \n3     AAAACTATCAAGTTGGGATC  CCAAAAAACTATCAAGTTGGGATCAGGCAG          AGG   \n4     AAAACTCTTGGAGCAATATA  CCCAAAAACTCTTGGAGCAATATAAGGAAG          AGG   \n...                    ...                             ...          ...   \n2398  TTTGGCAGCTGTGGGCTTAG  TTTGTTTGGCAGCTGTGGGCTTAGTGGGAG          TGG   \n2399  TTTGGCCATTGAAGCTTCAG  TGGATTTGGCCATTGAAGCTTCAGAGGTGA          AGG   \n2400  TTTGTATATAAATGCCTTAC  ATCTTTTGTATATAAATGCCTTACTGGGAT          TGG   \n2401  TTTGTCCAGGAAGTTGTCCA  ACAATTTGTCCAGGAAGTTGTCCAGGGCAG          GGG   \n2402  TTTGTTCTCATTAGGTAAAA  ATGGTTTGTTCTCATTAGGTAAAAAGGTGG          AGG   \n\n     Target Gene Symbol  sgRNA Activity            Input Quota  Target Taxon  \\\n0                 KPNB1        0.988858  ENSG00000108424   MAX          9606   \n1                HNRNPU       -1.111856  ENSG00000153187   MAX          9606   \n2                 PSMA6        1.052915  ENSG00000100902   MAX          9606   \n3                 SF3B1       -0.606245  ENSG00000115524   MAX          9606   \n4                HNRNPU        1.107731  ENSG00000153187   MAX          9606   \n...                 ...             ...              ...   ...           ...   \n2398              KPNB1       -1.262632  ENSG00000108424   MAX          9606   \n2399              KPNB1       -0.175935  ENSG00000108424   MAX          9606   \n2400             HNRNPU        0.529085  ENSG00000153187   MAX          9606   \n2401               EEF2       -0.203730  ENSG00000167658   MAX          9606   \n2402             POLR1C        1.066927  ENSG00000171453   MAX          9606   \n\n       Target Gene ID   Target Transcript  ...  Off-Target Rank Weight  \\\n0     ENSG00000108424   ENST00000290158.9  ...                     1.0   \n1     ENSG00000153187   ENST00000444376.7  ...                     1.0   \n2     ENSG00000100902   ENST00000261479.9  ...                     1.0   \n3     ENSG00000115524  ENST00000335508.10  ...                     1.0   \n4     ENSG00000153187   ENST00000444376.7  ...                     1.0   \n...               ...                 ...  ...                     ...   \n2398  ENSG00000108424   ENST00000290158.9  ...                     1.0   \n2399  ENSG00000108424   ENST00000290158.9  ...                     1.0   \n2400  ENSG00000153187   ENST00000444376.7  ...                     1.0   \n2401  ENSG00000167658   ENST00000309311.7  ...                     1.0   \n2402  ENSG00000171453   ENST00000642195.1  ...                     1.0   \n\n     Combined Rank Pick Order Picking Round  \\\n0              122      179.0           3.0   \n1              311      286.0           4.0   \n2               24       34.0           3.0   \n3              146       84.0           2.0   \n4              138      256.0           4.0   \n...            ...        ...           ...   \n2398           234      210.0           3.0   \n2399           110       58.0           2.0   \n2400           170       97.0           2.0   \n2401           205      424.0           4.0   \n2402           129      113.0           3.0   \n\n                                          Picking Notes  \\\n0     Previously skipped due to: Outside Target Wind...   \n1     Previously skipped due to: Outside Target Wind...   \n2     Previously skipped due to: Outside Target Wind...   \n3     Previously skipped due to: Spacing Violation: ...   \n4     Previously skipped due to: Outside Target Wind...   \n...                                                 ...   \n2398  Previously skipped due to: Outside Target Wind...   \n2399  Previously skipped due to: Spacing Violation: ...   \n2400  Previously skipped due to: Spacing Violation: ...   \n2401  Previously skipped due to: Outside Target Wind...   \n2402  Previously skipped due to: Outside Target Wind...   \n\n     RS3 Sequence Score (Chen2013 tracr)  Transcript Base  \\\n0                              -0.416875  ENST00000290158   \n1                              -0.542411  ENST00000444376   \n2                               0.103319  ENST00000261479   \n3                               0.398501  ENST00000335508   \n4                               0.175236  ENST00000444376   \n...                                  ...              ...   \n2398                           -0.445308  ENST00000290158   \n2399                           -0.387132  ENST00000290158   \n2400                           -0.739140  ENST00000444376   \n2401                            0.015411  ENST00000309311   \n2402                           -1.399083  ENST00000642195   \n\n      Missing conservation information  Target Score  \\\n0                                False     -0.000684   \n1                                False     -0.319682   \n2                                False     -0.252199   \n3                                False     -0.402890   \n4                                False      0.033653   \n...                                ...           ...   \n2398                             False      0.022228   \n2399                             False     -0.121343   \n2400                             False      0.173191   \n2401                             False     -0.655281   \n2402                             False      0.014256   \n\n     RS3 Sequence (Chen2013 tracr) + Target Score  \n0                                       -0.417559  \n1                                       -0.862093  \n2                                       -0.148880  \n3                                       -0.004389  \n4                                        0.208890  \n...                                           ...  \n2398                                    -0.423080  \n2399                                    -0.508475  \n2400                                    -0.565949  \n2401                                    -0.639869  \n2402                                    -1.384827  \n\n[2403 rows x 59 columns]",
      "text/html": "<div>\n<style scoped>\n    .dataframe tbody tr th:only-of-type {\n        vertical-align: middle;\n    }\n\n    .dataframe tbody tr th {\n        vertical-align: top;\n    }\n\n    .dataframe thead th {\n        text-align: right;\n    }\n</style>\n<table border=\"1\" class=\"dataframe\">\n  <thead>\n    <tr style=\"text-align: right;\">\n      <th></th>\n      <th>sgRNA Sequence</th>\n      <th>sgRNA Context Sequence</th>\n      <th>PAM Sequence</th>\n      <th>Target Gene Symbol</th>\n      <th>sgRNA Activity</th>\n      <th>Input</th>\n      <th>Quota</th>\n      <th>Target Taxon</th>\n      <th>Target Gene ID</th>\n      <th>Target Transcript</th>\n      <th>...</th>\n      <th>Off-Target Rank Weight</th>\n      <th>Combined Rank</th>\n      <th>Pick Order</th>\n      <th>Picking Round</th>\n      <th>Picking Notes</th>\n      <th>RS3 Sequence Score (Chen2013 tracr)</th>\n      <th>Transcript Base</th>\n      <th>Missing conservation information</th>\n      <th>Target Score</th>\n      <th>RS3 Sequence (Chen2013 tracr) + Target Score</th>\n    </tr>\n  </thead>\n  <tbody>\n    <tr>\n      <th>0</th>\n      <td>AAAAAATTATGCTGAATACC</td>\n      <td>GATTAAAAAATTATGCTGAATACCAGGTAG</td>\n      <td>AGG</td>\n      <td>KPNB1</td>\n      <td>0.988858</td>\n      <td>ENSG00000108424</td>\n      <td>MAX</td>\n      <td>9606</td>\n      <td>ENSG00000108424</td>\n      <td>ENST00000290158.9</td>\n      <td>...</td>\n      <td>1.0</td>\n      <td>122</td>\n      <td>179.0</td>\n      <td>3.0</td>\n      <td>Previously skipped due to: Outside Target Wind...</td>\n      <td>-0.416875</td>\n      <td>ENST00000290158</td>\n      <td>False</td>\n      <td>-0.000684</td>\n      <td>-0.417559</td>\n    </tr>\n    <tr>\n      <th>1</th>\n      <td>AAAACAGGGGCACGAGGGTA</td>\n      <td>AGGAAAAACAGGGGCACGAGGGTATGGATA</td>\n      <td>TGG</td>\n      <td>HNRNPU</td>\n      <td>-1.111856</td>\n      <td>ENSG00000153187</td>\n      <td>MAX</td>\n      <td>9606</td>\n      <td>ENSG00000153187</td>\n      <td>ENST00000444376.7</td>\n      <td>...</td>\n      <td>1.0</td>\n      <td>311</td>\n      <td>286.0</td>\n      <td>4.0</td>\n      <td>Previously skipped due to: Outside Target Wind...</td>\n      <td>-0.542411</td>\n      <td>ENST00000444376</td>\n      <td>False</td>\n      <td>-0.319682</td>\n      <td>-0.862093</td>\n    </tr>\n    <tr>\n      <th>2</th>\n      <td>AAAACCGGCGCTGGAACCAC</td>\n      <td>GGTCAAAACCGGCGCTGGAACCACGGGACA</td>\n      <td>GGG</td>\n      <td>PSMA6</td>\n      <td>1.052915</td>\n      <td>ENSG00000100902</td>\n      <td>MAX</td>\n      <td>9606</td>\n      <td>ENSG00000100902</td>\n      <td>ENST00000261479.9</td>\n      <td>...</td>\n      <td>1.0</td>\n      <td>24</td>\n      <td>34.0</td>\n      <td>3.0</td>\n      <td>Previously skipped due to: Outside Target Wind...</td>\n      <td>0.103319</td>\n      <td>ENST00000261479</td>\n      <td>False</td>\n      <td>-0.252199</td>\n      <td>-0.148880</td>\n    </tr>\n    <tr>\n      <th>3</th>\n      <td>AAAACTATCAAGTTGGGATC</td>\n      <td>CCAAAAAACTATCAAGTTGGGATCAGGCAG</td>\n      <td>AGG</td>\n      <td>SF3B1</td>\n      <td>-0.606245</td>\n      <td>ENSG00000115524</td>\n      <td>MAX</td>\n      <td>9606</td>\n      <td>ENSG00000115524</td>\n      <td>ENST00000335508.10</td>\n      <td>...</td>\n      <td>1.0</td>\n      <td>146</td>\n      <td>84.0</td>\n      <td>2.0</td>\n      <td>Previously skipped due to: Spacing Violation: ...</td>\n      <td>0.398501</td>\n      <td>ENST00000335508</td>\n      <td>False</td>\n      <td>-0.402890</td>\n      <td>-0.004389</td>\n    </tr>\n    <tr>\n      <th>4</th>\n      <td>AAAACTCTTGGAGCAATATA</td>\n      <td>CCCAAAAACTCTTGGAGCAATATAAGGAAG</td>\n      <td>AGG</td>\n      <td>HNRNPU</td>\n      <td>1.107731</td>\n      <td>ENSG00000153187</td>\n      <td>MAX</td>\n      <td>9606</td>\n      <td>ENSG00000153187</td>\n      <td>ENST00000444376.7</td>\n      <td>...</td>\n      <td>1.0</td>\n      <td>138</td>\n      <td>256.0</td>\n      <td>4.0</td>\n      <td>Previously skipped due to: Outside Target Wind...</td>\n      <td>0.175236</td>\n      <td>ENST00000444376</td>\n      <td>False</td>\n      <td>0.033653</td>\n      <td>0.208890</td>\n    </tr>\n    <tr>\n      <th>...</th>\n      <td>...</td>\n      <td>...</td>\n      <td>...</td>\n      <td>...</td>\n      <td>...</td>\n      <td>...</td>\n      <td>...</td>\n      <td>...</td>\n      <td>...</td>\n      <td>...</td>\n      <td>...</td>\n      <td>...</td>\n      <td>...</td>\n      <td>...</td>\n      <td>...</td>\n      <td>...</td>\n      <td>...</td>\n      <td>...</td>\n      <td>...</td>\n      <td>...</td>\n      <td>...</td>\n    </tr>\n    <tr>\n      <th>2398</th>\n      <td>TTTGGCAGCTGTGGGCTTAG</td>\n      <td>TTTGTTTGGCAGCTGTGGGCTTAGTGGGAG</td>\n      <td>TGG</td>\n      <td>KPNB1</td>\n      <td>-1.262632</td>\n      <td>ENSG00000108424</td>\n      <td>MAX</td>\n      <td>9606</td>\n      <td>ENSG00000108424</td>\n      <td>ENST00000290158.9</td>\n      <td>...</td>\n      <td>1.0</td>\n      <td>234</td>\n      <td>210.0</td>\n      <td>3.0</td>\n      <td>Previously skipped due to: Outside Target Wind...</td>\n      <td>-0.445308</td>\n      <td>ENST00000290158</td>\n      <td>False</td>\n      <td>0.022228</td>\n      <td>-0.423080</td>\n    </tr>\n    <tr>\n      <th>2399</th>\n      <td>TTTGGCCATTGAAGCTTCAG</td>\n      <td>TGGATTTGGCCATTGAAGCTTCAGAGGTGA</td>\n      <td>AGG</td>\n      <td>KPNB1</td>\n      <td>-0.175935</td>\n      <td>ENSG00000108424</td>\n      <td>MAX</td>\n      <td>9606</td>\n      <td>ENSG00000108424</td>\n      <td>ENST00000290158.9</td>\n      <td>...</td>\n      <td>1.0</td>\n      <td>110</td>\n      <td>58.0</td>\n      <td>2.0</td>\n      <td>Previously skipped due to: Spacing Violation: ...</td>\n      <td>-0.387132</td>\n      <td>ENST00000290158</td>\n      <td>False</td>\n      <td>-0.121343</td>\n      <td>-0.508475</td>\n    </tr>\n    <tr>\n      <th>2400</th>\n      <td>TTTGTATATAAATGCCTTAC</td>\n      <td>ATCTTTTGTATATAAATGCCTTACTGGGAT</td>\n      <td>TGG</td>\n      <td>HNRNPU</td>\n      <td>0.529085</td>\n      <td>ENSG00000153187</td>\n      <td>MAX</td>\n      <td>9606</td>\n      <td>ENSG00000153187</td>\n      <td>ENST00000444376.7</td>\n      <td>...</td>\n      <td>1.0</td>\n      <td>170</td>\n      <td>97.0</td>\n      <td>2.0</td>\n      <td>Previously skipped due to: Spacing Violation: ...</td>\n      <td>-0.739140</td>\n      <td>ENST00000444376</td>\n      <td>False</td>\n      <td>0.173191</td>\n      <td>-0.565949</td>\n    </tr>\n    <tr>\n      <th>2401</th>\n      <td>TTTGTCCAGGAAGTTGTCCA</td>\n      <td>ACAATTTGTCCAGGAAGTTGTCCAGGGCAG</td>\n      <td>GGG</td>\n      <td>EEF2</td>\n      <td>-0.203730</td>\n      <td>ENSG00000167658</td>\n      <td>MAX</td>\n      <td>9606</td>\n      <td>ENSG00000167658</td>\n      <td>ENST00000309311.7</td>\n      <td>...</td>\n      <td>1.0</td>\n      <td>205</td>\n      <td>424.0</td>\n      <td>4.0</td>\n      <td>Previously skipped due to: Outside Target Wind...</td>\n      <td>0.015411</td>\n      <td>ENST00000309311</td>\n      <td>False</td>\n      <td>-0.655281</td>\n      <td>-0.639869</td>\n    </tr>\n    <tr>\n      <th>2402</th>\n      <td>TTTGTTCTCATTAGGTAAAA</td>\n      <td>ATGGTTTGTTCTCATTAGGTAAAAAGGTGG</td>\n      <td>AGG</td>\n      <td>POLR1C</td>\n      <td>1.066927</td>\n      <td>ENSG00000171453</td>\n      <td>MAX</td>\n      <td>9606</td>\n      <td>ENSG00000171453</td>\n      <td>ENST00000642195.1</td>\n      <td>...</td>\n      <td>1.0</td>\n      <td>129</td>\n      <td>113.0</td>\n      <td>3.0</td>\n      <td>Previously skipped due to: Outside Target Wind...</td>\n      <td>-1.399083</td>\n      <td>ENST00000642195</td>\n      <td>False</td>\n      <td>0.014256</td>\n      <td>-1.384827</td>\n    </tr>\n  </tbody>\n</table>\n<p>2403 rows × 59 columns</p>\n</div>"
     },
     "execution_count": 5,
     "metadata": {},
     "output_type": "execute_result"
    }
   ],
   "source": [
    "hanna_activity = hanna_aacc03_data.get_sg_df(include_group=True, include_activity=True)\n",
    "hanna_activity_predictions = (hanna_activity\n",
    "                              .rename({'sgRNA Target': 'Target Gene Symbol'}, axis=1)\n",
    "                              .merge(hanna_aacc03_scores,\n",
    "                                     how='inner',\n",
    "                                     on=['sgRNA Sequence', 'sgRNA Context Sequence',\n",
    "                                         'Target Gene Symbol', 'PAM Sequence']))\n",
    "hanna_activity_predictions"
   ],
   "metadata": {
    "collapsed": false,
    "pycharm": {
     "name": "#%%\n"
    }
   }
  },
  {
   "cell_type": "code",
   "execution_count": 6,
   "outputs": [],
   "source": [
    "train_data_list = list()\n",
    "for ds in dataset_list:\n",
    "    if ds.name in train_data_names:\n",
    "        train_data_list.append(ds)\n",
    "\n",
    "train_data_sgs = set()\n",
    "for ds in train_data_list:\n",
    "    ds.load_data()\n",
    "    ds.set_sgrnas()\n",
    "    train_data_sgs |= set(ds.sgrnas)"
   ],
   "metadata": {
    "collapsed": false,
    "pycharm": {
     "name": "#%%\n"
    }
   }
  },
  {
   "cell_type": "code",
   "execution_count": 7,
   "outputs": [],
   "source": [
    "filtered_activity_predictions = hanna_activity_predictions[~hanna_activity_predictions['sgRNA Sequence'].isin(train_data_sgs)]"
   ],
   "metadata": {
    "collapsed": false,
    "pycharm": {
     "name": "#%%\n"
    }
   }
  },
  {
   "cell_type": "code",
   "execution_count": 9,
   "outputs": [
    {
     "name": "stdout",
     "output_type": "stream",
     "text": [
      "(0.11029546957745733, 6.171789576923872e-06)\n",
      "(0.1313718947162287, 6.99994709929524e-08)\n"
     ]
    }
   ],
   "source": [
    "print(stats.pearsonr(filtered_activity_predictions['sgRNA Activity'],\n",
    "                     filtered_activity_predictions['RS3 Sequence Score (Chen2013 tracr)']))\n",
    "print(stats.pearsonr(filtered_activity_predictions['sgRNA Activity'],\n",
    "                     filtered_activity_predictions['RS3 Sequence (Chen2013 tracr) + Target Score']))"
   ],
   "metadata": {
    "collapsed": false,
    "pycharm": {
     "name": "#%%\n"
    }
   }
  },
  {
   "cell_type": "code",
   "execution_count": 10,
   "outputs": [],
   "source": [
    "be_annotated_predictions = (filtered_activity_predictions\n",
    "                                 .merge(hanna_aacc03_annotations\n",
    "                                        .rename({'sgRNA sequence': 'sgRNA Sequence',\n",
    "                                                 'sgRNA context sequence': 'sgRNA Context Sequence',\n",
    "                                                 'Gene symbol': 'Target Gene Symbol',\n",
    "                                                 'Ensembl transcript ID': 'Transcript Base',\n",
    "                                                 'Ensembl gene ID': 'Target Gene ID',\n",
    "                                                 'sgRNA strand': 'Orientation'}, axis=1),\n",
    "                                        how='inner',\n",
    "                                        on=['sgRNA Sequence', 'sgRNA Context Sequence',\n",
    "                                            'Target Gene Symbol',\n",
    "                                            'Target Gene ID', 'Orientation']))\n",
    "be_filtered_predictions = be_annotated_predictions[be_annotated_predictions['Mutation category']\n",
    "    .str.contains('Nonsense|Splice', na=False)].copy()"
   ],
   "metadata": {
    "collapsed": false,
    "pycharm": {
     "name": "#%%\n"
    }
   }
  },
  {
   "cell_type": "code",
   "execution_count": 11,
   "outputs": [
    {
     "name": "stdout",
     "output_type": "stream",
     "text": [
      "(0.202923772295795, 0.08079864862957045)\n",
      "(0.127816070043014, 0.27447394020404725)\n"
     ]
    }
   ],
   "source": [
    "print(stats.pearsonr(be_filtered_predictions['sgRNA Activity'],\n",
    "                     be_filtered_predictions['RS3 Sequence Score (Chen2013 tracr)']))\n",
    "print(stats.pearsonr(be_filtered_predictions['sgRNA Activity'],\n",
    "                     be_filtered_predictions['RS3 Sequence (Chen2013 tracr) + Target Score']))"
   ],
   "metadata": {
    "collapsed": false,
    "pycharm": {
     "name": "#%%\n"
    }
   }
  },
  {
   "cell_type": "code",
   "execution_count": null,
   "outputs": [],
   "source": [],
   "metadata": {
    "collapsed": false,
    "pycharm": {
     "name": "#%%\n"
    }
   }
  }
 ],
 "metadata": {
  "kernelspec": {
   "display_name": "Python 3",
   "language": "python",
   "name": "python3"
  },
  "language_info": {
   "codemirror_mode": {
    "name": "ipython",
    "version": 2
   },
   "file_extension": ".py",
   "mimetype": "text/x-python",
   "name": "python",
   "nbconvert_exporter": "python",
   "pygments_lexer": "ipython2",
   "version": "2.7.6"
  }
 },
 "nbformat": 4,
 "nbformat_minor": 0
}