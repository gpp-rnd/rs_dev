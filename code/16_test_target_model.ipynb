{
 "cells": [
  {
   "cell_type": "markdown",
   "source": [
    "# Test Target Model"
   ],
   "metadata": {
    "collapsed": false,
    "pycharm": {
     "name": "#%% md\n"
    }
   }
  },
  {
   "cell_type": "code",
   "execution_count": 1,
   "metadata": {
    "collapsed": true
   },
   "outputs": [],
   "source": [
    "from datasets import dataset_list\n",
    "import pandas as pd\n",
    "import joblib\n",
    "import gpplot\n",
    "import seaborn as sns\n",
    "\n",
    "from model_predictions import (deepspcas9_predictions,\n",
    "                               rule_set2_predictions,\n",
    "                               vbc_predictions,\n",
    "                               crispron_predictions)\n",
    "\n",
    "import target_featurization as ft\n",
    "from core import (setup_plots,\n",
    "                  get_model_correlations,\n",
    "                  get_model_rank_loss,\n",
    "                  point_range_plot,\n",
    "                  get_feature_df)"
   ]
  },
  {
   "cell_type": "code",
   "execution_count": 2,
   "outputs": [],
   "source": [
    "setup_plots()"
   ],
   "metadata": {
    "collapsed": false,
    "pycharm": {
     "name": "#%%\n"
    }
   }
  },
  {
   "cell_type": "markdown",
   "source": [
    "## Import Data"
   ],
   "metadata": {
    "collapsed": false,
    "pycharm": {
     "name": "#%% md\n"
    }
   }
  },
  {
   "cell_type": "code",
   "execution_count": 3,
   "outputs": [],
   "source": [
    "nt_model = joblib.load('../models/RuleSet3.pkl')\n",
    "target_model = joblib.load('../models/target_model.pkl')\n",
    "target_model_lite = joblib.load('../models/target_lite_model.pkl')\n",
    "train_data_names = pd.read_csv('../data/processed/train_data_names.csv').name.to_list()\n",
    "protein_domains = pd.read_csv('../data/interim/protein_domains.csv')\n",
    "aa_seqs = pd.read_csv('../data/interim/aa_seqs.csv')"
   ],
   "metadata": {
    "collapsed": false,
    "pycharm": {
     "name": "#%%\n"
    }
   }
  },
  {
   "cell_type": "code",
   "execution_count": 4,
   "outputs": [
    {
     "data": {
      "text/plain": "             sgRNA Sequence          sgRNA Context Sequence PAM Sequence  \\\n0      AAAAAACTTACCCCTTTGAC  AAAAAAAAAACTTACCCCTTTGACTGGCCA          TGG   \n1      AAAAACATTATCATTGAGCC  TGGCAAAAACATTATCATTGAGCCTGGATT          TGG   \n2      AAAAAGAGATTGTCAAATCA  TATGAAAAAGAGATTGTCAAATCAAGGTAG          AGG   \n3      AAAAAGCATCTCTAGAAATA  TTCAAAAAAGCATCTCTAGAAATATGGTCC          TGG   \n4      AAAAAGCGAGATACCCGAAA  AAAAAAAAAGCGAGATACCCGAAAAGGCAG          AGG   \n...                     ...                             ...          ...   \n54409  TTTGTTCTTTAAATGGCTAC  CAAATTTGTTCTTTAAATGGCTACAGGAGG          AGG   \n54410  TTTGTTCTTTCTGTGCGCAC  AGATTTTGTTCTTTCTGTGCGCACTGGTGA          TGG   \n54411  TTTGTTGAGGCTCCTGGCTG  AAGATTTGTTGAGGCTCCTGGCTGTGGCGA          TGG   \n54412  TTTGTTGCCAATAGTTGGCC  TCTTTTTGTTGCCAATAGTTGGCCTGGCAA          TGG   \n54413  TTTGTTTCAGGATGGAATTG  TTGTTTTGTTTCAGGATGGAATTGTGGACC          TGG   \n\n      sgRNA Target  sgRNA Activity      dataset  genomewide     tracr  \\\n0            CPSF6       -1.139819  Aguirre2016        True   Hsu2013   \n1             SKA3       -0.793055  Aguirre2016        True   Hsu2013   \n2              AQR        0.946453  Aguirre2016        True   Hsu2013   \n3           ZNHIT6       -0.429590  Aguirre2016        True   Hsu2013   \n4            ABCF1        0.734196  Aguirre2016        True   Hsu2013   \n...            ...             ...          ...         ...       ...   \n54409        MED12       -1.951933    Munoz2016       False  Chen2013   \n54410       PTPN11       -1.693789    Munoz2016       False  Chen2013   \n54411        RPTOR       -1.234981    Munoz2016       False  Chen2013   \n54412         SKP2       -0.871017    Munoz2016       False  Chen2013   \n54413        PRKDC       -0.525924    Munoz2016       False  Chen2013   \n\n                 Input Quota  ...  On-Target Rank Off-Target Rank  \\\n0      ENSG00000111605   MAX  ...             140              76   \n1      ENSG00000165480   MAX  ...              58              29   \n2      ENSG00000021776   MAX  ...             179             115   \n3      ENSG00000117174   MAX  ...             149              62   \n4      ENSG00000204574   MAX  ...              71               3   \n...                ...   ...  ...             ...             ...   \n54409  ENSG00000184634   MAX  ...             707              67   \n54410  ENSG00000179295   MAX  ...             148              11   \n54411  ENSG00000141564   MAX  ...             528             549   \n54412  ENSG00000145604   MAX  ...             114             168   \n54413  ENSG00000253729   MAX  ...             264             663   \n\n      On-Target Rank Weight Off-Target Rank Weight  Combined Rank Pick Order  \\\n0                       1.0                    1.0             96       48.0   \n1                       1.0                    1.0             37       23.0   \n2                       1.0                    1.0             88      235.0   \n3                       1.0                    1.0            119       74.0   \n4                       1.0                    1.0              5        2.0   \n...                     ...                    ...            ...        ...   \n54409                   1.0                    1.0            346      217.0   \n54410                   1.0                    1.0             67       35.0   \n54411                   1.0                    1.0            614      350.0   \n54412                   1.0                    1.0            159      154.0   \n54413                   1.0                    1.0            317      188.0   \n\n      Picking Round                                      Picking Notes  \\\n0               2.0  Previously skipped due to: Spacing Violation: ...   \n1               2.0  Previously skipped due to: Spacing Violation: ...   \n2               3.0  Previously skipped due to: Outside Target Wind...   \n3               2.0  Previously skipped due to: Spacing Violation: ...   \n4               1.0                                               None   \n...             ...                                                ...   \n54409           2.0  Previously skipped due to: Spacing Violation: ...   \n54410           2.0  Previously skipped due to: Spacing Violation: ...   \n54411           2.0  Previously skipped due to: Spacing Violation: ...   \n54412           4.0  Previously skipped due to: Outside Target Wind...   \n54413           2.0  Previously skipped due to: Spacing Violation: ...   \n\n      AA Index  Transcript Base  \n0          123  ENST00000435070  \n1          258  ENST00000314759  \n2           56  ENST00000156471  \n3          291  ENST00000370574  \n4           80  ENST00000326195  \n...        ...              ...  \n54409      983  ENST00000374080  \n54410      152  ENST00000351677  \n54411      732  ENST00000306801  \n54412      399  ENST00000274255  \n54413     1017  ENST00000314191  \n\n[54414 rows x 60 columns]",
      "text/html": "<div>\n<style scoped>\n    .dataframe tbody tr th:only-of-type {\n        vertical-align: middle;\n    }\n\n    .dataframe tbody tr th {\n        vertical-align: top;\n    }\n\n    .dataframe thead th {\n        text-align: right;\n    }\n</style>\n<table border=\"1\" class=\"dataframe\">\n  <thead>\n    <tr style=\"text-align: right;\">\n      <th></th>\n      <th>sgRNA Sequence</th>\n      <th>sgRNA Context Sequence</th>\n      <th>PAM Sequence</th>\n      <th>sgRNA Target</th>\n      <th>sgRNA Activity</th>\n      <th>dataset</th>\n      <th>genomewide</th>\n      <th>tracr</th>\n      <th>Input</th>\n      <th>Quota</th>\n      <th>...</th>\n      <th>On-Target Rank</th>\n      <th>Off-Target Rank</th>\n      <th>On-Target Rank Weight</th>\n      <th>Off-Target Rank Weight</th>\n      <th>Combined Rank</th>\n      <th>Pick Order</th>\n      <th>Picking Round</th>\n      <th>Picking Notes</th>\n      <th>AA Index</th>\n      <th>Transcript Base</th>\n    </tr>\n  </thead>\n  <tbody>\n    <tr>\n      <th>0</th>\n      <td>AAAAAACTTACCCCTTTGAC</td>\n      <td>AAAAAAAAAACTTACCCCTTTGACTGGCCA</td>\n      <td>TGG</td>\n      <td>CPSF6</td>\n      <td>-1.139819</td>\n      <td>Aguirre2016</td>\n      <td>True</td>\n      <td>Hsu2013</td>\n      <td>ENSG00000111605</td>\n      <td>MAX</td>\n      <td>...</td>\n      <td>140</td>\n      <td>76</td>\n      <td>1.0</td>\n      <td>1.0</td>\n      <td>96</td>\n      <td>48.0</td>\n      <td>2.0</td>\n      <td>Previously skipped due to: Spacing Violation: ...</td>\n      <td>123</td>\n      <td>ENST00000435070</td>\n    </tr>\n    <tr>\n      <th>1</th>\n      <td>AAAAACATTATCATTGAGCC</td>\n      <td>TGGCAAAAACATTATCATTGAGCCTGGATT</td>\n      <td>TGG</td>\n      <td>SKA3</td>\n      <td>-0.793055</td>\n      <td>Aguirre2016</td>\n      <td>True</td>\n      <td>Hsu2013</td>\n      <td>ENSG00000165480</td>\n      <td>MAX</td>\n      <td>...</td>\n      <td>58</td>\n      <td>29</td>\n      <td>1.0</td>\n      <td>1.0</td>\n      <td>37</td>\n      <td>23.0</td>\n      <td>2.0</td>\n      <td>Previously skipped due to: Spacing Violation: ...</td>\n      <td>258</td>\n      <td>ENST00000314759</td>\n    </tr>\n    <tr>\n      <th>2</th>\n      <td>AAAAAGAGATTGTCAAATCA</td>\n      <td>TATGAAAAAGAGATTGTCAAATCAAGGTAG</td>\n      <td>AGG</td>\n      <td>AQR</td>\n      <td>0.946453</td>\n      <td>Aguirre2016</td>\n      <td>True</td>\n      <td>Hsu2013</td>\n      <td>ENSG00000021776</td>\n      <td>MAX</td>\n      <td>...</td>\n      <td>179</td>\n      <td>115</td>\n      <td>1.0</td>\n      <td>1.0</td>\n      <td>88</td>\n      <td>235.0</td>\n      <td>3.0</td>\n      <td>Previously skipped due to: Outside Target Wind...</td>\n      <td>56</td>\n      <td>ENST00000156471</td>\n    </tr>\n    <tr>\n      <th>3</th>\n      <td>AAAAAGCATCTCTAGAAATA</td>\n      <td>TTCAAAAAAGCATCTCTAGAAATATGGTCC</td>\n      <td>TGG</td>\n      <td>ZNHIT6</td>\n      <td>-0.429590</td>\n      <td>Aguirre2016</td>\n      <td>True</td>\n      <td>Hsu2013</td>\n      <td>ENSG00000117174</td>\n      <td>MAX</td>\n      <td>...</td>\n      <td>149</td>\n      <td>62</td>\n      <td>1.0</td>\n      <td>1.0</td>\n      <td>119</td>\n      <td>74.0</td>\n      <td>2.0</td>\n      <td>Previously skipped due to: Spacing Violation: ...</td>\n      <td>291</td>\n      <td>ENST00000370574</td>\n    </tr>\n    <tr>\n      <th>4</th>\n      <td>AAAAAGCGAGATACCCGAAA</td>\n      <td>AAAAAAAAAGCGAGATACCCGAAAAGGCAG</td>\n      <td>AGG</td>\n      <td>ABCF1</td>\n      <td>0.734196</td>\n      <td>Aguirre2016</td>\n      <td>True</td>\n      <td>Hsu2013</td>\n      <td>ENSG00000204574</td>\n      <td>MAX</td>\n      <td>...</td>\n      <td>71</td>\n      <td>3</td>\n      <td>1.0</td>\n      <td>1.0</td>\n      <td>5</td>\n      <td>2.0</td>\n      <td>1.0</td>\n      <td>None</td>\n      <td>80</td>\n      <td>ENST00000326195</td>\n    </tr>\n    <tr>\n      <th>...</th>\n      <td>...</td>\n      <td>...</td>\n      <td>...</td>\n      <td>...</td>\n      <td>...</td>\n      <td>...</td>\n      <td>...</td>\n      <td>...</td>\n      <td>...</td>\n      <td>...</td>\n      <td>...</td>\n      <td>...</td>\n      <td>...</td>\n      <td>...</td>\n      <td>...</td>\n      <td>...</td>\n      <td>...</td>\n      <td>...</td>\n      <td>...</td>\n      <td>...</td>\n      <td>...</td>\n    </tr>\n    <tr>\n      <th>54409</th>\n      <td>TTTGTTCTTTAAATGGCTAC</td>\n      <td>CAAATTTGTTCTTTAAATGGCTACAGGAGG</td>\n      <td>AGG</td>\n      <td>MED12</td>\n      <td>-1.951933</td>\n      <td>Munoz2016</td>\n      <td>False</td>\n      <td>Chen2013</td>\n      <td>ENSG00000184634</td>\n      <td>MAX</td>\n      <td>...</td>\n      <td>707</td>\n      <td>67</td>\n      <td>1.0</td>\n      <td>1.0</td>\n      <td>346</td>\n      <td>217.0</td>\n      <td>2.0</td>\n      <td>Previously skipped due to: Spacing Violation: ...</td>\n      <td>983</td>\n      <td>ENST00000374080</td>\n    </tr>\n    <tr>\n      <th>54410</th>\n      <td>TTTGTTCTTTCTGTGCGCAC</td>\n      <td>AGATTTTGTTCTTTCTGTGCGCACTGGTGA</td>\n      <td>TGG</td>\n      <td>PTPN11</td>\n      <td>-1.693789</td>\n      <td>Munoz2016</td>\n      <td>False</td>\n      <td>Chen2013</td>\n      <td>ENSG00000179295</td>\n      <td>MAX</td>\n      <td>...</td>\n      <td>148</td>\n      <td>11</td>\n      <td>1.0</td>\n      <td>1.0</td>\n      <td>67</td>\n      <td>35.0</td>\n      <td>2.0</td>\n      <td>Previously skipped due to: Spacing Violation: ...</td>\n      <td>152</td>\n      <td>ENST00000351677</td>\n    </tr>\n    <tr>\n      <th>54411</th>\n      <td>TTTGTTGAGGCTCCTGGCTG</td>\n      <td>AAGATTTGTTGAGGCTCCTGGCTGTGGCGA</td>\n      <td>TGG</td>\n      <td>RPTOR</td>\n      <td>-1.234981</td>\n      <td>Munoz2016</td>\n      <td>False</td>\n      <td>Chen2013</td>\n      <td>ENSG00000141564</td>\n      <td>MAX</td>\n      <td>...</td>\n      <td>528</td>\n      <td>549</td>\n      <td>1.0</td>\n      <td>1.0</td>\n      <td>614</td>\n      <td>350.0</td>\n      <td>2.0</td>\n      <td>Previously skipped due to: Spacing Violation: ...</td>\n      <td>732</td>\n      <td>ENST00000306801</td>\n    </tr>\n    <tr>\n      <th>54412</th>\n      <td>TTTGTTGCCAATAGTTGGCC</td>\n      <td>TCTTTTTGTTGCCAATAGTTGGCCTGGCAA</td>\n      <td>TGG</td>\n      <td>SKP2</td>\n      <td>-0.871017</td>\n      <td>Munoz2016</td>\n      <td>False</td>\n      <td>Chen2013</td>\n      <td>ENSG00000145604</td>\n      <td>MAX</td>\n      <td>...</td>\n      <td>114</td>\n      <td>168</td>\n      <td>1.0</td>\n      <td>1.0</td>\n      <td>159</td>\n      <td>154.0</td>\n      <td>4.0</td>\n      <td>Previously skipped due to: Outside Target Wind...</td>\n      <td>399</td>\n      <td>ENST00000274255</td>\n    </tr>\n    <tr>\n      <th>54413</th>\n      <td>TTTGTTTCAGGATGGAATTG</td>\n      <td>TTGTTTTGTTTCAGGATGGAATTGTGGACC</td>\n      <td>TGG</td>\n      <td>PRKDC</td>\n      <td>-0.525924</td>\n      <td>Munoz2016</td>\n      <td>False</td>\n      <td>Chen2013</td>\n      <td>ENSG00000253729</td>\n      <td>MAX</td>\n      <td>...</td>\n      <td>264</td>\n      <td>663</td>\n      <td>1.0</td>\n      <td>1.0</td>\n      <td>317</td>\n      <td>188.0</td>\n      <td>2.0</td>\n      <td>Previously skipped due to: Spacing Violation: ...</td>\n      <td>1017</td>\n      <td>ENST00000314191</td>\n    </tr>\n  </tbody>\n</table>\n<p>54414 rows × 60 columns</p>\n</div>"
     },
     "execution_count": 4,
     "metadata": {},
     "output_type": "execute_result"
    }
   ],
   "source": [
    "dataset_activity_list = []\n",
    "for ds in dataset_list:\n",
    "    if ds.endogenous:\n",
    "        ds.load_data()\n",
    "        ds.set_sgrnas()\n",
    "        dataset_activity = ds.get_sg_df(include_group=True, include_activity=True)\n",
    "        dataset_activity['dataset'] = ds.name\n",
    "        dataset_activity['genomewide'] = ds.genomewide\n",
    "        dataset_activity['tracr'] = ds.tracr\n",
    "        design_df = ds.get_designs()\n",
    "        dataset_activity = dataset_activity.merge(design_df, how='inner',\n",
    "                                                  on=['sgRNA Sequence', 'sgRNA Context Sequence', 'PAM Sequence'])\n",
    "        dataset_activity_list.append(dataset_activity)\n",
    "dataset_activity_df = (pd.concat(dataset_activity_list)\n",
    "                       .reset_index(drop=True))\n",
    "dataset_activity_df = ft.add_target_columns(dataset_activity_df)  # only necessary for getting transcript bases\n",
    "dataset_activity_df"
   ],
   "metadata": {
    "collapsed": false,
    "pycharm": {
     "name": "#%%\n"
    }
   }
  },
  {
   "cell_type": "code",
   "execution_count": 5,
   "outputs": [
    {
     "data": {
      "text/plain": "23605"
     },
     "execution_count": 5,
     "metadata": {},
     "output_type": "execute_result"
    }
   ],
   "source": [
    "test_set = dataset_activity_df[dataset_activity_df['dataset'].isin(['Aguirre2016',\n",
    "                                                                    'Behan2019', 'Koike-Yusa2014',\n",
    "                                                                    'Shalem2014'])]\n",
    "test_set['sgRNA Sequence'].nunique()"
   ],
   "metadata": {
    "collapsed": false,
    "pycharm": {
     "name": "#%%\n"
    }
   }
  },
  {
   "cell_type": "code",
   "execution_count": 6,
   "outputs": [],
   "source": [
    "transcript_bases = list(dataset_activity_df['Transcript Base']\n",
    "                        .unique())\n",
    "conservation_df = (pd.read_parquet('../data/interim/conservation.parquet',\n",
    "                                   filters=[[('Transcript Base', 'in', transcript_bases)]])\n",
    "                   .reset_index(drop=True))"
   ],
   "metadata": {
    "collapsed": false,
    "pycharm": {
     "name": "#%%\n"
    }
   }
  },
  {
   "cell_type": "markdown",
   "source": [
    "## Get Predictions\n",
    "\n",
    "### External Models"
   ],
   "metadata": {
    "collapsed": false,
    "pycharm": {
     "name": "#%% md\n"
    }
   }
  },
  {
   "cell_type": "code",
   "execution_count": 7,
   "outputs": [
    {
     "data": {
      "text/plain": "             sgRNA Sequence          sgRNA Context Sequence PAM Sequence  \\\n0      AAAAAACTTACCCCTTTGAC  AAAAAAAAAACTTACCCCTTTGACTGGCCA          TGG   \n1      AAAAACATTATCATTGAGCC  TGGCAAAAACATTATCATTGAGCCTGGATT          TGG   \n2      AAAAAGAGATTGTCAAATCA  TATGAAAAAGAGATTGTCAAATCAAGGTAG          AGG   \n3      AAAAAGCATCTCTAGAAATA  TTCAAAAAAGCATCTCTAGAAATATGGTCC          TGG   \n4      AAAAAGCGAGATACCCGAAA  AAAAAAAAAGCGAGATACCCGAAAAGGCAG          AGG   \n...                     ...                             ...          ...   \n56357  TTTGTTCTTTAAATGGCTAC  CAAATTTGTTCTTTAAATGGCTACAGGAGG          AGG   \n56358  TTTGTTCTTTCTGTGCGCAC  AGATTTTGTTCTTTCTGTGCGCACTGGTGA          TGG   \n56359  TTTGTTGAGGCTCCTGGCTG  AAGATTTGTTGAGGCTCCTGGCTGTGGCGA          TGG   \n56360  TTTGTTGCCAATAGTTGGCC  TCTTTTTGTTGCCAATAGTTGGCCTGGCAA          TGG   \n56361  TTTGTTTCAGGATGGAATTG  TTGTTTTGTTTCAGGATGGAATTGTGGACC          TGG   \n\n      sgRNA Target  sgRNA Activity      dataset  genomewide     tracr  \\\n0            CPSF6       -1.139819  Aguirre2016        True   Hsu2013   \n1             SKA3       -0.793055  Aguirre2016        True   Hsu2013   \n2              AQR        0.946453  Aguirre2016        True   Hsu2013   \n3           ZNHIT6       -0.429590  Aguirre2016        True   Hsu2013   \n4            ABCF1        0.734196  Aguirre2016        True   Hsu2013   \n...            ...             ...          ...         ...       ...   \n56357        MED12       -1.951933    Munoz2016       False  Chen2013   \n56358       PTPN11       -1.693789    Munoz2016       False  Chen2013   \n56359        RPTOR       -1.234981    Munoz2016       False  Chen2013   \n56360         SKP2       -0.871017    Munoz2016       False  Chen2013   \n56361        PRKDC       -0.525924    Munoz2016       False  Chen2013   \n\n                 Input Quota  ...  Rule Set 2 Rule Set 2 train    gene  \\\n0      ENSG00000111605   MAX  ...    0.489201            False   CPSF6   \n1      ENSG00000165480   MAX  ...    0.464962            False    SKA3   \n2      ENSG00000021776   MAX  ...    0.525786            False     AQR   \n3      ENSG00000117174   MAX  ...    0.369761            False  ZNHIT6   \n4      ENSG00000204574   MAX  ...    0.604568            False   ABCF1   \n...                ...   ...  ...         ...              ...     ...   \n56357  ENSG00000184634   MAX  ...    0.443932             True   MED12   \n56358  ENSG00000179295   MAX  ...    0.442974            False  PTPN11   \n56359  ENSG00000141564   MAX  ...    0.441318            False   RPTOR   \n56360  ENSG00000145604   MAX  ...    0.456960            False    SKP2   \n56361  ENSG00000253729   MAX  ...    0.603960            False   PRKDC   \n\n      VBC score  VBC Activity VBC Bioscore genome VBC score train CRISPRon  \\\n0         0.621         0.436        0.695   hg38           False    13.88   \n1         0.486         0.320        0.465   hg38           False     3.39   \n2         0.665         0.551        0.613   hg38           False    27.21   \n3         0.549         0.358        0.580   hg38           False    14.67   \n4         0.592         0.657        0.428   hg38           False    44.40   \n...         ...           ...          ...    ...             ...      ...   \n56357     0.545         0.282        0.627   hg38            True     6.76   \n56358     0.576         0.350        0.665   hg38            True    11.66   \n56359     0.535         0.433        0.494   hg38            True    46.54   \n56360     0.501         0.328        0.488   hg38            True    17.97   \n56361     0.643         0.521        0.641   hg38            True    28.62   \n\n      CRISPRon train  \n0              False  \n1              False  \n2              False  \n3              False  \n4              False  \n...              ...  \n56357           True  \n56358          False  \n56359          False  \n56360          False  \n56361          False  \n\n[56362 rows x 72 columns]",
      "text/html": "<div>\n<style scoped>\n    .dataframe tbody tr th:only-of-type {\n        vertical-align: middle;\n    }\n\n    .dataframe tbody tr th {\n        vertical-align: top;\n    }\n\n    .dataframe thead th {\n        text-align: right;\n    }\n</style>\n<table border=\"1\" class=\"dataframe\">\n  <thead>\n    <tr style=\"text-align: right;\">\n      <th></th>\n      <th>sgRNA Sequence</th>\n      <th>sgRNA Context Sequence</th>\n      <th>PAM Sequence</th>\n      <th>sgRNA Target</th>\n      <th>sgRNA Activity</th>\n      <th>dataset</th>\n      <th>genomewide</th>\n      <th>tracr</th>\n      <th>Input</th>\n      <th>Quota</th>\n      <th>...</th>\n      <th>Rule Set 2</th>\n      <th>Rule Set 2 train</th>\n      <th>gene</th>\n      <th>VBC score</th>\n      <th>VBC Activity</th>\n      <th>VBC Bioscore</th>\n      <th>genome</th>\n      <th>VBC score train</th>\n      <th>CRISPRon</th>\n      <th>CRISPRon train</th>\n    </tr>\n  </thead>\n  <tbody>\n    <tr>\n      <th>0</th>\n      <td>AAAAAACTTACCCCTTTGAC</td>\n      <td>AAAAAAAAAACTTACCCCTTTGACTGGCCA</td>\n      <td>TGG</td>\n      <td>CPSF6</td>\n      <td>-1.139819</td>\n      <td>Aguirre2016</td>\n      <td>True</td>\n      <td>Hsu2013</td>\n      <td>ENSG00000111605</td>\n      <td>MAX</td>\n      <td>...</td>\n      <td>0.489201</td>\n      <td>False</td>\n      <td>CPSF6</td>\n      <td>0.621</td>\n      <td>0.436</td>\n      <td>0.695</td>\n      <td>hg38</td>\n      <td>False</td>\n      <td>13.88</td>\n      <td>False</td>\n    </tr>\n    <tr>\n      <th>1</th>\n      <td>AAAAACATTATCATTGAGCC</td>\n      <td>TGGCAAAAACATTATCATTGAGCCTGGATT</td>\n      <td>TGG</td>\n      <td>SKA3</td>\n      <td>-0.793055</td>\n      <td>Aguirre2016</td>\n      <td>True</td>\n      <td>Hsu2013</td>\n      <td>ENSG00000165480</td>\n      <td>MAX</td>\n      <td>...</td>\n      <td>0.464962</td>\n      <td>False</td>\n      <td>SKA3</td>\n      <td>0.486</td>\n      <td>0.320</td>\n      <td>0.465</td>\n      <td>hg38</td>\n      <td>False</td>\n      <td>3.39</td>\n      <td>False</td>\n    </tr>\n    <tr>\n      <th>2</th>\n      <td>AAAAAGAGATTGTCAAATCA</td>\n      <td>TATGAAAAAGAGATTGTCAAATCAAGGTAG</td>\n      <td>AGG</td>\n      <td>AQR</td>\n      <td>0.946453</td>\n      <td>Aguirre2016</td>\n      <td>True</td>\n      <td>Hsu2013</td>\n      <td>ENSG00000021776</td>\n      <td>MAX</td>\n      <td>...</td>\n      <td>0.525786</td>\n      <td>False</td>\n      <td>AQR</td>\n      <td>0.665</td>\n      <td>0.551</td>\n      <td>0.613</td>\n      <td>hg38</td>\n      <td>False</td>\n      <td>27.21</td>\n      <td>False</td>\n    </tr>\n    <tr>\n      <th>3</th>\n      <td>AAAAAGCATCTCTAGAAATA</td>\n      <td>TTCAAAAAAGCATCTCTAGAAATATGGTCC</td>\n      <td>TGG</td>\n      <td>ZNHIT6</td>\n      <td>-0.429590</td>\n      <td>Aguirre2016</td>\n      <td>True</td>\n      <td>Hsu2013</td>\n      <td>ENSG00000117174</td>\n      <td>MAX</td>\n      <td>...</td>\n      <td>0.369761</td>\n      <td>False</td>\n      <td>ZNHIT6</td>\n      <td>0.549</td>\n      <td>0.358</td>\n      <td>0.580</td>\n      <td>hg38</td>\n      <td>False</td>\n      <td>14.67</td>\n      <td>False</td>\n    </tr>\n    <tr>\n      <th>4</th>\n      <td>AAAAAGCGAGATACCCGAAA</td>\n      <td>AAAAAAAAAGCGAGATACCCGAAAAGGCAG</td>\n      <td>AGG</td>\n      <td>ABCF1</td>\n      <td>0.734196</td>\n      <td>Aguirre2016</td>\n      <td>True</td>\n      <td>Hsu2013</td>\n      <td>ENSG00000204574</td>\n      <td>MAX</td>\n      <td>...</td>\n      <td>0.604568</td>\n      <td>False</td>\n      <td>ABCF1</td>\n      <td>0.592</td>\n      <td>0.657</td>\n      <td>0.428</td>\n      <td>hg38</td>\n      <td>False</td>\n      <td>44.40</td>\n      <td>False</td>\n    </tr>\n    <tr>\n      <th>...</th>\n      <td>...</td>\n      <td>...</td>\n      <td>...</td>\n      <td>...</td>\n      <td>...</td>\n      <td>...</td>\n      <td>...</td>\n      <td>...</td>\n      <td>...</td>\n      <td>...</td>\n      <td>...</td>\n      <td>...</td>\n      <td>...</td>\n      <td>...</td>\n      <td>...</td>\n      <td>...</td>\n      <td>...</td>\n      <td>...</td>\n      <td>...</td>\n      <td>...</td>\n      <td>...</td>\n    </tr>\n    <tr>\n      <th>56357</th>\n      <td>TTTGTTCTTTAAATGGCTAC</td>\n      <td>CAAATTTGTTCTTTAAATGGCTACAGGAGG</td>\n      <td>AGG</td>\n      <td>MED12</td>\n      <td>-1.951933</td>\n      <td>Munoz2016</td>\n      <td>False</td>\n      <td>Chen2013</td>\n      <td>ENSG00000184634</td>\n      <td>MAX</td>\n      <td>...</td>\n      <td>0.443932</td>\n      <td>True</td>\n      <td>MED12</td>\n      <td>0.545</td>\n      <td>0.282</td>\n      <td>0.627</td>\n      <td>hg38</td>\n      <td>True</td>\n      <td>6.76</td>\n      <td>True</td>\n    </tr>\n    <tr>\n      <th>56358</th>\n      <td>TTTGTTCTTTCTGTGCGCAC</td>\n      <td>AGATTTTGTTCTTTCTGTGCGCACTGGTGA</td>\n      <td>TGG</td>\n      <td>PTPN11</td>\n      <td>-1.693789</td>\n      <td>Munoz2016</td>\n      <td>False</td>\n      <td>Chen2013</td>\n      <td>ENSG00000179295</td>\n      <td>MAX</td>\n      <td>...</td>\n      <td>0.442974</td>\n      <td>False</td>\n      <td>PTPN11</td>\n      <td>0.576</td>\n      <td>0.350</td>\n      <td>0.665</td>\n      <td>hg38</td>\n      <td>True</td>\n      <td>11.66</td>\n      <td>False</td>\n    </tr>\n    <tr>\n      <th>56359</th>\n      <td>TTTGTTGAGGCTCCTGGCTG</td>\n      <td>AAGATTTGTTGAGGCTCCTGGCTGTGGCGA</td>\n      <td>TGG</td>\n      <td>RPTOR</td>\n      <td>-1.234981</td>\n      <td>Munoz2016</td>\n      <td>False</td>\n      <td>Chen2013</td>\n      <td>ENSG00000141564</td>\n      <td>MAX</td>\n      <td>...</td>\n      <td>0.441318</td>\n      <td>False</td>\n      <td>RPTOR</td>\n      <td>0.535</td>\n      <td>0.433</td>\n      <td>0.494</td>\n      <td>hg38</td>\n      <td>True</td>\n      <td>46.54</td>\n      <td>False</td>\n    </tr>\n    <tr>\n      <th>56360</th>\n      <td>TTTGTTGCCAATAGTTGGCC</td>\n      <td>TCTTTTTGTTGCCAATAGTTGGCCTGGCAA</td>\n      <td>TGG</td>\n      <td>SKP2</td>\n      <td>-0.871017</td>\n      <td>Munoz2016</td>\n      <td>False</td>\n      <td>Chen2013</td>\n      <td>ENSG00000145604</td>\n      <td>MAX</td>\n      <td>...</td>\n      <td>0.456960</td>\n      <td>False</td>\n      <td>SKP2</td>\n      <td>0.501</td>\n      <td>0.328</td>\n      <td>0.488</td>\n      <td>hg38</td>\n      <td>True</td>\n      <td>17.97</td>\n      <td>False</td>\n    </tr>\n    <tr>\n      <th>56361</th>\n      <td>TTTGTTTCAGGATGGAATTG</td>\n      <td>TTGTTTTGTTTCAGGATGGAATTGTGGACC</td>\n      <td>TGG</td>\n      <td>PRKDC</td>\n      <td>-0.525924</td>\n      <td>Munoz2016</td>\n      <td>False</td>\n      <td>Chen2013</td>\n      <td>ENSG00000253729</td>\n      <td>MAX</td>\n      <td>...</td>\n      <td>0.603960</td>\n      <td>False</td>\n      <td>PRKDC</td>\n      <td>0.643</td>\n      <td>0.521</td>\n      <td>0.641</td>\n      <td>hg38</td>\n      <td>True</td>\n      <td>28.62</td>\n      <td>False</td>\n    </tr>\n  </tbody>\n</table>\n<p>56362 rows × 72 columns</p>\n</div>"
     },
     "execution_count": 7,
     "metadata": {},
     "output_type": "execute_result"
    }
   ],
   "source": [
    "model_prediction_list = [deepspcas9_predictions,\n",
    "                         rule_set2_predictions,\n",
    "                         vbc_predictions,\n",
    "                         crispron_predictions]\n",
    "for model_prediction in model_prediction_list:\n",
    "    model_prediction.load_model_predictions()\n",
    "    model_prediction.set_sgrnas()\n",
    "    if model_prediction.target_col is None:\n",
    "        dataset_activity_df = dataset_activity_df.merge(model_prediction.prediction_df,\n",
    "                                                        how='left',\n",
    "                                                        on=['sgRNA Sequence',\n",
    "                                                            'sgRNA Context Sequence',\n",
    "                                                            'PAM Sequence'])\n",
    "    else:\n",
    "        dataset_activity_df = dataset_activity_df.merge(model_prediction.prediction_df,\n",
    "                                                        how='left',\n",
    "                                                        left_on=['sgRNA Sequence',\n",
    "                                                                 'sgRNA Context Sequence',\n",
    "                                                                 'PAM Sequence',\n",
    "                                                                 'sgRNA Target'],\n",
    "                                                        right_on=['sgRNA Sequence',\n",
    "                                                                  'sgRNA Context Sequence',\n",
    "                                                                  'PAM Sequence',\n",
    "                                                                  model_prediction.target_col])\n",
    "    dataset_activity_df[model_prediction.name + ' train'] = (dataset_activity_df['sgRNA Sequence']\n",
    "                                                             .isin(model_prediction.sgrnas))\n",
    "dataset_activity_df"
   ],
   "metadata": {
    "collapsed": false,
    "pycharm": {
     "name": "#%%\n"
    }
   }
  },
  {
   "cell_type": "code",
   "execution_count": 8,
   "outputs": [
    {
     "data": {
      "text/plain": "DeepSpCas9       0\nRule Set 2       0\nVBC score     4957\nCRISPRon         0\ndtype: int64"
     },
     "execution_count": 8,
     "metadata": {},
     "output_type": "execute_result"
    }
   ],
   "source": [
    "model_prediction_names = [m.name for m in model_prediction_list]\n",
    "dataset_activity_df[model_prediction_names].isna().sum()"
   ],
   "metadata": {
    "collapsed": false,
    "pycharm": {
     "name": "#%%\n"
    }
   }
  },
  {
   "cell_type": "markdown",
   "source": [
    "### Rule Set 3"
   ],
   "metadata": {
    "collapsed": false,
    "pycharm": {
     "name": "#%% md\n"
    }
   }
  },
  {
   "cell_type": "code",
   "execution_count": 9,
   "outputs": [
    {
     "name": "stderr",
     "output_type": "stream",
     "text": [
      "100%|██████████| 56362/56362 [03:16<00:00, 286.12it/s]\n"
     ]
    },
    {
     "data": {
      "text/plain": "             sgRNA Sequence          sgRNA Context Sequence PAM Sequence  \\\n0      AAAAAACTTACCCCTTTGAC  AAAAAAAAAACTTACCCCTTTGACTGGCCA          TGG   \n1      AAAAACATTATCATTGAGCC  TGGCAAAAACATTATCATTGAGCCTGGATT          TGG   \n2      AAAAAGAGATTGTCAAATCA  TATGAAAAAGAGATTGTCAAATCAAGGTAG          AGG   \n3      AAAAAGCATCTCTAGAAATA  TTCAAAAAAGCATCTCTAGAAATATGGTCC          TGG   \n4      AAAAAGCGAGATACCCGAAA  AAAAAAAAAGCGAGATACCCGAAAAGGCAG          AGG   \n...                     ...                             ...          ...   \n56357  TTTGTTCTTTAAATGGCTAC  CAAATTTGTTCTTTAAATGGCTACAGGAGG          AGG   \n56358  TTTGTTCTTTCTGTGCGCAC  AGATTTTGTTCTTTCTGTGCGCACTGGTGA          TGG   \n56359  TTTGTTGAGGCTCCTGGCTG  AAGATTTGTTGAGGCTCCTGGCTGTGGCGA          TGG   \n56360  TTTGTTGCCAATAGTTGGCC  TCTTTTTGTTGCCAATAGTTGGCCTGGCAA          TGG   \n56361  TTTGTTTCAGGATGGAATTG  TTGTTTTGTTTCAGGATGGAATTGTGGACC          TGG   \n\n      sgRNA Target  sgRNA Activity      dataset  genomewide     tracr  \\\n0            CPSF6       -1.139819  Aguirre2016        True   Hsu2013   \n1             SKA3       -0.793055  Aguirre2016        True   Hsu2013   \n2              AQR        0.946453  Aguirre2016        True   Hsu2013   \n3           ZNHIT6       -0.429590  Aguirre2016        True   Hsu2013   \n4            ABCF1        0.734196  Aguirre2016        True   Hsu2013   \n...            ...             ...          ...         ...       ...   \n56357        MED12       -1.951933    Munoz2016       False  Chen2013   \n56358       PTPN11       -1.693789    Munoz2016       False  Chen2013   \n56359        RPTOR       -1.234981    Munoz2016       False  Chen2013   \n56360         SKP2       -0.871017    Munoz2016       False  Chen2013   \n56361        PRKDC       -0.525924    Munoz2016       False  Chen2013   \n\n                 Input Quota  ...    gene VBC score VBC Activity VBC Bioscore  \\\n0      ENSG00000111605   MAX  ...   CPSF6     0.621        0.436        0.695   \n1      ENSG00000165480   MAX  ...    SKA3     0.486        0.320        0.465   \n2      ENSG00000021776   MAX  ...     AQR     0.665        0.551        0.613   \n3      ENSG00000117174   MAX  ...  ZNHIT6     0.549        0.358        0.580   \n4      ENSG00000204574   MAX  ...   ABCF1     0.592        0.657        0.428   \n...                ...   ...  ...     ...       ...          ...          ...   \n56357  ENSG00000184634   MAX  ...   MED12     0.545        0.282        0.627   \n56358  ENSG00000179295   MAX  ...  PTPN11     0.576        0.350        0.665   \n56359  ENSG00000141564   MAX  ...   RPTOR     0.535        0.433        0.494   \n56360  ENSG00000145604   MAX  ...    SKP2     0.501        0.328        0.488   \n56361  ENSG00000253729   MAX  ...   PRKDC     0.643        0.521        0.641   \n\n       genome VBC score train CRISPRon CRISPRon train Rule Set 3 (sequence)  \\\n0        hg38           False    13.88          False             -1.016797   \n1        hg38           False     3.39          False             -1.609001   \n2        hg38           False    27.21          False             -0.171504   \n3        hg38           False    14.67          False             -0.694439   \n4        hg38           False    44.40          False             -0.227073   \n...       ...             ...      ...            ...                   ...   \n56357    hg38            True     6.76           True             -1.364007   \n56358    hg38            True    11.66          False             -1.511311   \n56359    hg38            True    46.54          False             -0.507842   \n56360    hg38            True    17.97          False             -0.947632   \n56361    hg38            True    28.62          False             -0.522843   \n\n      Rule Set 3 (sequence) train  \n0                           False  \n1                           False  \n2                           False  \n3                           False  \n4                           False  \n...                           ...  \n56357                        True  \n56358                        True  \n56359                        True  \n56360                        True  \n56361                        True  \n\n[56362 rows x 74 columns]",
      "text/html": "<div>\n<style scoped>\n    .dataframe tbody tr th:only-of-type {\n        vertical-align: middle;\n    }\n\n    .dataframe tbody tr th {\n        vertical-align: top;\n    }\n\n    .dataframe thead th {\n        text-align: right;\n    }\n</style>\n<table border=\"1\" class=\"dataframe\">\n  <thead>\n    <tr style=\"text-align: right;\">\n      <th></th>\n      <th>sgRNA Sequence</th>\n      <th>sgRNA Context Sequence</th>\n      <th>PAM Sequence</th>\n      <th>sgRNA Target</th>\n      <th>sgRNA Activity</th>\n      <th>dataset</th>\n      <th>genomewide</th>\n      <th>tracr</th>\n      <th>Input</th>\n      <th>Quota</th>\n      <th>...</th>\n      <th>gene</th>\n      <th>VBC score</th>\n      <th>VBC Activity</th>\n      <th>VBC Bioscore</th>\n      <th>genome</th>\n      <th>VBC score train</th>\n      <th>CRISPRon</th>\n      <th>CRISPRon train</th>\n      <th>Rule Set 3 (sequence)</th>\n      <th>Rule Set 3 (sequence) train</th>\n    </tr>\n  </thead>\n  <tbody>\n    <tr>\n      <th>0</th>\n      <td>AAAAAACTTACCCCTTTGAC</td>\n      <td>AAAAAAAAAACTTACCCCTTTGACTGGCCA</td>\n      <td>TGG</td>\n      <td>CPSF6</td>\n      <td>-1.139819</td>\n      <td>Aguirre2016</td>\n      <td>True</td>\n      <td>Hsu2013</td>\n      <td>ENSG00000111605</td>\n      <td>MAX</td>\n      <td>...</td>\n      <td>CPSF6</td>\n      <td>0.621</td>\n      <td>0.436</td>\n      <td>0.695</td>\n      <td>hg38</td>\n      <td>False</td>\n      <td>13.88</td>\n      <td>False</td>\n      <td>-1.016797</td>\n      <td>False</td>\n    </tr>\n    <tr>\n      <th>1</th>\n      <td>AAAAACATTATCATTGAGCC</td>\n      <td>TGGCAAAAACATTATCATTGAGCCTGGATT</td>\n      <td>TGG</td>\n      <td>SKA3</td>\n      <td>-0.793055</td>\n      <td>Aguirre2016</td>\n      <td>True</td>\n      <td>Hsu2013</td>\n      <td>ENSG00000165480</td>\n      <td>MAX</td>\n      <td>...</td>\n      <td>SKA3</td>\n      <td>0.486</td>\n      <td>0.320</td>\n      <td>0.465</td>\n      <td>hg38</td>\n      <td>False</td>\n      <td>3.39</td>\n      <td>False</td>\n      <td>-1.609001</td>\n      <td>False</td>\n    </tr>\n    <tr>\n      <th>2</th>\n      <td>AAAAAGAGATTGTCAAATCA</td>\n      <td>TATGAAAAAGAGATTGTCAAATCAAGGTAG</td>\n      <td>AGG</td>\n      <td>AQR</td>\n      <td>0.946453</td>\n      <td>Aguirre2016</td>\n      <td>True</td>\n      <td>Hsu2013</td>\n      <td>ENSG00000021776</td>\n      <td>MAX</td>\n      <td>...</td>\n      <td>AQR</td>\n      <td>0.665</td>\n      <td>0.551</td>\n      <td>0.613</td>\n      <td>hg38</td>\n      <td>False</td>\n      <td>27.21</td>\n      <td>False</td>\n      <td>-0.171504</td>\n      <td>False</td>\n    </tr>\n    <tr>\n      <th>3</th>\n      <td>AAAAAGCATCTCTAGAAATA</td>\n      <td>TTCAAAAAAGCATCTCTAGAAATATGGTCC</td>\n      <td>TGG</td>\n      <td>ZNHIT6</td>\n      <td>-0.429590</td>\n      <td>Aguirre2016</td>\n      <td>True</td>\n      <td>Hsu2013</td>\n      <td>ENSG00000117174</td>\n      <td>MAX</td>\n      <td>...</td>\n      <td>ZNHIT6</td>\n      <td>0.549</td>\n      <td>0.358</td>\n      <td>0.580</td>\n      <td>hg38</td>\n      <td>False</td>\n      <td>14.67</td>\n      <td>False</td>\n      <td>-0.694439</td>\n      <td>False</td>\n    </tr>\n    <tr>\n      <th>4</th>\n      <td>AAAAAGCGAGATACCCGAAA</td>\n      <td>AAAAAAAAAGCGAGATACCCGAAAAGGCAG</td>\n      <td>AGG</td>\n      <td>ABCF1</td>\n      <td>0.734196</td>\n      <td>Aguirre2016</td>\n      <td>True</td>\n      <td>Hsu2013</td>\n      <td>ENSG00000204574</td>\n      <td>MAX</td>\n      <td>...</td>\n      <td>ABCF1</td>\n      <td>0.592</td>\n      <td>0.657</td>\n      <td>0.428</td>\n      <td>hg38</td>\n      <td>False</td>\n      <td>44.40</td>\n      <td>False</td>\n      <td>-0.227073</td>\n      <td>False</td>\n    </tr>\n    <tr>\n      <th>...</th>\n      <td>...</td>\n      <td>...</td>\n      <td>...</td>\n      <td>...</td>\n      <td>...</td>\n      <td>...</td>\n      <td>...</td>\n      <td>...</td>\n      <td>...</td>\n      <td>...</td>\n      <td>...</td>\n      <td>...</td>\n      <td>...</td>\n      <td>...</td>\n      <td>...</td>\n      <td>...</td>\n      <td>...</td>\n      <td>...</td>\n      <td>...</td>\n      <td>...</td>\n      <td>...</td>\n    </tr>\n    <tr>\n      <th>56357</th>\n      <td>TTTGTTCTTTAAATGGCTAC</td>\n      <td>CAAATTTGTTCTTTAAATGGCTACAGGAGG</td>\n      <td>AGG</td>\n      <td>MED12</td>\n      <td>-1.951933</td>\n      <td>Munoz2016</td>\n      <td>False</td>\n      <td>Chen2013</td>\n      <td>ENSG00000184634</td>\n      <td>MAX</td>\n      <td>...</td>\n      <td>MED12</td>\n      <td>0.545</td>\n      <td>0.282</td>\n      <td>0.627</td>\n      <td>hg38</td>\n      <td>True</td>\n      <td>6.76</td>\n      <td>True</td>\n      <td>-1.364007</td>\n      <td>True</td>\n    </tr>\n    <tr>\n      <th>56358</th>\n      <td>TTTGTTCTTTCTGTGCGCAC</td>\n      <td>AGATTTTGTTCTTTCTGTGCGCACTGGTGA</td>\n      <td>TGG</td>\n      <td>PTPN11</td>\n      <td>-1.693789</td>\n      <td>Munoz2016</td>\n      <td>False</td>\n      <td>Chen2013</td>\n      <td>ENSG00000179295</td>\n      <td>MAX</td>\n      <td>...</td>\n      <td>PTPN11</td>\n      <td>0.576</td>\n      <td>0.350</td>\n      <td>0.665</td>\n      <td>hg38</td>\n      <td>True</td>\n      <td>11.66</td>\n      <td>False</td>\n      <td>-1.511311</td>\n      <td>True</td>\n    </tr>\n    <tr>\n      <th>56359</th>\n      <td>TTTGTTGAGGCTCCTGGCTG</td>\n      <td>AAGATTTGTTGAGGCTCCTGGCTGTGGCGA</td>\n      <td>TGG</td>\n      <td>RPTOR</td>\n      <td>-1.234981</td>\n      <td>Munoz2016</td>\n      <td>False</td>\n      <td>Chen2013</td>\n      <td>ENSG00000141564</td>\n      <td>MAX</td>\n      <td>...</td>\n      <td>RPTOR</td>\n      <td>0.535</td>\n      <td>0.433</td>\n      <td>0.494</td>\n      <td>hg38</td>\n      <td>True</td>\n      <td>46.54</td>\n      <td>False</td>\n      <td>-0.507842</td>\n      <td>True</td>\n    </tr>\n    <tr>\n      <th>56360</th>\n      <td>TTTGTTGCCAATAGTTGGCC</td>\n      <td>TCTTTTTGTTGCCAATAGTTGGCCTGGCAA</td>\n      <td>TGG</td>\n      <td>SKP2</td>\n      <td>-0.871017</td>\n      <td>Munoz2016</td>\n      <td>False</td>\n      <td>Chen2013</td>\n      <td>ENSG00000145604</td>\n      <td>MAX</td>\n      <td>...</td>\n      <td>SKP2</td>\n      <td>0.501</td>\n      <td>0.328</td>\n      <td>0.488</td>\n      <td>hg38</td>\n      <td>True</td>\n      <td>17.97</td>\n      <td>False</td>\n      <td>-0.947632</td>\n      <td>True</td>\n    </tr>\n    <tr>\n      <th>56361</th>\n      <td>TTTGTTTCAGGATGGAATTG</td>\n      <td>TTGTTTTGTTTCAGGATGGAATTGTGGACC</td>\n      <td>TGG</td>\n      <td>PRKDC</td>\n      <td>-0.525924</td>\n      <td>Munoz2016</td>\n      <td>False</td>\n      <td>Chen2013</td>\n      <td>ENSG00000253729</td>\n      <td>MAX</td>\n      <td>...</td>\n      <td>PRKDC</td>\n      <td>0.643</td>\n      <td>0.521</td>\n      <td>0.641</td>\n      <td>hg38</td>\n      <td>True</td>\n      <td>28.62</td>\n      <td>False</td>\n      <td>-0.522843</td>\n      <td>True</td>\n    </tr>\n  </tbody>\n</table>\n<p>56362 rows × 74 columns</p>\n</div>"
     },
     "execution_count": 9,
     "metadata": {},
     "output_type": "execute_result"
    }
   ],
   "source": [
    "train_data_list = list()\n",
    "for ds in dataset_list:\n",
    "    if ds.name in train_data_names:\n",
    "        train_data_list.append(ds)\n",
    "\n",
    "train_data_sgs = set()\n",
    "for ds in train_data_list:\n",
    "    ds.load_data()\n",
    "    ds.set_sgrnas()\n",
    "    train_data_sgs |= set(ds.sgrnas)\n",
    "\n",
    "X = get_feature_df(dataset_activity_df)\n",
    "dataset_activity_df['Rule Set 3 (sequence)'] = nt_model.predict(X)\n",
    "dataset_activity_df['Rule Set 3 (sequence) train'] = dataset_activity_df['sgRNA Sequence'].isin(train_data_sgs)\n",
    "dataset_activity_df"
   ],
   "metadata": {
    "collapsed": false,
    "pycharm": {
     "name": "#%%\n"
    }
   }
  },
  {
   "cell_type": "markdown",
   "source": [
    "### Rule Set 3 Target"
   ],
   "metadata": {
    "collapsed": false,
    "pycharm": {
     "name": "#%% md\n"
    }
   }
  },
  {
   "cell_type": "code",
   "execution_count": 10,
   "outputs": [],
   "source": [
    "target_cols = ['sgRNA Sequence', 'sgRNA Context Sequence',\n",
    "               'Orientation', 'Target Cut %', 'Target Cut Length',\n",
    "               'Target Transcript']  # Note don't need Transcript Base and AA Index\n",
    "unique_activity = dataset_activity_df[target_cols].drop_duplicates()\n",
    "target_feature_df, target_feature_cols = ft.build_target_feature_df(unique_activity,\n",
    "                                                                    features=['position', 'aa',\n",
    "                                                                              'domain', 'conservation'],\n",
    "                                                                    aa_seq_df=aa_seqs,\n",
    "                                                                    protein_domain_df=protein_domains,\n",
    "                                                                    conservation_df=conservation_df,\n",
    "                                                                    id_cols=['sgRNA Context Sequence', 'Target Cut Length',\n",
    "                                                                             'Target Transcript', 'Orientation'])\n",
    "X_target = target_feature_df[target_feature_cols]\n",
    "unique_activity['Target Score'] = target_model.predict(X_target)\n"
   ],
   "metadata": {
    "collapsed": false,
    "pycharm": {
     "name": "#%%\n"
    }
   }
  },
  {
   "cell_type": "code",
   "execution_count": 25,
   "outputs": [],
   "source": [
    "id_cols = ['sgRNA Context Sequence', 'Target Cut Length', 'Target Transcript', 'Orientation']\n",
    "target_score_export = unique_activity[id_cols + ['Target Score']]\n",
    "target_score_export.to_csv('../data/interim/target_score_export.csv',\n",
    "                           index=False)"
   ],
   "metadata": {
    "collapsed": false,
    "pycharm": {
     "name": "#%%\n"
    }
   }
  },
  {
   "cell_type": "code",
   "execution_count": 26,
   "outputs": [],
   "source": [
    "target_feat_export = pd.concat([unique_activity[id_cols].reset_index(drop=True),\n",
    "                                X_target.reset_index(drop=True)], axis=1)\n",
    "target_feat_export.to_csv('../data/interim/target_feat_export.csv', index=False)"
   ],
   "metadata": {
    "collapsed": false,
    "pycharm": {
     "name": "#%%\n"
    }
   }
  },
  {
   "cell_type": "code",
   "execution_count": 11,
   "outputs": [],
   "source": [
    "target_lite_feature_df, target_lite_feature_cols = ft.build_target_feature_df(unique_activity,\n",
    "                                                                    features=['position', 'aa'],\n",
    "                                                                    aa_seq_df=aa_seqs,\n",
    "                                                                    protein_domain_df=protein_domains,\n",
    "                                                                    conservation_df=conservation_df,\n",
    "                                                                    id_cols=['sgRNA Context Sequence', 'Target Cut Length',\n",
    "                                                                             'Target Transcript', 'Orientation'])\n",
    "X_target_lite = target_lite_feature_df[target_lite_feature_cols]\n",
    "unique_activity['Target Lite Score'] = target_model_lite.predict(X_target_lite)"
   ],
   "metadata": {
    "collapsed": false,
    "pycharm": {
     "name": "#%%\n"
    }
   }
  },
  {
   "cell_type": "code",
   "execution_count": 23,
   "outputs": [],
   "source": [
    "target_lite_score_export = unique_activity[id_cols + ['Target Lite Score']]\n",
    "target_lite_score_export.to_csv('../data/interim/target_lite_score_export.csv',\n",
    "                                index=False)\n"
   ],
   "metadata": {
    "collapsed": false,
    "pycharm": {
     "name": "#%%\n"
    }
   }
  },
  {
   "cell_type": "code",
   "execution_count": 24,
   "outputs": [],
   "source": [
    "target_lite_feat_export = pd.concat([unique_activity[id_cols].reset_index(drop=True),\n",
    "                                     X_target_lite.reset_index(drop=True)], axis=1)\n",
    "target_lite_feat_export.to_csv('../data/interim/target_lite_feat_export.csv', index=False)"
   ],
   "metadata": {
    "collapsed": false,
    "pycharm": {
     "name": "#%%\n"
    }
   }
  },
  {
   "cell_type": "code",
   "execution_count": 12,
   "outputs": [],
   "source": [
    "dataset_activity_df = (dataset_activity_df.merge(unique_activity, how='left',\n",
    "                                                 on=target_cols))\n",
    "dataset_activity_df['Rule Set 3 (sequence + target)'] = (dataset_activity_df['Rule Set 3 (sequence)'] +\n",
    "                                            dataset_activity_df['Target Score'])\n",
    "dataset_activity_df['Rule Set 3 (sequence + target) train'] = dataset_activity_df['Rule Set 3 (sequence) train']\n",
    "dataset_activity_df['Rule Set 3 (sequence + target lite)'] = (dataset_activity_df['Rule Set 3 (sequence)'] +\n",
    "                                                              dataset_activity_df['Target Lite Score'])\n",
    "dataset_activity_df['Rule Set 3 (sequence + target lite) train'] = dataset_activity_df['Rule Set 3 (sequence) train']"
   ],
   "metadata": {
    "collapsed": false,
    "pycharm": {
     "name": "#%%\n"
    }
   }
  },
  {
   "cell_type": "markdown",
   "source": [
    "### Performance"
   ],
   "metadata": {
    "collapsed": false,
    "pycharm": {
     "name": "#%% md\n"
    }
   }
  },
  {
   "cell_type": "code",
   "execution_count": 13,
   "outputs": [],
   "source": [
    "score_cols = (['Rule Set 3 (sequence)', 'Rule Set 3 (sequence + target)', 'Rule Set 3 (sequence + target lite)'] +\n",
    "              model_prediction_names)\n",
    "guide_train_cols = [name + ' train' for name in score_cols]\n",
    "filtered_predictions = dataset_activity_df[~dataset_activity_df[guide_train_cols].any(axis=1)].copy()\n",
    "long_predictions = (filtered_predictions.melt(id_vars=['sgRNA Sequence', 'sgRNA Context Sequence',\n",
    "                                                       'PAM Sequence', 'sgRNA Activity',\n",
    "                                                       'sgRNA Target', 'dataset', 'genomewide'],\n",
    "                                              value_vars=score_cols,\n",
    "                                              var_name='model',\n",
    "                                              value_name='prediction')\n",
    "                    .dropna())"
   ],
   "metadata": {
    "collapsed": false,
    "pycharm": {
     "name": "#%%\n"
    }
   }
  },
  {
   "cell_type": "code",
   "execution_count": 14,
   "outputs": [
    {
     "name": "stderr",
     "output_type": "stream",
     "text": [
      "100%|██████████| 1000/1000 [04:01<00:00,  4.14it/s]\n"
     ]
    }
   ],
   "source": [
    "cor_performance_ci = get_model_correlations(long_predictions)"
   ],
   "metadata": {
    "collapsed": false,
    "pycharm": {
     "name": "#%%\n"
    }
   }
  },
  {
   "cell_type": "code",
   "execution_count": 15,
   "outputs": [],
   "source": [
    "# hamronize dataset names\n",
    "\n",
    "unique_dataset_names = (cor_performance_ci.groupby('dataset')\n",
    "                        .agg({'size': 'max'})\n",
    "                        .reset_index())\n",
    "unique_dataset_names['dataset_name'] = (unique_dataset_names['dataset'] +\n",
    "                                        '\\n(n = ' +\n",
    "                                        unique_dataset_names['size'].astype(int).astype(str) +\n",
    "                                        ')')\n",
    "cor_performance_ci = (cor_performance_ci.drop('dataset_name', axis=1)\n",
    "                      .merge(unique_dataset_names.drop('size', axis=1),\n",
    "                             how='inner', on='dataset'))\n"
   ],
   "metadata": {
    "collapsed": false,
    "pycharm": {
     "name": "#%%\n"
    }
   }
  },
  {
   "cell_type": "code",
   "execution_count": 16,
   "outputs": [
    {
     "name": "stderr",
     "output_type": "stream",
     "text": [
      "Saving 3 x 2.3 in image.\n",
      "Filename: ../figures/target_rs3_performance.pdf\n"
     ]
    },
    {
     "ename": "PlotnineError",
     "evalue": "\"Do not know how to deal with aesthetic 'color'\"",
     "output_type": "error",
     "traceback": [
      "\u001B[0;31m---------------------------------------------------------------------------\u001B[0m",
      "\u001B[0;31mPlotnineError\u001B[0m                             Traceback (most recent call last)",
      "\u001B[0;32m<ipython-input-16-11cdacb92fbb>\u001B[0m in \u001B[0;36m<module>\u001B[0;34m\u001B[0m\n\u001B[1;32m      2\u001B[0m                      \u001B[0;34m'spearman_025'\u001B[0m\u001B[0;34m,\u001B[0m \u001B[0;34m'spearman_975'\u001B[0m\u001B[0;34m,\u001B[0m \u001B[0mxlabel\u001B[0m\u001B[0;34m=\u001B[0m\u001B[0;34m''\u001B[0m\u001B[0;34m,\u001B[0m\u001B[0;34m\u001B[0m\u001B[0;34m\u001B[0m\u001B[0m\n\u001B[1;32m      3\u001B[0m                      ylabel='Spearman r', wspace=0.4, facet='dataset_name')\n\u001B[0;32m----> 4\u001B[0;31m \u001B[0mg\u001B[0m\u001B[0;34m.\u001B[0m\u001B[0msave\u001B[0m\u001B[0;34m(\u001B[0m\u001B[0;34m'../figures/target_rs3_performance.pdf'\u001B[0m\u001B[0;34m,\u001B[0m \u001B[0mwidth\u001B[0m\u001B[0;34m=\u001B[0m\u001B[0;36m3\u001B[0m\u001B[0;34m,\u001B[0m \u001B[0mheight\u001B[0m\u001B[0;34m=\u001B[0m\u001B[0;36m2.3\u001B[0m\u001B[0;34m)\u001B[0m\u001B[0;34m\u001B[0m\u001B[0;34m\u001B[0m\u001B[0m\n\u001B[0m\u001B[1;32m      5\u001B[0m \u001B[0mg\u001B[0m\u001B[0;34m\u001B[0m\u001B[0;34m\u001B[0m\u001B[0m\n\u001B[1;32m      6\u001B[0m \u001B[0;34m\u001B[0m\u001B[0m\n",
      "\u001B[0;32m~/.conda/envs/rs_dev/lib/python3.8/site-packages/plotnine/ggplot.py\u001B[0m in \u001B[0;36msave\u001B[0;34m(self, filename, format, path, width, height, units, dpi, limitsize, verbose, **kwargs)\u001B[0m\n\u001B[1;32m    725\u001B[0m             \u001B[0mself\u001B[0m\u001B[0;34m.\u001B[0m\u001B[0mtheme\u001B[0m \u001B[0;34m=\u001B[0m \u001B[0mself\u001B[0m\u001B[0;34m.\u001B[0m\u001B[0mtheme\u001B[0m \u001B[0;34m+\u001B[0m \u001B[0mtheme\u001B[0m\u001B[0;34m(\u001B[0m\u001B[0mdpi\u001B[0m\u001B[0;34m=\u001B[0m\u001B[0mdpi\u001B[0m\u001B[0;34m)\u001B[0m\u001B[0;34m\u001B[0m\u001B[0;34m\u001B[0m\u001B[0m\n\u001B[1;32m    726\u001B[0m \u001B[0;34m\u001B[0m\u001B[0m\n\u001B[0;32m--> 727\u001B[0;31m         \u001B[0mfig\u001B[0m\u001B[0;34m,\u001B[0m \u001B[0mp\u001B[0m \u001B[0;34m=\u001B[0m \u001B[0mself\u001B[0m\u001B[0;34m.\u001B[0m\u001B[0mdraw\u001B[0m\u001B[0;34m(\u001B[0m\u001B[0mreturn_ggplot\u001B[0m\u001B[0;34m=\u001B[0m\u001B[0;32mTrue\u001B[0m\u001B[0;34m)\u001B[0m\u001B[0;34m\u001B[0m\u001B[0;34m\u001B[0m\u001B[0m\n\u001B[0m\u001B[1;32m    728\u001B[0m         \u001B[0;32mwith\u001B[0m \u001B[0mplot_context\u001B[0m\u001B[0;34m(\u001B[0m\u001B[0mp\u001B[0m\u001B[0;34m)\u001B[0m\u001B[0;34m:\u001B[0m\u001B[0;34m\u001B[0m\u001B[0;34m\u001B[0m\u001B[0m\n\u001B[1;32m    729\u001B[0m             \u001B[0mfig\u001B[0m\u001B[0;34m.\u001B[0m\u001B[0msavefig\u001B[0m\u001B[0;34m(\u001B[0m\u001B[0mfilename\u001B[0m\u001B[0;34m,\u001B[0m \u001B[0;34m**\u001B[0m\u001B[0mfig_kwargs\u001B[0m\u001B[0;34m)\u001B[0m\u001B[0;34m\u001B[0m\u001B[0;34m\u001B[0m\u001B[0m\n",
      "\u001B[0;32m~/.conda/envs/rs_dev/lib/python3.8/site-packages/plotnine/ggplot.py\u001B[0m in \u001B[0;36mdraw\u001B[0;34m(self, return_ggplot, show)\u001B[0m\n\u001B[1;32m    203\u001B[0m         \u001B[0mself\u001B[0m \u001B[0;34m=\u001B[0m \u001B[0mdeepcopy\u001B[0m\u001B[0;34m(\u001B[0m\u001B[0mself\u001B[0m\u001B[0;34m)\u001B[0m\u001B[0;34m\u001B[0m\u001B[0;34m\u001B[0m\u001B[0m\n\u001B[1;32m    204\u001B[0m         \u001B[0;32mwith\u001B[0m \u001B[0mplot_context\u001B[0m\u001B[0;34m(\u001B[0m\u001B[0mself\u001B[0m\u001B[0;34m,\u001B[0m \u001B[0mshow\u001B[0m\u001B[0;34m=\u001B[0m\u001B[0mshow\u001B[0m\u001B[0;34m)\u001B[0m\u001B[0;34m:\u001B[0m\u001B[0;34m\u001B[0m\u001B[0;34m\u001B[0m\u001B[0m\n\u001B[0;32m--> 205\u001B[0;31m             \u001B[0mself\u001B[0m\u001B[0;34m.\u001B[0m\u001B[0m_build\u001B[0m\u001B[0;34m(\u001B[0m\u001B[0;34m)\u001B[0m\u001B[0;34m\u001B[0m\u001B[0;34m\u001B[0m\u001B[0m\n\u001B[0m\u001B[1;32m    206\u001B[0m \u001B[0;34m\u001B[0m\u001B[0m\n\u001B[1;32m    207\u001B[0m             \u001B[0;31m# setup\u001B[0m\u001B[0;34m\u001B[0m\u001B[0;34m\u001B[0m\u001B[0;34m\u001B[0m\u001B[0m\n",
      "\u001B[0;32m~/.conda/envs/rs_dev/lib/python3.8/site-packages/plotnine/ggplot.py\u001B[0m in \u001B[0;36m_build\u001B[0;34m(self)\u001B[0m\n\u001B[1;32m    287\u001B[0m         \u001B[0;31m# Compute aesthetics to produce data with generalised\u001B[0m\u001B[0;34m\u001B[0m\u001B[0;34m\u001B[0m\u001B[0;34m\u001B[0m\u001B[0m\n\u001B[1;32m    288\u001B[0m         \u001B[0;31m# variable names\u001B[0m\u001B[0;34m\u001B[0m\u001B[0;34m\u001B[0m\u001B[0;34m\u001B[0m\u001B[0m\n\u001B[0;32m--> 289\u001B[0;31m         \u001B[0mlayers\u001B[0m\u001B[0;34m.\u001B[0m\u001B[0mcompute_aesthetics\u001B[0m\u001B[0;34m(\u001B[0m\u001B[0mself\u001B[0m\u001B[0;34m)\u001B[0m\u001B[0;34m\u001B[0m\u001B[0;34m\u001B[0m\u001B[0m\n\u001B[0m\u001B[1;32m    290\u001B[0m \u001B[0;34m\u001B[0m\u001B[0m\n\u001B[1;32m    291\u001B[0m         \u001B[0;31m# Transform data using all scales\u001B[0m\u001B[0;34m\u001B[0m\u001B[0;34m\u001B[0m\u001B[0;34m\u001B[0m\u001B[0m\n",
      "\u001B[0;32m~/.conda/envs/rs_dev/lib/python3.8/site-packages/plotnine/layer.py\u001B[0m in \u001B[0;36mcompute_aesthetics\u001B[0;34m(self, plot)\u001B[0m\n\u001B[1;32m     67\u001B[0m     \u001B[0;32mdef\u001B[0m \u001B[0mcompute_aesthetics\u001B[0m\u001B[0;34m(\u001B[0m\u001B[0mself\u001B[0m\u001B[0;34m,\u001B[0m \u001B[0mplot\u001B[0m\u001B[0;34m)\u001B[0m\u001B[0;34m:\u001B[0m\u001B[0;34m\u001B[0m\u001B[0;34m\u001B[0m\u001B[0m\n\u001B[1;32m     68\u001B[0m         \u001B[0;32mfor\u001B[0m \u001B[0ml\u001B[0m \u001B[0;32min\u001B[0m \u001B[0mself\u001B[0m\u001B[0;34m:\u001B[0m\u001B[0;34m\u001B[0m\u001B[0;34m\u001B[0m\u001B[0m\n\u001B[0;32m---> 69\u001B[0;31m             \u001B[0ml\u001B[0m\u001B[0;34m.\u001B[0m\u001B[0mcompute_aesthetics\u001B[0m\u001B[0;34m(\u001B[0m\u001B[0mplot\u001B[0m\u001B[0;34m)\u001B[0m\u001B[0;34m\u001B[0m\u001B[0;34m\u001B[0m\u001B[0m\n\u001B[0m\u001B[1;32m     70\u001B[0m \u001B[0;34m\u001B[0m\u001B[0m\n\u001B[1;32m     71\u001B[0m     \u001B[0;32mdef\u001B[0m \u001B[0mcompute_statistic\u001B[0m\u001B[0;34m(\u001B[0m\u001B[0mself\u001B[0m\u001B[0;34m,\u001B[0m \u001B[0mlayout\u001B[0m\u001B[0;34m)\u001B[0m\u001B[0;34m:\u001B[0m\u001B[0;34m\u001B[0m\u001B[0;34m\u001B[0m\u001B[0m\n",
      "\u001B[0;32m~/.conda/envs/rs_dev/lib/python3.8/site-packages/plotnine/layer.py\u001B[0m in \u001B[0;36mcompute_aesthetics\u001B[0;34m(self, plot)\u001B[0m\n\u001B[1;32m    299\u001B[0m         \u001B[0mexpression\u001B[0m \u001B[0mevaluation\u001B[0m \u001B[0mare\u001B[0m  \u001B[0mmade\u001B[0m \u001B[0;32min\u001B[0m \u001B[0mhere\u001B[0m\u001B[0;34m\u001B[0m\u001B[0;34m\u001B[0m\u001B[0m\n\u001B[1;32m    300\u001B[0m         \"\"\"\n\u001B[0;32m--> 301\u001B[0;31m         \u001B[0mevaled\u001B[0m \u001B[0;34m=\u001B[0m \u001B[0mevaluate\u001B[0m\u001B[0;34m(\u001B[0m\u001B[0mself\u001B[0m\u001B[0;34m.\u001B[0m\u001B[0mmapping\u001B[0m\u001B[0;34m.\u001B[0m\u001B[0m_starting\u001B[0m\u001B[0;34m,\u001B[0m \u001B[0mself\u001B[0m\u001B[0;34m.\u001B[0m\u001B[0mdata\u001B[0m\u001B[0;34m,\u001B[0m \u001B[0mplot\u001B[0m\u001B[0;34m.\u001B[0m\u001B[0menvironment\u001B[0m\u001B[0;34m)\u001B[0m\u001B[0;34m\u001B[0m\u001B[0;34m\u001B[0m\u001B[0m\n\u001B[0m\u001B[1;32m    302\u001B[0m         \u001B[0mevaled_aes\u001B[0m \u001B[0;34m=\u001B[0m \u001B[0maes\u001B[0m\u001B[0;34m(\u001B[0m\u001B[0;34m**\u001B[0m\u001B[0;34m{\u001B[0m\u001B[0mcol\u001B[0m\u001B[0;34m:\u001B[0m \u001B[0mcol\u001B[0m \u001B[0;32mfor\u001B[0m \u001B[0mcol\u001B[0m \u001B[0;32min\u001B[0m \u001B[0mevaled\u001B[0m\u001B[0;34m}\u001B[0m\u001B[0;34m)\u001B[0m\u001B[0;34m\u001B[0m\u001B[0;34m\u001B[0m\u001B[0m\n\u001B[1;32m    303\u001B[0m         \u001B[0mplot\u001B[0m\u001B[0;34m.\u001B[0m\u001B[0mscales\u001B[0m\u001B[0;34m.\u001B[0m\u001B[0madd_defaults\u001B[0m\u001B[0;34m(\u001B[0m\u001B[0mevaled\u001B[0m\u001B[0;34m,\u001B[0m \u001B[0mevaled_aes\u001B[0m\u001B[0;34m)\u001B[0m\u001B[0;34m\u001B[0m\u001B[0;34m\u001B[0m\u001B[0m\n",
      "\u001B[0;32m~/.conda/envs/rs_dev/lib/python3.8/site-packages/plotnine/mapping/evaluation.py\u001B[0m in \u001B[0;36mevaluate\u001B[0;34m(aesthetics, data, env)\u001B[0m\n\u001B[1;32m    242\u001B[0m         \u001B[0;32melse\u001B[0m\u001B[0;34m:\u001B[0m\u001B[0;34m\u001B[0m\u001B[0;34m\u001B[0m\u001B[0m\n\u001B[1;32m    243\u001B[0m             \u001B[0mmsg\u001B[0m \u001B[0;34m=\u001B[0m \u001B[0;34m\"Do not know how to deal with aesthetic '{}'\"\u001B[0m\u001B[0;34m\u001B[0m\u001B[0;34m\u001B[0m\u001B[0m\n\u001B[0;32m--> 244\u001B[0;31m             \u001B[0;32mraise\u001B[0m \u001B[0mPlotnineError\u001B[0m\u001B[0;34m(\u001B[0m\u001B[0mmsg\u001B[0m\u001B[0;34m.\u001B[0m\u001B[0mformat\u001B[0m\u001B[0;34m(\u001B[0m\u001B[0mae\u001B[0m\u001B[0;34m)\u001B[0m\u001B[0;34m)\u001B[0m\u001B[0;34m\u001B[0m\u001B[0;34m\u001B[0m\u001B[0m\n\u001B[0m\u001B[1;32m    245\u001B[0m \u001B[0;34m\u001B[0m\u001B[0m\n\u001B[1;32m    246\u001B[0m     \u001B[0;32mreturn\u001B[0m \u001B[0mevaled\u001B[0m\u001B[0;34m\u001B[0m\u001B[0;34m\u001B[0m\u001B[0m\n",
      "\u001B[0;31mPlotnineError\u001B[0m: \"Do not know how to deal with aesthetic 'color'\""
     ]
    }
   ],
   "source": [
    "g = point_range_plot(cor_performance_ci, 'model', 'spearman',\n",
    "                     'spearman_025', 'spearman_975', xlabel='',\n",
    "                     ylabel='Spearman r', wspace=0.4, facet='dataset_name')\n",
    "g.save('../figures/target_rs3_performance.pdf', width=3, height=2.3)\n",
    "g"
   ],
   "metadata": {
    "collapsed": false,
    "pycharm": {
     "name": "#%%\n"
    }
   }
  },
  {
   "cell_type": "code",
   "execution_count": null,
   "outputs": [],
   "source": [
    "spread_cor_performance = (cor_performance_ci\n",
    "                          .pivot_table(values='spearman',\n",
    "                                       index='dataset',\n",
    "                                       columns='model'))\n",
    "(spread_cor_performance['Rule Set 3 (sequence + target)'] -\n",
    " spread_cor_performance['Rule Set 3 (sequence)']).mean()"
   ],
   "metadata": {
    "collapsed": false,
    "pycharm": {
     "name": "#%%\n"
    }
   }
  },
  {
   "cell_type": "code",
   "execution_count": null,
   "outputs": [],
   "source": [
    "point_range_plot(cor_performance_ci, 'model', 'pearson',\n",
    "                 'pearson_025', 'pearson_975', xlabel='',\n",
    "                 ylabel='Pearson r')"
   ],
   "metadata": {
    "collapsed": false,
    "pycharm": {
     "name": "#%%\n"
    }
   }
  },
  {
   "cell_type": "code",
   "execution_count": null,
   "outputs": [],
   "source": [
    "genomewide_predictions = long_predictions[long_predictions.genomewide].copy()\n",
    "rank_loss_performance_ci = get_model_rank_loss(genomewide_predictions)"
   ],
   "metadata": {
    "collapsed": false,
    "pycharm": {
     "name": "#%%\n"
    }
   }
  },
  {
   "cell_type": "code",
   "execution_count": null,
   "outputs": [],
   "source": [
    "g = point_range_plot(rank_loss_performance_ci, 'model', 'avg_abs_rank_diff',\n",
    "                     'avg_abs_rank_diff_025', 'avg_abs_rank_diff_975', xlabel='',\n",
    "                     ylabel='Avg. Absolute Rank Loss', wspace=0.4)\n",
    "g"
   ],
   "metadata": {
    "collapsed": false,
    "pycharm": {
     "name": "#%%\n"
    }
   }
  },
  {
   "cell_type": "markdown",
   "source": [
    "## Comparison With Bioscore"
   ],
   "metadata": {
    "collapsed": false,
    "pycharm": {
     "name": "#%% md\n"
    }
   }
  },
  {
   "cell_type": "code",
   "execution_count": null,
   "outputs": [],
   "source": [
    "def scatter_density(data, x, y, **kwargs):\n",
    "    gpplot.point_densityplot(data[[x, y]].dropna(), x, y, **kwargs)\n",
    "    gpplot.add_correlation(data[[x, y]].dropna(), x, y)\n",
    "\n",
    "g = sns.FacetGrid(data=filtered_predictions,\n",
    "                  col='dataset', aspect=1, height=2)\n",
    "g.map_dataframe(scatter_density, x='Target Score', y='VBC Bioscore',\n",
    "                s=10)\n",
    "g.set_xlabels('Target Score')\n",
    "g.set_ylabels('VBC Bioscore')\n",
    "g.set_titles(col_template='{col_name}')\n",
    "gpplot.savefig('../figures/target_model_bioscore_comparison.pdf', dpi=300)"
   ],
   "metadata": {
    "collapsed": false,
    "pycharm": {
     "name": "#%%\n"
    }
   }
  },
  {
   "cell_type": "code",
   "execution_count": null,
   "outputs": [],
   "source": [],
   "metadata": {
    "collapsed": false,
    "pycharm": {
     "name": "#%%\n"
    }
   }
  }
 ],
 "metadata": {
  "kernelspec": {
   "display_name": "Python 3",
   "language": "python",
   "name": "python3"
  },
  "language_info": {
   "codemirror_mode": {
    "name": "ipython",
    "version": 2
   },
   "file_extension": ".py",
   "mimetype": "text/x-python",
   "name": "python",
   "nbconvert_exporter": "python",
   "pygments_lexer": "ipython2",
   "version": "2.7.6"
  }
 },
 "nbformat": 4,
 "nbformat_minor": 0
}