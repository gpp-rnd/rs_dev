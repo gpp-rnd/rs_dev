{
 "cells": [
  {
   "cell_type": "code",
   "execution_count": 1,
   "metadata": {
    "collapsed": true
   },
   "outputs": [],
   "source": [
    "import pandas as pd\n",
    "from datasets import dataset_list, get_sg_groups_df\n",
    "from sgrna_designer import ensembl, design\n",
    "import re\n",
    "from tqdm import tqdm"
   ]
  },
  {
   "cell_type": "code",
   "execution_count": 2,
   "outputs": [],
   "source": [
    "train_data_names = pd.read_csv('../data/processed/train_data_names.csv').name.to_list()"
   ],
   "metadata": {
    "collapsed": false,
    "pycharm": {
     "name": "#%%\n"
    }
   }
  },
  {
   "cell_type": "code",
   "execution_count": 3,
   "outputs": [
    {
     "name": "stdout",
     "output_type": "stream",
     "text": [
      "Context sequences with multiple targets: 0\n"
     ]
    }
   ],
   "source": [
    "train_data_list = list()\n",
    "for ds in dataset_list:\n",
    "    if ds.name in train_data_names:\n",
    "        if ds.endogenous:\n",
    "            train_data_list.append(ds)\n",
    "\n",
    "\n",
    "sg_groups_df = get_sg_groups_df(train_data_list)"
   ],
   "metadata": {
    "collapsed": false,
    "pycharm": {
     "name": "#%%\n"
    }
   }
  },
  {
   "cell_type": "code",
   "execution_count": 4,
   "outputs": [],
   "source": [
    "width = 25\n",
    "pos_df = sg_groups_df.copy()\n",
    "pos_df['seq_start'] = (pos_df['sgRNA Cut Position (1-based)'] - width -\n",
    "                       (pos_df['Strand of sgRNA'] == '-').astype(int))\n",
    "pos_df['seq_end'] = (pos_df['sgRNA Cut Position (1-based)'] + width -\n",
    "                     (pos_df['Strand of sgRNA'] == '-').astype(int))"
   ],
   "metadata": {
    "collapsed": false,
    "pycharm": {
     "name": "#%%\n"
    }
   }
  },
  {
   "cell_type": "code",
   "execution_count": 5,
   "outputs": [
    {
     "name": "stderr",
     "output_type": "stream",
     "text": [
      "100%|██████████| 125/125 [02:00<00:00,  1.04it/s]"
     ]
    },
    {
     "name": "stdout",
     "output_type": "stream",
     "text": [
      "Missing transcripts: 0\n"
     ]
    },
    {
     "name": "stderr",
     "output_type": "stream",
     "text": [
      "\n"
     ]
    }
   ],
   "source": [
    "ensembl_id_df = (pos_df[['Target Gene ID']]\n",
    "                 .drop_duplicates())\n",
    "seq_region_list = []\n",
    "for gene_id in tqdm(ensembl_id_df['Target Gene ID']):\n",
    "    try:\n",
    "        id_info = ensembl.get_ensembl_id_information(gene_id)\n",
    "        seq_region_list.append(id_info['seq_region_name'])\n",
    "    except:\n",
    "        seq_region_list.append(pd.NA)\n",
    "print('Missing transcripts: ' +  str(pd.isna(seq_region_list).sum()))\n",
    "ensembl_id_df['seq_region'] = seq_region_list"
   ],
   "metadata": {
    "collapsed": false,
    "pycharm": {
     "name": "#%%\n"
    }
   }
  },
  {
   "cell_type": "code",
   "execution_count": 6,
   "outputs": [],
   "source": [
    "pos_df = (pos_df.merge(ensembl_id_df, how='inner',\n",
    "                       on='Target Gene ID'))"
   ],
   "metadata": {
    "collapsed": false,
    "pycharm": {
     "name": "#%%\n"
    }
   }
  },
  {
   "cell_type": "code",
   "execution_count": 7,
   "outputs": [
    {
     "data": {
      "text/plain": "<re.Match object; span=(4, 34), match='TCAGAAATAATACCAACAACTGGAGGGAGA'>"
     },
     "execution_count": 7,
     "metadata": {},
     "output_type": "execute_result"
    }
   ],
   "source": [
    "rv_row = pos_df.loc[0,:]\n",
    "fw_row = pos_df.loc[1,:]\n",
    "\n",
    "rv_seq = design.reverse_compliment(\n",
    "    ensembl.get_region_sequence(rv_row['seq_start'], rv_row['seq_end'], rv_row['seq_region']))\n",
    "re.search(rv_row['sgRNA Context Sequence'], rv_seq)\n"
   ],
   "metadata": {
    "collapsed": false,
    "pycharm": {
     "name": "#%%\n"
    }
   }
  },
  {
   "cell_type": "code",
   "execution_count": 8,
   "outputs": [
    {
     "data": {
      "text/plain": "<re.Match object; span=(4, 34), match='GTCAAACAGCTCACTGATCTGGGCCGGCGT'>"
     },
     "execution_count": 8,
     "metadata": {},
     "output_type": "execute_result"
    }
   ],
   "source": [
    "fw_seq = ensembl.get_region_sequence(fw_row['seq_start'], fw_row['seq_end'\n",
    "                                                                 ''], fw_row['seq_region'])\n",
    "re.search(fw_row['sgRNA Context Sequence'], fw_seq)"
   ],
   "metadata": {
    "collapsed": false,
    "pycharm": {
     "name": "#%%\n"
    }
   }
  },
  {
   "cell_type": "code",
   "execution_count": 9,
   "outputs": [],
   "source": [
    "relevant_cols = ['sgRNA Context Sequence', 'Target Gene ID', 'seq_start', 'seq_end', 'seq_region', 'Strand of sgRNA']\n",
    "human_pos_df = (pos_df.loc[pos_df['Target Taxon'] == 9606,\n",
    "                           relevant_cols]\n",
    "                .drop_duplicates()\n",
    "                .reset_index(drop=True))"
   ],
   "metadata": {
    "collapsed": false,
    "pycharm": {
     "name": "#%%\n"
    }
   }
  },
  {
   "cell_type": "code",
   "execution_count": 10,
   "outputs": [],
   "source": [
    "human_expanded_seqs = ensembl.post_region_sequences(human_pos_df['seq_start'], human_pos_df['seq_end'],\n",
    "                                                    human_pos_df['seq_region'])"
   ],
   "metadata": {
    "collapsed": false,
    "pycharm": {
     "name": "#%%\n"
    }
   }
  },
  {
   "cell_type": "code",
   "execution_count": 11,
   "outputs": [],
   "source": [
    "human_expanded_seq_df = pd.DataFrame(human_expanded_seqs)\n",
    "human_pos_seqs_df = pd.concat([human_pos_df, human_expanded_seq_df], axis=1)"
   ],
   "metadata": {
    "collapsed": false,
    "pycharm": {
     "name": "#%%\n"
    }
   }
  },
  {
   "cell_type": "code",
   "execution_count": 12,
   "outputs": [],
   "source": [
    "mouse_pos_df = (pos_df.loc[pos_df['Target Taxon'] == 10090,\n",
    "                           relevant_cols]\n",
    "                .drop_duplicates()\n",
    "                .reset_index(drop=True))"
   ],
   "metadata": {
    "collapsed": false,
    "pycharm": {
     "name": "#%%\n"
    }
   }
  },
  {
   "cell_type": "code",
   "execution_count": 13,
   "outputs": [],
   "source": [
    "mouse_expanded_seqs = ensembl.post_region_sequences(mouse_pos_df['seq_start'], mouse_pos_df['seq_end'],\n",
    "                                                    mouse_pos_df['seq_region'], species='mouse')"
   ],
   "metadata": {
    "collapsed": false,
    "pycharm": {
     "name": "#%%\n"
    }
   }
  },
  {
   "cell_type": "code",
   "execution_count": 14,
   "outputs": [],
   "source": [
    "mouse_expanded_seq_df = pd.DataFrame(mouse_expanded_seqs)\n",
    "mouse_pos_seqs_df = pd.concat([mouse_pos_df, mouse_expanded_seq_df], axis=1)"
   ],
   "metadata": {
    "collapsed": false,
    "pycharm": {
     "name": "#%%\n"
    }
   }
  },
  {
   "cell_type": "code",
   "execution_count": 15,
   "outputs": [],
   "source": [
    "pos_seqs_df = (pd.concat([human_pos_seqs_df,\n",
    "                          mouse_pos_seqs_df],\n",
    "                         axis=0)\n",
    "               .reset_index(drop=True))\n",
    "pos_seqs_df['expanded seq'] = pos_seqs_df.apply(lambda df: (df['seq'] if df['Strand of sgRNA'] == '+' else\n",
    "                                                            design.reverse_compliment(df['seq'])), axis=1)"
   ],
   "metadata": {
    "collapsed": false,
    "pycharm": {
     "name": "#%%\n"
    }
   }
  },
  {
   "cell_type": "code",
   "execution_count": 19,
   "outputs": [],
   "source": [
    "out_df = (pos_seqs_df[['sgRNA Context Sequence', 'expanded seq']]\n",
    "          .rename({'sgRNA Context Sequence': 'ID',\n",
    "                   'expanded seq': 'Target'}, axis=1))\n",
    "out_df['PAM Index'] = width + 3"
   ],
   "metadata": {
    "collapsed": false,
    "pycharm": {
     "name": "#%%\n"
    }
   }
  },
  {
   "cell_type": "code",
   "execution_count": 22,
   "outputs": [],
   "source": [
    "out_df.to_csv('../data/interim/rs_dev_all_sgrnas_extended.txt',\n",
    "              sep='\\t', index=False)"
   ],
   "metadata": {
    "collapsed": false,
    "pycharm": {
     "name": "#%%\n"
    }
   }
  },
  {
   "cell_type": "code",
   "execution_count": null,
   "outputs": [],
   "source": [],
   "metadata": {
    "collapsed": false,
    "pycharm": {
     "name": "#%%\n"
    }
   }
  }
 ],
 "metadata": {
  "kernelspec": {
   "display_name": "Python 3",
   "language": "python",
   "name": "python3"
  },
  "language_info": {
   "codemirror_mode": {
    "name": "ipython",
    "version": 2
   },
   "file_extension": ".py",
   "mimetype": "text/x-python",
   "name": "python",
   "nbconvert_exporter": "python",
   "pygments_lexer": "ipython2",
   "version": "2.7.6"
  }
 },
 "nbformat": 4,
 "nbformat_minor": 0
}