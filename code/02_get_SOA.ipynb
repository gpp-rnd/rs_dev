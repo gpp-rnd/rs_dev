{
 "cells": [
  {
   "cell_type": "markdown",
   "metadata": {},
   "source": [
    "# Get State of the Art\n",
    "\n",
    "Here for we compare published models to get the current state of the art"
   ]
  },
  {
   "cell_type": "code",
   "execution_count": 1,
   "metadata": {
    "tags": []
   },
   "outputs": [],
   "source": [
    "import pandas as pd\n",
    "import matplotlib.pyplot as plt\n",
    "import matplotlib as mpl\n",
    "import networkx as nx\n",
    "from scipy import stats\n",
    "import seaborn as sns\n",
    "import gpplot\n",
    "import plotnine as gg\n",
    "\n",
    "from model_predictions import model_prediction_list\n",
    "from datasets import dataset_list\n",
    "from core import setup_plots"
   ]
  },
  {
   "cell_type": "code",
   "execution_count": 2,
   "metadata": {
    "collapsed": false,
    "jupyter": {
     "outputs_hidden": false
    },
    "pycharm": {
     "name": "#%%\n"
    }
   },
   "outputs": [],
   "source": [
    "setup_plots()"
   ]
  },
  {
   "cell_type": "markdown",
   "metadata": {},
   "source": [
    "We'll load and get unique sgRNAs for published datasets and models"
   ]
  },
  {
   "cell_type": "code",
   "execution_count": 3,
   "metadata": {
    "collapsed": false,
    "jupyter": {
     "outputs_hidden": false
    },
    "pycharm": {
     "name": "#%%\n"
    }
   },
   "outputs": [],
   "source": [
    "for mp in model_prediction_list:\n",
    "    mp.load_model_predictions()\n",
    "    mp.set_sgrnas()\n",
    "\n",
    "for ds in dataset_list:\n",
    "    ds.load_data()\n",
    "    ds.set_sgrnas()\n",
    "\n",
    "model_datasets = model_prediction_list + dataset_list"
   ]
  },
  {
   "cell_type": "code",
   "execution_count": 4,
   "metadata": {
    "collapsed": false,
    "jupyter": {
     "outputs_hidden": false
    },
    "pycharm": {
     "name": "#%%\n"
    }
   },
   "outputs": [
    {
     "data": {
      "text/html": [
       "<div>\n",
       "<style scoped>\n",
       "    .dataframe tbody tr th:only-of-type {\n",
       "        vertical-align: middle;\n",
       "    }\n",
       "\n",
       "    .dataframe tbody tr th {\n",
       "        vertical-align: top;\n",
       "    }\n",
       "\n",
       "    .dataframe thead th {\n",
       "        text-align: right;\n",
       "    }\n",
       "</style>\n",
       "<table border=\"1\" class=\"dataframe\">\n",
       "  <thead>\n",
       "    <tr style=\"text-align: right;\">\n",
       "      <th></th>\n",
       "      <th>name</th>\n",
       "      <th>data_type</th>\n",
       "      <th>n_sgRNAs</th>\n",
       "    </tr>\n",
       "  </thead>\n",
       "  <tbody>\n",
       "    <tr>\n",
       "      <th>12</th>\n",
       "      <td>Kim2019_test</td>\n",
       "      <td>dataset</td>\n",
       "      <td>536</td>\n",
       "    </tr>\n",
       "    <tr>\n",
       "      <th>9</th>\n",
       "      <td>Doench2014_human</td>\n",
       "      <td>dataset</td>\n",
       "      <td>995</td>\n",
       "    </tr>\n",
       "    <tr>\n",
       "      <th>15</th>\n",
       "      <td>Wang2014</td>\n",
       "      <td>dataset</td>\n",
       "      <td>1022</td>\n",
       "    </tr>\n",
       "    <tr>\n",
       "      <th>8</th>\n",
       "      <td>Doench2014_mouse</td>\n",
       "      <td>dataset</td>\n",
       "      <td>1168</td>\n",
       "    </tr>\n",
       "    <tr>\n",
       "      <th>7</th>\n",
       "      <td>Chari2015</td>\n",
       "      <td>dataset</td>\n",
       "      <td>1222</td>\n",
       "    </tr>\n",
       "    <tr>\n",
       "      <th>10</th>\n",
       "      <td>Doench2016</td>\n",
       "      <td>dataset</td>\n",
       "      <td>2536</td>\n",
       "    </tr>\n",
       "    <tr>\n",
       "      <th>1</th>\n",
       "      <td>Rule Set 2</td>\n",
       "      <td>model</td>\n",
       "      <td>4379</td>\n",
       "    </tr>\n",
       "    <tr>\n",
       "      <th>14</th>\n",
       "      <td>Shalem_2014</td>\n",
       "      <td>dataset</td>\n",
       "      <td>4766</td>\n",
       "    </tr>\n",
       "    <tr>\n",
       "      <th>13</th>\n",
       "      <td>Koike-Yusa2014</td>\n",
       "      <td>dataset</td>\n",
       "      <td>6689</td>\n",
       "    </tr>\n",
       "    <tr>\n",
       "      <th>6</th>\n",
       "      <td>Behan2019</td>\n",
       "      <td>dataset</td>\n",
       "      <td>7442</td>\n",
       "    </tr>\n",
       "    <tr>\n",
       "      <th>5</th>\n",
       "      <td>Aguirre2017</td>\n",
       "      <td>dataset</td>\n",
       "      <td>8659</td>\n",
       "    </tr>\n",
       "    <tr>\n",
       "      <th>16</th>\n",
       "      <td>Xiang2021</td>\n",
       "      <td>dataset</td>\n",
       "      <td>11397</td>\n",
       "    </tr>\n",
       "    <tr>\n",
       "      <th>3</th>\n",
       "      <td>DeepCRISPR</td>\n",
       "      <td>model</td>\n",
       "      <td>12465</td>\n",
       "    </tr>\n",
       "    <tr>\n",
       "      <th>11</th>\n",
       "      <td>Kim2019_train</td>\n",
       "      <td>dataset</td>\n",
       "      <td>12825</td>\n",
       "    </tr>\n",
       "    <tr>\n",
       "      <th>0</th>\n",
       "      <td>DeepSpCas9</td>\n",
       "      <td>model</td>\n",
       "      <td>12825</td>\n",
       "    </tr>\n",
       "    <tr>\n",
       "      <th>4</th>\n",
       "      <td>CRISPRon</td>\n",
       "      <td>model</td>\n",
       "      <td>24388</td>\n",
       "    </tr>\n",
       "    <tr>\n",
       "      <th>2</th>\n",
       "      <td>VBC Activity</td>\n",
       "      <td>model</td>\n",
       "      <td>54481</td>\n",
       "    </tr>\n",
       "  </tbody>\n",
       "</table>\n",
       "</div>"
      ],
      "text/plain": [
       "                name data_type  n_sgRNAs\n",
       "12      Kim2019_test   dataset       536\n",
       "9   Doench2014_human   dataset       995\n",
       "15          Wang2014   dataset      1022\n",
       "8   Doench2014_mouse   dataset      1168\n",
       "7          Chari2015   dataset      1222\n",
       "10        Doench2016   dataset      2536\n",
       "1         Rule Set 2     model      4379\n",
       "14       Shalem_2014   dataset      4766\n",
       "13    Koike-Yusa2014   dataset      6689\n",
       "6          Behan2019   dataset      7442\n",
       "5        Aguirre2017   dataset      8659\n",
       "16         Xiang2021   dataset     11397\n",
       "3         DeepCRISPR     model     12465\n",
       "11     Kim2019_train   dataset     12825\n",
       "0         DeepSpCas9     model     12825\n",
       "4           CRISPRon     model     24388\n",
       "2       VBC Activity     model     54481"
      ]
     },
     "execution_count": 4,
     "metadata": {},
     "output_type": "execute_result"
    }
   ],
   "source": [
    "model_data_summaries = []\n",
    "for data in model_datasets:\n",
    "    summary = dict()\n",
    "    summary['name'] = data.name\n",
    "    summary['data_type'] = data.classtype\n",
    "    summary['n_sgRNAs'] = len(data.sgrnas)\n",
    "    model_data_summaries.append(summary)\n",
    "\n",
    "model_data_summary_df = pd.DataFrame(model_data_summaries)\n",
    "model_data_summary_df.sort_values('n_sgRNAs')"
   ]
  },
  {
   "cell_type": "markdown",
   "metadata": {},
   "source": [
    "## Overlap between datasets and models\n",
    "\n",
    "For each dataset and model we'll calculate the fraction of sgRNAs that each library shares with one another"
   ]
  },
  {
   "cell_type": "code",
   "execution_count": 5,
   "metadata": {
    "collapsed": false,
    "jupyter": {
     "outputs_hidden": false
    },
    "pycharm": {
     "name": "#%%\n"
    }
   },
   "outputs": [],
   "source": [
    "dataset_model_overlaps = []\n",
    "for ds in dataset_list:\n",
    "    for m in model_prediction_list:\n",
    "        dataset_model_overlap = dict()\n",
    "        dataset_model_overlap['name_1'] = ds.name\n",
    "        dataset_model_overlap['name_2'] = m.name\n",
    "        common_sgrnas = (pd.Series(list(ds.sgrnas))\n",
    "                         .isin(list(m.sgrnas))\n",
    "                         .sum())\n",
    "        dataset_model_overlap['overlap'] = common_sgrnas\n",
    "        dataset_model_overlaps.append(dataset_model_overlap)\n",
    "\n",
    "dataset_model_overlap_df = pd.DataFrame(dataset_model_overlaps)\n",
    "dataset_model_overlap_df = dataset_model_overlap_df[dataset_model_overlap_df['overlap'] > 0].reset_index(drop=True)\n",
    "dataset_model_overlap_df = (dataset_model_overlap_df.merge(model_data_summary_df\n",
    "                                                           .rename({'name': 'name_1'}, axis=1),\n",
    "                                                           how='inner', on='name_1')\n",
    "                            .merge(model_data_summary_df\n",
    "                                   .rename({'name': 'name_2'}, axis=1),\n",
    "                                   how='inner', on='name_2', suffixes=('_1', '_2')))\n",
    "dataset_model_overlap_df['fraction_overlap'] = dataset_model_overlap_df['overlap']/dataset_model_overlap_df['n_sgRNAs_1']"
   ]
  },
  {
   "cell_type": "code",
   "execution_count": 6,
   "metadata": {
    "collapsed": false,
    "jupyter": {
     "outputs_hidden": false
    },
    "pycharm": {
     "name": "#%%\n"
    }
   },
   "outputs": [
    {
     "data": {
      "image/png": "[encoded data removed]",
      "text/plain": [
       "<Figure size 230.4x216 with 2 Axes>"
      ]
     },
     "metadata": {
      "needs_background": "light"
     },
     "output_type": "display_data"
    }
   ],
   "source": [
    "G = nx.from_pandas_edgelist(dataset_model_overlap_df, 'name_1', 'name_2', 'fraction_overlap',\n",
    "                            create_using=nx.DiGraph())\n",
    "node_n_sgrnas = (model_data_summary_df[['name', 'n_sgRNAs', 'data_type']]\n",
    "                 .set_index('name')\n",
    "                 .to_dict(orient='index'))\n",
    "nx.set_node_attributes(G, node_n_sgrnas)\n",
    "plt.subplots(figsize=(3.2,3))\n",
    "# layout\n",
    "pos = nx.bipartite_layout(G, [x for x, y in G.nodes(data=True) if y['data_type'] == 'model'])\n",
    "# edges\n",
    "edge_width = [d['fraction_overlap']*6 for u, v, d in G.edges(data=True)]\n",
    "edge_color_scale = [d['fraction_overlap'] for u, v, d in G.edges(data=True)]\n",
    "edges = nx.draw_networkx_edges(G, pos, arrowstyle=\"-\", connectionstyle=\"arc3,rad=0.1\",\n",
    "                               width=edge_width, edge_color=edge_color_scale)\n",
    "pc = mpl.collections.PatchCollection(edges, cmap=plt.cm.viridis)\n",
    "pc.set_array(edge_color_scale)\n",
    "plt.colorbar(pc, label='Fraction Overlap')\n",
    "# nodes\n",
    "node_size = [d['n_sgRNAs'] * 0.02 for _, d in G.nodes(data=True)]\n",
    "node_color = ['tab:blue' if d['data_type'] == 'dataset' else 'tab:orange' for _, d in G.nodes(data=True)]\n",
    "nx.draw_networkx_nodes(G, pos, node_size=node_size, node_color=node_color)\n",
    "# labels\n",
    "nx.draw_networkx_labels(G, pos, font_size=7,\n",
    "                        font_family='Arial')\n",
    "plt.axis('off')\n",
    "plt.margins(x=0.2)\n",
    "gpplot.savefig('../figures/model_training_network.pdf')"
   ]
  },
  {
   "cell_type": "markdown",
   "metadata": {},
   "source": [
    "## Model Performance"
   ]
  },
  {
   "cell_type": "code",
   "execution_count": 8,
   "metadata": {
    "collapsed": false,
    "jupyter": {
     "outputs_hidden": false
    },
    "pycharm": {
     "name": "#%%\n"
    }
   },
   "outputs": [
    {
     "data": {
      "text/html": [
       "<div>\n",
       "<style scoped>\n",
       "    .dataframe tbody tr th:only-of-type {\n",
       "        vertical-align: middle;\n",
       "    }\n",
       "\n",
       "    .dataframe tbody tr th {\n",
       "        vertical-align: top;\n",
       "    }\n",
       "\n",
       "    .dataframe thead th {\n",
       "        text-align: right;\n",
       "    }\n",
       "</style>\n",
       "<table border=\"1\" class=\"dataframe\">\n",
       "  <thead>\n",
       "    <tr style=\"text-align: right;\">\n",
       "      <th></th>\n",
       "      <th>model1</th>\n",
       "      <th>model2</th>\n",
       "      <th>dataset</th>\n",
       "      <th>size</th>\n",
       "      <th>model1_spearman</th>\n",
       "      <th>model2_spearman</th>\n",
       "      <th>difference</th>\n",
       "    </tr>\n",
       "  </thead>\n",
       "  <tbody>\n",
       "    <tr>\n",
       "      <th>0</th>\n",
       "      <td>DeepSpCas9</td>\n",
       "      <td>Rule Set 2</td>\n",
       "      <td>Aguirre2017</td>\n",
       "      <td>8210</td>\n",
       "      <td>0.511899</td>\n",
       "      <td>0.468766</td>\n",
       "      <td>0.043134</td>\n",
       "    </tr>\n",
       "    <tr>\n",
       "      <th>1</th>\n",
       "      <td>DeepSpCas9</td>\n",
       "      <td>Rule Set 2</td>\n",
       "      <td>Behan2019</td>\n",
       "      <td>7358</td>\n",
       "      <td>0.195603</td>\n",
       "      <td>0.147507</td>\n",
       "      <td>0.048096</td>\n",
       "    </tr>\n",
       "    <tr>\n",
       "      <th>2</th>\n",
       "      <td>DeepSpCas9</td>\n",
       "      <td>Rule Set 2</td>\n",
       "      <td>Chari2015</td>\n",
       "      <td>1193</td>\n",
       "      <td>0.445868</td>\n",
       "      <td>0.376446</td>\n",
       "      <td>0.069422</td>\n",
       "    </tr>\n",
       "    <tr>\n",
       "      <th>3</th>\n",
       "      <td>DeepSpCas9</td>\n",
       "      <td>Rule Set 2</td>\n",
       "      <td>Doench2014_mouse</td>\n",
       "      <td>329</td>\n",
       "      <td>0.407365</td>\n",
       "      <td>0.309187</td>\n",
       "      <td>0.098178</td>\n",
       "    </tr>\n",
       "    <tr>\n",
       "      <th>4</th>\n",
       "      <td>DeepSpCas9</td>\n",
       "      <td>Rule Set 2</td>\n",
       "      <td>Doench2014_human</td>\n",
       "      <td>154</td>\n",
       "      <td>0.291524</td>\n",
       "      <td>0.278753</td>\n",
       "      <td>0.012772</td>\n",
       "    </tr>\n",
       "  </tbody>\n",
       "</table>\n",
       "</div>"
      ],
      "text/plain": [
       "       model1      model2           dataset  size  model1_spearman  \\\n",
       "0  DeepSpCas9  Rule Set 2       Aguirre2017  8210         0.511899   \n",
       "1  DeepSpCas9  Rule Set 2         Behan2019  7358         0.195603   \n",
       "2  DeepSpCas9  Rule Set 2         Chari2015  1193         0.445868   \n",
       "3  DeepSpCas9  Rule Set 2  Doench2014_mouse   329         0.407365   \n",
       "4  DeepSpCas9  Rule Set 2  Doench2014_human   154         0.291524   \n",
       "\n",
       "   model2_spearman  difference  \n",
       "0         0.468766    0.043134  \n",
       "1         0.147507    0.048096  \n",
       "2         0.376446    0.069422  \n",
       "3         0.309187    0.098178  \n",
       "4         0.278753    0.012772  "
      ]
     },
     "execution_count": 8,
     "metadata": {},
     "output_type": "execute_result"
    }
   ],
   "source": [
    "model_comparison_list = []\n",
    "for i in range(len(model_prediction_list)):\n",
    "    for j in range(i+1, len(model_prediction_list)):\n",
    "        pred1 = model_prediction_list[i]\n",
    "        pred2 = model_prediction_list[j]\n",
    "        joined_predictions = pred1.prediction_df.merge(pred2.prediction_df, how='inner',\n",
    "                                                       on=['sgRNA Sequence', 'sgRNA Context Sequence', 'PAM Sequence'])\n",
    "        filtered_predictions = joined_predictions[~joined_predictions['sgRNA Sequence'].isin(pred1.sgrnas) &\n",
    "                                                  ~joined_predictions['sgRNA Sequence'].isin(pred2.sgrnas)]\n",
    "        for ds in dataset_list:\n",
    "            ds_predictions = filtered_predictions.merge(ds.dataset, how='inner',\n",
    "                                                        left_on=['sgRNA Sequence', 'sgRNA Context Sequence'],\n",
    "                                                        right_on=[ds.sgrna_seq_col, ds.context_seq_col])\n",
    "            if ds_predictions.shape[0] > 50:\n",
    "                performance_dict = {}\n",
    "                performance_dict['model1'] = pred1.name\n",
    "                performance_dict['model2'] = pred2.name\n",
    "                performance_dict['dataset'] = ds.name\n",
    "                performance_dict['size'] = ds_predictions.shape[0]\n",
    "                performance_dict['model1_spearman'] = stats.spearmanr(ds_predictions[pred1.prediction_col],\n",
    "                                                                      ds_predictions[ds.rank_col])[0]\n",
    "                performance_dict['model2_spearman'] = stats.spearmanr(ds_predictions[pred2.prediction_col],\n",
    "                                                                      ds_predictions[ds.rank_col])[0]\n",
    "                model_comparison_list.append(performance_dict)\n",
    "\n",
    "performance_df = pd.DataFrame(model_comparison_list)\n",
    "performance_df['difference'] = performance_df['model1_spearman'] - performance_df['model2_spearman']\n",
    "model_order = ['CRISPRon', 'DeepSpCas9', 'Rule Set 2', 'VBC Activity', 'DeepCRISPR']\n",
    "performance_df['model1'] = pd.Categorical(performance_df['model1'],\n",
    "                                          categories=model_order)\n",
    "performance_df['model2'] = pd.Categorical(performance_df['model2'],\n",
    "                                          categories=model_order)\n",
    "performance_df['dataset'] = performance_df['dataset'].astype('category')\n",
    "performance_df.head()"
   ]
  },
  {
   "cell_type": "markdown",
   "metadata": {},
   "source": [
    "We can see that DeepSpCas9 consistently outperforms Rule Set 2, and DeepCRISPR is consistently the worst model"
   ]
  },
  {
   "cell_type": "code",
   "execution_count": 14,
   "metadata": {
    "collapsed": false,
    "jupyter": {
     "outputs_hidden": false
    },
    "pycharm": {
     "name": "#%%\n"
    }
   },
   "outputs": [
    {
     "data": {
      "image/png": "[encoded data removed]",
      "text/plain": [
       "<Figure size 396x216 with 10 Axes>"
      ]
     },
     "metadata": {
      "needs_background": "light"
     },
     "output_type": "display_data"
    }
   ],
   "source": [
    "def const_line(ax, *args, **kwargs):\n",
    "    ax.plot([0, 1], [0, 1], color='black')\n",
    "\n",
    "fig, axs = plt.subplots(ncols=5, nrows=2, figsize=(5.5, 3))\n",
    "fig.tight_layout()\n",
    "for i, (group, group_df) in enumerate(performance_df\n",
    "                                      .sort_values(['model1', 'model2'])\n",
    "                                      .groupby(['model1', 'model2'])):\n",
    "    ax = axs[i//5, i % 5]\n",
    "    sns.scatterplot(data=group_df,\n",
    "                    x='model1_spearman', y='model2_spearman',\n",
    "                    hue='dataset', palette='Set2',\n",
    "                    edgecolor='black', linewidth=0.5, ax=ax,\n",
    "                    s=30)\n",
    "    ax.get_legend().remove()\n",
    "    const_line(ax)\n",
    "    ax.set(xlim=(0,1), ylim=(0,1),\n",
    "           xlabel=group[0], ylabel=group[1])\n",
    "    sns.despine(ax=ax)\n",
    "handles, labels = ax.get_legend_handles_labels()\n",
    "fig.legend(handles, labels, bbox_to_anchor=(1.04,1), loc=\"upper left\",\n",
    "           title='Test Set')\n",
    "fig.suptitle('Model Spearman Correlation', va='bottom')\n",
    "gpplot.savefig('../figures/model_performance.pdf')\n"
   ]
  },
  {
   "cell_type": "code",
   "execution_count": 9,
   "metadata": {
    "collapsed": false,
    "jupyter": {
     "outputs_hidden": false
    },
    "pycharm": {
     "name": "#%%\n"
    }
   },
   "outputs": [],
   "source": [
    "performance_comparison_df = performance_df.copy()\n",
    "performance_comparison_df['comparison'] = (performance_df['model1'].astype(str) + '_' +\n",
    "                                           performance_df['model2'].astype(str))\n",
    "performance_df_model1 = (performance_comparison_df[['model1', 'model1_spearman', 'dataset', 'size', 'comparison']]\n",
    "                         .copy()\n",
    "                         .rename({'model1': 'model', 'model1_spearman': 'spearman'}, axis=1))\n",
    "performance_df_model2 = (performance_comparison_df[['model2', 'model2_spearman', 'dataset', 'size', 'comparison']]\n",
    "                         .copy()\n",
    "                         .rename({'model2': 'model', 'model2_spearman': 'spearman'}, axis=1))\n",
    "long_performance_df = (pd.concat([performance_df_model1, performance_df_model2])\n",
    "                       .reset_index(drop=True))\n",
    "long_performance_df['dataset'] = long_performance_df['dataset'].astype('str')\n",
    "model_average_performance = (long_performance_df.groupby('model')\n",
    "                             .agg({'spearman': 'mean'})\n",
    "                             .sort_values('spearman')\n",
    "                             .reset_index())\n",
    "dataset_max_size = (long_performance_df.groupby('dataset')\n",
    "                    .agg({'size': 'max'})\n",
    "                    .sort_values('size')\n",
    "                    .reset_index())\n",
    "comparison_average_performance = (long_performance_df.groupby('comparison')\n",
    "                                  .agg({'spearman': 'mean'})\n",
    "                                  .sort_values('spearman')\n",
    "                                  .reset_index())\n",
    "long_performance_df['model'] = pd.Categorical(long_performance_df['model'],\n",
    "                                              categories=model_average_performance['model'])\n",
    "long_performance_df['dataset'] = pd.Categorical(long_performance_df['dataset'],\n",
    "                                                categories=dataset_max_size['dataset'])\n",
    "long_performance_df['comparison'] = pd.Categorical(long_performance_df['comparison'],\n",
    "                                                   categories=comparison_average_performance['comparison'])"
   ]
  },
  {
   "cell_type": "code",
   "execution_count": 10,
   "metadata": {
    "collapsed": false,
    "jupyter": {
     "outputs_hidden": false
    },
    "pycharm": {
     "name": "#%%\n"
    }
   },
   "outputs": [
    {
     "name": "stderr",
     "output_type": "stream",
     "text": [
      "/Users/pdeweird/.conda/envs/rs_dev/lib/python3.8/site-packages/plotnine/ggplot.py:719: PlotnineWarning: Saving 4 x 2.25 in image.\n",
      "/Users/pdeweird/.conda/envs/rs_dev/lib/python3.8/site-packages/plotnine/ggplot.py:722: PlotnineWarning: Filename: ../figures/model_performance_heatmap.pdf\n"
     ]
    },
    {
     "ename": "TypeError",
     "evalue": "'<' not supported between instances of 'float' and 'str'",
     "output_type": "error",
     "traceback": [
      "\u001b[0;31m---------------------------------------------------------------------------\u001b[0m",
      "\u001b[0;31mTypeError\u001b[0m                                 Traceback (most recent call last)",
      "\u001b[0;32m<ipython-input-10-92b727c32c95>\u001b[0m in \u001b[0;36m<module>\u001b[0;34m\u001b[0m\n\u001b[1;32m     12\u001b[0m      \u001b[0mgg\u001b[0m\u001b[0;34m.\u001b[0m\u001b[0mylab\u001b[0m\u001b[0;34m(\u001b[0m\u001b[0;34m'Model'\u001b[0m\u001b[0;34m)\u001b[0m \u001b[0;34m+\u001b[0m\u001b[0;34m\u001b[0m\u001b[0;34m\u001b[0m\u001b[0m\n\u001b[1;32m     13\u001b[0m      gg.xlab('Dataset'))\n\u001b[0;32m---> 14\u001b[0;31m \u001b[0mg\u001b[0m\u001b[0;34m.\u001b[0m\u001b[0msave\u001b[0m\u001b[0;34m(\u001b[0m\u001b[0;34m'../figures/model_performance_heatmap.pdf'\u001b[0m\u001b[0;34m,\u001b[0m \u001b[0mwidth\u001b[0m\u001b[0;34m=\u001b[0m\u001b[0;36m4\u001b[0m\u001b[0;34m,\u001b[0m \u001b[0mheight\u001b[0m\u001b[0;34m=\u001b[0m\u001b[0;36m2.25\u001b[0m\u001b[0;34m)\u001b[0m\u001b[0;34m\u001b[0m\u001b[0;34m\u001b[0m\u001b[0m\n\u001b[0m\u001b[1;32m     15\u001b[0m \u001b[0mg\u001b[0m\u001b[0;34m\u001b[0m\u001b[0;34m\u001b[0m\u001b[0m\n",
      "\u001b[0;32m~/.conda/envs/rs_dev/lib/python3.8/site-packages/plotnine/ggplot.py\u001b[0m in \u001b[0;36msave\u001b[0;34m(self, filename, format, path, width, height, units, dpi, limitsize, verbose, **kwargs)\u001b[0m\n\u001b[1;32m    725\u001b[0m             \u001b[0mself\u001b[0m\u001b[0;34m.\u001b[0m\u001b[0mtheme\u001b[0m \u001b[0;34m=\u001b[0m \u001b[0mself\u001b[0m\u001b[0;34m.\u001b[0m\u001b[0mtheme\u001b[0m \u001b[0;34m+\u001b[0m \u001b[0mtheme\u001b[0m\u001b[0;34m(\u001b[0m\u001b[0mdpi\u001b[0m\u001b[0;34m=\u001b[0m\u001b[0mdpi\u001b[0m\u001b[0;34m)\u001b[0m\u001b[0;34m\u001b[0m\u001b[0;34m\u001b[0m\u001b[0m\n\u001b[1;32m    726\u001b[0m \u001b[0;34m\u001b[0m\u001b[0m\n\u001b[0;32m--> 727\u001b[0;31m         \u001b[0mfig\u001b[0m\u001b[0;34m,\u001b[0m \u001b[0mp\u001b[0m \u001b[0;34m=\u001b[0m \u001b[0mself\u001b[0m\u001b[0;34m.\u001b[0m\u001b[0mdraw\u001b[0m\u001b[0;34m(\u001b[0m\u001b[0mreturn_ggplot\u001b[0m\u001b[0;34m=\u001b[0m\u001b[0;32mTrue\u001b[0m\u001b[0;34m)\u001b[0m\u001b[0;34m\u001b[0m\u001b[0;34m\u001b[0m\u001b[0m\n\u001b[0m\u001b[1;32m    728\u001b[0m         \u001b[0;32mwith\u001b[0m \u001b[0mplot_context\u001b[0m\u001b[0;34m(\u001b[0m\u001b[0mp\u001b[0m\u001b[0;34m)\u001b[0m\u001b[0;34m:\u001b[0m\u001b[0;34m\u001b[0m\u001b[0;34m\u001b[0m\u001b[0m\n\u001b[1;32m    729\u001b[0m             \u001b[0mfig\u001b[0m\u001b[0;34m.\u001b[0m\u001b[0msavefig\u001b[0m\u001b[0;34m(\u001b[0m\u001b[0mfilename\u001b[0m\u001b[0;34m,\u001b[0m \u001b[0;34m**\u001b[0m\u001b[0mfig_kwargs\u001b[0m\u001b[0;34m)\u001b[0m\u001b[0;34m\u001b[0m\u001b[0;34m\u001b[0m\u001b[0m\n",
      "\u001b[0;32m~/.conda/envs/rs_dev/lib/python3.8/site-packages/plotnine/ggplot.py\u001b[0m in \u001b[0;36mdraw\u001b[0;34m(self, return_ggplot, show)\u001b[0m\n\u001b[1;32m    203\u001b[0m         \u001b[0mself\u001b[0m \u001b[0;34m=\u001b[0m \u001b[0mdeepcopy\u001b[0m\u001b[0;34m(\u001b[0m\u001b[0mself\u001b[0m\u001b[0;34m)\u001b[0m\u001b[0;34m\u001b[0m\u001b[0;34m\u001b[0m\u001b[0m\n\u001b[1;32m    204\u001b[0m         \u001b[0;32mwith\u001b[0m \u001b[0mplot_context\u001b[0m\u001b[0;34m(\u001b[0m\u001b[0mself\u001b[0m\u001b[0;34m,\u001b[0m \u001b[0mshow\u001b[0m\u001b[0;34m=\u001b[0m\u001b[0mshow\u001b[0m\u001b[0;34m)\u001b[0m\u001b[0;34m:\u001b[0m\u001b[0;34m\u001b[0m\u001b[0;34m\u001b[0m\u001b[0m\n\u001b[0;32m--> 205\u001b[0;31m             \u001b[0mself\u001b[0m\u001b[0;34m.\u001b[0m\u001b[0m_build\u001b[0m\u001b[0;34m(\u001b[0m\u001b[0;34m)\u001b[0m\u001b[0;34m\u001b[0m\u001b[0;34m\u001b[0m\u001b[0m\n\u001b[0m\u001b[1;32m    206\u001b[0m \u001b[0;34m\u001b[0m\u001b[0m\n\u001b[1;32m    207\u001b[0m             \u001b[0;31m# setup\u001b[0m\u001b[0;34m\u001b[0m\u001b[0;34m\u001b[0m\u001b[0;34m\u001b[0m\u001b[0m\n",
      "\u001b[0;32m~/.conda/envs/rs_dev/lib/python3.8/site-packages/plotnine/ggplot.py\u001b[0m in \u001b[0;36m_build\u001b[0;34m(self)\u001b[0m\n\u001b[1;32m    287\u001b[0m         \u001b[0;31m# Compute aesthetics to produce data with generalised\u001b[0m\u001b[0;34m\u001b[0m\u001b[0;34m\u001b[0m\u001b[0;34m\u001b[0m\u001b[0m\n\u001b[1;32m    288\u001b[0m         \u001b[0;31m# variable names\u001b[0m\u001b[0;34m\u001b[0m\u001b[0;34m\u001b[0m\u001b[0;34m\u001b[0m\u001b[0m\n\u001b[0;32m--> 289\u001b[0;31m         \u001b[0mlayers\u001b[0m\u001b[0;34m.\u001b[0m\u001b[0mcompute_aesthetics\u001b[0m\u001b[0;34m(\u001b[0m\u001b[0mself\u001b[0m\u001b[0;34m)\u001b[0m\u001b[0;34m\u001b[0m\u001b[0;34m\u001b[0m\u001b[0m\n\u001b[0m\u001b[1;32m    290\u001b[0m \u001b[0;34m\u001b[0m\u001b[0m\n\u001b[1;32m    291\u001b[0m         \u001b[0;31m# Transform data using all scales\u001b[0m\u001b[0;34m\u001b[0m\u001b[0;34m\u001b[0m\u001b[0;34m\u001b[0m\u001b[0m\n",
      "\u001b[0;32m~/.conda/envs/rs_dev/lib/python3.8/site-packages/plotnine/layer.py\u001b[0m in \u001b[0;36mcompute_aesthetics\u001b[0;34m(self, plot)\u001b[0m\n\u001b[1;32m     67\u001b[0m     \u001b[0;32mdef\u001b[0m \u001b[0mcompute_aesthetics\u001b[0m\u001b[0;34m(\u001b[0m\u001b[0mself\u001b[0m\u001b[0;34m,\u001b[0m \u001b[0mplot\u001b[0m\u001b[0;34m)\u001b[0m\u001b[0;34m:\u001b[0m\u001b[0;34m\u001b[0m\u001b[0;34m\u001b[0m\u001b[0m\n\u001b[1;32m     68\u001b[0m         \u001b[0;32mfor\u001b[0m \u001b[0ml\u001b[0m \u001b[0;32min\u001b[0m \u001b[0mself\u001b[0m\u001b[0;34m:\u001b[0m\u001b[0;34m\u001b[0m\u001b[0;34m\u001b[0m\u001b[0m\n\u001b[0;32m---> 69\u001b[0;31m             \u001b[0ml\u001b[0m\u001b[0;34m.\u001b[0m\u001b[0mcompute_aesthetics\u001b[0m\u001b[0;34m(\u001b[0m\u001b[0mplot\u001b[0m\u001b[0;34m)\u001b[0m\u001b[0;34m\u001b[0m\u001b[0;34m\u001b[0m\u001b[0m\n\u001b[0m\u001b[1;32m     70\u001b[0m \u001b[0;34m\u001b[0m\u001b[0m\n\u001b[1;32m     71\u001b[0m     \u001b[0;32mdef\u001b[0m \u001b[0mcompute_statistic\u001b[0m\u001b[0;34m(\u001b[0m\u001b[0mself\u001b[0m\u001b[0;34m,\u001b[0m \u001b[0mlayout\u001b[0m\u001b[0;34m)\u001b[0m\u001b[0;34m:\u001b[0m\u001b[0;34m\u001b[0m\u001b[0;34m\u001b[0m\u001b[0m\n",
      "\u001b[0;32m~/.conda/envs/rs_dev/lib/python3.8/site-packages/plotnine/layer.py\u001b[0m in \u001b[0;36mcompute_aesthetics\u001b[0;34m(self, plot)\u001b[0m\n\u001b[1;32m    309\u001b[0m             \u001b[0mevaled\u001b[0m\u001b[0;34m[\u001b[0m\u001b[0;34m'PANEL'\u001b[0m\u001b[0;34m]\u001b[0m \u001b[0;34m=\u001b[0m \u001b[0mself\u001b[0m\u001b[0;34m.\u001b[0m\u001b[0mdata\u001b[0m\u001b[0;34m[\u001b[0m\u001b[0;34m'PANEL'\u001b[0m\u001b[0;34m]\u001b[0m\u001b[0;34m\u001b[0m\u001b[0;34m\u001b[0m\u001b[0m\n\u001b[1;32m    310\u001b[0m \u001b[0;34m\u001b[0m\u001b[0m\n\u001b[0;32m--> 311\u001b[0;31m         \u001b[0mself\u001b[0m\u001b[0;34m.\u001b[0m\u001b[0mdata\u001b[0m \u001b[0;34m=\u001b[0m \u001b[0madd_group\u001b[0m\u001b[0;34m(\u001b[0m\u001b[0mevaled\u001b[0m\u001b[0;34m)\u001b[0m\u001b[0;34m\u001b[0m\u001b[0;34m\u001b[0m\u001b[0m\n\u001b[0m\u001b[1;32m    312\u001b[0m \u001b[0;34m\u001b[0m\u001b[0m\n\u001b[1;32m    313\u001b[0m     \u001b[0;32mdef\u001b[0m \u001b[0mcompute_statistic\u001b[0m\u001b[0;34m(\u001b[0m\u001b[0mself\u001b[0m\u001b[0;34m,\u001b[0m \u001b[0mlayout\u001b[0m\u001b[0;34m)\u001b[0m\u001b[0;34m:\u001b[0m\u001b[0;34m\u001b[0m\u001b[0;34m\u001b[0m\u001b[0m\n",
      "\u001b[0;32m~/.conda/envs/rs_dev/lib/python3.8/site-packages/plotnine/layer.py\u001b[0m in \u001b[0;36madd_group\u001b[0;34m(data)\u001b[0m\n\u001b[1;32m    439\u001b[0m         \u001b[0mdisc\u001b[0m \u001b[0;34m=\u001b[0m \u001b[0mdiscrete_columns\u001b[0m\u001b[0;34m(\u001b[0m\u001b[0mdata\u001b[0m\u001b[0;34m,\u001b[0m \u001b[0mignore\u001b[0m\u001b[0;34m=\u001b[0m\u001b[0;34m[\u001b[0m\u001b[0;34m'label'\u001b[0m\u001b[0;34m]\u001b[0m\u001b[0;34m)\u001b[0m\u001b[0;34m\u001b[0m\u001b[0;34m\u001b[0m\u001b[0m\n\u001b[1;32m    440\u001b[0m         \u001b[0;32mif\u001b[0m \u001b[0mdisc\u001b[0m\u001b[0;34m:\u001b[0m\u001b[0;34m\u001b[0m\u001b[0;34m\u001b[0m\u001b[0m\n\u001b[0;32m--> 441\u001b[0;31m             \u001b[0mdata\u001b[0m\u001b[0;34m[\u001b[0m\u001b[0;34m'group'\u001b[0m\u001b[0;34m]\u001b[0m \u001b[0;34m=\u001b[0m \u001b[0mninteraction\u001b[0m\u001b[0;34m(\u001b[0m\u001b[0mdata\u001b[0m\u001b[0;34m[\u001b[0m\u001b[0mdisc\u001b[0m\u001b[0;34m]\u001b[0m\u001b[0;34m,\u001b[0m \u001b[0mdrop\u001b[0m\u001b[0;34m=\u001b[0m\u001b[0;32mTrue\u001b[0m\u001b[0;34m)\u001b[0m\u001b[0;34m\u001b[0m\u001b[0;34m\u001b[0m\u001b[0m\n\u001b[0m\u001b[1;32m    442\u001b[0m         \u001b[0;32melse\u001b[0m\u001b[0;34m:\u001b[0m\u001b[0;34m\u001b[0m\u001b[0;34m\u001b[0m\u001b[0m\n\u001b[1;32m    443\u001b[0m             \u001b[0mdata\u001b[0m\u001b[0;34m[\u001b[0m\u001b[0;34m'group'\u001b[0m\u001b[0;34m]\u001b[0m \u001b[0;34m=\u001b[0m \u001b[0mNO_GROUP\u001b[0m\u001b[0;34m\u001b[0m\u001b[0;34m\u001b[0m\u001b[0m\n",
      "\u001b[0;32m~/.conda/envs/rs_dev/lib/python3.8/site-packages/plotnine/utils.py\u001b[0m in \u001b[0;36mninteraction\u001b[0;34m(df, drop)\u001b[0m\n\u001b[1;32m    285\u001b[0m     \u001b[0;32mdef\u001b[0m \u001b[0mlen_unique\u001b[0m\u001b[0;34m(\u001b[0m\u001b[0mx\u001b[0m\u001b[0;34m)\u001b[0m\u001b[0;34m:\u001b[0m\u001b[0;34m\u001b[0m\u001b[0;34m\u001b[0m\u001b[0m\n\u001b[1;32m    286\u001b[0m         \u001b[0;32mreturn\u001b[0m \u001b[0mlen\u001b[0m\u001b[0;34m(\u001b[0m\u001b[0mnp\u001b[0m\u001b[0;34m.\u001b[0m\u001b[0munique\u001b[0m\u001b[0;34m(\u001b[0m\u001b[0mx\u001b[0m\u001b[0;34m)\u001b[0m\u001b[0;34m)\u001b[0m\u001b[0;34m\u001b[0m\u001b[0;34m\u001b[0m\u001b[0m\n\u001b[0;32m--> 287\u001b[0;31m     \u001b[0mndistinct\u001b[0m \u001b[0;34m=\u001b[0m \u001b[0mids\u001b[0m\u001b[0;34m.\u001b[0m\u001b[0mapply\u001b[0m\u001b[0;34m(\u001b[0m\u001b[0mlen_unique\u001b[0m\u001b[0;34m,\u001b[0m \u001b[0maxis\u001b[0m\u001b[0;34m=\u001b[0m\u001b[0;36m0\u001b[0m\u001b[0;34m)\u001b[0m\u001b[0;34m.\u001b[0m\u001b[0mvalues\u001b[0m\u001b[0;34m\u001b[0m\u001b[0;34m\u001b[0m\u001b[0m\n\u001b[0m\u001b[1;32m    288\u001b[0m \u001b[0;34m\u001b[0m\u001b[0m\n\u001b[1;32m    289\u001b[0m     combs = np.array(\n",
      "\u001b[0;32m~/.conda/envs/rs_dev/lib/python3.8/site-packages/pandas/core/frame.py\u001b[0m in \u001b[0;36mapply\u001b[0;34m(self, func, axis, raw, result_type, args, **kwds)\u001b[0m\n\u001b[1;32m   7766\u001b[0m             \u001b[0mkwds\u001b[0m\u001b[0;34m=\u001b[0m\u001b[0mkwds\u001b[0m\u001b[0;34m,\u001b[0m\u001b[0;34m\u001b[0m\u001b[0;34m\u001b[0m\u001b[0m\n\u001b[1;32m   7767\u001b[0m         )\n\u001b[0;32m-> 7768\u001b[0;31m         \u001b[0;32mreturn\u001b[0m \u001b[0mop\u001b[0m\u001b[0;34m.\u001b[0m\u001b[0mget_result\u001b[0m\u001b[0;34m(\u001b[0m\u001b[0;34m)\u001b[0m\u001b[0;34m\u001b[0m\u001b[0;34m\u001b[0m\u001b[0m\n\u001b[0m\u001b[1;32m   7769\u001b[0m \u001b[0;34m\u001b[0m\u001b[0m\n\u001b[1;32m   7770\u001b[0m     \u001b[0;32mdef\u001b[0m \u001b[0mapplymap\u001b[0m\u001b[0;34m(\u001b[0m\u001b[0mself\u001b[0m\u001b[0;34m,\u001b[0m \u001b[0mfunc\u001b[0m\u001b[0;34m,\u001b[0m \u001b[0mna_action\u001b[0m\u001b[0;34m:\u001b[0m \u001b[0mOptional\u001b[0m\u001b[0;34m[\u001b[0m\u001b[0mstr\u001b[0m\u001b[0;34m]\u001b[0m \u001b[0;34m=\u001b[0m \u001b[0;32mNone\u001b[0m\u001b[0;34m)\u001b[0m \u001b[0;34m->\u001b[0m \u001b[0mDataFrame\u001b[0m\u001b[0;34m:\u001b[0m\u001b[0;34m\u001b[0m\u001b[0;34m\u001b[0m\u001b[0m\n",
      "\u001b[0;32m~/.conda/envs/rs_dev/lib/python3.8/site-packages/pandas/core/apply.py\u001b[0m in \u001b[0;36mget_result\u001b[0;34m(self)\u001b[0m\n\u001b[1;32m    183\u001b[0m             \u001b[0;32mreturn\u001b[0m \u001b[0mself\u001b[0m\u001b[0;34m.\u001b[0m\u001b[0mapply_raw\u001b[0m\u001b[0;34m(\u001b[0m\u001b[0;34m)\u001b[0m\u001b[0;34m\u001b[0m\u001b[0;34m\u001b[0m\u001b[0m\n\u001b[1;32m    184\u001b[0m \u001b[0;34m\u001b[0m\u001b[0m\n\u001b[0;32m--> 185\u001b[0;31m         \u001b[0;32mreturn\u001b[0m \u001b[0mself\u001b[0m\u001b[0;34m.\u001b[0m\u001b[0mapply_standard\u001b[0m\u001b[0;34m(\u001b[0m\u001b[0;34m)\u001b[0m\u001b[0;34m\u001b[0m\u001b[0;34m\u001b[0m\u001b[0m\n\u001b[0m\u001b[1;32m    186\u001b[0m \u001b[0;34m\u001b[0m\u001b[0m\n\u001b[1;32m    187\u001b[0m     \u001b[0;32mdef\u001b[0m \u001b[0mapply_empty_result\u001b[0m\u001b[0;34m(\u001b[0m\u001b[0mself\u001b[0m\u001b[0;34m)\u001b[0m\u001b[0;34m:\u001b[0m\u001b[0;34m\u001b[0m\u001b[0;34m\u001b[0m\u001b[0m\n",
      "\u001b[0;32m~/.conda/envs/rs_dev/lib/python3.8/site-packages/pandas/core/apply.py\u001b[0m in \u001b[0;36mapply_standard\u001b[0;34m(self)\u001b[0m\n\u001b[1;32m    274\u001b[0m \u001b[0;34m\u001b[0m\u001b[0m\n\u001b[1;32m    275\u001b[0m     \u001b[0;32mdef\u001b[0m \u001b[0mapply_standard\u001b[0m\u001b[0;34m(\u001b[0m\u001b[0mself\u001b[0m\u001b[0;34m)\u001b[0m\u001b[0;34m:\u001b[0m\u001b[0;34m\u001b[0m\u001b[0;34m\u001b[0m\u001b[0m\n\u001b[0;32m--> 276\u001b[0;31m         \u001b[0mresults\u001b[0m\u001b[0;34m,\u001b[0m \u001b[0mres_index\u001b[0m \u001b[0;34m=\u001b[0m \u001b[0mself\u001b[0m\u001b[0;34m.\u001b[0m\u001b[0mapply_series_generator\u001b[0m\u001b[0;34m(\u001b[0m\u001b[0;34m)\u001b[0m\u001b[0;34m\u001b[0m\u001b[0;34m\u001b[0m\u001b[0m\n\u001b[0m\u001b[1;32m    277\u001b[0m \u001b[0;34m\u001b[0m\u001b[0m\n\u001b[1;32m    278\u001b[0m         \u001b[0;31m# wrap results\u001b[0m\u001b[0;34m\u001b[0m\u001b[0;34m\u001b[0m\u001b[0;34m\u001b[0m\u001b[0m\n",
      "\u001b[0;32m~/.conda/envs/rs_dev/lib/python3.8/site-packages/pandas/core/apply.py\u001b[0m in \u001b[0;36mapply_series_generator\u001b[0;34m(self)\u001b[0m\n\u001b[1;32m    288\u001b[0m             \u001b[0;32mfor\u001b[0m \u001b[0mi\u001b[0m\u001b[0;34m,\u001b[0m \u001b[0mv\u001b[0m \u001b[0;32min\u001b[0m \u001b[0menumerate\u001b[0m\u001b[0;34m(\u001b[0m\u001b[0mseries_gen\u001b[0m\u001b[0;34m)\u001b[0m\u001b[0;34m:\u001b[0m\u001b[0;34m\u001b[0m\u001b[0;34m\u001b[0m\u001b[0m\n\u001b[1;32m    289\u001b[0m                 \u001b[0;31m# ignore SettingWithCopy here in case the user mutates\u001b[0m\u001b[0;34m\u001b[0m\u001b[0;34m\u001b[0m\u001b[0;34m\u001b[0m\u001b[0m\n\u001b[0;32m--> 290\u001b[0;31m                 \u001b[0mresults\u001b[0m\u001b[0;34m[\u001b[0m\u001b[0mi\u001b[0m\u001b[0;34m]\u001b[0m \u001b[0;34m=\u001b[0m \u001b[0mself\u001b[0m\u001b[0;34m.\u001b[0m\u001b[0mf\u001b[0m\u001b[0;34m(\u001b[0m\u001b[0mv\u001b[0m\u001b[0;34m)\u001b[0m\u001b[0;34m\u001b[0m\u001b[0;34m\u001b[0m\u001b[0m\n\u001b[0m\u001b[1;32m    291\u001b[0m                 \u001b[0;32mif\u001b[0m \u001b[0misinstance\u001b[0m\u001b[0;34m(\u001b[0m\u001b[0mresults\u001b[0m\u001b[0;34m[\u001b[0m\u001b[0mi\u001b[0m\u001b[0;34m]\u001b[0m\u001b[0;34m,\u001b[0m \u001b[0mABCSeries\u001b[0m\u001b[0;34m)\u001b[0m\u001b[0;34m:\u001b[0m\u001b[0;34m\u001b[0m\u001b[0;34m\u001b[0m\u001b[0m\n\u001b[1;32m    292\u001b[0m                     \u001b[0;31m# If we have a view on v, we need to make a copy because\u001b[0m\u001b[0;34m\u001b[0m\u001b[0;34m\u001b[0m\u001b[0;34m\u001b[0m\u001b[0m\n",
      "\u001b[0;32m~/.conda/envs/rs_dev/lib/python3.8/site-packages/plotnine/utils.py\u001b[0m in \u001b[0;36mlen_unique\u001b[0;34m(x)\u001b[0m\n\u001b[1;32m    284\u001b[0m     \u001b[0;31m# Calculate dimensions\u001b[0m\u001b[0;34m\u001b[0m\u001b[0;34m\u001b[0m\u001b[0;34m\u001b[0m\u001b[0m\n\u001b[1;32m    285\u001b[0m     \u001b[0;32mdef\u001b[0m \u001b[0mlen_unique\u001b[0m\u001b[0;34m(\u001b[0m\u001b[0mx\u001b[0m\u001b[0;34m)\u001b[0m\u001b[0;34m:\u001b[0m\u001b[0;34m\u001b[0m\u001b[0;34m\u001b[0m\u001b[0m\n\u001b[0;32m--> 286\u001b[0;31m         \u001b[0;32mreturn\u001b[0m \u001b[0mlen\u001b[0m\u001b[0;34m(\u001b[0m\u001b[0mnp\u001b[0m\u001b[0;34m.\u001b[0m\u001b[0munique\u001b[0m\u001b[0;34m(\u001b[0m\u001b[0mx\u001b[0m\u001b[0;34m)\u001b[0m\u001b[0;34m)\u001b[0m\u001b[0;34m\u001b[0m\u001b[0;34m\u001b[0m\u001b[0m\n\u001b[0m\u001b[1;32m    287\u001b[0m     \u001b[0mndistinct\u001b[0m \u001b[0;34m=\u001b[0m \u001b[0mids\u001b[0m\u001b[0;34m.\u001b[0m\u001b[0mapply\u001b[0m\u001b[0;34m(\u001b[0m\u001b[0mlen_unique\u001b[0m\u001b[0;34m,\u001b[0m \u001b[0maxis\u001b[0m\u001b[0;34m=\u001b[0m\u001b[0;36m0\u001b[0m\u001b[0;34m)\u001b[0m\u001b[0;34m.\u001b[0m\u001b[0mvalues\u001b[0m\u001b[0;34m\u001b[0m\u001b[0;34m\u001b[0m\u001b[0m\n\u001b[1;32m    288\u001b[0m \u001b[0;34m\u001b[0m\u001b[0m\n",
      "\u001b[0;32m<__array_function__ internals>\u001b[0m in \u001b[0;36munique\u001b[0;34m(*args, **kwargs)\u001b[0m\n",
      "\u001b[0;32m~/.conda/envs/rs_dev/lib/python3.8/site-packages/numpy/lib/arraysetops.py\u001b[0m in \u001b[0;36munique\u001b[0;34m(ar, return_index, return_inverse, return_counts, axis)\u001b[0m\n\u001b[1;32m    259\u001b[0m     \u001b[0mar\u001b[0m \u001b[0;34m=\u001b[0m \u001b[0mnp\u001b[0m\u001b[0;34m.\u001b[0m\u001b[0masanyarray\u001b[0m\u001b[0;34m(\u001b[0m\u001b[0mar\u001b[0m\u001b[0;34m)\u001b[0m\u001b[0;34m\u001b[0m\u001b[0;34m\u001b[0m\u001b[0m\n\u001b[1;32m    260\u001b[0m     \u001b[0;32mif\u001b[0m \u001b[0maxis\u001b[0m \u001b[0;32mis\u001b[0m \u001b[0;32mNone\u001b[0m\u001b[0;34m:\u001b[0m\u001b[0;34m\u001b[0m\u001b[0;34m\u001b[0m\u001b[0m\n\u001b[0;32m--> 261\u001b[0;31m         \u001b[0mret\u001b[0m \u001b[0;34m=\u001b[0m \u001b[0m_unique1d\u001b[0m\u001b[0;34m(\u001b[0m\u001b[0mar\u001b[0m\u001b[0;34m,\u001b[0m \u001b[0mreturn_index\u001b[0m\u001b[0;34m,\u001b[0m \u001b[0mreturn_inverse\u001b[0m\u001b[0;34m,\u001b[0m \u001b[0mreturn_counts\u001b[0m\u001b[0;34m)\u001b[0m\u001b[0;34m\u001b[0m\u001b[0;34m\u001b[0m\u001b[0m\n\u001b[0m\u001b[1;32m    262\u001b[0m         \u001b[0;32mreturn\u001b[0m \u001b[0m_unpack_tuple\u001b[0m\u001b[0;34m(\u001b[0m\u001b[0mret\u001b[0m\u001b[0;34m)\u001b[0m\u001b[0;34m\u001b[0m\u001b[0;34m\u001b[0m\u001b[0m\n\u001b[1;32m    263\u001b[0m \u001b[0;34m\u001b[0m\u001b[0m\n",
      "\u001b[0;32m~/.conda/envs/rs_dev/lib/python3.8/site-packages/numpy/lib/arraysetops.py\u001b[0m in \u001b[0;36m_unique1d\u001b[0;34m(ar, return_index, return_inverse, return_counts)\u001b[0m\n\u001b[1;32m    320\u001b[0m         \u001b[0maux\u001b[0m \u001b[0;34m=\u001b[0m \u001b[0mar\u001b[0m\u001b[0;34m[\u001b[0m\u001b[0mperm\u001b[0m\u001b[0;34m]\u001b[0m\u001b[0;34m\u001b[0m\u001b[0;34m\u001b[0m\u001b[0m\n\u001b[1;32m    321\u001b[0m     \u001b[0;32melse\u001b[0m\u001b[0;34m:\u001b[0m\u001b[0;34m\u001b[0m\u001b[0;34m\u001b[0m\u001b[0m\n\u001b[0;32m--> 322\u001b[0;31m         \u001b[0mar\u001b[0m\u001b[0;34m.\u001b[0m\u001b[0msort\u001b[0m\u001b[0;34m(\u001b[0m\u001b[0;34m)\u001b[0m\u001b[0;34m\u001b[0m\u001b[0;34m\u001b[0m\u001b[0m\n\u001b[0m\u001b[1;32m    323\u001b[0m         \u001b[0maux\u001b[0m \u001b[0;34m=\u001b[0m \u001b[0mar\u001b[0m\u001b[0;34m\u001b[0m\u001b[0;34m\u001b[0m\u001b[0m\n\u001b[1;32m    324\u001b[0m     \u001b[0mmask\u001b[0m \u001b[0;34m=\u001b[0m \u001b[0mnp\u001b[0m\u001b[0;34m.\u001b[0m\u001b[0mempty\u001b[0m\u001b[0;34m(\u001b[0m\u001b[0maux\u001b[0m\u001b[0;34m.\u001b[0m\u001b[0mshape\u001b[0m\u001b[0;34m,\u001b[0m \u001b[0mdtype\u001b[0m\u001b[0;34m=\u001b[0m\u001b[0mnp\u001b[0m\u001b[0;34m.\u001b[0m\u001b[0mbool_\u001b[0m\u001b[0;34m)\u001b[0m\u001b[0;34m\u001b[0m\u001b[0;34m\u001b[0m\u001b[0m\n",
      "\u001b[0;31mTypeError\u001b[0m: '<' not supported between instances of 'float' and 'str'"
     ]
    }
   ],
   "source": [
    "g = (gg.ggplot(long_performance_df) +\n",
    "     gg.aes(y='model', x='dataset', fill='spearman') +\n",
    "     gg.geom_tile(color='black') +\n",
    "     gg.scale_fill_cmap('RdBu_r', limits=(-1, 1)) +\n",
    "     gg.guides(fill=gg.guide_colorbar(barwidth=10, barheight=10,\n",
    "                                          title='Spearman r', raster=True)) +\n",
    "     gg.theme(axis_text_x=gg.element_text(angle=90, hjust=0.5, vjust=1),\n",
    "              strip_text=gg.element_blank(),\n",
    "              subplots_adjust={'wspace': 0.6},\n",
    "              plot_background=gg.element_blank()) +\n",
    "     gg.facet_wrap('comparison', scales='free_y', nrow=3) +\n",
    "     gg.ylab('Model') +\n",
    "     gg.xlab('Dataset'))\n",
    "g.save('../figures/model_performance_heatmap.pdf', width=4, height=2.25)\n",
    "g"
   ]
  },
  {
   "cell_type": "code",
   "execution_count": null,
   "metadata": {
    "collapsed": false,
    "jupyter": {
     "outputs_hidden": false
    },
    "pycharm": {
     "name": "#%%\n"
    }
   },
   "outputs": [],
   "source": [
    "average_difference = (performance_df.groupby(['model1', 'model2'])\n",
    "                      .apply(lambda df: ((df['model1_spearman'] - df['model2_spearman'])*df['size']).sum()/\n",
    "                                        df['size'].sum())\n",
    "                      .reset_index(name='avg_difference'))\n",
    "average_difference.sort_values(['model1', 'model2'])"
   ]
  },
  {
   "cell_type": "markdown",
   "metadata": {},
   "source": [
    "## Picking training data\n",
    "Since DeepSpCas9 is the current state of the art, we'll start with the Kim2019_train data as our training seed,\n",
    "and then include all data with more than 50% overlap with the Kim2019_train data,\n",
    "as well as the Wang2014 data to expand the training set.\n"
   ]
  },
  {
   "cell_type": "code",
   "execution_count": null,
   "metadata": {
    "collapsed": false,
    "jupyter": {
     "outputs_hidden": false
    },
    "pycharm": {
     "name": "#%%\n"
    }
   },
   "outputs": [],
   "source": [
    "dataset_overlaps = []\n",
    "for ds1 in dataset_list:\n",
    "    for ds2 in dataset_list:\n",
    "        if ds1 != ds2:\n",
    "            dataset_overlap = dict()\n",
    "            dataset_overlap['name_1'] = ds1.name\n",
    "            dataset_overlap['name_2'] = ds2.name\n",
    "            common_context = (ds1.dataset[ds1.context_seq_col]\n",
    "                              .isin(ds2.dataset[ds2.context_seq_col])\n",
    "                              .sum())\n",
    "            dataset_overlap['overlap'] = common_context\n",
    "            dataset_overlaps.append(dataset_overlap)\n",
    "\n",
    "dataset_overlap_df = pd.DataFrame(dataset_overlaps)\n",
    "dataset_overlap_df = dataset_overlap_df[dataset_overlap_df['overlap'] > 0].reset_index(drop=True)\n",
    "# directional overlap\n",
    "dataset_overlap_df = (dataset_overlap_df.merge(model_data_summary_df\n",
    "                                               .rename({'name': 'name_1'}, axis=1),\n",
    "                                               how='inner', on='name_1'))\n",
    "dataset_overlap_df['fraction_overlap'] = dataset_overlap_df['overlap']/dataset_overlap_df['n_sgRNAs']"
   ]
  },
  {
   "cell_type": "code",
   "execution_count": null,
   "metadata": {},
   "outputs": [],
   "source": [
    "def get_overlapping_datasets(datasets, sink_node, data, threshold=0.2):\n",
    "    \"\"\"Recursively get datasets which overlap with sink_node greater than a give threshold\n",
    "\n",
    "    :param datasets: list\n",
    "    :param sink_node: str\n",
    "    :param data: DataFrame\n",
    "    :param threshold: float\n",
    "    \"\"\"\n",
    "    datasets.append(sink_node)\n",
    "    overlapping_nodes = data.loc[(data['name_2'] == sink_node) &\n",
    "                                 (data['fraction_overlap'] > threshold), \n",
    "                                 'name_1'].to_list()\n",
    "    if len(overlapping_nodes) != 0:\n",
    "        filtered_data = data[~data['name_1'].isin(overlapping_nodes)].copy()\n",
    "        for node in overlapping_nodes:\n",
    "            get_overlapping_datasets(datasets, node, filtered_data, threshold)\n",
    "            \n",
    "train_datasets = []\n",
    "get_overlapping_datasets(train_datasets, 'Kim2019_train', dataset_overlap_df)\n",
    "get_overlapping_datasets(train_datasets, 'Wang2014', dataset_overlap_df)\n",
    "train_datasets"
   ]
  },
  {
   "cell_type": "code",
   "execution_count": null,
   "metadata": {},
   "outputs": [],
   "source": [
    "sgrna_train_dfs_list = list()\n",
    "sgrna_test_dfs_list = list()\n",
    "for ds in dataset_list:\n",
    "    if ds.name in train_datasets:\n",
    "        sgrna_train_dfs_list.append(ds.get_sg_df())\n",
    "    else:\n",
    "        sgrna_test_dfs_list.append(ds.get_sg_df())\n",
    "        \n",
    "\n",
    "train_sgrna_df = (pd.concat(sgrna_train_dfs_list)\n",
    "                  .drop_duplicates())\n",
    "test_sgrna_df = (pd.concat(sgrna_test_dfs_list)\n",
    "                 .drop_duplicates())\n",
    "print(\"Train sgRNAs: \" + str(train_sgrna_df.shape[0]))\n",
    "print(\"Test sgRNAs: \" + str(test_sgrna_df.shape[0]))"
   ]
  },
  {
   "cell_type": "code",
   "execution_count": null,
   "metadata": {},
   "outputs": [],
   "source": [
    "data_summary_df = model_data_summary_df.loc[model_data_summary_df['data_type'] == 'dataset',\n",
    "                                            ['name', 'n_sgRNAs']].copy()\n",
    "data_summary_df['Train'] = data_summary_df['name'].isin(train_datasets)"
   ]
  },
  {
   "cell_type": "code",
   "execution_count": null,
   "metadata": {},
   "outputs": [],
   "source": [
    "G = nx.from_pandas_edgelist(dataset_overlap_df, 'name_1', 'name_2', 'fraction_overlap',\n",
    "                            create_using=nx.DiGraph())\n",
    "node_n_sgrnas = (data_summary_df\n",
    "                 .set_index('name')\n",
    "                 .to_dict(orient='index'))\n",
    "nx.set_node_attributes(G, node_n_sgrnas)\n",
    "plt.subplots(figsize=(3.2,3))\n",
    "# layout\n",
    "pos = nx.spring_layout(G, seed=2)\n",
    "# edges\n",
    "edge_width = [d['fraction_overlap']*6 for u, v, d in G.edges(data=True)]\n",
    "edge_color_scale = [d['fraction_overlap'] for u, v, d in G.edges(data=True)]\n",
    "edges = nx.draw_networkx_edges(G, pos, arrowstyle=\"-\", connectionstyle=\"arc3,rad=0.1\",\n",
    "                               width=edge_width, edge_color=edge_color_scale,\n",
    "                               arrowsize=5)\n",
    "pc = mpl.collections.PatchCollection(edges, cmap=plt.cm.viridis)\n",
    "pc.set_array(edge_color_scale)\n",
    "plt.colorbar(pc, label='Fraction Overlap')\n",
    "# nodes\n",
    "node_size = [d['n_sgRNAs'] * 0.02 for _, d in G.nodes(data=True)]\n",
    "node_color = ['tab:blue' if d['Train'] else 'tab:orange' for _, d in G.nodes(data=True)]\n",
    "nx.draw_networkx_nodes(G, pos, node_size=node_size, node_color=node_color)\n",
    "# labels\n",
    "nx.draw_networkx_labels(G, pos, font_size=7,\n",
    "                        font_family='Arial')\n",
    "plt.axis('off')\n",
    "plt.margins(x=0.2)\n",
    "gpplot.savefig('../figures/train_dataset_network.svg')\n"
   ]
  },
  {
   "cell_type": "markdown",
   "metadata": {},
   "source": [
    "## Write list of training data"
   ]
  },
  {
   "cell_type": "code",
   "execution_count": null,
   "metadata": {},
   "outputs": [],
   "source": [
    "train_data_name_df = pd.DataFrame({'name': train_datasets})\n",
    "train_data_name_df.to_csv('../data/processed/train_data_names.csv', index=False)"
   ]
  },
  {
   "cell_type": "code",
   "execution_count": null,
   "metadata": {},
   "outputs": [],
   "source": []
  }
 ],
 "metadata": {
  "kernelspec": {
   "display_name": "Python 3",
   "language": "python",
   "name": "python3"
  },
  "language_info": {
   "codemirror_mode": {
    "name": "ipython",
    "version": 3
   },
   "file_extension": ".py",
   "mimetype": "text/x-python",
   "name": "python",
   "nbconvert_exporter": "python",
   "pygments_lexer": "ipython3",
   "version": "3.8.8"
  }
 },
 "nbformat": 4,
 "nbformat_minor": 4
}
