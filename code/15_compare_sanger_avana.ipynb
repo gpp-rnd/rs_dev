{
 "cells": [
  {
   "cell_type": "code",
   "execution_count": 26,
   "metadata": {
    "collapsed": true
   },
   "outputs": [],
   "source": [
    "import pandas as pd\n",
    "import poola.core as pool\n",
    "import seaborn as sns\n",
    "import matplotlib.pyplot as plt\n",
    "import gpplot"
   ]
  },
  {
   "cell_type": "code",
   "execution_count": 5,
   "outputs": [
    {
     "name": "stderr",
     "output_type": "stream",
     "text": [
      "/Users/pdeweird/.conda/envs/rs_dev/lib/python3.8/site-packages/IPython/core/interactiveshell.py:3165: DtypeWarning: Columns (30,31,32,33,34,35,36,37,38,39,40,41,42,43,44,45) have mixed types.Specify dtype option on import or set low_memory=False.\n",
      "  has_raised = await self.run_ast_nodes(code_ast.body, cell_name,\n",
      "/Users/pdeweird/.conda/envs/rs_dev/lib/python3.8/site-packages/IPython/core/interactiveshell.py:3165: DtypeWarning: Columns (8) have mixed types.Specify dtype option on import or set low_memory=False.\n",
      "  has_raised = await self.run_ast_nodes(code_ast.body, cell_name,\n"
     ]
    }
   ],
   "source": [
    "aguirre_data = pd.read_csv('../data/interim/Aguirre2017_condition_lfcs.csv')\n",
    "behan_data = pd.read_csv('../data/interim/Behan2019_condition_lfcs.csv')\n",
    "essential_genes = pd.read_table('https://raw.githubusercontent.com/gpp-rnd/genesets/master/human/essential-genes-Hart2015.txt',\n",
    "                                names=['gene'])\n",
    "nonessential_genes = pd.read_table('https://raw.githubusercontent.com/gpp-rnd/genesets/master/human/non-essential-genes-Hart2014.txt',\n",
    "                                    names=['gene'])"
   ],
   "metadata": {
    "collapsed": false,
    "pycharm": {
     "name": "#%%\n"
    }
   }
  },
  {
   "cell_type": "code",
   "execution_count": 11,
   "outputs": [],
   "source": [
    "aguirre_sgs = pd.Series(aguirre_data['sgRNA Sequence'].unique())\n",
    "behan_sgs = pd.Series(behan_data['sgRNA Sequence'].unique())\n",
    "overlapping_sgs = aguirre_sgs[aguirre_sgs.isin(behan_sgs)]\n",
    "overlapping_cols = ['sgRNA Sequence', 'sgRNA Context Sequence',\n",
    "                    'Target Gene Symbol']\n",
    "dependent_cols = ['avg_lfc', 'condition']\n",
    "filtered_aguirre = aguirre_data.loc[aguirre_data['sgRNA Sequence'].isin(overlapping_sgs),\n",
    "                                    overlapping_cols + dependent_cols]\n",
    "aguirre_roc_aucs, _ = pool.get_roc_aucs(lfcs=filtered_aguirre, tp_genes=essential_genes.gene,\n",
    "                                        fp_genes=nonessential_genes.gene, gene_col='Target Gene Symbol',\n",
    "                                        score_col='avg_lfc', condition_col='condition')\n",
    "filtered_behan = behan_data.loc[behan_data['sgRNA Sequence'].isin(overlapping_sgs),\n",
    "                                overlapping_cols + dependent_cols]\n",
    "behan_roc_aucs, _ = pool.get_roc_aucs(lfcs=filtered_behan, tp_genes=essential_genes.gene,\n",
    "                                      fp_genes=nonessential_genes.gene, gene_col='Target Gene Symbol',\n",
    "                                      score_col='avg_lfc', condition_col='condition')"
   ],
   "metadata": {
    "collapsed": false,
    "pycharm": {
     "name": "#%%\n"
    }
   }
  },
  {
   "cell_type": "code",
   "execution_count": 30,
   "outputs": [
    {
     "name": "stdout",
     "output_type": "stream",
     "text": [
      "Nonessential: 510\n",
      "Essential: 918\n"
     ]
    }
   ],
   "source": [
    "sg_types = filtered_aguirre[overlapping_cols].drop_duplicates()\n",
    "sg_types['noness'] = sg_types['Target Gene Symbol'].isin(nonessential_genes.gene)\n",
    "print('Nonessential: ' + str(sg_types['noness'].sum()))\n",
    "sg_types['ess'] = sg_types['Target Gene Symbol'].isin(essential_genes.gene)\n",
    "print('Essential: ' + str(sg_types['ess'].sum()))"
   ],
   "metadata": {
    "collapsed": false,
    "pycharm": {
     "name": "#%%\n"
    }
   }
  },
  {
   "cell_type": "code",
   "execution_count": 20,
   "outputs": [],
   "source": [
    "behan_roc_aucs['dataset'] = 'Behan2019 (n = ' + str(int(behan_roc_aucs.shape[0])) + ')'\n",
    "aguirre_roc_aucs['dataset'] = 'Aguirre2017 (n =' + str(int(aguirre_roc_aucs.shape[0])) + ')'\n",
    "long_roc_aucs = pd.concat([behan_roc_aucs, aguirre_roc_aucs])"
   ],
   "metadata": {
    "collapsed": false,
    "pycharm": {
     "name": "#%%\n"
    }
   }
  },
  {
   "cell_type": "code",
   "execution_count": 28,
   "outputs": [
    {
     "data": {
      "text/plain": "<Figure size 432x288 with 1 Axes>",
      "image/png": "[encoded data removed]"
     },
     "metadata": {
      "needs_background": "light"
     },
     "output_type": "display_data"
    }
   ],
   "source": [
    "sns.boxplot(data=long_roc_aucs, y='dataset', x='ROC-AUC')\n",
    "sns.despine()\n",
    "plt.title('ROC-AUC for Overlapping sgRNAs')\n",
    "plt.xlabel('Cell Line ROC-AUC')\n",
    "plt.ylabel('')\n",
    "gpplot.savefig('../figures/Behan_Aguirre_ROCAUC.png', dpi=300)"
   ],
   "metadata": {
    "collapsed": false,
    "pycharm": {
     "name": "#%%\n"
    }
   }
  },
  {
   "cell_type": "code",
   "execution_count": null,
   "outputs": [],
   "source": [],
   "metadata": {
    "collapsed": false,
    "pycharm": {
     "name": "#%%\n"
    }
   }
  }
 ],
 "metadata": {
  "kernelspec": {
   "display_name": "Python 3",
   "language": "python",
   "name": "python3"
  },
  "language_info": {
   "codemirror_mode": {
    "name": "ipython",
    "version": 2
   },
   "file_extension": ".py",
   "mimetype": "text/x-python",
   "name": "python",
   "nbconvert_exporter": "python",
   "pygments_lexer": "ipython2",
   "version": "2.7.6"
  }
 },
 "nbformat": 4,
 "nbformat_minor": 0
}