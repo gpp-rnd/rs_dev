{
 "cells": [
  {
   "cell_type": "markdown",
   "id": "de4526c9",
   "metadata": {
    "id": "HWrOgnjwlShF"
   },
   "source": [
    "# Build Sequence Model\n",
    "\n",
    "Before running this model, be sure to copy activity data, train_data_names.csv, core.py, datasets_colab.py"
   ]
  },
  {
   "cell_type": "code",
   "execution_count": 1,
   "id": "0c6458bd",
   "metadata": {
    "colab": {
     "base_uri": "https://localhost:8080/"
    },
    "id": "nYvjNnzalShU",
    "outputId": "970bd07d-c7d1-4c68-b804-c2551d96f45f",
    "pycharm": {
     "name": "#%%\n"
    }
   },
   "outputs": [
    {
     "name": "stdout",
     "output_type": "stream",
     "text": [
      "Wed Jun  9 17:34:06 2021       \n",
      "+-----------------------------------------------------------------------------+\n",
      "| NVIDIA-SMI 450.80.02    Driver Version: 450.80.02    CUDA Version: 11.0     |\n",
      "|-------------------------------+----------------------+----------------------+\n",
      "| GPU  Name        Persistence-M| Bus-Id        Disp.A | Volatile Uncorr. ECC |\n",
      "| Fan  Temp  Perf  Pwr:Usage/Cap|         Memory-Usage | GPU-Util  Compute M. |\n",
      "|                               |                      |               MIG M. |\n",
      "|===============================+======================+======================|\n",
      "|   0  Tesla K80           Off  | 00000000:00:04.0 Off |                    0 |\n",
      "| N/A   73C    P0    75W / 149W |      0MiB / 11441MiB |    100%      Default |\n",
      "|                               |                      |                  N/A |\n",
      "+-------------------------------+----------------------+----------------------+\n",
      "                                                                               \n",
      "+-----------------------------------------------------------------------------+\n",
      "| Processes:                                                                  |\n",
      "|  GPU   GI   CI        PID   Type   Process name                  GPU Memory |\n",
      "|        ID   ID                                                   Usage      |\n",
      "|=============================================================================|\n",
      "|  No running processes found                                                 |\n",
      "+-----------------------------------------------------------------------------+\n"
     ]
    }
   ],
   "source": [
    "gpu_info = !nvidia-smi\n",
    "gpu_info = '\\n'.join(gpu_info)\n",
    "if gpu_info.find('failed') >= 0:\n",
    "  print('Select the Runtime > \"Change runtime type\" menu to enable a GPU accelerator, ')\n",
    "  print('and then re-execute this cell.')\n",
    "else:\n",
    "  print(gpu_info)"
   ]
  },
  {
   "cell_type": "code",
   "execution_count": 2,
   "id": "f8584643",
   "metadata": {
    "colab": {
     "base_uri": "https://localhost:8080/"
    },
    "id": "NVy-m42elShV",
    "outputId": "4bda7164-ebba-47a7-8afb-9142e0a0b16c",
    "pycharm": {
     "name": "#%%\n"
    }
   },
   "outputs": [
    {
     "name": "stdout",
     "output_type": "stream",
     "text": [
      "4\n"
     ]
    }
   ],
   "source": [
    "import multiprocessing\n",
    "n_cpus = multiprocessing.cpu_count()\n",
    "print(n_cpus)"
   ]
  },
  {
   "cell_type": "code",
   "execution_count": 3,
   "id": "6a10b4f5",
   "metadata": {
    "colab": {
     "base_uri": "https://localhost:8080/"
    },
    "id": "6rxzwW1OlShV",
    "outputId": "c0eff662-9454-4f18-ef60-f44fa23b55c9",
    "pycharm": {
     "name": "#%%\n"
    }
   },
   "outputs": [
    {
     "name": "stdout",
     "output_type": "stream",
     "text": [
      "Looking in indexes: https://pypi.org/simple, https://pypi.anaconda.org/scipy-wheels-nightly/simple\n",
      "Requirement already satisfied: scikit-learn in /opt/conda/lib/python3.7/site-packages (1.0.dev0)\n",
      "Requirement already satisfied: numpy>=1.14.6 in /opt/conda/lib/python3.7/site-packages (from scikit-learn) (1.19.5)\n",
      "Requirement already satisfied: threadpoolctl>=2.0.0 in /opt/conda/lib/python3.7/site-packages (from scikit-learn) (2.1.0)\n",
      "Requirement already satisfied: scipy>=1.1.0 in /opt/conda/lib/python3.7/site-packages (from scikit-learn) (1.6.3)\n",
      "Requirement already satisfied: joblib>=0.11 in /opt/conda/lib/python3.7/site-packages (from scikit-learn) (1.0.1)\n",
      "Requirement already satisfied: optuna in /opt/conda/lib/python3.7/site-packages (2.8.0)\n",
      "Requirement already satisfied: scipy!=1.4.0 in /opt/conda/lib/python3.7/site-packages (from optuna) (1.6.3)\n",
      "Requirement already satisfied: alembic in /opt/conda/lib/python3.7/site-packages (from optuna) (1.6.5)\n",
      "Requirement already satisfied: sqlalchemy>=1.1.0 in /opt/conda/lib/python3.7/site-packages (from optuna) (1.4.15)\n",
      "Requirement already satisfied: numpy in /opt/conda/lib/python3.7/site-packages (from optuna) (1.19.5)\n",
      "Requirement already satisfied: tqdm in /opt/conda/lib/python3.7/site-packages (from optuna) (4.61.0)\n",
      "Requirement already satisfied: cmaes>=0.8.2 in /opt/conda/lib/python3.7/site-packages (from optuna) (0.8.2)\n",
      "Requirement already satisfied: colorlog in /opt/conda/lib/python3.7/site-packages (from optuna) (5.0.1)\n",
      "Requirement already satisfied: packaging>=20.0 in /opt/conda/lib/python3.7/site-packages (from optuna) (20.9)\n",
      "Requirement already satisfied: cliff in /opt/conda/lib/python3.7/site-packages (from optuna) (3.8.0)\n",
      "Requirement already satisfied: pyparsing>=2.0.2 in /opt/conda/lib/python3.7/site-packages (from packaging>=20.0->optuna) (2.4.7)\n",
      "Requirement already satisfied: importlib-metadata in /opt/conda/lib/python3.7/site-packages (from sqlalchemy>=1.1.0->optuna) (4.2.0)\n",
      "Requirement already satisfied: greenlet!=0.4.17 in /opt/conda/lib/python3.7/site-packages (from sqlalchemy>=1.1.0->optuna) (1.1.0)\n",
      "Requirement already satisfied: Mako in /opt/conda/lib/python3.7/site-packages (from alembic->optuna) (1.1.4)\n",
      "Requirement already satisfied: python-dateutil in /opt/conda/lib/python3.7/site-packages (from alembic->optuna) (2.8.1)\n",
      "Requirement already satisfied: python-editor>=0.3 in /opt/conda/lib/python3.7/site-packages (from alembic->optuna) (1.0.4)\n",
      "Requirement already satisfied: cmd2>=1.0.0 in /opt/conda/lib/python3.7/site-packages (from cliff->optuna) (2.0.1)\n",
      "Requirement already satisfied: PrettyTable>=0.7.2 in /opt/conda/lib/python3.7/site-packages (from cliff->optuna) (2.1.0)\n",
      "Requirement already satisfied: PyYAML>=3.12 in /opt/conda/lib/python3.7/site-packages (from cliff->optuna) (5.4.1)\n",
      "Requirement already satisfied: pbr!=2.1.0,>=2.0.0 in /opt/conda/lib/python3.7/site-packages (from cliff->optuna) (5.6.0)\n",
      "Requirement already satisfied: stevedore>=2.0.1 in /opt/conda/lib/python3.7/site-packages (from cliff->optuna) (3.3.0)\n",
      "Requirement already satisfied: attrs>=16.3.0 in /opt/conda/lib/python3.7/site-packages (from cmd2>=1.0.0->cliff->optuna) (21.2.0)\n",
      "Requirement already satisfied: pyperclip>=1.6 in /opt/conda/lib/python3.7/site-packages (from cmd2>=1.0.0->cliff->optuna) (1.8.2)\n",
      "Requirement already satisfied: typing-extensions in /opt/conda/lib/python3.7/site-packages (from cmd2>=1.0.0->cliff->optuna) (3.7.4.3)\n",
      "Requirement already satisfied: wcwidth>=0.1.7 in /opt/conda/lib/python3.7/site-packages (from cmd2>=1.0.0->cliff->optuna) (0.2.5)\n",
      "Requirement already satisfied: colorama>=0.3.7 in /opt/conda/lib/python3.7/site-packages (from cmd2>=1.0.0->cliff->optuna) (0.4.4)\n",
      "Requirement already satisfied: zipp>=0.5 in /opt/conda/lib/python3.7/site-packages (from importlib-metadata->sqlalchemy>=1.1.0->optuna) (3.4.1)\n",
      "Requirement already satisfied: MarkupSafe>=0.9.2 in /opt/conda/lib/python3.7/site-packages (from Mako->alembic->optuna) (1.1.1)\n",
      "Requirement already satisfied: six>=1.5 in /opt/conda/lib/python3.7/site-packages (from python-dateutil->alembic->optuna) (1.16.0)\n",
      "Requirement already satisfied: plotnine in /opt/conda/lib/python3.7/site-packages (0.8.0)\n",
      "Requirement already satisfied: mizani>=0.7.3 in /opt/conda/lib/python3.7/site-packages (from plotnine) (0.7.3)\n",
      "Requirement already satisfied: statsmodels>=0.12.1 in /opt/conda/lib/python3.7/site-packages (from plotnine) (0.12.2)\n",
      "Requirement already satisfied: descartes>=1.1.0 in /opt/conda/lib/python3.7/site-packages (from plotnine) (1.1.0)\n",
      "Requirement already satisfied: matplotlib>=3.1.1 in /opt/conda/lib/python3.7/site-packages (from plotnine) (3.4.2)\n",
      "Requirement already satisfied: numpy>=1.19.0 in /opt/conda/lib/python3.7/site-packages (from plotnine) (1.19.5)\n",
      "Requirement already satisfied: pandas>=1.1.0 in /opt/conda/lib/python3.7/site-packages (from plotnine) (1.2.4)\n",
      "Requirement already satisfied: patsy>=0.5.1 in /opt/conda/lib/python3.7/site-packages (from plotnine) (0.5.1)\n",
      "Requirement already satisfied: scipy>=1.5.0 in /opt/conda/lib/python3.7/site-packages (from plotnine) (1.6.3)\n",
      "Requirement already satisfied: pillow>=6.2.0 in /opt/conda/lib/python3.7/site-packages (from matplotlib>=3.1.1->plotnine) (8.2.0)\n",
      "Requirement already satisfied: kiwisolver>=1.0.1 in /opt/conda/lib/python3.7/site-packages (from matplotlib>=3.1.1->plotnine) (1.3.1)\n",
      "Requirement already satisfied: cycler>=0.10 in /opt/conda/lib/python3.7/site-packages (from matplotlib>=3.1.1->plotnine) (0.10.0)\n",
      "Requirement already satisfied: python-dateutil>=2.7 in /opt/conda/lib/python3.7/site-packages (from matplotlib>=3.1.1->plotnine) (2.8.1)\n",
      "Requirement already satisfied: pyparsing>=2.2.1 in /opt/conda/lib/python3.7/site-packages (from matplotlib>=3.1.1->plotnine) (2.4.7)\n",
      "Requirement already satisfied: six in /opt/conda/lib/python3.7/site-packages (from cycler>=0.10->matplotlib>=3.1.1->plotnine) (1.16.0)\n",
      "Requirement already satisfied: palettable in /opt/conda/lib/python3.7/site-packages (from mizani>=0.7.3->plotnine) (3.3.0)\n",
      "Requirement already satisfied: pytz>=2017.3 in /opt/conda/lib/python3.7/site-packages (from pandas>=1.1.0->plotnine) (2021.1)\n",
      "Requirement already satisfied: gpplot in /opt/conda/lib/python3.7/site-packages (0.5.0)\n",
      "Requirement already satisfied: matplotlib>=3.2 in /opt/conda/lib/python3.7/site-packages (from gpplot) (3.4.2)\n",
      "Requirement already satisfied: pandas>=1.0 in /opt/conda/lib/python3.7/site-packages (from gpplot) (1.2.4)\n",
      "Requirement already satisfied: seaborn>=0.10 in /opt/conda/lib/python3.7/site-packages (from gpplot) (0.11.1)\n",
      "Requirement already satisfied: scipy>=1.5 in /opt/conda/lib/python3.7/site-packages (from gpplot) (1.6.3)\n",
      "Requirement already satisfied: adjustText>=0.7 in /opt/conda/lib/python3.7/site-packages (from gpplot) (0.7.3)\n",
      "Requirement already satisfied: numpy>=1.19 in /opt/conda/lib/python3.7/site-packages (from gpplot) (1.19.5)\n",
      "Requirement already satisfied: pillow>=6.2.0 in /opt/conda/lib/python3.7/site-packages (from matplotlib>=3.2->gpplot) (8.2.0)\n",
      "Requirement already satisfied: pyparsing>=2.2.1 in /opt/conda/lib/python3.7/site-packages (from matplotlib>=3.2->gpplot) (2.4.7)\n",
      "Requirement already satisfied: kiwisolver>=1.0.1 in /opt/conda/lib/python3.7/site-packages (from matplotlib>=3.2->gpplot) (1.3.1)\n",
      "Requirement already satisfied: cycler>=0.10 in /opt/conda/lib/python3.7/site-packages (from matplotlib>=3.2->gpplot) (0.10.0)\n",
      "Requirement already satisfied: python-dateutil>=2.7 in /opt/conda/lib/python3.7/site-packages (from matplotlib>=3.2->gpplot) (2.8.1)\n",
      "Requirement already satisfied: six in /opt/conda/lib/python3.7/site-packages (from cycler>=0.10->matplotlib>=3.2->gpplot) (1.16.0)\n",
      "Requirement already satisfied: pytz>=2017.3 in /opt/conda/lib/python3.7/site-packages (from pandas>=1.0->gpplot) (2021.1)\n"
     ]
    }
   ],
   "source": [
    "!pip install -U --pre --extra-index https://pypi.anaconda.org/scipy-wheels-nightly/simple scikit-learn\n",
    "!pip install optuna\n",
    "!pip install plotnine\n",
    "!pip install gpplot"
   ]
  },
  {
   "cell_type": "code",
   "execution_count": 4,
   "id": "be028258",
   "metadata": {
    "id": "K1zA_pMIlShW",
    "pycharm": {
     "name": "#%%\n"
    }
   },
   "outputs": [],
   "source": [
    "import pandas as pd\n",
    "from sklearn.model_selection import StratifiedGroupKFold, train_test_split\n",
    "from sklearn.base import clone\n",
    "from sklearn.metrics import r2_score\n",
    "import optuna\n",
    "import numpy as np\n",
    "from tensorflow import keras\n",
    "\n",
    "\n",
    "from datetime import datetime\n",
    "\n",
    "from datasets import dataset_list\n",
    "from core import (get_predictive_performance,\n",
    "                  plot_spearman_heatmap,\n",
    "                  plot_model_performance,\n",
    "                  setup_plots)"
   ]
  },
  {
   "cell_type": "code",
   "execution_count": 5,
   "id": "31d0d585",
   "metadata": {
    "id": "iHgmMUzzlShW",
    "pycharm": {
     "name": "#%%\n"
    }
   },
   "outputs": [],
   "source": [
    "setup_plots()"
   ]
  },
  {
   "cell_type": "code",
   "execution_count": 6,
   "id": "2d0eff7d",
   "metadata": {
    "id": "liiYafxhlShX",
    "pycharm": {
     "name": "#%%\n"
    }
   },
   "outputs": [],
   "source": [
    "train_data_names = pd.read_csv('../data/processed/train_data_names.csv').name.to_list()"
   ]
  },
  {
   "cell_type": "code",
   "execution_count": 7,
   "id": "c6ebe555",
   "metadata": {
    "id": "eAsIppfLlShX",
    "pycharm": {
     "name": "#%%\n"
    }
   },
   "outputs": [],
   "source": [
    "train_data_list = list()\n",
    "for ds in dataset_list:\n",
    "    if ds.name in train_data_names:\n",
    "        train_data_list.append(ds)\n",
    "\n",
    "for ds in train_data_list:\n",
    "    ds.load_data()\n",
    "    ds.set_sgrnas()"
   ]
  },
  {
   "cell_type": "markdown",
   "id": "185298c8",
   "metadata": {
    "id": "W7pIn5SqlShX"
   },
   "source": [
    "## Cross-Validation Iterator"
   ]
  },
  {
   "cell_type": "code",
   "execution_count": 8,
   "id": "6f2e35a9",
   "metadata": {
    "colab": {
     "base_uri": "https://localhost:8080/"
    },
    "id": "foJeiaw7lShX",
    "outputId": "baf34129-8163-4d71-b091-2380d1cf919e",
    "pycharm": {
     "name": "#%%\n"
    }
   },
   "outputs": [
    {
     "name": "stdout",
     "output_type": "stream",
     "text": [
      "Context sequences with multiple targets: 0\n"
     ]
    }
   ],
   "source": [
    "sg_df_list = []\n",
    "for ds in train_data_list:\n",
    "    sg_df = ds.get_sg_df(include_group=True, include_activity=True)\n",
    "    sg_df['dataset'] = ds.name\n",
    "    sg_df_list.append(sg_df)\n",
    "sg_df_groups = (pd.concat(sg_df_list)\n",
    "                .groupby(['sgRNA Context Sequence'])\n",
    "                .agg(n_conditions = ('sgRNA Context Sequence', 'count'),\n",
    "                     target = ('sgRNA Target', lambda x: ', '.join(set([s.upper() for s in x if not pd.isna(s)]))))\n",
    "                .reset_index())\n",
    "multi_target = sg_df_groups['target'].str.contains(',').sum()\n",
    "print('Context sequences with multiple targets: ' + str(multi_target))"
   ]
  },
  {
   "cell_type": "code",
   "execution_count": 9,
   "id": "58242e7b",
   "metadata": {
    "colab": {
     "base_uri": "https://localhost:8080/",
     "height": 1000
    },
    "id": "l3kppMqslShY",
    "outputId": "3450764d-3f5a-43b6-b081-b2c07351c9f4",
    "pycharm": {
     "name": "#%%\n"
    }
   },
   "outputs": [
    {
     "data": {
      "text/html": [
       "<div>\n",
       "<style scoped>\n",
       "    .dataframe tbody tr th:only-of-type {\n",
       "        vertical-align: middle;\n",
       "    }\n",
       "\n",
       "    .dataframe tbody tr th {\n",
       "        vertical-align: top;\n",
       "    }\n",
       "\n",
       "    .dataframe thead th {\n",
       "        text-align: right;\n",
       "    }\n",
       "</style>\n",
       "<table border=\"1\" class=\"dataframe\">\n",
       "  <thead>\n",
       "    <tr style=\"text-align: right;\">\n",
       "      <th></th>\n",
       "      <th>cv</th>\n",
       "      <th>train</th>\n",
       "      <th>dataset</th>\n",
       "      <th>n</th>\n",
       "    </tr>\n",
       "  </thead>\n",
       "  <tbody>\n",
       "    <tr>\n",
       "      <th>0</th>\n",
       "      <td>3</td>\n",
       "      <td>True</td>\n",
       "      <td>Kim2019_train</td>\n",
       "      <td>10939</td>\n",
       "    </tr>\n",
       "    <tr>\n",
       "      <th>1</th>\n",
       "      <td>4</td>\n",
       "      <td>True</td>\n",
       "      <td>Kim2019_train</td>\n",
       "      <td>10613</td>\n",
       "    </tr>\n",
       "    <tr>\n",
       "      <th>2</th>\n",
       "      <td>0</td>\n",
       "      <td>True</td>\n",
       "      <td>Kim2019_train</td>\n",
       "      <td>9958</td>\n",
       "    </tr>\n",
       "    <tr>\n",
       "      <th>3</th>\n",
       "      <td>1</td>\n",
       "      <td>True</td>\n",
       "      <td>Kim2019_train</td>\n",
       "      <td>9956</td>\n",
       "    </tr>\n",
       "    <tr>\n",
       "      <th>4</th>\n",
       "      <td>2</td>\n",
       "      <td>True</td>\n",
       "      <td>Kim2019_train</td>\n",
       "      <td>9862</td>\n",
       "    </tr>\n",
       "    <tr>\n",
       "      <th>5</th>\n",
       "      <td>0</td>\n",
       "      <td>True</td>\n",
       "      <td>Xiang2021</td>\n",
       "      <td>9183</td>\n",
       "    </tr>\n",
       "    <tr>\n",
       "      <th>6</th>\n",
       "      <td>1</td>\n",
       "      <td>True</td>\n",
       "      <td>Xiang2021</td>\n",
       "      <td>9137</td>\n",
       "    </tr>\n",
       "    <tr>\n",
       "      <th>7</th>\n",
       "      <td>4</td>\n",
       "      <td>True</td>\n",
       "      <td>Xiang2021</td>\n",
       "      <td>9137</td>\n",
       "    </tr>\n",
       "    <tr>\n",
       "      <th>8</th>\n",
       "      <td>2</td>\n",
       "      <td>True</td>\n",
       "      <td>Xiang2021</td>\n",
       "      <td>9068</td>\n",
       "    </tr>\n",
       "    <tr>\n",
       "      <th>9</th>\n",
       "      <td>3</td>\n",
       "      <td>True</td>\n",
       "      <td>Xiang2021</td>\n",
       "      <td>9063</td>\n",
       "    </tr>\n",
       "    <tr>\n",
       "      <th>10</th>\n",
       "      <td>2</td>\n",
       "      <td>False</td>\n",
       "      <td>Kim2019_train</td>\n",
       "      <td>2970</td>\n",
       "    </tr>\n",
       "    <tr>\n",
       "      <th>11</th>\n",
       "      <td>1</td>\n",
       "      <td>False</td>\n",
       "      <td>Kim2019_train</td>\n",
       "      <td>2876</td>\n",
       "    </tr>\n",
       "    <tr>\n",
       "      <th>12</th>\n",
       "      <td>0</td>\n",
       "      <td>False</td>\n",
       "      <td>Kim2019_train</td>\n",
       "      <td>2874</td>\n",
       "    </tr>\n",
       "    <tr>\n",
       "      <th>13</th>\n",
       "      <td>3</td>\n",
       "      <td>True</td>\n",
       "      <td>Doench2016</td>\n",
       "      <td>2536</td>\n",
       "    </tr>\n",
       "    <tr>\n",
       "      <th>14</th>\n",
       "      <td>1</td>\n",
       "      <td>True</td>\n",
       "      <td>Doench2016</td>\n",
       "      <td>2473</td>\n",
       "    </tr>\n",
       "    <tr>\n",
       "      <th>15</th>\n",
       "      <td>3</td>\n",
       "      <td>False</td>\n",
       "      <td>Xiang2021</td>\n",
       "      <td>2334</td>\n",
       "    </tr>\n",
       "    <tr>\n",
       "      <th>16</th>\n",
       "      <td>2</td>\n",
       "      <td>False</td>\n",
       "      <td>Xiang2021</td>\n",
       "      <td>2329</td>\n",
       "    </tr>\n",
       "    <tr>\n",
       "      <th>17</th>\n",
       "      <td>4</td>\n",
       "      <td>False</td>\n",
       "      <td>Xiang2021</td>\n",
       "      <td>2260</td>\n",
       "    </tr>\n",
       "    <tr>\n",
       "      <th>18</th>\n",
       "      <td>1</td>\n",
       "      <td>False</td>\n",
       "      <td>Xiang2021</td>\n",
       "      <td>2260</td>\n",
       "    </tr>\n",
       "    <tr>\n",
       "      <th>19</th>\n",
       "      <td>4</td>\n",
       "      <td>True</td>\n",
       "      <td>Doench2016</td>\n",
       "      <td>2232</td>\n",
       "    </tr>\n",
       "    <tr>\n",
       "      <th>20</th>\n",
       "      <td>4</td>\n",
       "      <td>False</td>\n",
       "      <td>Kim2019_train</td>\n",
       "      <td>2219</td>\n",
       "    </tr>\n",
       "    <tr>\n",
       "      <th>21</th>\n",
       "      <td>0</td>\n",
       "      <td>False</td>\n",
       "      <td>Xiang2021</td>\n",
       "      <td>2214</td>\n",
       "    </tr>\n",
       "    <tr>\n",
       "      <th>22</th>\n",
       "      <td>3</td>\n",
       "      <td>False</td>\n",
       "      <td>Kim2019_train</td>\n",
       "      <td>1893</td>\n",
       "    </tr>\n",
       "    <tr>\n",
       "      <th>23</th>\n",
       "      <td>0</td>\n",
       "      <td>True</td>\n",
       "      <td>Doench2016</td>\n",
       "      <td>1612</td>\n",
       "    </tr>\n",
       "    <tr>\n",
       "      <th>24</th>\n",
       "      <td>2</td>\n",
       "      <td>True</td>\n",
       "      <td>Doench2016</td>\n",
       "      <td>1291</td>\n",
       "    </tr>\n",
       "    <tr>\n",
       "      <th>25</th>\n",
       "      <td>2</td>\n",
       "      <td>False</td>\n",
       "      <td>Doench2016</td>\n",
       "      <td>1245</td>\n",
       "    </tr>\n",
       "    <tr>\n",
       "      <th>26</th>\n",
       "      <td>3</td>\n",
       "      <td>True</td>\n",
       "      <td>Doench2014_mouse</td>\n",
       "      <td>1169</td>\n",
       "    </tr>\n",
       "    <tr>\n",
       "      <th>27</th>\n",
       "      <td>2</td>\n",
       "      <td>True</td>\n",
       "      <td>Doench2014_mouse</td>\n",
       "      <td>1090</td>\n",
       "    </tr>\n",
       "    <tr>\n",
       "      <th>28</th>\n",
       "      <td>2</td>\n",
       "      <td>True</td>\n",
       "      <td>Doench2014_human</td>\n",
       "      <td>995</td>\n",
       "    </tr>\n",
       "    <tr>\n",
       "      <th>29</th>\n",
       "      <td>4</td>\n",
       "      <td>True</td>\n",
       "      <td>Doench2014_human</td>\n",
       "      <td>995</td>\n",
       "    </tr>\n",
       "    <tr>\n",
       "      <th>30</th>\n",
       "      <td>3</td>\n",
       "      <td>True</td>\n",
       "      <td>Doench2014_human</td>\n",
       "      <td>995</td>\n",
       "    </tr>\n",
       "    <tr>\n",
       "      <th>31</th>\n",
       "      <td>0</td>\n",
       "      <td>False</td>\n",
       "      <td>Doench2016</td>\n",
       "      <td>924</td>\n",
       "    </tr>\n",
       "    <tr>\n",
       "      <th>32</th>\n",
       "      <td>4</td>\n",
       "      <td>True</td>\n",
       "      <td>Doench2014_mouse</td>\n",
       "      <td>918</td>\n",
       "    </tr>\n",
       "    <tr>\n",
       "      <th>33</th>\n",
       "      <td>4</td>\n",
       "      <td>True</td>\n",
       "      <td>Wang2014</td>\n",
       "      <td>857</td>\n",
       "    </tr>\n",
       "    <tr>\n",
       "      <th>34</th>\n",
       "      <td>2</td>\n",
       "      <td>True</td>\n",
       "      <td>Wang2014</td>\n",
       "      <td>855</td>\n",
       "    </tr>\n",
       "    <tr>\n",
       "      <th>35</th>\n",
       "      <td>0</td>\n",
       "      <td>True</td>\n",
       "      <td>Wang2014</td>\n",
       "      <td>851</td>\n",
       "    </tr>\n",
       "    <tr>\n",
       "      <th>36</th>\n",
       "      <td>1</td>\n",
       "      <td>False</td>\n",
       "      <td>Doench2014_human</td>\n",
       "      <td>828</td>\n",
       "    </tr>\n",
       "    <tr>\n",
       "      <th>37</th>\n",
       "      <td>0</td>\n",
       "      <td>True</td>\n",
       "      <td>Doench2014_human</td>\n",
       "      <td>828</td>\n",
       "    </tr>\n",
       "    <tr>\n",
       "      <th>38</th>\n",
       "      <td>0</td>\n",
       "      <td>True</td>\n",
       "      <td>Doench2014_mouse</td>\n",
       "      <td>815</td>\n",
       "    </tr>\n",
       "    <tr>\n",
       "      <th>39</th>\n",
       "      <td>3</td>\n",
       "      <td>True</td>\n",
       "      <td>Wang2014</td>\n",
       "      <td>804</td>\n",
       "    </tr>\n",
       "    <tr>\n",
       "      <th>40</th>\n",
       "      <td>1</td>\n",
       "      <td>True</td>\n",
       "      <td>Wang2014</td>\n",
       "      <td>721</td>\n",
       "    </tr>\n",
       "    <tr>\n",
       "      <th>41</th>\n",
       "      <td>1</td>\n",
       "      <td>True</td>\n",
       "      <td>Doench2014_mouse</td>\n",
       "      <td>684</td>\n",
       "    </tr>\n",
       "    <tr>\n",
       "      <th>42</th>\n",
       "      <td>1</td>\n",
       "      <td>False</td>\n",
       "      <td>Doench2014_mouse</td>\n",
       "      <td>485</td>\n",
       "    </tr>\n",
       "    <tr>\n",
       "      <th>43</th>\n",
       "      <td>0</td>\n",
       "      <td>False</td>\n",
       "      <td>Doench2014_mouse</td>\n",
       "      <td>354</td>\n",
       "    </tr>\n",
       "    <tr>\n",
       "      <th>44</th>\n",
       "      <td>4</td>\n",
       "      <td>False</td>\n",
       "      <td>Doench2016</td>\n",
       "      <td>304</td>\n",
       "    </tr>\n",
       "    <tr>\n",
       "      <th>45</th>\n",
       "      <td>1</td>\n",
       "      <td>False</td>\n",
       "      <td>Wang2014</td>\n",
       "      <td>301</td>\n",
       "    </tr>\n",
       "    <tr>\n",
       "      <th>46</th>\n",
       "      <td>4</td>\n",
       "      <td>False</td>\n",
       "      <td>Doench2014_mouse</td>\n",
       "      <td>251</td>\n",
       "    </tr>\n",
       "    <tr>\n",
       "      <th>47</th>\n",
       "      <td>3</td>\n",
       "      <td>False</td>\n",
       "      <td>Wang2014</td>\n",
       "      <td>218</td>\n",
       "    </tr>\n",
       "    <tr>\n",
       "      <th>48</th>\n",
       "      <td>0</td>\n",
       "      <td>False</td>\n",
       "      <td>Wang2014</td>\n",
       "      <td>171</td>\n",
       "    </tr>\n",
       "    <tr>\n",
       "      <th>49</th>\n",
       "      <td>0</td>\n",
       "      <td>False</td>\n",
       "      <td>Doench2014_human</td>\n",
       "      <td>167</td>\n",
       "    </tr>\n",
       "    <tr>\n",
       "      <th>50</th>\n",
       "      <td>1</td>\n",
       "      <td>True</td>\n",
       "      <td>Doench2014_human</td>\n",
       "      <td>167</td>\n",
       "    </tr>\n",
       "    <tr>\n",
       "      <th>51</th>\n",
       "      <td>2</td>\n",
       "      <td>False</td>\n",
       "      <td>Wang2014</td>\n",
       "      <td>167</td>\n",
       "    </tr>\n",
       "    <tr>\n",
       "      <th>52</th>\n",
       "      <td>4</td>\n",
       "      <td>False</td>\n",
       "      <td>Wang2014</td>\n",
       "      <td>165</td>\n",
       "    </tr>\n",
       "    <tr>\n",
       "      <th>53</th>\n",
       "      <td>2</td>\n",
       "      <td>False</td>\n",
       "      <td>Doench2014_mouse</td>\n",
       "      <td>79</td>\n",
       "    </tr>\n",
       "    <tr>\n",
       "      <th>54</th>\n",
       "      <td>1</td>\n",
       "      <td>False</td>\n",
       "      <td>Doench2016</td>\n",
       "      <td>63</td>\n",
       "    </tr>\n",
       "  </tbody>\n",
       "</table>\n",
       "</div>"
      ],
      "text/plain": [
       "    cv  train           dataset      n\n",
       "0    3   True     Kim2019_train  10939\n",
       "1    4   True     Kim2019_train  10613\n",
       "2    0   True     Kim2019_train   9958\n",
       "3    1   True     Kim2019_train   9956\n",
       "4    2   True     Kim2019_train   9862\n",
       "5    0   True         Xiang2021   9183\n",
       "6    1   True         Xiang2021   9137\n",
       "7    4   True         Xiang2021   9137\n",
       "8    2   True         Xiang2021   9068\n",
       "9    3   True         Xiang2021   9063\n",
       "10   2  False     Kim2019_train   2970\n",
       "11   1  False     Kim2019_train   2876\n",
       "12   0  False     Kim2019_train   2874\n",
       "13   3   True        Doench2016   2536\n",
       "14   1   True        Doench2016   2473\n",
       "15   3  False         Xiang2021   2334\n",
       "16   2  False         Xiang2021   2329\n",
       "17   4  False         Xiang2021   2260\n",
       "18   1  False         Xiang2021   2260\n",
       "19   4   True        Doench2016   2232\n",
       "20   4  False     Kim2019_train   2219\n",
       "21   0  False         Xiang2021   2214\n",
       "22   3  False     Kim2019_train   1893\n",
       "23   0   True        Doench2016   1612\n",
       "24   2   True        Doench2016   1291\n",
       "25   2  False        Doench2016   1245\n",
       "26   3   True  Doench2014_mouse   1169\n",
       "27   2   True  Doench2014_mouse   1090\n",
       "28   2   True  Doench2014_human    995\n",
       "29   4   True  Doench2014_human    995\n",
       "30   3   True  Doench2014_human    995\n",
       "31   0  False        Doench2016    924\n",
       "32   4   True  Doench2014_mouse    918\n",
       "33   4   True          Wang2014    857\n",
       "34   2   True          Wang2014    855\n",
       "35   0   True          Wang2014    851\n",
       "36   1  False  Doench2014_human    828\n",
       "37   0   True  Doench2014_human    828\n",
       "38   0   True  Doench2014_mouse    815\n",
       "39   3   True          Wang2014    804\n",
       "40   1   True          Wang2014    721\n",
       "41   1   True  Doench2014_mouse    684\n",
       "42   1  False  Doench2014_mouse    485\n",
       "43   0  False  Doench2014_mouse    354\n",
       "44   4  False        Doench2016    304\n",
       "45   1  False          Wang2014    301\n",
       "46   4  False  Doench2014_mouse    251\n",
       "47   3  False          Wang2014    218\n",
       "48   0  False          Wang2014    171\n",
       "49   0  False  Doench2014_human    167\n",
       "50   1   True  Doench2014_human    167\n",
       "51   2  False          Wang2014    167\n",
       "52   4  False          Wang2014    165\n",
       "53   2  False  Doench2014_mouse     79\n",
       "54   1  False        Doench2016     63"
      ]
     },
     "execution_count": 9,
     "metadata": {},
     "output_type": "execute_result"
    }
   ],
   "source": [
    "# handle singleton case\n",
    "sg_df_groups['target'] = sg_df_groups.apply(lambda row:\n",
    "                                            row['target'] if (row['target'] != '') else row['sgRNA Context Sequence'],\n",
    "                                            axis=1)\n",
    "# Note that 'target' is not in the sg_df_list, and is coming from the sg_df_groups df\n",
    "sg_df_class_groups = (pd.concat(sg_df_list)\n",
    "                      .merge(sg_df_groups, how='inner', on='sgRNA Context Sequence')\n",
    "                      .sort_values(['dataset', 'target'])\n",
    "                      .reset_index(drop=True))\n",
    "sgkf = StratifiedGroupKFold(n_splits=5, shuffle=True, random_state=7)\n",
    "tidy_cv_list = []\n",
    "for i, (train_index, test_index) in enumerate(sgkf.split(sg_df_class_groups, sg_df_class_groups.dataset,\n",
    "                                                         sg_df_class_groups.target)):\n",
    "    train_df = sg_df_class_groups.iloc[train_index,:].copy()\n",
    "    train_df['cv'] = i\n",
    "    train_df['train'] = True\n",
    "    tidy_cv_list.append(train_df)\n",
    "    test_df = sg_df_class_groups.iloc[test_index,:].copy()\n",
    "    test_df['cv'] = i\n",
    "    test_df['train'] = False\n",
    "    tidy_cv_list.append(test_df)\n",
    "tidy_cv_df = pd.concat(tidy_cv_list)\n",
    "cv_train_data_counts = (tidy_cv_df[['cv', 'train', 'dataset']].value_counts()\n",
    "                        .reset_index(name='n'))\n",
    "cv_train_data_counts"
   ]
  },
  {
   "cell_type": "markdown",
   "id": "b34b40c0",
   "metadata": {
    "id": "9PpHNXd_lShY"
   },
   "source": [
    "## Keras Convolutional Neural Network"
   ]
  },
  {
   "cell_type": "code",
   "execution_count": 10,
   "id": "07918ab9",
   "metadata": {
    "id": "opEURQC6lShZ",
    "pycharm": {
     "name": "#%%\n"
    }
   },
   "outputs": [],
   "source": [
    "def get_cnn(n_conv_layers, filters_per_conv, filter_len,\n",
    "            nodes_per_dense, dense_dropout_rate, n_dense_layers=1,\n",
    "            input_shape=(30, 4), activation='relu', initializer='he_uniform',\n",
    "            pool_size=2, loss='mse', optimizer='Adam'):\n",
    "    model = keras.models.Sequential()\n",
    "    model.add(keras.layers.InputLayer(input_shape=input_shape))\n",
    "    for _ in range(n_conv_layers):\n",
    "        model.add(keras.layers.Conv1D(filters=filters_per_conv, kernel_size=filter_len,\n",
    "                                      activation=activation, kernel_initializer=initializer))\n",
    "        model.add(keras.layers.AveragePooling1D(pool_size=pool_size))\n",
    "    model.add(keras.layers.Flatten())\n",
    "    model.add(keras.layers.Dropout(dense_dropout_rate))\n",
    "    for _ in range(n_dense_layers):\n",
    "        model.add(keras.layers.Dense(nodes_per_dense, activation=activation, kernel_initializer=initializer))\n",
    "        model.add(keras.layers.Dropout(dense_dropout_rate))\n",
    "    model.add(keras.layers.Dense(1, activation='linear'))\n",
    "    model.compile(loss=loss, optimizer=optimizer)\n",
    "    return model\n",
    "\n",
    "\n",
    "nt_codes = {'A':[1,0,0,0],\n",
    "            'C':[0,1,0,0],\n",
    "            'G':[0,0,1,0],\n",
    "            'T':[0,0,0,1]}\n",
    "\n",
    "def encode_seqs(seqs):\n",
    "    # 3d array with samples x position x nt\n",
    "    encoded_seqs = np.array([[nt_codes.get(x) for x in seq] for seq in seqs])\n",
    "    return encoded_seqs\n",
    "\n",
    "\n",
    "def cnn_training_iteration(fold_df, train_index, test_index, base_model):\n",
    "    \"\"\"Train cnn model for optuna iterations\n",
    "\n",
    "    :param fold_df: DataFrame\n",
    "    :param train_index: list-like\n",
    "    :param test_index: list-like\n",
    "    :param base_model: KerasRegressor\n",
    "    :return: r^2\n",
    "    \"\"\"\n",
    "    train_df = fold_df.iloc[train_index,:].reset_index(drop=True)\n",
    "    train_val_seqs = train_df['sgRNA Context Sequence'] # train and validation data\n",
    "    y_train_val = train_df['sgRNA Activity']\n",
    "    train_seqs, val_seqs, y_train, y_val = train_test_split(train_val_seqs, y_train_val,\n",
    "                                                            test_size=0.1, random_state=7)\n",
    "    X_train = encode_seqs(train_seqs)\n",
    "    X_val = encode_seqs(val_seqs)\n",
    "    model = clone(base_model)\n",
    "    model.fit(X_train, y_train, verbose=0, validation_data=(X_val, y_val),\n",
    "              callbacks=[keras.callbacks.EarlyStopping(patience=20)])\n",
    "    test_df = fold_df.iloc[test_index,:].reset_index(drop=True)\n",
    "    X_test = encode_seqs(test_df['sgRNA Context Sequence'])\n",
    "    test_predictions = test_df.copy()\n",
    "    test_predictions['prediction'] = model.predict(X_test)\n",
    "    r2 = r2_score(test_predictions['sgRNA Activity'], test_predictions['prediction'])\n",
    "    return r2\n",
    "\n",
    "\n",
    "def get_cnn_objective(fold_df):\n",
    "    \"\"\"Get objective function for training a cnn model\n",
    "\n",
    "    :param fold_df: DataFrame\n",
    "    :return: objective function\n",
    "    \"\"\"\n",
    "    def objective(trial):\n",
    "        \"\"\"For training set, get optimal hyperparameters for cnn\n",
    "\n",
    "        :param trial: optuna.trial\n",
    "        :return: int, pearson correlation with held out test data\n",
    "        \"\"\"\n",
    "        sgkf = StratifiedGroupKFold(n_splits=5, shuffle=True, random_state=7)\n",
    "        n_conv_layers = trial.suggest_int('n_conv_layers', 1, 2)\n",
    "        filters_per_conv = trial.suggest_int('filters_per_conv', 32, 256)\n",
    "        filter_len = trial.suggest_int('filter_len', 2, 8)\n",
    "        nodes_per_dense = trial.suggest_int('nodes_per_dense', 8, 256)\n",
    "        dense_dropout_rate = trial.suggest_float('dense_dropout_rate', 0.1, 0.5)\n",
    "        model = keras.wrappers.scikit_learn.KerasRegressor(build_fn=get_cnn, epochs=5000,\n",
    "                                                           n_conv_layers=n_conv_layers,\n",
    "                                                           filters_per_conv=filters_per_conv,\n",
    "                                                           filter_len=filter_len,\n",
    "                                                           nodes_per_dense=nodes_per_dense,\n",
    "                                                           dense_dropout_rate=dense_dropout_rate)\n",
    "        performance = [cnn_training_iteration(fold_df, train_index, test_index, model) for\n",
    "                       train_index, test_index in\n",
    "                       sgkf.split(fold_df, fold_df.dataset, fold_df.target)]\n",
    "        avg_performance = np.mean(performance)\n",
    "        return avg_performance\n",
    "    return objective"
   ]
  },
  {
   "cell_type": "code",
   "execution_count": 11,
   "id": "3a1da04d",
   "metadata": {
    "colab": {
     "base_uri": "https://localhost:8080/"
    },
    "id": "4uk1mZS2lSha",
    "outputId": "bd544bc9-d6b1-4468-ee2c-ce651839f640",
    "pycharm": {
     "name": "#%%\n"
    }
   },
   "outputs": [
    {
     "name": "stderr",
     "output_type": "stream",
     "text": [
      "\u001b[32m[I 2021-06-09 17:34:31,062]\u001b[0m A new study created in memory with name: no-name-7316fe77-0890-4cd6-9f36-7f8728eae3ba\u001b[0m\n"
     ]
    },
    {
     "name": "stdout",
     "output_type": "stream",
     "text": [
      "Fold: 0\n"
     ]
    },
    {
     "name": "stderr",
     "output_type": "stream",
     "text": [
      "\u001b[32m[I 2021-06-09 17:40:50,307]\u001b[0m Trial 0 finished with value: 0.5272518473656851 and parameters: {'n_conv_layers': 1, 'filters_per_conv': 207, 'filter_len': 5, 'nodes_per_dense': 188, 'dense_dropout_rate': 0.4911958047986411}. Best is trial 0 with value: 0.5272518473656851.\u001b[0m\n"
     ]
    },
    {
     "name": "stdout",
     "output_type": "stream",
     "text": [
      "Number of finished trials: 1\n",
      "Training Time: 0:06:19.245230\n",
      "Best trial:\n",
      "  Value: 0.5272518473656851\n",
      "  Params: \n",
      "    n_conv_layers: 1\n",
      "    filters_per_conv: 207\n",
      "    filter_len: 5\n",
      "    nodes_per_dense: 188\n",
      "    dense_dropout_rate: 0.4911958047986411\n"
     ]
    },
    {
     "name": "stderr",
     "output_type": "stream",
     "text": [
      "\u001b[32m[I 2021-06-09 17:42:38,464]\u001b[0m A new study created in memory with name: no-name-a6ca4fd0-2160-425a-8b36-b9ac9100fb33\u001b[0m\n"
     ]
    },
    {
     "name": "stdout",
     "output_type": "stream",
     "text": [
      "Fold: 1\n"
     ]
    },
    {
     "name": "stderr",
     "output_type": "stream",
     "text": [
      "\u001b[32m[I 2021-06-09 17:48:04,876]\u001b[0m Trial 0 finished with value: 0.5212114404756669 and parameters: {'n_conv_layers': 1, 'filters_per_conv': 207, 'filter_len': 5, 'nodes_per_dense': 188, 'dense_dropout_rate': 0.4911958047986411}. Best is trial 0 with value: 0.5212114404756669.\u001b[0m\n"
     ]
    },
    {
     "name": "stdout",
     "output_type": "stream",
     "text": [
      "Number of finished trials: 1\n",
      "Training Time: 0:05:26.410649\n",
      "Best trial:\n",
      "  Value: 0.5212114404756669\n",
      "  Params: \n",
      "    n_conv_layers: 1\n",
      "    filters_per_conv: 207\n",
      "    filter_len: 5\n",
      "    nodes_per_dense: 188\n",
      "    dense_dropout_rate: 0.4911958047986411\n"
     ]
    },
    {
     "name": "stderr",
     "output_type": "stream",
     "text": [
      "\u001b[32m[I 2021-06-09 17:49:35,587]\u001b[0m A new study created in memory with name: no-name-a91ed329-5965-40e0-8a7a-874e5503a0f4\u001b[0m\n"
     ]
    },
    {
     "name": "stdout",
     "output_type": "stream",
     "text": [
      "Fold: 2\n"
     ]
    },
    {
     "name": "stderr",
     "output_type": "stream",
     "text": [
      "\u001b[32m[I 2021-06-09 17:55:54,398]\u001b[0m Trial 0 finished with value: 0.5122325189814937 and parameters: {'n_conv_layers': 1, 'filters_per_conv': 207, 'filter_len': 5, 'nodes_per_dense': 188, 'dense_dropout_rate': 0.4911958047986411}. Best is trial 0 with value: 0.5122325189814937.\u001b[0m\n"
     ]
    },
    {
     "name": "stdout",
     "output_type": "stream",
     "text": [
      "Number of finished trials: 1\n",
      "Training Time: 0:06:18.809951\n",
      "Best trial:\n",
      "  Value: 0.5122325189814937\n",
      "  Params: \n",
      "    n_conv_layers: 1\n",
      "    filters_per_conv: 207\n",
      "    filter_len: 5\n",
      "    nodes_per_dense: 188\n",
      "    dense_dropout_rate: 0.4911958047986411\n"
     ]
    },
    {
     "name": "stderr",
     "output_type": "stream",
     "text": [
      "\u001b[32m[I 2021-06-09 17:57:19,176]\u001b[0m A new study created in memory with name: no-name-fa814032-fb8b-47b4-be27-02f55434dbf9\u001b[0m\n"
     ]
    },
    {
     "name": "stdout",
     "output_type": "stream",
     "text": [
      "Fold: 3\n"
     ]
    },
    {
     "name": "stderr",
     "output_type": "stream",
     "text": [
      "\u001b[32m[I 2021-06-09 18:03:10,760]\u001b[0m Trial 0 finished with value: 0.5018710398539553 and parameters: {'n_conv_layers': 1, 'filters_per_conv': 207, 'filter_len': 5, 'nodes_per_dense': 188, 'dense_dropout_rate': 0.4911958047986411}. Best is trial 0 with value: 0.5018710398539553.\u001b[0m\n"
     ]
    },
    {
     "name": "stdout",
     "output_type": "stream",
     "text": [
      "Number of finished trials: 1\n",
      "Training Time: 0:05:51.583831\n",
      "Best trial:\n",
      "  Value: 0.5018710398539553\n",
      "  Params: \n",
      "    n_conv_layers: 1\n",
      "    filters_per_conv: 207\n",
      "    filter_len: 5\n",
      "    nodes_per_dense: 188\n",
      "    dense_dropout_rate: 0.4911958047986411\n"
     ]
    },
    {
     "name": "stderr",
     "output_type": "stream",
     "text": [
      "\u001b[32m[I 2021-06-09 18:04:47,800]\u001b[0m A new study created in memory with name: no-name-c9fc306b-79d5-44dc-917a-575250f069bc\u001b[0m\n"
     ]
    },
    {
     "name": "stdout",
     "output_type": "stream",
     "text": [
      "Fold: 4\n"
     ]
    },
    {
     "name": "stderr",
     "output_type": "stream",
     "text": [
      "\u001b[32m[I 2021-06-09 18:11:25,727]\u001b[0m Trial 0 finished with value: 0.5097738257971831 and parameters: {'n_conv_layers': 1, 'filters_per_conv': 207, 'filter_len': 5, 'nodes_per_dense': 188, 'dense_dropout_rate': 0.4911958047986411}. Best is trial 0 with value: 0.5097738257971831.\u001b[0m\n"
     ]
    },
    {
     "name": "stdout",
     "output_type": "stream",
     "text": [
      "Number of finished trials: 1\n",
      "Training Time: 0:06:37.925848\n",
      "Best trial:\n",
      "  Value: 0.5097738257971831\n",
      "  Params: \n",
      "    n_conv_layers: 1\n",
      "    filters_per_conv: 207\n",
      "    filter_len: 5\n",
      "    nodes_per_dense: 188\n",
      "    dense_dropout_rate: 0.4911958047986411\n"
     ]
    }
   ],
   "source": [
    "n_trials = 1\n",
    "cnn_prediction_list = []\n",
    "\n",
    "for fold, fold_df in tidy_cv_df.groupby('cv'):\n",
    "    print('Fold: ' + str(fold))\n",
    "    fold_train_data = fold_df.query('train == True').reset_index(drop=True)\n",
    "    study = optuna.create_study(direction='maximize',\n",
    "                                sampler=optuna.samplers.TPESampler(seed=7)) # maximize r^2\n",
    "    objective = get_cnn_objective(fold_train_data)\n",
    "    start_time = datetime.now()\n",
    "    study.optimize(objective, n_trials=n_trials)\n",
    "    end_time = datetime.now()\n",
    "    difference = end_time - start_time\n",
    "    print(\"Number of finished trials: {}\".format(len(study.trials)))\n",
    "    print(\"Training Time: \" + str(difference))\n",
    "    print(\"Best trial:\")\n",
    "    trial = study.best_trial\n",
    "    print(\"  Value: {}\".format(trial.value))\n",
    "    print(\"  Params: \")\n",
    "    for key, value in trial.params.items():\n",
    "        print(\"    {}: {}\".format(key, value))\n",
    "    # Using optimal parameters, retrain model with full dataset\n",
    "    train_df = fold_train_data.copy()\n",
    "    train_val_seqs = train_df['sgRNA Context Sequence'] # train and validation data\n",
    "    y_train_val = train_df['sgRNA Activity']\n",
    "    train_seqs, val_seqs, y_train, y_val = train_test_split(train_val_seqs, y_train_val,\n",
    "                                                            test_size=0.1, random_state=7)\n",
    "    X_train = encode_seqs(train_seqs)\n",
    "    X_val = encode_seqs(val_seqs)\n",
    "    model = keras.wrappers.scikit_learn.KerasRegressor(build_fn=get_cnn, epochs=5000,\n",
    "                                                       **trial.params)\n",
    "    model.fit(X_train, y_train, verbose=0, validation_data=(X_val, y_val),\n",
    "              callbacks=[keras.callbacks.EarlyStopping(patience=20)])\n",
    "    # Test optimal model on test data\n",
    "    fold_test_data = fold_df.query('train == False').reset_index(drop=True)\n",
    "    X_test = encode_seqs(fold_test_data['sgRNA Context Sequence'])\n",
    "    test_predictions = fold_test_data.copy()\n",
    "    test_predictions['prediction'] = model.predict(X_test)\n",
    "    test_predictions['model_name'] = 'All + CNN + TPE' + str(n_trials)\n",
    "    test_predictions['fold'] = fold\n",
    "    cnn_prediction_list.append(test_predictions)"
   ]
  },
  {
   "cell_type": "code",
   "execution_count": 12,
   "id": "8612d070",
   "metadata": {
    "id": "54hJZV37lShb",
    "pycharm": {
     "name": "#%%\n"
    }
   },
   "outputs": [],
   "source": [
    "cnn_predictive_performance, cnn_agg_performance = get_predictive_performance(cnn_prediction_list,\n",
    "                                                                             'sgRNA Activity')"
   ]
  },
  {
   "cell_type": "code",
   "execution_count": 13,
   "id": "cc14e58c",
   "metadata": {
    "colab": {
     "base_uri": "https://localhost:8080/",
     "height": 77
    },
    "id": "xyEMR0splShb",
    "outputId": "ff49245d-cb1a-4f8b-b5fe-6de125cb5792",
    "pycharm": {
     "name": "#%%\n"
    }
   },
   "outputs": [
    {
     "data": {
      "text/html": [
       "<div>\n",
       "<style scoped>\n",
       "    .dataframe tbody tr th:only-of-type {\n",
       "        vertical-align: middle;\n",
       "    }\n",
       "\n",
       "    .dataframe tbody tr th {\n",
       "        vertical-align: top;\n",
       "    }\n",
       "\n",
       "    .dataframe thead th {\n",
       "        text-align: right;\n",
       "    }\n",
       "</style>\n",
       "<table border=\"1\" class=\"dataframe\">\n",
       "  <thead>\n",
       "    <tr style=\"text-align: right;\">\n",
       "      <th></th>\n",
       "      <th>model_name</th>\n",
       "      <th>mean_spearman</th>\n",
       "      <th>std_spearman</th>\n",
       "      <th>median_spearman</th>\n",
       "    </tr>\n",
       "  </thead>\n",
       "  <tbody>\n",
       "    <tr>\n",
       "      <th>0</th>\n",
       "      <td>All + CNN + TPE1</td>\n",
       "      <td>0.644577</td>\n",
       "      <td>0.118771</td>\n",
       "      <td>0.624416</td>\n",
       "    </tr>\n",
       "  </tbody>\n",
       "</table>\n",
       "</div>"
      ],
      "text/plain": [
       "         model_name  mean_spearman  std_spearman  median_spearman\n",
       "0  All + CNN + TPE1       0.644577      0.118771         0.624416"
      ]
     },
     "execution_count": 13,
     "metadata": {},
     "output_type": "execute_result"
    }
   ],
   "source": [
    "cnn_agg_performance"
   ]
  },
  {
   "cell_type": "code",
   "execution_count": 14,
   "id": "8b6305ea",
   "metadata": {
    "colab": {
     "base_uri": "https://localhost:8080/",
     "height": 669
    },
    "id": "g_SuytkDlShb",
    "outputId": "b2a17fdc-dedf-4a59-ce9a-032f4d5f111b",
    "pycharm": {
     "name": "#%%\n"
    }
   },
   "outputs": [
    {
     "name": "stderr",
     "output_type": "stream",
     "text": [
      "findfont: Font family ['Arial'] not found. Falling back to DejaVu Sans.\n"
     ]
    },
    {
     "data": {
      "image/png": "[encoded data removed]",
      "text/plain": [
       "<Figure size 640x480 with 5 Axes>"
      ]
     },
     "metadata": {},
     "output_type": "display_data"
    },
    {
     "data": {
      "text/plain": [
       "<ggplot: (8750754991501)>"
      ]
     },
     "execution_count": 14,
     "metadata": {},
     "output_type": "execute_result"
    }
   ],
   "source": [
    "plot_spearman_heatmap(cnn_predictive_performance)"
   ]
  },
  {
   "cell_type": "code",
   "execution_count": 15,
   "id": "10f92b48",
   "metadata": {
    "colab": {
     "base_uri": "https://localhost:8080/",
     "height": 643
    },
    "id": "WF4PEudblShb",
    "outputId": "c76a71b7-c14e-4598-f10d-d4f107022f25",
    "pycharm": {
     "name": "#%%\n"
    }
   },
   "outputs": [
    {
     "name": "stderr",
     "output_type": "stream",
     "text": [
      "/opt/conda/lib/python3.7/site-packages/plotnine/geoms/geom_point.py:70: UserWarning: You passed a edgecolor/edgecolors (['#000000ff']) for an unfilled marker ('_').  Matplotlib is ignoring the edgecolor in favor of the facecolor.  This behavior may change in the future.\n",
      "/opt/conda/lib/python3.7/site-packages/plotnine/geoms/geom_point.py:70: UserWarning: You passed a edgecolor/edgecolors (['#000000ff']) for an unfilled marker ('_').  Matplotlib is ignoring the edgecolor in favor of the facecolor.  This behavior may change in the future.\n",
      "/opt/conda/lib/python3.7/site-packages/plotnine/geoms/geom_point.py:70: UserWarning: You passed a edgecolor/edgecolors (['#000000ff']) for an unfilled marker ('_').  Matplotlib is ignoring the edgecolor in favor of the facecolor.  This behavior may change in the future.\n",
      "/opt/conda/lib/python3.7/site-packages/plotnine/geoms/geom_point.py:70: UserWarning: You passed a edgecolor/edgecolors (['#000000ff']) for an unfilled marker ('_').  Matplotlib is ignoring the edgecolor in favor of the facecolor.  This behavior may change in the future.\n",
      "/opt/conda/lib/python3.7/site-packages/plotnine/geoms/geom_point.py:70: UserWarning: You passed a edgecolor/edgecolors (['#000000ff']) for an unfilled marker ('_').  Matplotlib is ignoring the edgecolor in favor of the facecolor.  This behavior may change in the future.\n",
      "/opt/conda/lib/python3.7/site-packages/plotnine/geoms/geom_point.py:70: UserWarning: You passed a edgecolor/edgecolors (['#000000ff']) for an unfilled marker ('_').  Matplotlib is ignoring the edgecolor in favor of the facecolor.  This behavior may change in the future.\n"
     ]
    },
    {
     "data": {
      "image/png": "[encoded data removed]",
      "text/plain": [
       "<Figure size 640x480 with 6 Axes>"
      ]
     },
     "metadata": {},
     "output_type": "display_data"
    },
    {
     "data": {
      "text/plain": [
       "<ggplot: (8750752872409)>"
      ]
     },
     "execution_count": 15,
     "metadata": {},
     "output_type": "execute_result"
    }
   ],
   "source": [
    "plot_model_performance(cnn_predictive_performance, wspace=0.5)"
   ]
  },
  {
   "cell_type": "markdown",
   "id": "dbc6c394",
   "metadata": {
    "id": "NGk3mK6ylShc"
   },
   "source": [
    "## **Remember to download the predictive performance dataframe, as the local store is not permanent**\n"
   ]
  },
  {
   "cell_type": "code",
   "execution_count": 16,
   "id": "1fea29b1",
   "metadata": {
    "colab": {
     "base_uri": "https://localhost:8080/",
     "height": 669
    },
    "id": "Ru07Q9cQlShc",
    "outputId": "3f618c6f-cbb0-461e-b784-03508293c364",
    "pycharm": {
     "name": "#%%\n"
    }
   },
   "outputs": [
    {
     "data": {
      "text/html": [
       "<div>\n",
       "<style scoped>\n",
       "    .dataframe tbody tr th:only-of-type {\n",
       "        vertical-align: middle;\n",
       "    }\n",
       "\n",
       "    .dataframe tbody tr th {\n",
       "        vertical-align: top;\n",
       "    }\n",
       "\n",
       "    .dataframe thead th {\n",
       "        text-align: right;\n",
       "    }\n",
       "</style>\n",
       "<table border=\"1\" class=\"dataframe\">\n",
       "  <thead>\n",
       "    <tr style=\"text-align: right;\">\n",
       "      <th></th>\n",
       "      <th>model_name</th>\n",
       "      <th>testing_set</th>\n",
       "      <th>fold</th>\n",
       "      <th>spearman_r</th>\n",
       "      <th>n_guides</th>\n",
       "      <th>fold_name</th>\n",
       "    </tr>\n",
       "  </thead>\n",
       "  <tbody>\n",
       "    <tr>\n",
       "      <th>0</th>\n",
       "      <td>All + CNN + TPE1</td>\n",
       "      <td>Doench2014_human</td>\n",
       "      <td>0</td>\n",
       "      <td>0.552720</td>\n",
       "      <td>167</td>\n",
       "      <td>Fold 1</td>\n",
       "    </tr>\n",
       "    <tr>\n",
       "      <th>1</th>\n",
       "      <td>All + CNN + TPE1</td>\n",
       "      <td>Doench2014_human</td>\n",
       "      <td>1</td>\n",
       "      <td>0.578762</td>\n",
       "      <td>828</td>\n",
       "      <td>Fold 2</td>\n",
       "    </tr>\n",
       "    <tr>\n",
       "      <th>2</th>\n",
       "      <td>All + CNN + TPE1</td>\n",
       "      <td>Doench2014_mouse</td>\n",
       "      <td>0</td>\n",
       "      <td>0.629342</td>\n",
       "      <td>354</td>\n",
       "      <td>Fold 1</td>\n",
       "    </tr>\n",
       "    <tr>\n",
       "      <th>3</th>\n",
       "      <td>All + CNN + TPE1</td>\n",
       "      <td>Doench2014_mouse</td>\n",
       "      <td>1</td>\n",
       "      <td>0.524924</td>\n",
       "      <td>485</td>\n",
       "      <td>Fold 2</td>\n",
       "    </tr>\n",
       "    <tr>\n",
       "      <th>4</th>\n",
       "      <td>All + CNN + TPE1</td>\n",
       "      <td>Doench2014_mouse</td>\n",
       "      <td>2</td>\n",
       "      <td>0.624416</td>\n",
       "      <td>79</td>\n",
       "      <td>Fold 3</td>\n",
       "    </tr>\n",
       "    <tr>\n",
       "      <th>5</th>\n",
       "      <td>All + CNN + TPE1</td>\n",
       "      <td>Doench2014_mouse</td>\n",
       "      <td>4</td>\n",
       "      <td>0.489448</td>\n",
       "      <td>251</td>\n",
       "      <td>Fold 5</td>\n",
       "    </tr>\n",
       "    <tr>\n",
       "      <th>6</th>\n",
       "      <td>All + CNN + TPE1</td>\n",
       "      <td>Doench2016</td>\n",
       "      <td>0</td>\n",
       "      <td>0.414955</td>\n",
       "      <td>924</td>\n",
       "      <td>Fold 1</td>\n",
       "    </tr>\n",
       "    <tr>\n",
       "      <th>7</th>\n",
       "      <td>All + CNN + TPE1</td>\n",
       "      <td>Doench2016</td>\n",
       "      <td>1</td>\n",
       "      <td>0.690092</td>\n",
       "      <td>63</td>\n",
       "      <td>Fold 2</td>\n",
       "    </tr>\n",
       "    <tr>\n",
       "      <th>8</th>\n",
       "      <td>All + CNN + TPE1</td>\n",
       "      <td>Doench2016</td>\n",
       "      <td>2</td>\n",
       "      <td>0.443396</td>\n",
       "      <td>1245</td>\n",
       "      <td>Fold 3</td>\n",
       "    </tr>\n",
       "    <tr>\n",
       "      <th>9</th>\n",
       "      <td>All + CNN + TPE1</td>\n",
       "      <td>Doench2016</td>\n",
       "      <td>4</td>\n",
       "      <td>0.459016</td>\n",
       "      <td>304</td>\n",
       "      <td>Fold 5</td>\n",
       "    </tr>\n",
       "    <tr>\n",
       "      <th>10</th>\n",
       "      <td>All + CNN + TPE1</td>\n",
       "      <td>Kim2019_train</td>\n",
       "      <td>0</td>\n",
       "      <td>0.732174</td>\n",
       "      <td>2874</td>\n",
       "      <td>Fold 1</td>\n",
       "    </tr>\n",
       "    <tr>\n",
       "      <th>11</th>\n",
       "      <td>All + CNN + TPE1</td>\n",
       "      <td>Kim2019_train</td>\n",
       "      <td>1</td>\n",
       "      <td>0.741085</td>\n",
       "      <td>2876</td>\n",
       "      <td>Fold 2</td>\n",
       "    </tr>\n",
       "    <tr>\n",
       "      <th>12</th>\n",
       "      <td>All + CNN + TPE1</td>\n",
       "      <td>Kim2019_train</td>\n",
       "      <td>2</td>\n",
       "      <td>0.756028</td>\n",
       "      <td>2970</td>\n",
       "      <td>Fold 3</td>\n",
       "    </tr>\n",
       "    <tr>\n",
       "      <th>13</th>\n",
       "      <td>All + CNN + TPE1</td>\n",
       "      <td>Kim2019_train</td>\n",
       "      <td>3</td>\n",
       "      <td>0.777945</td>\n",
       "      <td>1893</td>\n",
       "      <td>Fold 4</td>\n",
       "    </tr>\n",
       "    <tr>\n",
       "      <th>14</th>\n",
       "      <td>All + CNN + TPE1</td>\n",
       "      <td>Kim2019_train</td>\n",
       "      <td>4</td>\n",
       "      <td>0.768416</td>\n",
       "      <td>2219</td>\n",
       "      <td>Fold 5</td>\n",
       "    </tr>\n",
       "    <tr>\n",
       "      <th>15</th>\n",
       "      <td>All + CNN + TPE1</td>\n",
       "      <td>Wang2014</td>\n",
       "      <td>0</td>\n",
       "      <td>0.619567</td>\n",
       "      <td>171</td>\n",
       "      <td>Fold 1</td>\n",
       "    </tr>\n",
       "    <tr>\n",
       "      <th>16</th>\n",
       "      <td>All + CNN + TPE1</td>\n",
       "      <td>Wang2014</td>\n",
       "      <td>1</td>\n",
       "      <td>0.620217</td>\n",
       "      <td>301</td>\n",
       "      <td>Fold 2</td>\n",
       "    </tr>\n",
       "    <tr>\n",
       "      <th>17</th>\n",
       "      <td>All + CNN + TPE1</td>\n",
       "      <td>Wang2014</td>\n",
       "      <td>2</td>\n",
       "      <td>0.615380</td>\n",
       "      <td>167</td>\n",
       "      <td>Fold 3</td>\n",
       "    </tr>\n",
       "    <tr>\n",
       "      <th>18</th>\n",
       "      <td>All + CNN + TPE1</td>\n",
       "      <td>Wang2014</td>\n",
       "      <td>3</td>\n",
       "      <td>0.583955</td>\n",
       "      <td>218</td>\n",
       "      <td>Fold 4</td>\n",
       "    </tr>\n",
       "    <tr>\n",
       "      <th>19</th>\n",
       "      <td>All + CNN + TPE1</td>\n",
       "      <td>Wang2014</td>\n",
       "      <td>4</td>\n",
       "      <td>0.610167</td>\n",
       "      <td>165</td>\n",
       "      <td>Fold 5</td>\n",
       "    </tr>\n",
       "    <tr>\n",
       "      <th>20</th>\n",
       "      <td>All + CNN + TPE1</td>\n",
       "      <td>Xiang2021</td>\n",
       "      <td>0</td>\n",
       "      <td>0.778587</td>\n",
       "      <td>2214</td>\n",
       "      <td>Fold 1</td>\n",
       "    </tr>\n",
       "    <tr>\n",
       "      <th>21</th>\n",
       "      <td>All + CNN + TPE1</td>\n",
       "      <td>Xiang2021</td>\n",
       "      <td>1</td>\n",
       "      <td>0.773548</td>\n",
       "      <td>2260</td>\n",
       "      <td>Fold 2</td>\n",
       "    </tr>\n",
       "    <tr>\n",
       "      <th>22</th>\n",
       "      <td>All + CNN + TPE1</td>\n",
       "      <td>Xiang2021</td>\n",
       "      <td>2</td>\n",
       "      <td>0.786161</td>\n",
       "      <td>2329</td>\n",
       "      <td>Fold 3</td>\n",
       "    </tr>\n",
       "    <tr>\n",
       "      <th>23</th>\n",
       "      <td>All + CNN + TPE1</td>\n",
       "      <td>Xiang2021</td>\n",
       "      <td>3</td>\n",
       "      <td>0.787230</td>\n",
       "      <td>2334</td>\n",
       "      <td>Fold 4</td>\n",
       "    </tr>\n",
       "    <tr>\n",
       "      <th>24</th>\n",
       "      <td>All + CNN + TPE1</td>\n",
       "      <td>Xiang2021</td>\n",
       "      <td>4</td>\n",
       "      <td>0.756891</td>\n",
       "      <td>2260</td>\n",
       "      <td>Fold 5</td>\n",
       "    </tr>\n",
       "  </tbody>\n",
       "</table>\n",
       "</div>"
      ],
      "text/plain": [
       "          model_name       testing_set fold  spearman_r  n_guides fold_name\n",
       "0   All + CNN + TPE1  Doench2014_human    0    0.552720       167    Fold 1\n",
       "1   All + CNN + TPE1  Doench2014_human    1    0.578762       828    Fold 2\n",
       "2   All + CNN + TPE1  Doench2014_mouse    0    0.629342       354    Fold 1\n",
       "3   All + CNN + TPE1  Doench2014_mouse    1    0.524924       485    Fold 2\n",
       "4   All + CNN + TPE1  Doench2014_mouse    2    0.624416        79    Fold 3\n",
       "5   All + CNN + TPE1  Doench2014_mouse    4    0.489448       251    Fold 5\n",
       "6   All + CNN + TPE1        Doench2016    0    0.414955       924    Fold 1\n",
       "7   All + CNN + TPE1        Doench2016    1    0.690092        63    Fold 2\n",
       "8   All + CNN + TPE1        Doench2016    2    0.443396      1245    Fold 3\n",
       "9   All + CNN + TPE1        Doench2016    4    0.459016       304    Fold 5\n",
       "10  All + CNN + TPE1     Kim2019_train    0    0.732174      2874    Fold 1\n",
       "11  All + CNN + TPE1     Kim2019_train    1    0.741085      2876    Fold 2\n",
       "12  All + CNN + TPE1     Kim2019_train    2    0.756028      2970    Fold 3\n",
       "13  All + CNN + TPE1     Kim2019_train    3    0.777945      1893    Fold 4\n",
       "14  All + CNN + TPE1     Kim2019_train    4    0.768416      2219    Fold 5\n",
       "15  All + CNN + TPE1          Wang2014    0    0.619567       171    Fold 1\n",
       "16  All + CNN + TPE1          Wang2014    1    0.620217       301    Fold 2\n",
       "17  All + CNN + TPE1          Wang2014    2    0.615380       167    Fold 3\n",
       "18  All + CNN + TPE1          Wang2014    3    0.583955       218    Fold 4\n",
       "19  All + CNN + TPE1          Wang2014    4    0.610167       165    Fold 5\n",
       "20  All + CNN + TPE1         Xiang2021    0    0.778587      2214    Fold 1\n",
       "21  All + CNN + TPE1         Xiang2021    1    0.773548      2260    Fold 2\n",
       "22  All + CNN + TPE1         Xiang2021    2    0.786161      2329    Fold 3\n",
       "23  All + CNN + TPE1         Xiang2021    3    0.787230      2334    Fold 4\n",
       "24  All + CNN + TPE1         Xiang2021    4    0.756891      2260    Fold 5"
      ]
     },
     "execution_count": 16,
     "metadata": {},
     "output_type": "execute_result"
    }
   ],
   "source": [
    "cnn_predictive_performance"
   ]
  },
  {
   "cell_type": "code",
   "execution_count": 17,
   "id": "eba96aae",
   "metadata": {
    "id": "uUJJa92FlShc",
    "pycharm": {
     "name": "#%%\n"
    }
   },
   "outputs": [],
   "source": [
    "cnn_predictions = pd.concat(cnn_prediction_list)"
   ]
  },
  {
   "cell_type": "code",
   "execution_count": 18,
   "id": "d72729be",
   "metadata": {
    "id": "NyskP4Y3lShc",
    "pycharm": {
     "name": "#%%\n"
    }
   },
   "outputs": [],
   "source": [
    "cnn_predictions.to_csv('../data/processed/seq_cnn_predictions.csv', index=False)"
   ]
  },
  {
   "cell_type": "code",
   "execution_count": null,
   "id": "f8613128",
   "metadata": {
    "id": "j1gky4ValShc",
    "pycharm": {
     "name": "#%%\n"
    }
   },
   "outputs": [],
   "source": []
  }
 ],
 "metadata": {
  "accelerator": "GPU",
  "colab": {
   "include_colab_link": true,
   "machine_shape": "hm",
   "name": "03_build_seq_model.ipynb",
   "provenance": [],
   "toc_visible": true
  },
  "environment": {
   "name": "tf2-gpu.2-3.m71",
   "type": "gcloud",
   "uri": "gcr.io/deeplearning-platform-release/tf2-gpu.2-3:m71"
  },
  "kernelspec": {
   "display_name": "Python 3",
   "language": "python",
   "name": "python3"
  },
  "language_info": {
   "codemirror_mode": {
    "name": "ipython",
    "version": 3
   },
   "file_extension": ".py",
   "mimetype": "text/x-python",
   "name": "python",
   "nbconvert_exporter": "python",
   "pygments_lexer": "ipython3",
   "version": "3.7.10"
  }
 },
 "nbformat": 4,
 "nbformat_minor": 5
}
