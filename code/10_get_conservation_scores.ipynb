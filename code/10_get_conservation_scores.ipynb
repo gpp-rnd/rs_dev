{
 "cells": [
  {
   "cell_type": "markdown",
   "source": [
    "# Get Conservation Scores\n",
    "\n",
    "Get PhyloP conservation scores for ensembl transcripts"
   ],
   "metadata": {
    "collapsed": false,
    "pycharm": {
     "name": "#%% md\n"
    }
   }
  },
  {
   "cell_type": "code",
   "execution_count": 1,
   "metadata": {
    "collapsed": true
   },
   "outputs": [],
   "source": [
    "import pandas as pd\n",
    "import requests\n",
    "import sys\n",
    "from tqdm import tqdm\n",
    "\n",
    "from datasets import expanded_dataset_list"
   ]
  },
  {
   "cell_type": "code",
   "execution_count": 2,
   "outputs": [],
   "source": [
    "\n",
    "def get_conservation(chr, start, end, genome):\n",
    "    api_url = 'http://api.genome.ucsc.edu/getData/track'\n",
    "    if genome == 'hg38':\n",
    "        track = 'phyloP100way'\n",
    "    elif genome == 'mm39':\n",
    "        track = 'phyloP35way'\n",
    "    else:\n",
    "        raise ValueError('Genome not recognized')\n",
    "    chrom = 'chr' + chr\n",
    "    params = {\n",
    "        'genome': genome,\n",
    "        'track': track,\n",
    "        'start': start,\n",
    "        'end': end,\n",
    "        'chrom': chrom\n",
    "    }\n",
    "    results = requests.get(api_url, data=params)\n",
    "    if results.ok:\n",
    "        value_df = (pd.DataFrame([pd.Series(x) for x in pd.read_json(results.content.decode('utf8'))[chrom].values])\n",
    "                    .rename(columns={'value': 'conservation'}))\n",
    "    else:\n",
    "        raise ValueError(results.reason)\n",
    "    return value_df\n",
    "\n",
    "\n",
    "def build_request_url(ext, server=\"https://rest.ensembl.org\"):\n",
    "    request_url = \"/\".join([server, ext])\n",
    "    return request_url\n",
    "\n",
    "\n",
    "def handle_results(results):\n",
    "    if not results.ok:\n",
    "        results.raise_for_status()\n",
    "        sys.exit()\n",
    "    decoded = results.json()\n",
    "    return decoded\n",
    "\n",
    "\n",
    "def get_transcript_info(base_transcript):\n",
    "    \"\"\"Using an ensembl transcript ID, get\n",
    "\n",
    "    :param base_transcript: str\n",
    "    :return: (exon_df, trans_sr, chr)\n",
    "        exon_df: DataFrame, with global exon start and end position\n",
    "        trans_sr: Series, with global translation start and stop positions for CDS and translation length\n",
    "        chr: str\n",
    "\n",
    "    \"\"\"\n",
    "    request_url = build_request_url(\"/lookup/id/\" + base_transcript + \"?expand=1\")\n",
    "    r = requests.get(request_url, headers={\"Content-Type\": \"application/json\"})\n",
    "    decoded = handle_results(r)\n",
    "    exon_df = pd.DataFrame(decoded['Exon'])\n",
    "    trans_sr = pd.Series(decoded['Translation'])\n",
    "    chr = decoded['seq_region_name']\n",
    "    return exon_df, trans_sr, chr\n",
    "\n",
    "\n",
    "def get_exon_conservation(exon_df, chr, genome):\n",
    "    conservation_dict = {}\n",
    "    for i, row in exon_df.set_index('id').iterrows():\n",
    "        # subtract one since the nucleotide conservation corresponds to the \"end\" index\n",
    "        conservation_dict[i] = get_conservation(chr, row['start'] - 1, row['end'], genome)\n",
    "        # get the conservation of i\n",
    "    conservation_df = (pd.concat(conservation_dict)\n",
    "                       .reset_index(level=0)\n",
    "                       .reset_index(drop=True)\n",
    "                       .rename({'level_0': 'exon_id',\n",
    "                                'end': 'genomic position'}, axis=1)\n",
    "                       .drop('start', axis=1))\n",
    "    return conservation_df\n",
    "\n",
    "\n",
    "def get_transcript_conservation(transcript_id, target_strand, genome):\n",
    "    exon_df, trans_sr, chr = get_transcript_info(transcript_id)\n",
    "    # only include translated positions\n",
    "    exon_df['start'] = exon_df['start'].apply(lambda x: max(x, trans_sr['start']))\n",
    "    exon_df['end'] = exon_df['end'].apply(lambda x: min(x, trans_sr['end']))\n",
    "    exon_df = exon_df[exon_df['end'] > exon_df['start']].reset_index(drop=True)\n",
    "    conservation_df = get_exon_conservation(exon_df, chr, genome)\n",
    "    conservation_df['Transcript Base'] = transcript_id\n",
    "    if target_strand == '-':\n",
    "        ascending = False\n",
    "    else:\n",
    "        ascending = True\n",
    "    conservation_df = (conservation_df\n",
    "                       .sort_values('genomic position', ascending=ascending)\n",
    "                       .reset_index(drop=True))\n",
    "    conservation_df['target position'] = conservation_df.index + 1\n",
    "    conservation_df['chromosome'] = chr\n",
    "    conservation_df['genome'] = genome\n",
    "    conservation_df['translation length'] = trans_sr['length']\n",
    "    return conservation_df\n"
   ],
   "metadata": {
    "collapsed": false,
    "pycharm": {
     "name": "#%%\n"
    }
   }
  },
  {
   "cell_type": "code",
   "execution_count": 3,
   "outputs": [
    {
     "name": "stderr",
     "output_type": "stream",
     "text": [
      "100%|██████████| 11/11 [05:21<00:00, 29.19s/it]\n"
     ]
    }
   ],
   "source": [
    "data_list = list()\n",
    "for ds in expanded_dataset_list:\n",
    "    if ds.endogenous:\n",
    "        data_list.append(ds)\n",
    "\n",
    "design_list = list()\n",
    "for ds in tqdm(data_list):\n",
    "    ds.load_data()\n",
    "    ds.set_sgrnas()\n",
    "    design_list.append(ds.get_designs())"
   ],
   "metadata": {
    "collapsed": false,
    "pycharm": {
     "name": "#%%\n"
    }
   }
  },
  {
   "cell_type": "code",
   "execution_count": 4,
   "outputs": [
    {
     "data": {
      "text/plain": "3011"
     },
     "execution_count": 4,
     "metadata": {},
     "output_type": "execute_result"
    }
   ],
   "source": [
    "design_df = (pd.concat(design_list)\n",
    "             .drop_duplicates())\n",
    "transcript_refseq_df = (design_df[['Target Transcript', 'Strand of Target', 'Target Total Length']]\n",
    "                        .drop_duplicates())\n",
    "transcript_refseq_df['Transcript Base'] = (transcript_refseq_df['Target Transcript']\n",
    "    .str.split('.', expand=True)[0])\n",
    "transcript_refseq_df['genome'] = transcript_refseq_df['Transcript Base'].apply(lambda trans:\n",
    "                                                                               'mm39' if 'MUS' in trans else 'hg38')\n",
    "len(transcript_refseq_df)\n"
   ],
   "metadata": {
    "collapsed": false,
    "pycharm": {
     "name": "#%%\n"
    }
   }
  },
  {
   "cell_type": "code",
   "execution_count": 5,
   "outputs": [
    {
     "name": "stderr",
     "output_type": "stream",
     "text": [
      "100%|██████████| 3011/3011 [4:00:45<00:00,  4.80s/it]  \n"
     ]
    }
   ],
   "source": [
    "transcript_conservation_list = []\n",
    "failed_list = []\n",
    "for i, row in tqdm(transcript_refseq_df.iterrows(), total=transcript_refseq_df.shape[0]):\n",
    "    try:\n",
    "        transcript_conservation_list.append(get_transcript_conservation(row['Transcript Base'],\n",
    "                                                                        row['Strand of Target'],\n",
    "                                                                        row['genome']))\n",
    "    except:\n",
    "        failed_list.append(row)"
   ],
   "metadata": {
    "collapsed": false,
    "pycharm": {
     "name": "#%%\n"
    }
   }
  },
  {
   "cell_type": "code",
   "execution_count": 6,
   "outputs": [
    {
     "name": "stdout",
     "output_type": "stream",
     "text": [
      "Failed transcripts: 13\n"
     ]
    }
   ],
   "source": [
    "print('Failed transcripts: ' + str(len(failed_list)))"
   ],
   "metadata": {
    "collapsed": false,
    "pycharm": {
     "name": "#%%\n"
    }
   }
  },
  {
   "cell_type": "markdown",
   "source": [
    "We'll filter out transcripts with a mistmatched translation length"
   ],
   "metadata": {
    "collapsed": false,
    "pycharm": {
     "name": "#%% md\n"
    }
   }
  },
  {
   "cell_type": "code",
   "execution_count": 7,
   "outputs": [
    {
     "name": "stdout",
     "output_type": "stream",
     "text": [
      "Filtered: 20 transcripts with mismatched length\n"
     ]
    }
   ],
   "source": [
    "transcript_conservation_df = (pd.concat(transcript_conservation_list))\n",
    "transcript_cons_designs = (transcript_conservation_df\n",
    "                           .merge(transcript_refseq_df, how='inner',\n",
    "                                  on=['Transcript Base', 'genome']))\n",
    "filtered_transcript_conservation = transcript_cons_designs[\n",
    "    (transcript_cons_designs['translation length'] + 1)*3 == transcript_cons_designs['Target Total Length']].copy()\n",
    "print('Filtered: ' + str(transcript_conservation_df['Transcript Base'].nunique() -\n",
    "                         filtered_transcript_conservation['Transcript Base'].nunique()) +\n",
    "      ' transcripts with mismatched length')"
   ],
   "metadata": {
    "collapsed": false,
    "pycharm": {
     "name": "#%%\n"
    }
   }
  },
  {
   "cell_type": "code",
   "execution_count": 8,
   "outputs": [
    {
     "data": {
      "text/plain": "2978"
     },
     "execution_count": 8,
     "metadata": {},
     "output_type": "execute_result"
    }
   ],
   "source": [
    "out_conservation = filtered_transcript_conservation\n",
    "out_conservation['ranked_conservation'] = (out_conservation.groupby('Transcript Base')\n",
    "                                           ['conservation']\n",
    "                                           .rank(pct=True))\n",
    "out_conservation['Transcript Base'].nunique()"
   ],
   "metadata": {
    "collapsed": false,
    "pycharm": {
     "name": "#%%\n"
    }
   }
  },
  {
   "cell_type": "code",
   "execution_count": 9,
   "outputs": [],
   "source": [
    "out_conservation.to_parquet('../data/interim/conservation.parquet', index=False)"
   ],
   "metadata": {
    "collapsed": false,
    "pycharm": {
     "name": "#%%\n"
    }
   }
  },
  {
   "cell_type": "code",
   "execution_count": 9,
   "outputs": [],
   "source": [],
   "metadata": {
    "collapsed": false,
    "pycharm": {
     "name": "#%%\n"
    }
   }
  }
 ],
 "metadata": {
  "kernelspec": {
   "display_name": "Python 3",
   "language": "python",
   "name": "python3"
  },
  "language_info": {
   "codemirror_mode": {
    "name": "ipython",
    "version": 2
   },
   "file_extension": ".py",
   "mimetype": "text/x-python",
   "name": "python",
   "nbconvert_exporter": "python",
   "pygments_lexer": "ipython2",
   "version": "2.7.6"
  }
 },
 "nbformat": 4,
 "nbformat_minor": 0
}