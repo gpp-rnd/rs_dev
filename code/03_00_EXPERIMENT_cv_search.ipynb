{
 "cells": [
  {
   "cell_type": "markdown",
   "metadata": {
    "collapsed": true,
    "pycharm": {
     "name": "#%% md\n"
    }
   },
   "source": [
    "# CV search experimentation"
   ]
  },
  {
   "cell_type": "code",
   "execution_count": 16,
   "outputs": [],
   "source": [
    "from sklearn import datasets\n",
    "from sklearn.model_selection import train_test_split, RandomizedSearchCV\n",
    "import xgboost\n",
    "import numpy as np\n",
    "from sklearn.ensemble import GradientBoostingRegressor\n",
    "from scipy import stats\n",
    "import pandas as pd"
   ],
   "metadata": {
    "collapsed": false,
    "pycharm": {
     "name": "#%%\n"
    }
   }
  },
  {
   "cell_type": "markdown",
   "source": [
    "## Load and split the data"
   ],
   "metadata": {
    "collapsed": false,
    "pycharm": {
     "name": "#%% md\n"
    }
   }
  },
  {
   "cell_type": "code",
   "execution_count": 5,
   "outputs": [],
   "source": [
    "diabetes = datasets.load_diabetes()\n",
    "X, y = diabetes.data, diabetes.target\n",
    "X_train, X_test, y_train, y_test = train_test_split(X, y, test_size=0.2, random_state=7)"
   ],
   "metadata": {
    "collapsed": false,
    "pycharm": {
     "name": "#%%\n"
    }
   }
  },
  {
   "cell_type": "code",
   "execution_count": 20,
   "outputs": [],
   "source": [
    "reg = GradientBoostingRegressor(random_state=7, n_estimators=1000, learning_rate=0.01,\n",
    "                                n_iter_no_change=20)\n",
    "param_dist = {'max_depth': np.arange(2, 9),\n",
    "              'subsample': stats.uniform(0, 1)}"
   ],
   "metadata": {
    "collapsed": false,
    "pycharm": {
     "name": "#%%\n"
    }
   }
  },
  {
   "cell_type": "code",
   "execution_count": 30,
   "outputs": [],
   "source": [
    "n_iter = 40\n",
    "# Random\n",
    "random_search = RandomizedSearchCV(reg, param_distributions=param_dist,\n",
    "                                   n_iter=n_iter, cv=5, n_jobs=6)\n",
    "random_search.fit(X_train, y_train)\n",
    "random_predictions = random_search.predict(X_test)\n",
    "random_prediction_df = pd.DataFrame({'prediction': random_predictions, 'observation': y_test})\n",
    "random_prediction_df['params'] = 'Randomized'\n",
    "# Default\n",
    "default_reg = GradientBoostingRegressor(random_state=7)\n",
    "default_reg.fit(X_train, y_train)\n",
    "default_predictions = default_reg.predict(X_test)\n",
    "default_prediction_df = pd.DataFrame({'prediction': default_predictions, 'observation': y_test})\n",
    "default_prediction_df['params'] = 'default'\n",
    "# Slow\n",
    "slow_reg = GradientBoostingRegressor(random_state=7, n_estimators=1000, learning_rate=0.01, n_iter_no_change=20)\n",
    "slow_reg.fit(X_train, y_train)\n",
    "slow_predictions = slow_reg.predict(X_test)\n",
    "slow_prediction_df = pd.DataFrame({'prediction': slow_predictions, 'observation': y_test})\n",
    "slow_prediction_df['params'] = 'slow'\n"
   ],
   "metadata": {
    "collapsed": false,
    "pycharm": {
     "name": "#%%\n"
    }
   }
  },
  {
   "cell_type": "code",
   "execution_count": 32,
   "outputs": [
    {
     "data": {
      "text/plain": "params\nRandomized    (0.6813995602419678, 1.9951285718558276e-13)\ndefault       (0.6429897932742135, 1.0908872232829323e-11)\nslow            (0.6668616770656229, 9.72299029031537e-13)\ndtype: object"
     },
     "execution_count": 32,
     "metadata": {},
     "output_type": "execute_result"
    }
   ],
   "source": [
    "prediction_df = pd.concat([default_prediction_df, random_prediction_df, slow_prediction_df])\n",
    "(prediction_df.groupby('params')\n",
    " .apply(lambda df: stats.pearsonr(df['prediction'], df['observation'])))"
   ],
   "metadata": {
    "collapsed": false,
    "pycharm": {
     "name": "#%%\n"
    }
   }
  },
  {
   "cell_type": "code",
   "execution_count": null,
   "outputs": [],
   "source": [],
   "metadata": {
    "collapsed": false,
    "pycharm": {
     "name": "#%%\n"
    }
   }
  }
 ],
 "metadata": {
  "kernelspec": {
   "display_name": "Python 3",
   "language": "python",
   "name": "python3"
  },
  "language_info": {
   "codemirror_mode": {
    "name": "ipython",
    "version": 2
   },
   "file_extension": ".py",
   "mimetype": "text/x-python",
   "name": "python",
   "nbconvert_exporter": "python",
   "pygments_lexer": "ipython2",
   "version": "2.7.6"
  }
 },
 "nbformat": 4,
 "nbformat_minor": 0
}