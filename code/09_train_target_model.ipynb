{
 "cells": [
  {
   "cell_type": "code",
   "execution_count": null,
   "metadata": {
    "collapsed": true
   },
   "outputs": [],
   "source": [
    "feature_importance_df = (pd.concat(shap_importance_list, axis=1)\n",
    "                         .reset_index()\n",
    "                         .rename({'index': 'feature'}, axis=1)\n",
    "                         .melt(id_vars='feature', var_name='fold', value_name='importance'))\n",
    "\n",
    "avg_feature_importance = (feature_importance_df.groupby('feature')\n",
    "                          .agg(avg_importance = ('importance', 'mean'),\n",
    "                               std_importance = ('importance', 'std'))\n",
    "                          .sort_values('avg_importance', ascending=False)\n",
    "                          .reset_index())\n",
    "avg_feature_importance['importance_high'] = avg_feature_importance['avg_importance'] + 2*avg_feature_importance['std_importance']\n",
    "avg_feature_importance['importance_low'] = avg_feature_importance['avg_importance'] - 2*avg_feature_importance['std_importance']\n",
    "\n",
    "\n",
    "top_n = 20\n",
    "top_features = avg_feature_importance.head(top_n)\n",
    "top_features['feature'] = pd.Categorical(top_features['feature'], categories=top_features['feature'])\n",
    "(gg.ggplot(top_features) +\n",
    " gg.aes(x='feature', y='avg_importance',\n",
    "        ymax='importance_high', ymin='importance_low') +\n",
    " gg.geom_col() +\n",
    " gg.geom_linerange() +\n",
    " gg.coord_flip())"
   ]
  }
 ],
 "metadata": {
  "kernelspec": {
   "display_name": "Python 3",
   "language": "python",
   "name": "python3"
  },
  "language_info": {
   "codemirror_mode": {
    "name": "ipython",
    "version": 2
   },
   "file_extension": ".py",
   "mimetype": "text/x-python",
   "name": "python",
   "nbconvert_exporter": "python",
   "pygments_lexer": "ipython2",
   "version": "2.7.6"
  }
 },
 "nbformat": 4,
 "nbformat_minor": 0
}