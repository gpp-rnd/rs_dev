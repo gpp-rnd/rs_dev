{
 "cells": [
  {
   "cell_type": "markdown",
   "metadata": {
    "pycharm": {
     "name": "#%% md\n"
    }
   },
   "source": [
    "# Get Protein Sequences\n",
    "\n",
    "Get the entire amino acid sequence for all genes targeted in endogenous datasets."
   ]
  },
  {
   "cell_type": "code",
   "execution_count": 1,
   "metadata": {
    "collapsed": true,
    "jupyter": {
     "outputs_hidden": true
    }
   },
   "outputs": [],
   "source": [
    "import requests\n",
    "import sys\n",
    "from tqdm import tqdm\n",
    "import pandas as pd\n",
    "import json\n",
    "import numpy as np\n",
    "\n",
    "from datasets import expanded_dataset_list\n"
   ]
  },
  {
   "cell_type": "code",
   "execution_count": 2,
   "metadata": {
    "collapsed": false,
    "jupyter": {
     "outputs_hidden": false
    },
    "pycharm": {
     "name": "#%%\n"
    }
   },
   "outputs": [],
   "source": [
    "def post_sequence_ids(ensembl_ids, data_args=None):\n",
    "    \"\"\"Take list of ensemble transcript IDs and return sequence\n",
    "\n",
    "    :param ensembl_ids: list of str\n",
    "    :param data_args: dict\n",
    "    :return: DataFrame\n",
    "    \"\"\"\n",
    "    if data_args is None:\n",
    "        data_args = {\"type\": \"protein\"}\n",
    "    data_args[\"ids\"] = ensembl_ids\n",
    "    headers= {\"content-type\" : \"application/json\", \"Accept\" : \"application/json\"}\n",
    "    server = \"https://rest.ensembl.org\"\n",
    "    ext = \"/sequence/id/\"\n",
    "    r = requests.post(server+ext, headers=headers,\n",
    "                      data=json.dumps(data_args))\n",
    "    if not r.ok:\n",
    "        r.raise_for_status()\n",
    "        sys.exit()\n",
    "    decoded = r.json()\n",
    "    sequence_df = pd.DataFrame(decoded)\n",
    "    return sequence_df\n",
    "\n",
    "\n",
    "def get_translation_overlap(ensembl_id, data_args=None):\n",
    "    \"\"\"Get features that overlap with translation, such as protein domains\n",
    "\n",
    "    :param ensembl_id: str\n",
    "    :param data_args: dict\n",
    "    :return: DataFrame\n",
    "    \"\"\"\n",
    "    if data_args is None:\n",
    "        data_args = {}\n",
    "    headers = {'content-type': 'application/json'}\n",
    "    server = \"https://rest.ensembl.org/\"\n",
    "    ext = 'overlap/translation/' + ensembl_id\n",
    "    r = requests.get(server + ext, headers=headers,\n",
    "                     data=data_args)\n",
    "    if not r.ok:\n",
    "        r.raise_for_status()\n",
    "        sys.exit()\n",
    "    decoded = r.json()\n",
    "    feature_df = pd.DataFrame(decoded)\n",
    "    return feature_df"
   ]
  },
  {
   "cell_type": "code",
   "execution_count": 3,
   "metadata": {
    "collapsed": false,
    "jupyter": {
     "outputs_hidden": false
    },
    "pycharm": {
     "name": "#%%\n"
    }
   },
   "outputs": [
    {
     "name": "stderr",
     "output_type": "stream",
     "text": [
      "100%|██████████| 9/9 [00:35<00:00,  3.92s/it]\n"
     ]
    }
   ],
   "source": [
    "data_list = list()\n",
    "for ds in expanded_dataset_list:\n",
    "    if ds.endogenous:\n",
    "        data_list.append(ds)\n",
    "\n",
    "design_list = list()\n",
    "for ds in tqdm(data_list):\n",
    "    ds.load_data()\n",
    "    ds.set_sgrnas()\n",
    "    design_list.append(ds.get_designs())"
   ]
  },
  {
   "cell_type": "code",
   "execution_count": 4,
   "metadata": {
    "collapsed": false,
    "jupyter": {
     "outputs_hidden": false
    },
    "pycharm": {
     "name": "#%%\n"
    }
   },
   "outputs": [
    {
     "data": {
      "text/plain": "3004"
     },
     "execution_count": 4,
     "metadata": {},
     "output_type": "execute_result"
    }
   ],
   "source": [
    "design_df = (pd.concat(design_list)\n",
    "             .drop_duplicates())\n",
    "transcripts = (design_df['Target Transcript']\n",
    "               .str.split('.', expand=True)[0]\n",
    "               .unique())\n",
    "len(transcripts)"
   ]
  },
  {
   "cell_type": "code",
   "execution_count": 5,
   "metadata": {
    "collapsed": false,
    "jupyter": {
     "outputs_hidden": false
    },
    "pycharm": {
     "name": "#%%\n"
    }
   },
   "outputs": [
    {
     "name": "stderr",
     "output_type": "stream",
     "text": [
      "100%|██████████| 61/61 [03:46<00:00,  3.72s/it]\n"
     ]
    }
   ],
   "source": [
    "transcipt_sequence_list = []\n",
    "for chunk_transcripts in tqdm(np.array_split(transcripts, np.ceil(len(transcripts)/50))):\n",
    "    transcipt_sequence_list.append(post_sequence_ids(list(chunk_transcripts)))"
   ]
  },
  {
   "cell_type": "markdown",
   "metadata": {
    "pycharm": {
     "name": "#%% md\n"
    }
   },
   "source": [
    "Missing genes appear primarily to be outdated transcript IDs from a manual check"
   ]
  },
  {
   "cell_type": "code",
   "execution_count": 6,
   "metadata": {
    "collapsed": false,
    "jupyter": {
     "outputs_hidden": false
    },
    "pycharm": {
     "name": "#%%\n"
    }
   },
   "outputs": [
    {
     "name": "stdout",
     "output_type": "stream",
     "text": [
      "Missing: ENST00000611665, ENST00000622530, ENST00000368563, ENST00000377815, ENST00000618014, ENST00000424325, ENST00000650726, ENST00000572844, ENST00000344894, ENST00000355883, ENST00000648169, ENST00000449977\n"
     ]
    }
   ],
   "source": [
    "transcript_sequence_df = (pd.concat(transcipt_sequence_list)\n",
    "                          .reset_index(drop=True)\n",
    "                          .rename({'query': 'Transcript Base'}, axis=1))\n",
    "transcript_series = pd.Series(transcripts)\n",
    "missing_sequences = transcript_series[~transcript_series.isin(transcript_sequence_df['Transcript Base'])]\n",
    "print('Missing: ' + ', '.join(missing_sequences))\n"
   ]
  },
  {
   "cell_type": "markdown",
   "source": [
    "We'll filter any proteins that are not the same length as the length in the designs file"
   ],
   "metadata": {
    "collapsed": false,
    "pycharm": {
     "name": "#%% md\n"
    }
   }
  },
  {
   "cell_type": "code",
   "execution_count": 7,
   "outputs": [
    {
     "name": "stdout",
     "output_type": "stream",
     "text": [
      "Filtered: 20 misaligned proteins\n"
     ]
    }
   ],
   "source": [
    "transcript_lens = design_df[['Target Transcript', 'Target Total Length']].drop_duplicates()\n",
    "transcript_lens['Transcript Base'] =  transcript_lens['Target Transcript'].str.split('.', expand=True)[0]\n",
    "transcript_sequence_lens = (transcript_sequence_df.merge(transcript_lens, how='inner',\n",
    "                                                         on='Transcript Base'))\n",
    "transcript_sequence_lens['AA len'] = transcript_sequence_lens['seq'].str.len()\n",
    "filtered_transcript_sequence_lens = transcript_sequence_lens[transcript_sequence_lens['Target Total Length'] ==\n",
    "                                                             (transcript_sequence_lens['AA len'] + 1)*3].copy()\n",
    "print('Filtered: ' + str(transcript_sequence_df.shape[0] - filtered_transcript_sequence_lens.shape[0]) +\n",
    "      ' misaligned proteins')"
   ],
   "metadata": {
    "collapsed": false,
    "pycharm": {
     "name": "#%%\n"
    }
   }
  },
  {
   "cell_type": "markdown",
   "metadata": {
    "pycharm": {
     "name": "#%% md\n"
    }
   },
   "source": [
    "## Get Protein Domains\n",
    "\n",
    "Get all annotated protein domains based on protein ID. Information about annotations can be found here:\n",
    "http://m.ensembl.org/Help/View?id=178"
   ]
  },
  {
   "cell_type": "code",
   "execution_count": 8,
   "metadata": {
    "collapsed": false,
    "jupyter": {
     "outputs_hidden": false
    },
    "pycharm": {
     "name": "#%%\n"
    }
   },
   "outputs": [
    {
     "name": "stderr",
     "output_type": "stream",
     "text": [
      "100%|██████████| 2972/2972 [30:11<00:00,  1.64it/s] \n"
     ]
    }
   ],
   "source": [
    "translation_overlap_list = []\n",
    "for protein_id in tqdm(filtered_transcript_sequence_lens['id'].unique()):\n",
    "    translation_overlap_list.append(get_translation_overlap(protein_id))"
   ]
  },
  {
   "cell_type": "code",
   "execution_count": 9,
   "metadata": {
    "collapsed": false,
    "jupyter": {
     "outputs_hidden": false
    },
    "pycharm": {
     "name": "#%%\n"
    }
   },
   "outputs": [
    {
     "data": {
      "text/plain": "sifts               18147\nSeg                  9451\nMobiDBLite           7842\nPfam                 6049\nPANTHER              5532\nGene3D               5111\nSuperFamily          3943\nSmart                3825\nProsite_profiles     3144\nPRINTS               2883\nCDD                  2325\nncoils               2201\nProsite_patterns     1322\nTMHMM                 542\nTIGRfam               435\nPIRSF                 427\nHAMAP                 285\nSignalP                56\nSFLD                   46\nName: type, dtype: int64"
     },
     "execution_count": 9,
     "metadata": {},
     "output_type": "execute_result"
    }
   ],
   "source": [
    "translation_overlap_df = (pd.concat(translation_overlap_list)\n",
    "                          .reset_index(drop=True)\n",
    "                          .rename({'Parent': 'Transcript Base'}, axis=1))\n",
    "translation_overlap_df['type'].value_counts()"
   ]
  },
  {
   "cell_type": "code",
   "execution_count": 10,
   "metadata": {
    "collapsed": false,
    "jupyter": {
     "outputs_hidden": false
    },
    "pycharm": {
     "name": "#%%\n"
    }
   },
   "outputs": [
    {
     "data": {
      "text/plain": "seg            9451\nmobidb-lite    7842\nCoil           2201\nSM00320         842\nTMhelix         542\nPF00400         441\nPS50082         426\n3.40.50.300     409\nSSF52540        385\nSM00355         285\n2.130.10.10     230\nSSF48371        229\nPS50157         226\n3.30.160.60     221\nPS00028         216\nPR00320         177\nSM00028         173\nSM00386         158\nSSF57667        154\nPS00678         154\nSSF50978        147\n3.30.70.330     145\nPS50294         145\nPS50005         141\nSSF54928        136\nSM00360         133\nPS50102         130\nPF00076         128\n1.25.40.10      127\n1.25.10.10      124\nSSF48452        122\nPF00096         108\n2.40.50.140     102\nSSF50249        101\nSM00382          99\nSM00490          96\nPS51194          96\nPS51192          96\nSM00487          94\nPF00271          92\nPR00315          85\nPS51450          83\nPF00270          70\nSSF46785         69\ncd00009          68\nSSF56112         67\nPR00304          65\n3.30.40.10       64\ncd00200          64\nPS50293          62\nName: id, dtype: int64"
     },
     "execution_count": 10,
     "metadata": {},
     "output_type": "execute_result"
    }
   ],
   "source": [
    "translation_overlap_df['id'].value_counts().head(50)"
   ]
  },
  {
   "cell_type": "markdown",
   "metadata": {
    "pycharm": {
     "name": "#%% md\n"
    }
   },
   "source": [
    "## Output"
   ]
  },
  {
   "cell_type": "code",
   "execution_count": 11,
   "metadata": {
    "collapsed": false,
    "jupyter": {
     "outputs_hidden": false
    },
    "pycharm": {
     "name": "#%%\n"
    }
   },
   "outputs": [],
   "source": [
    "filtered_transcript_sequence_lens.to_csv('../data/interim/aa_seqs.csv', index=False)\n",
    "translation_overlap_df.to_csv('../data/interim/protein_domains.csv', index=False)"
   ]
  },
  {
   "cell_type": "code",
   "execution_count": 11,
   "metadata": {
    "collapsed": false,
    "jupyter": {
     "outputs_hidden": false
    },
    "pycharm": {
     "name": "#%%\n"
    }
   },
   "outputs": [],
   "source": []
  }
 ],
 "metadata": {
  "kernelspec": {
   "display_name": "Python 3",
   "language": "python",
   "name": "python3"
  },
  "language_info": {
   "codemirror_mode": {
    "name": "ipython",
    "version": 3
   },
   "file_extension": ".py",
   "mimetype": "text/x-python",
   "name": "python",
   "nbconvert_exporter": "python",
   "pygments_lexer": "ipython3",
   "version": "3.8.8"
  }
 },
 "nbformat": 4,
 "nbformat_minor": 4
}