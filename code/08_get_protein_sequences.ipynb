{
 "cells": [
  {
   "cell_type": "markdown",
   "metadata": {
    "pycharm": {
     "name": "#%% md\n"
    }
   },
   "source": [
    "# Get Protein Sequences\n",
    "\n",
    "Get the entire amino acid sequence for all genes targeted in endogenous datasets."
   ]
  },
  {
   "cell_type": "code",
   "execution_count": 1,
   "metadata": {
    "collapsed": true,
    "jupyter": {
     "outputs_hidden": true
    }
   },
   "outputs": [],
   "source": [
    "import requests\n",
    "import sys\n",
    "from datasets import dataset_list\n",
    "from tqdm import tqdm\n",
    "import pandas as pd\n",
    "import json\n",
    "import numpy as np"
   ]
  },
  {
   "cell_type": "code",
   "execution_count": 13,
   "metadata": {
    "collapsed": false,
    "jupyter": {
     "outputs_hidden": false
    },
    "pycharm": {
     "name": "#%%\n"
    }
   },
   "outputs": [],
   "source": [
    "def post_sequence_ids(ensembl_ids, data_args=None):\n",
    "    \"\"\"Take list of ensemble transcript IDs and return sequence\n",
    "\n",
    "    :param ensembl_ids: list of str\n",
    "    :param data_args: dict\n",
    "    :return: DataFrame\n",
    "    \"\"\"\n",
    "    if data_args is None:\n",
    "        data_args = {\"type\": \"protein\"}\n",
    "    data_args[\"ids\"] = ensembl_ids\n",
    "    headers= {\"content-type\" : \"application/json\", \"Accept\" : \"application/json\"}\n",
    "    server = \"https://rest.ensembl.org\"\n",
    "    ext = \"/sequence/id/\"\n",
    "    r = requests.post(server+ext, headers=headers,\n",
    "                      data=json.dumps(data_args))\n",
    "    if not r.ok:\n",
    "        r.raise_for_status()\n",
    "        sys.exit()\n",
    "    decoded = r.json()\n",
    "    sequence_df = pd.DataFrame(decoded)\n",
    "    return sequence_df\n",
    "\n",
    "\n",
    "def get_translation_overlap(ensembl_id, data_args=None):\n",
    "    if data_args is None:\n",
    "        data_args = {}\n",
    "    headers = {'content-type': 'application/json'}\n",
    "    server = \"https://rest.ensembl.org/\"\n",
    "    ext = 'overlap/translation/' + ensembl_id\n",
    "    r = requests.get(server + ext, headers=headers,\n",
    "                     data=data_args)\n",
    "    if not r.ok:\n",
    "        r.raise_for_status()\n",
    "        sys.exit()\n",
    "    decoded = r.json()\n",
    "    feature_df = pd.DataFrame(decoded)\n",
    "    return feature_df"
   ]
  },
  {
   "cell_type": "code",
   "execution_count": 3,
   "metadata": {
    "collapsed": false,
    "jupyter": {
     "outputs_hidden": false
    },
    "pycharm": {
     "name": "#%%\n"
    }
   },
   "outputs": [
    {
     "name": "stderr",
     "output_type": "stream",
     "text": [
      "100%|██████████| 8/8 [00:24<00:00,  3.09s/it]\n"
     ]
    }
   ],
   "source": [
    "data_list = list()\n",
    "for ds in dataset_list:\n",
    "    if ds.endogenous:\n",
    "        data_list.append(ds)\n",
    "\n",
    "design_list = list()\n",
    "for ds in tqdm(data_list):\n",
    "    ds.load_data()\n",
    "    ds.set_sgrnas()\n",
    "    design_list.append(ds.get_designs())"
   ]
  },
  {
   "cell_type": "code",
   "execution_count": 4,
   "metadata": {
    "collapsed": false,
    "jupyter": {
     "outputs_hidden": false
    },
    "pycharm": {
     "name": "#%%\n"
    }
   },
   "outputs": [
    {
     "data": {
      "text/plain": [
       "2998"
      ]
     },
     "execution_count": 4,
     "metadata": {},
     "output_type": "execute_result"
    }
   ],
   "source": [
    "design_df = (pd.concat(design_list)\n",
    "             .drop_duplicates())\n",
    "transcripts = (design_df['Target Transcript']\n",
    "               .str.split('.', expand=True)[0]\n",
    "               .unique())\n",
    "len(transcripts)"
   ]
  },
  {
   "cell_type": "code",
   "execution_count": 5,
   "metadata": {
    "collapsed": false,
    "jupyter": {
     "outputs_hidden": false
    },
    "pycharm": {
     "name": "#%%\n"
    }
   },
   "outputs": [
    {
     "name": "stderr",
     "output_type": "stream",
     "text": [
      "100%|██████████| 60/60 [05:12<00:00,  5.21s/it]\n"
     ]
    }
   ],
   "source": [
    "transcipt_sequence_list = []\n",
    "for chunk_transcripts in tqdm(np.array_split(transcripts, np.ceil(len(transcripts)/50))):\n",
    "    transcipt_sequence_list.append(post_sequence_ids(list(chunk_transcripts)))"
   ]
  },
  {
   "cell_type": "markdown",
   "metadata": {
    "pycharm": {
     "name": "#%% md\n"
    }
   },
   "source": [
    "Missing genes appear primarily to be outdated transcript IDs"
   ]
  },
  {
   "cell_type": "code",
   "execution_count": 6,
   "metadata": {
    "collapsed": false,
    "jupyter": {
     "outputs_hidden": false
    },
    "pycharm": {
     "name": "#%%\n"
    }
   },
   "outputs": [
    {
     "name": "stdout",
     "output_type": "stream",
     "text": [
      "Missing: ENST00000611665, ENST00000622530, ENST00000368563, ENST00000377815, ENST00000618014, ENST00000424325, ENST00000650726, ENST00000572844, ENST00000344894, ENST00000355883, ENST00000648169, ENST00000449977\n"
     ]
    }
   ],
   "source": [
    "transcript_sequence_df = (pd.concat(transcipt_sequence_list)\n",
    "                          .reset_index(drop=True)\n",
    "                          .rename({'query': 'Transcript Base'}, axis=1))\n",
    "transcript_series = pd.Series(transcripts)\n",
    "missing_sequences = transcript_series[~transcript_series.isin(transcript_sequence_df['Transcript Base'])]\n",
    "print('Missing: ' + ', '.join(missing_sequences))\n"
   ]
  },
  {
   "cell_type": "markdown",
   "metadata": {
    "pycharm": {
     "name": "#%% md\n"
    }
   },
   "source": [
    "## Get Protein Domains\n",
    "\n",
    "Get all annotated protein domains based on ptrotein ID. Information about annotations can be found here: http://m.ensembl.org/Help/View?id=178"
   ]
  },
  {
   "cell_type": "code",
   "execution_count": 17,
   "metadata": {
    "collapsed": false,
    "jupyter": {
     "outputs_hidden": false
    },
    "pycharm": {
     "name": "#%%\n"
    }
   },
   "outputs": [
    {
     "name": "stderr",
     "output_type": "stream",
     "text": [
      "100%|██████████| 2986/2986 [38:36<00:00,  1.29it/s] \n"
     ]
    }
   ],
   "source": [
    "translation_overlap_list = []\n",
    "for protein_id in tqdm(transcript_sequence_df['id'].unique()):\n",
    "    translation_overlap_list.append(get_translation_overlap(protein_id))"
   ]
  },
  {
   "cell_type": "code",
   "execution_count": 19,
   "metadata": {
    "collapsed": false,
    "jupyter": {
     "outputs_hidden": false
    },
    "pycharm": {
     "name": "#%%\n"
    }
   },
   "outputs": [
    {
     "data": {
      "text/plain": [
       "sifts               18687\n",
       "Seg                  9515\n",
       "MobiDBLite           7753\n",
       "Pfam                 5967\n",
       "PANTHER              5309\n",
       "Gene3D               5049\n",
       "SuperFamily          3898\n",
       "Smart                3772\n",
       "Prosite_profiles     3111\n",
       "PRINTS               2855\n",
       "CDD                  2321\n",
       "ncoils               2178\n",
       "Prosite_patterns     1308\n",
       "TMHMM                 539\n",
       "TIGRfam               429\n",
       "PIRSF                 423\n",
       "HAMAP                 285\n",
       "SignalP                56\n",
       "SFLD                   46\n",
       "Name: type, dtype: int64"
      ]
     },
     "execution_count": 19,
     "metadata": {},
     "output_type": "execute_result"
    }
   ],
   "source": [
    "translation_overlap_df = (pd.concat(translation_overlap_list)\n",
    "                          .reset_index(drop=True)\n",
    "                          .rename({'Parent': 'Transcript Base'}, axis=1))\n",
    "translation_overlap_df['type'].value_counts()"
   ]
  },
  {
   "cell_type": "code",
   "execution_count": 21,
   "metadata": {
    "collapsed": false,
    "jupyter": {
     "outputs_hidden": false
    },
    "pycharm": {
     "name": "#%%\n"
    }
   },
   "outputs": [
    {
     "data": {
      "text/plain": [
       "seg            9515\n",
       "mobidb-lite    7753\n",
       "Coil           2178\n",
       "SM00320         854\n",
       "TMhelix         539\n",
       "PF00400         450\n",
       "PS50082         435\n",
       "3.40.50.300     402\n",
       "SSF52540        383\n",
       "SM00355         285\n",
       "2.130.10.10     233\n",
       "PS50157         226\n",
       "SSF48371        226\n",
       "3.30.160.60     220\n",
       "PS00028         216\n",
       "PR00320         180\n",
       "SM00028         168\n",
       "PS00678         157\n",
       "SSF57667        153\n",
       "SSF50978        149\n",
       "PS50294         147\n",
       "3.30.70.330     145\n",
       "PS50005         139\n",
       "SSF54928        136\n",
       "SM00360         133\n",
       "SM00386         132\n",
       "PS50102         130\n",
       "PF00076         128\n",
       "1.25.10.10      122\n",
       "1.25.40.10      117\n",
       "SSF48452        114\n",
       "PF00096         108\n",
       "2.40.50.140     102\n",
       "SM00382         101\n",
       "SSF50249        100\n",
       "PS51194          93\n",
       "PS51192          93\n",
       "SM00490          93\n",
       "SM00487          91\n",
       "PF00271          89\n",
       "PS51450          83\n",
       "PR00315          81\n",
       "cd00009          71\n",
       "SSF46785         69\n",
       "PF00270          67\n",
       "cd00200          65\n",
       "SSF56112         65\n",
       "3.30.40.10       64\n",
       "PR00304          60\n",
       "PR00301          58\n",
       "Name: id, dtype: int64"
      ]
     },
     "execution_count": 21,
     "metadata": {},
     "output_type": "execute_result"
    }
   ],
   "source": [
    "translation_overlap_df['id'].value_counts().head(50)"
   ]
  },
  {
   "cell_type": "markdown",
   "metadata": {
    "pycharm": {
     "name": "#%% md\n"
    }
   },
   "source": [
    "## Output"
   ]
  },
  {
   "cell_type": "code",
   "execution_count": 24,
   "metadata": {
    "collapsed": false,
    "jupyter": {
     "outputs_hidden": false
    },
    "pycharm": {
     "name": "#%%\n"
    }
   },
   "outputs": [],
   "source": [
    "transcript_sequence_df.to_csv('../data/interim/aa_seqs.csv', index=False)\n",
    "translation_overlap_df.to_csv('../data/interim/protein_domains.csv', index=False)"
   ]
  },
  {
   "cell_type": "code",
   "execution_count": null,
   "metadata": {
    "collapsed": false,
    "jupyter": {
     "outputs_hidden": false
    },
    "pycharm": {
     "name": "#%%\n"
    }
   },
   "outputs": [],
   "source": []
  }
 ],
 "metadata": {
  "kernelspec": {
   "display_name": "Python 3",
   "language": "python",
   "name": "python3"
  },
  "language_info": {
   "codemirror_mode": {
    "name": "ipython",
    "version": 3
   },
   "file_extension": ".py",
   "mimetype": "text/x-python",
   "name": "python",
   "nbconvert_exporter": "python",
   "pygments_lexer": "ipython3",
   "version": "3.8.8"
  }
 },
 "nbformat": 4,
 "nbformat_minor": 4
}
