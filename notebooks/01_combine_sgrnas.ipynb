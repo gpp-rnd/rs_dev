{
 "cells": [
  {
   "cell_type": "markdown",
   "metadata": {},
   "source": [
    "# Combine sgRNAs\n",
    "Here we get a dataframe of all sgRNAs for all processed datasets to use for scoring"
   ]
  },
  {
   "cell_type": "code",
   "execution_count": 1,
   "metadata": {
    "tags": []
   },
   "outputs": [],
   "source": [
    "import pandas as pd\n",
    "from datasets import dataset_list\n",
    "from scipy import stats\n",
    "import networkx as nx\n",
    "import matplotlib.pyplot as plt\n",
    "import matplotlib as mpl"
   ]
  },
  {
   "cell_type": "markdown",
   "metadata": {},
   "source": [
    "We need to load the datasets first"
   ]
  },
  {
   "cell_type": "code",
   "execution_count": 2,
   "metadata": {
    "collapsed": false,
    "jupyter": {
     "outputs_hidden": false
    },
    "pycharm": {
     "name": "#%%\n"
    }
   },
   "outputs": [],
   "source": [
    "for ds in dataset_list:\n",
    "    ds.load_data()"
   ]
  },
  {
   "cell_type": "code",
   "execution_count": 3,
   "metadata": {
    "collapsed": false,
    "jupyter": {
     "outputs_hidden": false
    },
    "pycharm": {
     "name": "#%%\n"
    }
   },
   "outputs": [
    {
     "data": {
      "text/html": [
       "<div>\n",
       "<style scoped>\n",
       "    .dataframe tbody tr th:only-of-type {\n",
       "        vertical-align: middle;\n",
       "    }\n",
       "\n",
       "    .dataframe tbody tr th {\n",
       "        vertical-align: top;\n",
       "    }\n",
       "\n",
       "    .dataframe thead th {\n",
       "        text-align: right;\n",
       "    }\n",
       "</style>\n",
       "<table border=\"1\" class=\"dataframe\">\n",
       "  <thead>\n",
       "    <tr style=\"text-align: right;\">\n",
       "      <th></th>\n",
       "      <th>name</th>\n",
       "      <th>n_sgRNAs</th>\n",
       "      <th>n_groups</th>\n",
       "    </tr>\n",
       "  </thead>\n",
       "  <tbody>\n",
       "    <tr>\n",
       "      <th>7</th>\n",
       "      <td>Kim2019_test</td>\n",
       "      <td>536</td>\n",
       "      <td>NaN</td>\n",
       "    </tr>\n",
       "    <tr>\n",
       "      <th>4</th>\n",
       "      <td>Doench2014_human</td>\n",
       "      <td>995</td>\n",
       "      <td>3.0</td>\n",
       "    </tr>\n",
       "    <tr>\n",
       "      <th>10</th>\n",
       "      <td>Wang_2014</td>\n",
       "      <td>1022</td>\n",
       "      <td>29.0</td>\n",
       "    </tr>\n",
       "    <tr>\n",
       "      <th>1</th>\n",
       "      <td>Chari2015</td>\n",
       "      <td>1145</td>\n",
       "      <td>NaN</td>\n",
       "    </tr>\n",
       "    <tr>\n",
       "      <th>3</th>\n",
       "      <td>Doench2014_mouse</td>\n",
       "      <td>1169</td>\n",
       "      <td>7.0</td>\n",
       "    </tr>\n",
       "    <tr>\n",
       "      <th>5</th>\n",
       "      <td>Doench2016</td>\n",
       "      <td>2536</td>\n",
       "      <td>8.0</td>\n",
       "    </tr>\n",
       "    <tr>\n",
       "      <th>2</th>\n",
       "      <td>DeWeirdt2020</td>\n",
       "      <td>4630</td>\n",
       "      <td>13.0</td>\n",
       "    </tr>\n",
       "    <tr>\n",
       "      <th>9</th>\n",
       "      <td>Shalem_2014</td>\n",
       "      <td>4766</td>\n",
       "      <td>1249.0</td>\n",
       "    </tr>\n",
       "    <tr>\n",
       "      <th>8</th>\n",
       "      <td>Koike-Yusa2014</td>\n",
       "      <td>6689</td>\n",
       "      <td>1437.0</td>\n",
       "    </tr>\n",
       "    <tr>\n",
       "      <th>0</th>\n",
       "      <td>Aguirre2017</td>\n",
       "      <td>8659</td>\n",
       "      <td>1532.0</td>\n",
       "    </tr>\n",
       "    <tr>\n",
       "      <th>6</th>\n",
       "      <td>Kim2019_train</td>\n",
       "      <td>12832</td>\n",
       "      <td>NaN</td>\n",
       "    </tr>\n",
       "  </tbody>\n",
       "</table>\n",
       "</div>"
      ],
      "text/plain": [
       "                name  n_sgRNAs  n_groups\n",
       "7       Kim2019_test       536       NaN\n",
       "4   Doench2014_human       995       3.0\n",
       "10         Wang_2014      1022      29.0\n",
       "1          Chari2015      1145       NaN\n",
       "3   Doench2014_mouse      1169       7.0\n",
       "5         Doench2016      2536       8.0\n",
       "2       DeWeirdt2020      4630      13.0\n",
       "9        Shalem_2014      4766    1249.0\n",
       "8     Koike-Yusa2014      6689    1437.0\n",
       "0        Aguirre2017      8659    1532.0\n",
       "6      Kim2019_train     12832       NaN"
      ]
     },
     "execution_count": 3,
     "metadata": {},
     "output_type": "execute_result"
    }
   ],
   "source": [
    "dataset_summaries = []\n",
    "for ds in dataset_list:\n",
    "    ds_summary = {}\n",
    "    ds_summary['name'] = ds.name\n",
    "    ds_summary['n_sgRNAs'] = ds.dataset.shape[0]\n",
    "    if ds.sgrna_group_col is not None:\n",
    "        ds_summary['n_groups'] = ds.dataset[ds.sgrna_group_col].nunique()\n",
    "    dataset_summaries.append(ds_summary)\n",
    "\n",
    "dataset_summary_df = pd.DataFrame(dataset_summaries)\n",
    "dataset_summary_df.sort_values('n_sgRNAs')"
   ]
  },
  {
   "cell_type": "markdown",
   "metadata": {},
   "source": [
    "## Overlap between datasets\n",
    "\n",
    "For each dataset we'll calculate the fraction of sgRNAs that each library shares with one another"
   ]
  },
  {
   "cell_type": "code",
   "execution_count": 4,
   "metadata": {
    "collapsed": false,
    "jupyter": {
     "outputs_hidden": false
    },
    "pycharm": {
     "name": "#%%\n"
    }
   },
   "outputs": [],
   "source": [
    "dataset_overlaps = []\n",
    "for ds1 in dataset_list:\n",
    "    for ds2 in dataset_list:\n",
    "        if ds1 != ds2:\n",
    "            dataset_overlap = {}\n",
    "            dataset_overlap['name_1'] = ds1.name\n",
    "            dataset_overlap['name_2'] = ds2.name\n",
    "            common_context = (ds1.dataset[ds1.context_seq_col]\n",
    "                              .isin(ds2.dataset[ds2.context_seq_col])\n",
    "                              .sum())\n",
    "            dataset_overlap['overlap'] = common_context\n",
    "            if common_context > 1:\n",
    "                merged_data = (ds1.dataset\n",
    "                               .rename({ds1.rank_col: ds1.rank_col + ds1.name + '1'}, axis=1)\n",
    "                               .merge(ds2.dataset\n",
    "                                      .rename({ds2.rank_col: ds2.rank_col + ds2.name + '2'}, axis=1),\n",
    "                                      how='inner',\n",
    "                                      left_on=ds1.context_seq_col, right_on=ds2.context_seq_col))\n",
    "                cor = stats.pearsonr(merged_data[ds1.rank_col + ds1.name + '1'],\n",
    "                                     merged_data[ds2.rank_col + ds2.name + '2'])[0]\n",
    "                dataset_overlap['activity_cor'] = cor\n",
    "            dataset_overlaps.append(dataset_overlap)\n",
    "\n",
    "dataset_overlap_df = pd.DataFrame(dataset_overlaps)\n",
    "filtered_overlap = dataset_overlap_df[dataset_overlap_df['overlap'] > 0].reset_index(drop=True)\n",
    "filtered_overlap = (filtered_overlap.merge(dataset_summary_df\n",
    "                                           .rename({'name': 'name_1'}, axis=1),\n",
    "                                           how='inner', on='name_1'))\n",
    "filtered_overlap['fraction_overlap'] = filtered_overlap['overlap']/filtered_overlap['n_sgRNAs']"
   ]
  },
  {
   "cell_type": "code",
   "execution_count": 5,
   "metadata": {
    "collapsed": false,
    "jupyter": {
     "outputs_hidden": false
    },
    "pycharm": {
     "name": "#%%\n"
    }
   },
   "outputs": [
    {
     "data": {
      "image/png": "[encoded data removed]",
      "text/plain": [
       "<Figure size 576x504 with 2 Axes>"
      ]
     },
     "metadata": {
      "needs_background": "light"
     },
     "output_type": "display_data"
    }
   ],
   "source": [
    "G = nx.from_pandas_edgelist(filtered_overlap, 'name_1', 'name_2', 'fraction_overlap',\n",
    "                            create_using=nx.DiGraph())\n",
    "node_n_sgrnas = (dataset_summary_df[['name', 'n_sgRNAs']]\n",
    "                 .set_index('name')\n",
    "                 .to_dict(orient='index'))\n",
    "nx.set_node_attributes(G, node_n_sgrnas)\n",
    "plt.subplots(figsize=(8,7))\n",
    "# layout\n",
    "pos = nx.spring_layout(G, seed=7)\n",
    "# edges\n",
    "edge_width = [d['fraction_overlap']*10 for u, v, d in G.edges(data=True)]\n",
    "edge_color_scale = [d['fraction_overlap'] for u, v, d in G.edges(data=True)]\n",
    "edges = nx.draw_networkx_edges(G, pos, arrowstyle=\"-|>\", connectionstyle=\"arc3,rad=0.1\",\n",
    "                               width=edge_width, edge_color=edge_color_scale)\n",
    "pc = mpl.collections.PatchCollection(edges, cmap=plt.cm.viridis)\n",
    "pc.set_array(edge_color_scale)\n",
    "plt.colorbar(pc, label='Fraction Overlap')\n",
    "# nodes\n",
    "node_size = [d['n_sgRNAs'] * 0.05 for n, d in G.nodes(data=True)]\n",
    "nx.draw_networkx_nodes(G, pos, node_size=node_size)\n",
    "# labels\n",
    "nx.draw_networkx_labels(G, pos)\n",
    "plt.axis('off')\n",
    "plt.margins(x=0.2)"
   ]
  },
  {
   "cell_type": "markdown",
   "metadata": {
    "jupyter": {
     "outputs_hidden": false
    },
    "pycharm": {
     "name": "#%% md\n"
    }
   },
   "source": [
    "## Getting list of all sgRNAs"
   ]
  },
  {
   "cell_type": "code",
   "execution_count": 6,
   "metadata": {
    "collapsed": false,
    "jupyter": {
     "outputs_hidden": false
    },
    "pycharm": {
     "name": "#%%\n"
    }
   },
   "outputs": [
    {
     "name": "stdout",
     "output_type": "stream",
     "text": [
      "36635\n"
     ]
    }
   ],
   "source": [
    "sgrna_dfs_list = list()\n",
    "for ds in dataset_list:\n",
    "    sgrna_dfs_list.append(ds.get_sg_df())\n",
    "\n",
    "sgrna_df = (pd.concat(sgrna_dfs_list)\n",
    "            .drop_duplicates())\n",
    "\n",
    "print(sgrna_df.shape[0])"
   ]
  },
  {
   "cell_type": "code",
   "execution_count": 7,
   "metadata": {
    "collapsed": false,
    "jupyter": {
     "outputs_hidden": false
    },
    "pycharm": {
     "name": "#%%\n"
    }
   },
   "outputs": [
    {
     "data": {
      "text/plain": [
       "TGG    14189\n",
       "AGG    12243\n",
       "CGG     5806\n",
       "GGG     4397\n",
       "Name: PAM Sequence, dtype: int64"
      ]
     },
     "execution_count": 7,
     "metadata": {},
     "output_type": "execute_result"
    }
   ],
   "source": [
    "sgrna_df['PAM Sequence'].value_counts()"
   ]
  },
  {
   "cell_type": "code",
   "execution_count": 8,
   "metadata": {
    "collapsed": false,
    "jupyter": {
     "outputs_hidden": false
    },
    "pycharm": {
     "name": "#%%\n"
    }
   },
   "outputs": [],
   "source": [
    "sgrna_df.to_csv('../data/interim/rs_dev_all_sgrnas.csv', index=False)"
   ]
  },
  {
   "cell_type": "code",
   "execution_count": 8,
   "metadata": {
    "collapsed": false,
    "jupyter": {
     "outputs_hidden": false
    },
    "pycharm": {
     "name": "#%%\n"
    }
   },
   "outputs": [],
   "source": []
  }
 ],
 "metadata": {
  "kernelspec": {
   "display_name": "Python 3",
   "language": "python",
   "name": "python3"
  },
  "language_info": {
   "codemirror_mode": {
    "name": "ipython",
    "version": 3
   },
   "file_extension": ".py",
   "mimetype": "text/x-python",
   "name": "python",
   "nbconvert_exporter": "python",
   "pygments_lexer": "ipython3",
   "version": "3.8.3"
  }
 },
 "nbformat": 4,
 "nbformat_minor": 4
}
