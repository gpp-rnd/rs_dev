{
 "cells": [
  {
   "cell_type": "markdown",
   "id": "cutting-height",
   "metadata": {},
   "source": [
    "# Processing Kim 2019\n",
    "Processing library on library screenf from [Kim et al. 2019](https://advances.sciencemag.org/content/5/11/eaax9249)\n",
    "\n",
    "Library Design: For the target sequences for the oligonucleotide pool, we extracted sequences from the human genome and generated random synthetic sequences without any information about the activity of the corresponding sgRNAs. We first randomly extracted 9824 target sequences from the GeCKOv1 library (40), excluding those with BsmBI sites in their sequences. From 1841 target sequences from the coding sequences of three human and six mouse cell surface marker–encoding genes (14) and 2549 sequences from genes related to resistance against vemurafenib, selumetinib, and 6-thioguanine (7), we obtained 1804 and 2484 target sequences, respectively, after excluding sequences containing BsmBI sites. For training the algorithm with guide sequences with extreme GC content, we randomly generated synthetic input sequences containing an NGG PAM with a total length of 30 nt using in-house Python scripts (Supplementary Code) and subsequently selected 998 input sequences containing guide sequences with extremely low or high GC content (≤20% or ≥80%). In addition, 546 endogenous target sequences from human coding and noncoding genes of interest designed for other studies in our laboratory were included; for this group, five unique barcodes per target sequence were used to yield fivefold coverage for each target site. Together, the set of 17,840 oligonucleotides is composed of 9824 + (1804 + 2484) + 998 + (546 × 5) oligonucleotides."
   ]
  },
  {
   "cell_type": "markdown",
   "id": "announced-index",
   "metadata": {},
   "source": [
    "### Data Filters\n",
    "1. pdna or etp > mean pdna -3 std"
   ]
  },
  {
   "cell_type": "code",
   "execution_count": 1,
   "id": "unlimited-qualification",
   "metadata": {},
   "outputs": [],
   "source": [
    "import pandas as pd\n",
    "import seaborn as sns\n",
    "from poola import core as pool"
   ]
  },
  {
   "cell_type": "code",
   "execution_count": 2,
   "id": "enormous-acquisition",
   "metadata": {},
   "outputs": [],
   "source": [
    "kim_train = pd.read_csv('../data/raw/Kim2019_S1_Train.csv')\n",
    "kim_test = pd.read_csv('../data/raw/Kim2019_S1_Test.csv')"
   ]
  },
  {
   "cell_type": "code",
   "execution_count": 3,
   "id": "grand-collaboration",
   "metadata": {},
   "outputs": [],
   "source": [
    "clean_train = (kim_train\n",
    "               .rename({'Target context sequence (4+20+3+3)': 'sgRNA Context Sequence', \n",
    "                        'Total read count (Day 0)': 'etp_reads', \n",
    "                        'Background subtracted indel (%)': 'indel_freq'}, axis=1)\n",
    "               [['sgRNA Context Sequence', 'etp_reads', 'indel_freq']])\n",
    "clean_train['sgRNA Sequence'] = clean_train['sgRNA Context Sequence'].str[4:24]\n",
    "clean_train['etp_lognorm'] = pool.lognorm(clean_train['etp_reads'])\n",
    "\n",
    "\n",
    "clean_test = (kim_test\n",
    "              .dropna()\n",
    "              .rename({'Target context sequence (4+20+3+3)': 'sgRNA Context Sequence', \n",
    "                       'Total read count (average, Day 0)': 'etp_reads', \n",
    "                       'Background subtracted indel frequencies\\n(average, %)': 'indel_freq'}, axis=1)\n",
    "              [['sgRNA Context Sequence', 'etp_reads', 'indel_freq']])\n",
    "clean_test['sgRNA Sequence'] = clean_test['sgRNA Context Sequence'].str[4:24]\n",
    "clean_test['etp_lognorm'] = pool.lognorm(clean_test['etp_reads'])"
   ]
  },
  {
   "cell_type": "code",
   "execution_count": 4,
   "id": "certified-dimension",
   "metadata": {},
   "outputs": [
    {
     "data": {
      "text/plain": [
       "<AxesSubplot:xlabel='etp_lognorm', ylabel='Count'>"
      ]
     },
     "execution_count": 4,
     "metadata": {},
     "output_type": "execute_result"
    },
    {
     "data": {
      "image/png": "[encoded data removed]",
      "text/plain": [
       "<Figure size 432x288 with 1 Axes>"
      ]
     },
     "metadata": {
      "needs_background": "light"
     },
     "output_type": "display_data"
    }
   ],
   "source": [
    "sns.histplot(clean_train['etp_lognorm'])"
   ]
  },
  {
   "cell_type": "code",
   "execution_count": 6,
   "id": "respiratory-xerox",
   "metadata": {},
   "outputs": [
    {
     "name": "stdout",
     "output_type": "stream",
     "text": [
      "pDNA filtered: 0\n"
     ]
    }
   ],
   "source": [
    "filtered_train = pool.filter_pdna(lognorm_df=clean_train, pdna_cols=['etp_lognorm'])\n",
    "print('pDNA filtered: ' + str(clean_train.shape[0] - filtered_train.shape[0]))"
   ]
  },
  {
   "cell_type": "code",
   "execution_count": 7,
   "id": "growing-lawrence",
   "metadata": {},
   "outputs": [
    {
     "data": {
      "text/plain": [
       "<AxesSubplot:xlabel='etp_lognorm', ylabel='Count'>"
      ]
     },
     "execution_count": 7,
     "metadata": {},
     "output_type": "execute_result"
    },
    {
     "data": {
      "image/png": "[encoded data removed]",
      "text/plain": [
       "<Figure size 432x288 with 1 Axes>"
      ]
     },
     "metadata": {
      "needs_background": "light"
     },
     "output_type": "display_data"
    }
   ],
   "source": [
    "sns.histplot(clean_test['etp_lognorm'])"
   ]
  },
  {
   "cell_type": "code",
   "execution_count": 8,
   "id": "occupational-consumer",
   "metadata": {},
   "outputs": [
    {
     "name": "stdout",
     "output_type": "stream",
     "text": [
      "pDNA filtered: 6\n"
     ]
    }
   ],
   "source": [
    "filtered_test = pool.filter_pdna(lognorm_df=clean_test, pdna_cols=['etp_lognorm'])\n",
    "print('pDNA filtered: ' + str(clean_test.shape[0] - filtered_test.shape[0]))"
   ]
  },
  {
   "cell_type": "code",
   "execution_count": 9,
   "id": "raising-programmer",
   "metadata": {},
   "outputs": [
    {
     "data": {
      "text/plain": [
       "<AxesSubplot:xlabel='indel_freq', ylabel='Count'>"
      ]
     },
     "execution_count": 9,
     "metadata": {},
     "output_type": "execute_result"
    },
    {
     "data": {
      "image/png": "[encoded data removed]",
      "text/plain": [
       "<Figure size 432x288 with 1 Axes>"
      ]
     },
     "metadata": {
      "needs_background": "light"
     },
     "output_type": "display_data"
    }
   ],
   "source": [
    "sns.histplot(filtered_train['indel_freq'])"
   ]
  },
  {
   "cell_type": "code",
   "execution_count": 10,
   "id": "bearing-consolidation",
   "metadata": {},
   "outputs": [
    {
     "data": {
      "text/plain": [
       "<AxesSubplot:xlabel='indel_freq', ylabel='Count'>"
      ]
     },
     "execution_count": 10,
     "metadata": {},
     "output_type": "execute_result"
    },
    {
     "data": {
      "image/png": "[encoded data removed]",
      "text/plain": [
       "<Figure size 432x288 with 1 Axes>"
      ]
     },
     "metadata": {
      "needs_background": "light"
     },
     "output_type": "display_data"
    }
   ],
   "source": [
    "sns.histplot(filtered_test['indel_freq'])"
   ]
  },
  {
   "cell_type": "code",
   "execution_count": 11,
   "id": "reasonable-revision",
   "metadata": {},
   "outputs": [],
   "source": [
    "output_cols = ['sgRNA Context Sequence', 'sgRNA Sequence', 'indel_freq']\n",
    "filtered_train[output_cols].to_csv('../data/processed/Kim2019_train_activity.csv', index=False)\n",
    "filtered_test[output_cols].to_csv('../data/processed/Kim2019_test_activity.csv', index=False)"
   ]
  },
  {
   "cell_type": "code",
   "execution_count": null,
   "id": "restricted-competition",
   "metadata": {},
   "outputs": [],
   "source": []
  }
 ],
 "metadata": {
  "kernelspec": {
   "display_name": "rs_dev",
   "language": "python",
   "name": "rs_dev"
  },
  "language_info": {
   "codemirror_mode": {
    "name": "ipython",
    "version": 3
   },
   "file_extension": ".py",
   "mimetype": "text/x-python",
   "name": "python",
   "nbconvert_exporter": "python",
   "pygments_lexer": "ipython3",
   "version": "3.8.3"
  }
 },
 "nbformat": 4,
 "nbformat_minor": 5
}