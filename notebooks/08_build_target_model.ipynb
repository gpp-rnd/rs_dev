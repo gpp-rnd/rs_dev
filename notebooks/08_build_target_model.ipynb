{
 "cells": [
  {
   "cell_type": "markdown",
   "source": [
    "# Build Target Model\n",
    "\n",
    "Here we work to expand our on target rules to include information about the target site.\n",
    "We consider three feature classes when building this model:\n",
    "\n",
    "1. Position within a gene\n",
    "  1. Guide orientation relative to the direction of transcription\n",
    "  2. Distance to the end of the CDS\n",
    "  3. Distance to the start of the CDS\n",
    "  4. Percent of CDS\n",
    "2. Amino acid information:\n",
    "  1. Position independent one-mers\n",
    "  2. \"\" two-mers\n",
    "  3. Position dependent one-mers\n",
    "  4. \"\" two-mers\n",
    "3. Conservation:\n",
    "  1. Of entire width\n",
    "  2. Position dependent conservation one-mers\n",
    "  3. \"\" two-mers"
   ],
   "metadata": {
    "collapsed": false,
    "pycharm": {
     "name": "#%% md\n"
    }
   }
  },
  {
   "cell_type": "code",
   "execution_count": 1,
   "metadata": {
    "collapsed": true
   },
   "outputs": [],
   "source": [
    "import pandas as pd\n",
    "from datasets import dataset_list\n",
    "from sklearn.model_selection import StratifiedGroupKFold\n",
    "from sklearn.base import clone\n",
    "import joblib\n",
    "import sglearn\n",
    "import seaborn as sns\n",
    "from tqdm import tqdm\n",
    "from lightgbm import LGBMRegressor\n",
    "\n",
    "from core import get_predictive_performance, plot_pearson_heatmap, plot_relative_performance"
   ]
  },
  {
   "cell_type": "code",
   "execution_count": 2,
   "outputs": [],
   "source": [
    "def featurize_target(df, features):\n",
    "    \"\"\"Featurize sgRNAs by their CDS target site.\n",
    "\n",
    "    :param df: DataFrame, has columns: 'sgRNA Context Sequence', 'Target Cut Length', 'Target Cut %', 'Target Total Length'\n",
    "    :param features: list\n",
    "    :return:\n",
    "    \"\"\"\n",
    "    feature_df_list = []\n",
    "    if 'position' in features:\n",
    "        position_df = df[['Target Cut Length', 'Target Cut %']].copy()\n",
    "        position_df = position_df.rename(columns={'Target Cut Length': 'dist. from start',\n",
    "                                                  'Target Cut %': 'dist. percent'})\n",
    "        position_df['sense'] = df['Orientation'] == 'sense'\n",
    "        position_df['dist. from end'] = df['Target Total Length'] - df['Target Cut Length']\n",
    "        feature_df_list.append(position_df)\n",
    "    feature_df = pd.concat(feature_df_list, axis=1)\n",
    "    feature_df = feature_df.set_index(df['sgRNA Context Sequence'])\n",
    "    return feature_df\n",
    "\n",
    "\n",
    "def train_test_model(train_df, features, model_name, fold, model, test_df, X_test):\n",
    "    \"\"\"Get predictions from train and test model\n",
    "\n",
    "    :param train_df: DataFrame\n",
    "    :param model_name: str, name of model\n",
    "    :param fold: int\n",
    "    :param model: model with a .fit function\n",
    "    :param test_df: DataFrame\n",
    "    :param X_test: DataFrame from sglearn.featurize_guides\n",
    "    :return: DataFrame, same shape as test_df with columns prediction, model, fold\n",
    "    \"\"\"\n",
    "    # TODO - modify featurization\n",
    "    X_train = featurize_target(train_df, features)\n",
    "    y_train = train_df['Residual Activity']\n",
    "    model.fit(X_train,  y_train)\n",
    "    dataset_test_predictions = test_df.copy()\n",
    "    dataset_test_predictions['prediction'] = model.predict(X_test)\n",
    "    dataset_test_predictions['model_name'] = model_name\n",
    "    dataset_test_predictions['fold'] = fold\n",
    "    return dataset_test_predictions\n",
    "\n",
    "\n",
    "def get_fold_predictions(fold, fold_df,\n",
    "                         base_model=LGBMRegressor(random_state=7, n_jobs=8),\n",
    "                         features=None, model_name=None):\n",
    "    \"\"\"Get predictions for a given fold, allowing for each dataset to be trained separately,\n",
    "    or multiple datasets trained together\n",
    "\n",
    "    :param fold: int\n",
    "    :param fold_df: DataFrame\n",
    "    :param base_model: model with a .fit function\n",
    "    :param features: list\n",
    "    :param model_name: str optional, only relevant if top_datasets is specified\n",
    "    :return: list of DataFrame, list of test predictions\n",
    "    \"\"\"\n",
    "    train_df = fold_df.query('train == True').reset_index(drop=True)\n",
    "    test_df = fold_df.query('train == False').reset_index(drop=True)\n",
    "    # TODO - featurize\n",
    "    X_test = featurize_target(test_df, features)\n",
    "    test_prediction_list = []\n",
    "    model = clone(base_model)\n",
    "    if model_name is None:\n",
    "        model_name = ' + '.join(features)\n",
    "    dataset_test_predictions = train_test_model(train_df, features, model_name, fold,\n",
    "                                                model, test_df, X_test)\n",
    "    # return a list of length of one to combine with other training runs\n",
    "    test_prediction_list.append(dataset_test_predictions)\n",
    "    return test_prediction_list"
   ],
   "metadata": {
    "collapsed": false,
    "pycharm": {
     "name": "#%%\n"
    }
   }
  },
  {
   "cell_type": "markdown",
   "source": [
    "## Reading Data"
   ],
   "metadata": {
    "collapsed": false,
    "pycharm": {
     "name": "#%% md\n"
    }
   }
  },
  {
   "cell_type": "code",
   "execution_count": 3,
   "outputs": [],
   "source": [
    "train_data_names = pd.read_csv('../data/processed/train_data_names.csv').name.to_list()\n",
    "seq_model = joblib.load('../models/RuleSet3.pkl')"
   ],
   "metadata": {
    "collapsed": false,
    "pycharm": {
     "name": "#%%\n"
    }
   }
  },
  {
   "cell_type": "markdown",
   "source": [
    "## Loading Datasets"
   ],
   "metadata": {
    "collapsed": false,
    "pycharm": {
     "name": "#%% md\n"
    }
   }
  },
  {
   "cell_type": "code",
   "execution_count": 4,
   "outputs": [],
   "source": [
    "train_data_list = list()\n",
    "for ds in dataset_list:\n",
    "    if (ds.name in train_data_names) and ds.endogenous:\n",
    "        train_data_list.append(ds)\n",
    "\n",
    "for ds in train_data_list:\n",
    "    ds.load_data()\n",
    "    ds.get_sgrnas()\n"
   ],
   "metadata": {
    "collapsed": false,
    "pycharm": {
     "name": "#%%\n"
    }
   }
  },
  {
   "cell_type": "markdown",
   "source": [
    "## Cross Validation iterator\n",
    "\n",
    "We'll use [StratifiedGroupKFold](https://scikit-learn.org/dev/modules/generated/sklearn.model_selection.StratifiedGroupKFold.html#sklearn.model_selection.StratifiedGroupKFold)\n",
    "\n",
    "We define each dataset as a \"class\", such that the datasets are approximately equally distributed across\n",
    "folds, constrained by the notion that each \"group\" or gene cannot appear in both the train and test set in a given fold.\n",
    "\n",
    "First, we assign sgRNAs to genes, capitalizing gene-names from the mouse libraries, so they overlap with the human annotations.\n",
    "We can see that every context sequence uniquely targets a gene in this dataset\n",
    "\n",
    "We assign context sequences without a group to their own group. Every dataset appears as both a training and testing\n",
    "dataset in every fold, except Doench2014_human Doench2014_mouse, which have fewer than 5 genes"
   ],
   "metadata": {
    "collapsed": false
   }
  },
  {
   "cell_type": "code",
   "execution_count": 5,
   "outputs": [
    {
     "name": "stderr",
     "output_type": "stream",
     "text": [
      "100%|██████████| 4/4 [00:10<00:00,  2.58s/it]\n"
     ]
    },
    {
     "name": "stdout",
     "output_type": "stream",
     "text": [
      "Context sequences with multiple targets: 0\n"
     ]
    }
   ],
   "source": [
    "sg_df_list = []\n",
    "for ds in tqdm(train_data_list):\n",
    "    sg_df = ds.get_sg_df(include_group=True, include_activity=True)\n",
    "    sg_df['dataset'] = ds.name\n",
    "    design_df = ds.get_designs()\n",
    "    sg_df = sg_df.merge(design_df, how='inner',\n",
    "                        on=['sgRNA Sequence', 'sgRNA Context Sequence', 'PAM Sequence'])\n",
    "    sg_df_list.append(sg_df)\n",
    "sg_df_groups = (pd.concat(sg_df_list)\n",
    "                .groupby(['sgRNA Context Sequence'])\n",
    "                .agg(n_conditions = ('sgRNA Context Sequence', 'count'),\n",
    "                     target = ('sgRNA Target', lambda x: ', '.join(set([s.upper() for s in x if not pd.isna(s)]))))\n",
    "                .reset_index())\n",
    "multi_target = sg_df_groups['target'].str.contains(',').sum()\n",
    "print('Context sequences with multiple targets: ' + str(multi_target))"
   ],
   "metadata": {
    "collapsed": false,
    "pycharm": {
     "name": "#%%\n"
    }
   }
  },
  {
   "cell_type": "code",
   "execution_count": 6,
   "outputs": [],
   "source": [
    "# handle singleton case\n",
    "sg_df_groups['target'] = sg_df_groups.apply(lambda row:\n",
    "                                            row['target'] if (row['target'] != '') else row['sgRNA Context Sequence'],\n",
    "                                            axis=1)\n",
    "# Note that 'target' is not in the sg_df_list, and is coming from the sg_df_groups df\n",
    "sg_df_class_groups = (pd.concat(sg_df_list)\n",
    "                      .merge(sg_df_groups, how='inner', on='sgRNA Context Sequence')\n",
    "                      .sort_values(['dataset', 'target'])\n",
    "                      .reset_index(drop=True))"
   ],
   "metadata": {
    "collapsed": false,
    "pycharm": {
     "name": "#%%\n"
    }
   }
  },
  {
   "cell_type": "markdown",
   "source": [
    "### Calculating Residuals"
   ],
   "metadata": {
    "collapsed": false,
    "pycharm": {
     "name": "#%% md\n"
    }
   }
  },
  {
   "cell_type": "code",
   "execution_count": 7,
   "outputs": [
    {
     "data": {
      "text/plain": "<seaborn.axisgrid.FacetGrid at 0x7fd219f27ee0>"
     },
     "execution_count": 7,
     "metadata": {},
     "output_type": "execute_result"
    },
    {
     "data": {
      "text/plain": "<Figure size 499.5x360 with 1 Axes>",
      "image/png": "[encoded data removed]"
     },
     "metadata": {
      "needs_background": "light"
     },
     "output_type": "display_data"
    }
   ],
   "source": [
    "sg_df_class_groups['sgRNA Activity'] = (sg_df_class_groups.groupby('dataset')\n",
    "                                        ['sgRNA Activity']\n",
    "                                        .rank(pct=True))\n",
    "seq_X = sglearn.featurize_guides(sg_df_class_groups['sgRNA Context Sequence'])\n",
    "sg_df_class_groups['Rule Set 3'] = seq_model.predict(seq_X)\n",
    "sg_df_class_groups['Residual Activity'] = sg_df_class_groups['sgRNA Activity'] - sg_df_class_groups['Rule Set 3']\n",
    "sns.displot(data=sg_df_class_groups, x='Residual Activity', hue='dataset',\n",
    "            kind='kde', common_norm=False)"
   ],
   "metadata": {
    "collapsed": false,
    "pycharm": {
     "name": "#%%\n"
    }
   }
  },
  {
   "cell_type": "markdown",
   "source": [
    "We see again that the Doench Human and Mouse data do not appear in every train/test fold due to the relatively\n",
    "small number of genes."
   ],
   "metadata": {
    "collapsed": false,
    "pycharm": {
     "name": "#%% md\n"
    }
   }
  },
  {
   "cell_type": "code",
   "execution_count": 8,
   "outputs": [
    {
     "data": {
      "text/plain": "    cv           dataset  n\n19   0  Doench2014_human  1\n18   1  Doench2014_human  1\n17   2  Doench2014_human  1\n16   2  Doench2014_mouse  1\n1    0  Doench2014_mouse  2\n15   0        Doench2016  2\n14   0          Wang2014  2\n13   1  Doench2014_mouse  2\n12   1        Doench2016  2\n11   1          Wang2014  2\n0    2        Doench2016  2\n9    2          Wang2014  2\n8    3  Doench2014_human  2\n7    3  Doench2014_mouse  2\n6    3        Doench2016  2\n5    3          Wang2014  2\n4    4  Doench2014_human  2\n3    4  Doench2014_mouse  2\n2    4        Doench2016  2\n10   4          Wang2014  2",
      "text/html": "<div>\n<style scoped>\n    .dataframe tbody tr th:only-of-type {\n        vertical-align: middle;\n    }\n\n    .dataframe tbody tr th {\n        vertical-align: top;\n    }\n\n    .dataframe thead th {\n        text-align: right;\n    }\n</style>\n<table border=\"1\" class=\"dataframe\">\n  <thead>\n    <tr style=\"text-align: right;\">\n      <th></th>\n      <th>cv</th>\n      <th>dataset</th>\n      <th>n</th>\n    </tr>\n  </thead>\n  <tbody>\n    <tr>\n      <th>19</th>\n      <td>0</td>\n      <td>Doench2014_human</td>\n      <td>1</td>\n    </tr>\n    <tr>\n      <th>18</th>\n      <td>1</td>\n      <td>Doench2014_human</td>\n      <td>1</td>\n    </tr>\n    <tr>\n      <th>17</th>\n      <td>2</td>\n      <td>Doench2014_human</td>\n      <td>1</td>\n    </tr>\n    <tr>\n      <th>16</th>\n      <td>2</td>\n      <td>Doench2014_mouse</td>\n      <td>1</td>\n    </tr>\n    <tr>\n      <th>1</th>\n      <td>0</td>\n      <td>Doench2014_mouse</td>\n      <td>2</td>\n    </tr>\n    <tr>\n      <th>15</th>\n      <td>0</td>\n      <td>Doench2016</td>\n      <td>2</td>\n    </tr>\n    <tr>\n      <th>14</th>\n      <td>0</td>\n      <td>Wang2014</td>\n      <td>2</td>\n    </tr>\n    <tr>\n      <th>13</th>\n      <td>1</td>\n      <td>Doench2014_mouse</td>\n      <td>2</td>\n    </tr>\n    <tr>\n      <th>12</th>\n      <td>1</td>\n      <td>Doench2016</td>\n      <td>2</td>\n    </tr>\n    <tr>\n      <th>11</th>\n      <td>1</td>\n      <td>Wang2014</td>\n      <td>2</td>\n    </tr>\n    <tr>\n      <th>0</th>\n      <td>2</td>\n      <td>Doench2016</td>\n      <td>2</td>\n    </tr>\n    <tr>\n      <th>9</th>\n      <td>2</td>\n      <td>Wang2014</td>\n      <td>2</td>\n    </tr>\n    <tr>\n      <th>8</th>\n      <td>3</td>\n      <td>Doench2014_human</td>\n      <td>2</td>\n    </tr>\n    <tr>\n      <th>7</th>\n      <td>3</td>\n      <td>Doench2014_mouse</td>\n      <td>2</td>\n    </tr>\n    <tr>\n      <th>6</th>\n      <td>3</td>\n      <td>Doench2016</td>\n      <td>2</td>\n    </tr>\n    <tr>\n      <th>5</th>\n      <td>3</td>\n      <td>Wang2014</td>\n      <td>2</td>\n    </tr>\n    <tr>\n      <th>4</th>\n      <td>4</td>\n      <td>Doench2014_human</td>\n      <td>2</td>\n    </tr>\n    <tr>\n      <th>3</th>\n      <td>4</td>\n      <td>Doench2014_mouse</td>\n      <td>2</td>\n    </tr>\n    <tr>\n      <th>2</th>\n      <td>4</td>\n      <td>Doench2016</td>\n      <td>2</td>\n    </tr>\n    <tr>\n      <th>10</th>\n      <td>4</td>\n      <td>Wang2014</td>\n      <td>2</td>\n    </tr>\n  </tbody>\n</table>\n</div>"
     },
     "execution_count": 8,
     "metadata": {},
     "output_type": "execute_result"
    }
   ],
   "source": [
    "sgkf = StratifiedGroupKFold(n_splits=5, shuffle=True, random_state=1)\n",
    "tidy_cv_list = []\n",
    "for i, (train_index, test_index) in enumerate(sgkf.split(sg_df_class_groups, sg_df_class_groups.dataset,\n",
    "                                                         sg_df_class_groups.target)):\n",
    "    train_df = sg_df_class_groups.iloc[train_index,:].copy()\n",
    "    train_df['cv'] = i\n",
    "    train_df['train'] = True\n",
    "    tidy_cv_list.append(train_df)\n",
    "    test_df = sg_df_class_groups.iloc[test_index,:].copy()\n",
    "    test_df['cv'] = i\n",
    "    test_df['train'] = False\n",
    "    tidy_cv_list.append(test_df)\n",
    "tidy_cv_df = pd.concat(tidy_cv_list)\n",
    "cv_train_data_counts = (tidy_cv_df[['cv', 'train', 'dataset']].value_counts()\n",
    "                        .reset_index(name='n'))\n",
    "(cv_train_data_counts[['cv', 'dataset']]\n",
    " .value_counts()\n",
    " .reset_index(name='n')\n",
    " .sort_values(['n', 'cv', 'dataset']))"
   ],
   "metadata": {
    "collapsed": false,
    "pycharm": {
     "name": "#%%\n"
    }
   }
  },
  {
   "cell_type": "markdown",
   "source": [
    "- Training sizes vary from 5,258 - 4,253 sgRNAs\n",
    "- Testing sizes vary from 1,469 - 464 sgRNAs"
   ],
   "metadata": {
    "collapsed": false,
    "pycharm": {
     "name": "#%% md\n"
    }
   }
  },
  {
   "cell_type": "code",
   "execution_count": 9,
   "outputs": [
    {
     "data": {
      "text/plain": "   cv  train     n\n9   0  False   464\n0   0   True  5258\n6   1  False  1441\n3   1   True  4281\n8   2  False  1093\n1   2   True  4629\n5   3  False  1469\n4   3   True  4253\n7   4  False  1255\n2   4   True  4467",
      "text/html": "<div>\n<style scoped>\n    .dataframe tbody tr th:only-of-type {\n        vertical-align: middle;\n    }\n\n    .dataframe tbody tr th {\n        vertical-align: top;\n    }\n\n    .dataframe thead th {\n        text-align: right;\n    }\n</style>\n<table border=\"1\" class=\"dataframe\">\n  <thead>\n    <tr style=\"text-align: right;\">\n      <th></th>\n      <th>cv</th>\n      <th>train</th>\n      <th>n</th>\n    </tr>\n  </thead>\n  <tbody>\n    <tr>\n      <th>9</th>\n      <td>0</td>\n      <td>False</td>\n      <td>464</td>\n    </tr>\n    <tr>\n      <th>0</th>\n      <td>0</td>\n      <td>True</td>\n      <td>5258</td>\n    </tr>\n    <tr>\n      <th>6</th>\n      <td>1</td>\n      <td>False</td>\n      <td>1441</td>\n    </tr>\n    <tr>\n      <th>3</th>\n      <td>1</td>\n      <td>True</td>\n      <td>4281</td>\n    </tr>\n    <tr>\n      <th>8</th>\n      <td>2</td>\n      <td>False</td>\n      <td>1093</td>\n    </tr>\n    <tr>\n      <th>1</th>\n      <td>2</td>\n      <td>True</td>\n      <td>4629</td>\n    </tr>\n    <tr>\n      <th>5</th>\n      <td>3</td>\n      <td>False</td>\n      <td>1469</td>\n    </tr>\n    <tr>\n      <th>4</th>\n      <td>3</td>\n      <td>True</td>\n      <td>4253</td>\n    </tr>\n    <tr>\n      <th>7</th>\n      <td>4</td>\n      <td>False</td>\n      <td>1255</td>\n    </tr>\n    <tr>\n      <th>2</th>\n      <td>4</td>\n      <td>True</td>\n      <td>4467</td>\n    </tr>\n  </tbody>\n</table>\n</div>"
     },
     "execution_count": 9,
     "metadata": {},
     "output_type": "execute_result"
    }
   ],
   "source": [
    "(tidy_cv_df[['cv','train']].value_counts()\n",
    " .reset_index(name='n')\n",
    " .sort_values(['cv', 'train']))"
   ],
   "metadata": {
    "collapsed": false,
    "pycharm": {
     "name": "#%%\n"
    }
   }
  },
  {
   "cell_type": "markdown",
   "source": [
    "Indeed each gene target (gene) only appears in one set in each fold"
   ],
   "metadata": {
    "collapsed": false,
    "pycharm": {
     "name": "#%% md\n"
    }
   }
  },
  {
   "cell_type": "code",
   "execution_count": 10,
   "outputs": [
    {
     "data": {
      "text/plain": "   train_test_sum\n              max\ncv               \n0               1\n1               1\n2               1\n3               1\n4               1",
      "text/html": "<div>\n<style scoped>\n    .dataframe tbody tr th:only-of-type {\n        vertical-align: middle;\n    }\n\n    .dataframe tbody tr th {\n        vertical-align: top;\n    }\n\n    .dataframe thead tr th {\n        text-align: left;\n    }\n\n    .dataframe thead tr:last-of-type th {\n        text-align: right;\n    }\n</style>\n<table border=\"1\" class=\"dataframe\">\n  <thead>\n    <tr>\n      <th></th>\n      <th>train_test_sum</th>\n    </tr>\n    <tr>\n      <th></th>\n      <th>max</th>\n    </tr>\n    <tr>\n      <th>cv</th>\n      <th></th>\n    </tr>\n  </thead>\n  <tbody>\n    <tr>\n      <th>0</th>\n      <td>1</td>\n    </tr>\n    <tr>\n      <th>1</th>\n      <td>1</td>\n    </tr>\n    <tr>\n      <th>2</th>\n      <td>1</td>\n    </tr>\n    <tr>\n      <th>3</th>\n      <td>1</td>\n    </tr>\n    <tr>\n      <th>4</th>\n      <td>1</td>\n    </tr>\n  </tbody>\n</table>\n</div>"
     },
     "execution_count": 10,
     "metadata": {},
     "output_type": "execute_result"
    }
   ],
   "source": [
    "(tidy_cv_df[['cv','train', 'target']].value_counts()\n",
    " .reset_index(name='n')\n",
    " .query('n > 10')\n",
    " [['cv', 'target']].value_counts()\n",
    " .reset_index(name='train_test_sum')\n",
    " .groupby('cv')\n",
    " .agg({'train_test_sum': ['max']}))"
   ],
   "metadata": {
    "collapsed": false,
    "pycharm": {
     "name": "#%%\n"
    }
   }
  },
  {
   "cell_type": "markdown",
   "source": [
    "## Building Position Model"
   ],
   "metadata": {
    "collapsed": false,
    "pycharm": {
     "name": "#%% md\n"
    }
   }
  },
  {
   "cell_type": "code",
   "execution_count": 11,
   "outputs": [
    {
     "name": "stdout",
     "output_type": "stream",
     "text": [
      "Fold: 0\n",
      "\n",
      "\n",
      "Fold: 1\n",
      "\n",
      "\n",
      "Fold: 2\n",
      "\n",
      "\n",
      "Fold: 3\n",
      "\n",
      "\n",
      "Fold: 4\n",
      "\n",
      "\n"
     ]
    }
   ],
   "source": [
    "position_test_prediction_list = []\n",
    "for fold, df in tidy_cv_df.groupby('cv'):\n",
    "    print('Fold: ' + str(fold))\n",
    "    position_test_prediction_list.extend(get_fold_predictions(fold, df, features=['position']))\n",
    "    print('\\n')\n",
    "\n",
    "position_predictive_performance = get_predictive_performance(position_test_prediction_list)"
   ],
   "metadata": {
    "collapsed": false,
    "pycharm": {
     "name": "#%%\n"
    }
   }
  },
  {
   "cell_type": "code",
   "execution_count": 12,
   "outputs": [
    {
     "data": {
      "text/plain": "<Figure size 640x480 with 5 Axes>",
      "image/png": "[encoded data removed]"
     },
     "metadata": {},
     "output_type": "display_data"
    },
    {
     "data": {
      "text/plain": "<ggplot: (8783748299463)>"
     },
     "execution_count": 12,
     "metadata": {},
     "output_type": "execute_result"
    }
   ],
   "source": [
    "plot_pearson_heatmap(position_predictive_performance)"
   ],
   "metadata": {
    "collapsed": false,
    "pycharm": {
     "name": "#%%\n"
    }
   }
  },
  {
   "cell_type": "markdown",
   "source": [
    "On average we're performing better with positional features, but not across every dataset"
   ],
   "metadata": {
    "collapsed": false,
    "pycharm": {
     "name": "#%% md\n"
    }
   }
  },
  {
   "cell_type": "code",
   "execution_count": 13,
   "outputs": [
    {
     "data": {
      "text/plain": "mean      0.123974\nmedian    0.128461\nName: pearson_r, dtype: float64"
     },
     "execution_count": 13,
     "metadata": {},
     "output_type": "execute_result"
    }
   ],
   "source": [
    "position_predictive_performance['pearson_r'].agg(['mean', 'median'])"
   ],
   "metadata": {
    "collapsed": false,
    "pycharm": {
     "name": "#%%\n"
    }
   }
  },
  {
   "cell_type": "code",
   "execution_count": null,
   "outputs": [],
   "source": [],
   "metadata": {
    "collapsed": false,
    "pycharm": {
     "name": "#%%\n"
    }
   }
  }
 ],
 "metadata": {
  "kernelspec": {
   "display_name": "Python 3",
   "language": "python",
   "name": "python3"
  },
  "language_info": {
   "codemirror_mode": {
    "name": "ipython",
    "version": 2
   },
   "file_extension": ".py",
   "mimetype": "text/x-python",
   "name": "python",
   "nbconvert_exporter": "python",
   "pygments_lexer": "ipython2",
   "version": "2.7.6"
  }
 },
 "nbformat": 4,
 "nbformat_minor": 0
}