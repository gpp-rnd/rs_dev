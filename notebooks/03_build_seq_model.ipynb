{
 "cells": [
  {
   "cell_type": "markdown",
   "id": "primary-thanksgiving",
   "metadata": {},
   "source": [
    "# Build Sequence Model"
   ]
  },
  {
   "cell_type": "code",
   "execution_count": 1,
   "id": "given-dimension",
   "metadata": {},
   "outputs": [],
   "source": [
    "import pandas as pd"
   ]
  },
  {
   "cell_type": "code",
   "execution_count": 2,
   "id": "accessible-champion",
   "metadata": {},
   "outputs": [],
   "source": [
    "training_data_names = pd.read_csv('../data/processed/train_data_names.csv').name"
   ]
  },
  {
   "cell_type": "code",
   "execution_count": null,
   "id": "light-contributor",
   "metadata": {},
   "outputs": [],
   "source": []
  }
 ],
 "metadata": {
  "kernelspec": {
   "display_name": "rs_dev",
   "language": "python",
   "name": "rs_dev"
  },
  "language_info": {
   "codemirror_mode": {
    "name": "ipython",
    "version": 3
   },
   "file_extension": ".py",
   "mimetype": "text/x-python",
   "name": "python",
   "nbconvert_exporter": "python",
   "pygments_lexer": "ipython3",
   "version": "3.8.3"
  }
 },
 "nbformat": 4,
 "nbformat_minor": 5
}
